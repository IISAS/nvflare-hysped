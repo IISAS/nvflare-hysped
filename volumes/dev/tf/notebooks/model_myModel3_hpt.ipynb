{
 "cells": [
  {
   "cell_type": "code",
   "execution_count": 1,
   "id": "e425699b-0beb-4bde-a1c0-2ce572f5bece",
   "metadata": {
    "tags": []
   },
   "outputs": [
    {
     "name": "stderr",
     "output_type": "stream",
     "text": [
      "\u001b[34m\u001b[1mwandb\u001b[0m: Currently logged in as: \u001b[33mstevo\u001b[0m (\u001b[33mhysped\u001b[0m). Use \u001b[1m`wandb login --relogin`\u001b[0m to force relogin\n"
     ]
    }
   ],
   "source": [
    "import os\n",
    "# os.environ[\"CUDA_VISIBLE_DEVICES\"] = '-1'\n",
    "\n",
    "import sys\n",
    "\n",
    "from importlib import reload\n",
    "\n",
    "import logging\n",
    "reload(logging)\n",
    "logging.basicConfig(\n",
    "    format='%(asctime)s | %(name)s | %(levelname)s : %(message)s',\n",
    "    level=logging.INFO,\n",
    "    stream=sys.stdout\n",
    ")\n",
    "\n",
    "logger = logging.getLogger('hysped')\n",
    "logger.setLevel(logging.DEBUG)\n",
    "\n",
    "import contextily as ctx\n",
    "import geocube\n",
    "import geopandas as gpd\n",
    "import json\n",
    "import matplotlib.pyplot as plt\n",
    "import matplotlib.ticker as mticker\n",
    "import numpy as np\n",
    "import pandas as pd\n",
    "import re\n",
    "import seaborn as sns\n",
    "import shapely\n",
    "import tensorflow as tf\n",
    "import zipfile\n",
    "\n",
    "import wandb\n",
    "wandb.login()\n",
    "\n",
    "from functools import partial\n",
    "from geocube.api.core import make_geocube\n",
    "from geocube.rasterize import rasterize_points_griddata, rasterize_points_radial\n",
    "from IPython.display import JSON, HTML\n",
    "from keras.utils.np_utils import to_categorical\n",
    "from matplotlib.colors import to_rgba\n",
    "from shapely.geometry import box, mapping\n",
    "from sklearn.metrics import confusion_matrix, ConfusionMatrixDisplay\n",
    "from sklearn.preprocessing import LabelEncoder\n",
    "from tensorflow.keras import layers\n",
    "from tqdm.notebook import trange, tqdm\n",
    "from wandb.keras import WandbMetricsLogger, WandbEvalCallback\n",
    "\n",
    "\n",
    "gpus = tf.config.list_physical_devices('GPU')\n",
    "if gpus:\n",
    "    # configure utilization of GPUs\n",
    "    try:\n",
    "        for gpu in gpus:\n",
    "            # memory growth setting\n",
    "            tf.config.experimental.set_memory_growth(gpu, True)\n",
    "            tf.config.set_logical_device_configuration(\n",
    "                gpu,\n",
    "                [tf.config.LogicalDeviceConfiguration(memory_limit=256)]\n",
    "            )\n",
    "    except RuntimeError as e:\n",
    "        # Virtual devices must be set before GPUs have been initialized\n",
    "        module_logger.error(e)\n",
    "\n",
    "\n",
    "# Make numpy values easier to read.\n",
    "np.set_printoptions(precision=6, suppress=True)\n",
    "\n",
    "%matplotlib inline"
   ]
  },
  {
   "cell_type": "code",
   "execution_count": 2,
   "id": "abab32e8-6f14-4780-b4e0-e1bb7562fdbd",
   "metadata": {
    "tags": []
   },
   "outputs": [
    {
     "data": {
      "application/json": {
       "crs": "EPSG:5514",
       "data": "Sverepec_spolu.zip",
       "data_dir": "../data",
       "data_sampling": true,
       "figsize": [
        12,
        12
       ]
      },
      "text/plain": [
       "<IPython.core.display.JSON object>"
      ]
     },
     "metadata": {
      "application/json": {
       "expanded": false,
       "root": "root"
      }
     },
     "output_type": "display_data"
    }
   ],
   "source": [
    "cfg = dict(\n",
    "    crs = 'EPSG:5514',\n",
    "    figsize = (12,12),\n",
    "    data_dir = os.path.join('..', 'data'),\n",
    "    data = 'Sverepec_spolu.zip',\n",
    "    data_sampling = True\n",
    ")\n",
    "display(JSON(cfg))"
   ]
  },
  {
   "cell_type": "code",
   "execution_count": 3,
   "id": "603ce378-b8a8-4d81-8116-2d26b4d48023",
   "metadata": {
    "tags": []
   },
   "outputs": [],
   "source": [
    "def split_df(df:pd.DataFrame, split:float=0.7) -> pd.DataFrame:\n",
    "    rows = df.shape[0]\n",
    "    at = int(split * rows)\n",
    "    return df[:at], df[at:]\n",
    "\n",
    "def nsplit_df(df:pd.DataFrame, splits:[float]=[0.7]) -> pd.DataFrame:\n",
    "    rows = df.shape[0]\n",
    "    df_splits = []\n",
    "    beg = 0\n",
    "    for split in splits:\n",
    "        at = int(split * rows)\n",
    "        df_splits.append(df[beg:at])\n",
    "        beg = at\n",
    "    df_splits.append(df[beg:])\n",
    "    return df_splits\n",
    "\n",
    "def predict_model(m, X, Y, label_encoder):\n",
    "    Y_pred = m.predict(X)\n",
    "    Y_pred = np.argmax(Y_pred, axis=1)\n",
    "    Y_pred = label_encoder.inverse_transform(Y_pred)\n",
    "    Y_pred = pd.DataFrame(Y_pred, columns=['Y_pred'])\n",
    "    return Y_pred\n",
    "\n",
    "def print_cm(ax, cm, labels, title='Confusion Matrix'):\n",
    "    sns.heatmap(\n",
    "        cm,\n",
    "        annot=True,\n",
    "        fmt='g',\n",
    "        ax=ax,\n",
    "        cmap='Blues',\n",
    "        # square=True,\n",
    "        xticklabels=labels,\n",
    "        yticklabels=labels,\n",
    "        linewidths=1,\n",
    "        # annot_kws={'size': 12}\n",
    "    )\n",
    "\n",
    "    ax.set_title(title)\n",
    "    ax.set_xlabel('Predicted label')\n",
    "    ax.set_ylabel('True label')\n",
    "\n",
    "    plt.xticks(rotation=90)\n",
    "    plt.yticks(rotation=0)\n",
    "    plt.tight_layout()\n",
    "    \n",
    "def print_hist(df: pd.DataFrame, col_name='DRUH_DR', stat='count', title=None):\n",
    "    g = sns.histplot(df[col_name], stat=stat)\n",
    "    g.xaxis.set_major_locator(mticker.FixedLocator(g.get_xticks()))\n",
    "    g.set_xticklabels(g.get_xticklabels(), rotation=90)\n",
    "    if title != None:\n",
    "        plt.title(title)\n",
    "    plt.tight_layout()\n",
    "    plt.show()"
   ]
  },
  {
   "cell_type": "markdown",
   "id": "18b495d4-aad9-449c-baf0-e237da0352aa",
   "metadata": {
    "tags": []
   },
   "source": [
    "# Preprocess data"
   ]
  },
  {
   "cell_type": "markdown",
   "id": "642815ad-1a1c-47fb-bcc3-1ff64b3e303c",
   "metadata": {
    "tags": []
   },
   "source": [
    "## Load"
   ]
  },
  {
   "cell_type": "code",
   "execution_count": 4,
   "id": "6ac6163b-f203-4cab-87dd-1998729f211d",
   "metadata": {
    "tags": []
   },
   "outputs": [
    {
     "data": {
      "text/html": [
       "<h2>Data preview:</h2>"
      ],
      "text/plain": [
       "<IPython.core.display.HTML object>"
      ]
     },
     "metadata": {},
     "output_type": "display_data"
    },
    {
     "data": {
      "text/html": [
       "<div>\n",
       "<style scoped>\n",
       "    .dataframe tbody tr th:only-of-type {\n",
       "        vertical-align: middle;\n",
       "    }\n",
       "\n",
       "    .dataframe tbody tr th {\n",
       "        vertical-align: top;\n",
       "    }\n",
       "\n",
       "    .dataframe thead th {\n",
       "        text-align: right;\n",
       "    }\n",
       "</style>\n",
       "<table border=\"1\" class=\"dataframe\">\n",
       "  <thead>\n",
       "    <tr style=\"text-align: right;\">\n",
       "      <th></th>\n",
       "      <th>b1_12_10_2</th>\n",
       "      <th>b2_12_10_2</th>\n",
       "      <th>b3_12_10_2</th>\n",
       "      <th>b4_12_10_2</th>\n",
       "      <th>b5_12_10_2</th>\n",
       "      <th>b6_12_10_2</th>\n",
       "      <th>b7_12_10_2</th>\n",
       "      <th>b8_12_10_2</th>\n",
       "      <th>b9_12_10_2</th>\n",
       "      <th>b10_12_10_</th>\n",
       "      <th>...</th>\n",
       "      <th>b178_12_10</th>\n",
       "      <th>b179_12_10</th>\n",
       "      <th>b180_12_10</th>\n",
       "      <th>b181_12_10</th>\n",
       "      <th>b182_12_10</th>\n",
       "      <th>b183_12_10</th>\n",
       "      <th>b184_12_10</th>\n",
       "      <th>b185_12_10</th>\n",
       "      <th>b186_12_10</th>\n",
       "      <th>DRUH_DR</th>\n",
       "    </tr>\n",
       "  </thead>\n",
       "  <tbody>\n",
       "    <tr>\n",
       "      <th>0</th>\n",
       "      <td>0.002312</td>\n",
       "      <td>0.002194</td>\n",
       "      <td>0.002344</td>\n",
       "      <td>0.002613</td>\n",
       "      <td>0.002497</td>\n",
       "      <td>0.002717</td>\n",
       "      <td>0.002706</td>\n",
       "      <td>0.002898</td>\n",
       "      <td>0.002586</td>\n",
       "      <td>0.003052</td>\n",
       "      <td>...</td>\n",
       "      <td>0.046049</td>\n",
       "      <td>0.043585</td>\n",
       "      <td>0.043107</td>\n",
       "      <td>0.045929</td>\n",
       "      <td>0.051554</td>\n",
       "      <td>0.052172</td>\n",
       "      <td>0.054623</td>\n",
       "      <td>0.054570</td>\n",
       "      <td>0.054656</td>\n",
       "      <td>CR</td>\n",
       "    </tr>\n",
       "    <tr>\n",
       "      <th>1</th>\n",
       "      <td>0.002277</td>\n",
       "      <td>0.002337</td>\n",
       "      <td>0.002361</td>\n",
       "      <td>0.002488</td>\n",
       "      <td>0.002334</td>\n",
       "      <td>0.002713</td>\n",
       "      <td>0.002796</td>\n",
       "      <td>0.002779</td>\n",
       "      <td>0.002748</td>\n",
       "      <td>0.003034</td>\n",
       "      <td>...</td>\n",
       "      <td>0.042515</td>\n",
       "      <td>0.040856</td>\n",
       "      <td>0.039885</td>\n",
       "      <td>0.043333</td>\n",
       "      <td>0.047781</td>\n",
       "      <td>0.048725</td>\n",
       "      <td>0.047153</td>\n",
       "      <td>0.050167</td>\n",
       "      <td>0.052182</td>\n",
       "      <td>CR</td>\n",
       "    </tr>\n",
       "    <tr>\n",
       "      <th>2</th>\n",
       "      <td>0.002243</td>\n",
       "      <td>0.002479</td>\n",
       "      <td>0.002402</td>\n",
       "      <td>0.002322</td>\n",
       "      <td>0.002627</td>\n",
       "      <td>0.002943</td>\n",
       "      <td>0.002809</td>\n",
       "      <td>0.002854</td>\n",
       "      <td>0.002725</td>\n",
       "      <td>0.003096</td>\n",
       "      <td>...</td>\n",
       "      <td>0.044127</td>\n",
       "      <td>0.042798</td>\n",
       "      <td>0.042160</td>\n",
       "      <td>0.042548</td>\n",
       "      <td>0.048506</td>\n",
       "      <td>0.049747</td>\n",
       "      <td>0.050620</td>\n",
       "      <td>0.051325</td>\n",
       "      <td>0.054525</td>\n",
       "      <td>CR</td>\n",
       "    </tr>\n",
       "    <tr>\n",
       "      <th>3</th>\n",
       "      <td>0.001883</td>\n",
       "      <td>0.002045</td>\n",
       "      <td>0.002057</td>\n",
       "      <td>0.001970</td>\n",
       "      <td>0.002191</td>\n",
       "      <td>0.002052</td>\n",
       "      <td>0.002102</td>\n",
       "      <td>0.001991</td>\n",
       "      <td>0.001920</td>\n",
       "      <td>0.002308</td>\n",
       "      <td>...</td>\n",
       "      <td>0.035453</td>\n",
       "      <td>0.032728</td>\n",
       "      <td>0.033034</td>\n",
       "      <td>0.034035</td>\n",
       "      <td>0.037514</td>\n",
       "      <td>0.040421</td>\n",
       "      <td>0.040852</td>\n",
       "      <td>0.040839</td>\n",
       "      <td>0.042109</td>\n",
       "      <td>CR</td>\n",
       "    </tr>\n",
       "    <tr>\n",
       "      <th>4</th>\n",
       "      <td>0.002193</td>\n",
       "      <td>0.001915</td>\n",
       "      <td>0.002164</td>\n",
       "      <td>0.002090</td>\n",
       "      <td>0.002031</td>\n",
       "      <td>0.002108</td>\n",
       "      <td>0.002084</td>\n",
       "      <td>0.002123</td>\n",
       "      <td>0.001950</td>\n",
       "      <td>0.002291</td>\n",
       "      <td>...</td>\n",
       "      <td>0.026016</td>\n",
       "      <td>0.025324</td>\n",
       "      <td>0.024879</td>\n",
       "      <td>0.026462</td>\n",
       "      <td>0.029662</td>\n",
       "      <td>0.030414</td>\n",
       "      <td>0.031456</td>\n",
       "      <td>0.031279</td>\n",
       "      <td>0.032800</td>\n",
       "      <td>CR</td>\n",
       "    </tr>\n",
       "    <tr>\n",
       "      <th>...</th>\n",
       "      <td>...</td>\n",
       "      <td>...</td>\n",
       "      <td>...</td>\n",
       "      <td>...</td>\n",
       "      <td>...</td>\n",
       "      <td>...</td>\n",
       "      <td>...</td>\n",
       "      <td>...</td>\n",
       "      <td>...</td>\n",
       "      <td>...</td>\n",
       "      <td>...</td>\n",
       "      <td>...</td>\n",
       "      <td>...</td>\n",
       "      <td>...</td>\n",
       "      <td>...</td>\n",
       "      <td>...</td>\n",
       "      <td>...</td>\n",
       "      <td>...</td>\n",
       "      <td>...</td>\n",
       "      <td>...</td>\n",
       "      <td>...</td>\n",
       "    </tr>\n",
       "    <tr>\n",
       "      <th>33715</th>\n",
       "      <td>0.002469</td>\n",
       "      <td>0.002863</td>\n",
       "      <td>0.003135</td>\n",
       "      <td>0.003027</td>\n",
       "      <td>0.003056</td>\n",
       "      <td>0.003230</td>\n",
       "      <td>0.003328</td>\n",
       "      <td>0.003523</td>\n",
       "      <td>0.003396</td>\n",
       "      <td>0.003746</td>\n",
       "      <td>...</td>\n",
       "      <td>0.029615</td>\n",
       "      <td>0.028368</td>\n",
       "      <td>0.026700</td>\n",
       "      <td>0.027315</td>\n",
       "      <td>0.031556</td>\n",
       "      <td>0.033276</td>\n",
       "      <td>0.032708</td>\n",
       "      <td>0.033844</td>\n",
       "      <td>0.033287</td>\n",
       "      <td>BR</td>\n",
       "    </tr>\n",
       "    <tr>\n",
       "      <th>33716</th>\n",
       "      <td>0.001235</td>\n",
       "      <td>0.000966</td>\n",
       "      <td>0.000953</td>\n",
       "      <td>0.001050</td>\n",
       "      <td>0.000891</td>\n",
       "      <td>0.001143</td>\n",
       "      <td>0.000930</td>\n",
       "      <td>0.001075</td>\n",
       "      <td>0.000944</td>\n",
       "      <td>0.001074</td>\n",
       "      <td>...</td>\n",
       "      <td>0.006762</td>\n",
       "      <td>0.007508</td>\n",
       "      <td>0.006300</td>\n",
       "      <td>0.007368</td>\n",
       "      <td>0.007559</td>\n",
       "      <td>0.008111</td>\n",
       "      <td>0.009299</td>\n",
       "      <td>0.008149</td>\n",
       "      <td>0.008633</td>\n",
       "      <td>BR</td>\n",
       "    </tr>\n",
       "    <tr>\n",
       "      <th>33717</th>\n",
       "      <td>0.001709</td>\n",
       "      <td>0.001565</td>\n",
       "      <td>0.001225</td>\n",
       "      <td>0.001534</td>\n",
       "      <td>0.001722</td>\n",
       "      <td>0.002060</td>\n",
       "      <td>0.001738</td>\n",
       "      <td>0.001615</td>\n",
       "      <td>0.001751</td>\n",
       "      <td>0.002011</td>\n",
       "      <td>...</td>\n",
       "      <td>0.026855</td>\n",
       "      <td>0.025384</td>\n",
       "      <td>0.025439</td>\n",
       "      <td>0.025496</td>\n",
       "      <td>0.027390</td>\n",
       "      <td>0.029442</td>\n",
       "      <td>0.033317</td>\n",
       "      <td>0.032171</td>\n",
       "      <td>0.032443</td>\n",
       "      <td>BR</td>\n",
       "    </tr>\n",
       "    <tr>\n",
       "      <th>33718</th>\n",
       "      <td>0.001823</td>\n",
       "      <td>0.001716</td>\n",
       "      <td>0.001534</td>\n",
       "      <td>0.001772</td>\n",
       "      <td>0.001997</td>\n",
       "      <td>0.002358</td>\n",
       "      <td>0.002048</td>\n",
       "      <td>0.001988</td>\n",
       "      <td>0.001989</td>\n",
       "      <td>0.002377</td>\n",
       "      <td>...</td>\n",
       "      <td>0.029279</td>\n",
       "      <td>0.027654</td>\n",
       "      <td>0.027549</td>\n",
       "      <td>0.027910</td>\n",
       "      <td>0.030475</td>\n",
       "      <td>0.032133</td>\n",
       "      <td>0.035963</td>\n",
       "      <td>0.035193</td>\n",
       "      <td>0.035305</td>\n",
       "      <td>BR</td>\n",
       "    </tr>\n",
       "    <tr>\n",
       "      <th>33719</th>\n",
       "      <td>0.001937</td>\n",
       "      <td>0.001867</td>\n",
       "      <td>0.001843</td>\n",
       "      <td>0.002009</td>\n",
       "      <td>0.002272</td>\n",
       "      <td>0.002657</td>\n",
       "      <td>0.002358</td>\n",
       "      <td>0.002361</td>\n",
       "      <td>0.002226</td>\n",
       "      <td>0.002743</td>\n",
       "      <td>...</td>\n",
       "      <td>0.031703</td>\n",
       "      <td>0.029924</td>\n",
       "      <td>0.029659</td>\n",
       "      <td>0.030325</td>\n",
       "      <td>0.033560</td>\n",
       "      <td>0.034823</td>\n",
       "      <td>0.038610</td>\n",
       "      <td>0.038214</td>\n",
       "      <td>0.038167</td>\n",
       "      <td>BR</td>\n",
       "    </tr>\n",
       "  </tbody>\n",
       "</table>\n",
       "<p>33720 rows × 187 columns</p>\n",
       "</div>"
      ],
      "text/plain": [
       "       b1_12_10_2  b2_12_10_2  b3_12_10_2  b4_12_10_2  b5_12_10_2  b6_12_10_2  \\\n",
       "0        0.002312    0.002194    0.002344    0.002613    0.002497    0.002717   \n",
       "1        0.002277    0.002337    0.002361    0.002488    0.002334    0.002713   \n",
       "2        0.002243    0.002479    0.002402    0.002322    0.002627    0.002943   \n",
       "3        0.001883    0.002045    0.002057    0.001970    0.002191    0.002052   \n",
       "4        0.002193    0.001915    0.002164    0.002090    0.002031    0.002108   \n",
       "...           ...         ...         ...         ...         ...         ...   \n",
       "33715    0.002469    0.002863    0.003135    0.003027    0.003056    0.003230   \n",
       "33716    0.001235    0.000966    0.000953    0.001050    0.000891    0.001143   \n",
       "33717    0.001709    0.001565    0.001225    0.001534    0.001722    0.002060   \n",
       "33718    0.001823    0.001716    0.001534    0.001772    0.001997    0.002358   \n",
       "33719    0.001937    0.001867    0.001843    0.002009    0.002272    0.002657   \n",
       "\n",
       "       b7_12_10_2  b8_12_10_2  b9_12_10_2  b10_12_10_  ...  b178_12_10  \\\n",
       "0        0.002706    0.002898    0.002586    0.003052  ...    0.046049   \n",
       "1        0.002796    0.002779    0.002748    0.003034  ...    0.042515   \n",
       "2        0.002809    0.002854    0.002725    0.003096  ...    0.044127   \n",
       "3        0.002102    0.001991    0.001920    0.002308  ...    0.035453   \n",
       "4        0.002084    0.002123    0.001950    0.002291  ...    0.026016   \n",
       "...           ...         ...         ...         ...  ...         ...   \n",
       "33715    0.003328    0.003523    0.003396    0.003746  ...    0.029615   \n",
       "33716    0.000930    0.001075    0.000944    0.001074  ...    0.006762   \n",
       "33717    0.001738    0.001615    0.001751    0.002011  ...    0.026855   \n",
       "33718    0.002048    0.001988    0.001989    0.002377  ...    0.029279   \n",
       "33719    0.002358    0.002361    0.002226    0.002743  ...    0.031703   \n",
       "\n",
       "       b179_12_10  b180_12_10  b181_12_10  b182_12_10  b183_12_10  b184_12_10  \\\n",
       "0        0.043585    0.043107    0.045929    0.051554    0.052172    0.054623   \n",
       "1        0.040856    0.039885    0.043333    0.047781    0.048725    0.047153   \n",
       "2        0.042798    0.042160    0.042548    0.048506    0.049747    0.050620   \n",
       "3        0.032728    0.033034    0.034035    0.037514    0.040421    0.040852   \n",
       "4        0.025324    0.024879    0.026462    0.029662    0.030414    0.031456   \n",
       "...           ...         ...         ...         ...         ...         ...   \n",
       "33715    0.028368    0.026700    0.027315    0.031556    0.033276    0.032708   \n",
       "33716    0.007508    0.006300    0.007368    0.007559    0.008111    0.009299   \n",
       "33717    0.025384    0.025439    0.025496    0.027390    0.029442    0.033317   \n",
       "33718    0.027654    0.027549    0.027910    0.030475    0.032133    0.035963   \n",
       "33719    0.029924    0.029659    0.030325    0.033560    0.034823    0.038610   \n",
       "\n",
       "       b185_12_10  b186_12_10  DRUH_DR  \n",
       "0        0.054570    0.054656       CR  \n",
       "1        0.050167    0.052182       CR  \n",
       "2        0.051325    0.054525       CR  \n",
       "3        0.040839    0.042109       CR  \n",
       "4        0.031279    0.032800       CR  \n",
       "...           ...         ...      ...  \n",
       "33715    0.033844    0.033287       BR  \n",
       "33716    0.008149    0.008633       BR  \n",
       "33717    0.032171    0.032443       BR  \n",
       "33718    0.035193    0.035305       BR  \n",
       "33719    0.038214    0.038167       BR  \n",
       "\n",
       "[33720 rows x 187 columns]"
      ]
     },
     "metadata": {},
     "output_type": "display_data"
    },
    {
     "data": {
      "text/html": [
       "<hr>"
      ],
      "text/plain": [
       "<IPython.core.display.HTML object>"
      ]
     },
     "metadata": {},
     "output_type": "display_data"
    },
    {
     "data": {
      "text/html": [
       "<h2>Data statistics:</h2>"
      ],
      "text/plain": [
       "<IPython.core.display.HTML object>"
      ]
     },
     "metadata": {},
     "output_type": "display_data"
    },
    {
     "data": {
      "text/html": [
       "<div>\n",
       "<style scoped>\n",
       "    .dataframe tbody tr th:only-of-type {\n",
       "        vertical-align: middle;\n",
       "    }\n",
       "\n",
       "    .dataframe tbody tr th {\n",
       "        vertical-align: top;\n",
       "    }\n",
       "\n",
       "    .dataframe thead th {\n",
       "        text-align: right;\n",
       "    }\n",
       "</style>\n",
       "<table border=\"1\" class=\"dataframe\">\n",
       "  <thead>\n",
       "    <tr style=\"text-align: right;\">\n",
       "      <th></th>\n",
       "      <th>b1_12_10_2</th>\n",
       "      <th>b2_12_10_2</th>\n",
       "      <th>b3_12_10_2</th>\n",
       "      <th>b4_12_10_2</th>\n",
       "      <th>b5_12_10_2</th>\n",
       "      <th>b6_12_10_2</th>\n",
       "      <th>b7_12_10_2</th>\n",
       "      <th>b8_12_10_2</th>\n",
       "      <th>b9_12_10_2</th>\n",
       "      <th>b10_12_10_</th>\n",
       "      <th>...</th>\n",
       "      <th>b177_12_10</th>\n",
       "      <th>b178_12_10</th>\n",
       "      <th>b179_12_10</th>\n",
       "      <th>b180_12_10</th>\n",
       "      <th>b181_12_10</th>\n",
       "      <th>b182_12_10</th>\n",
       "      <th>b183_12_10</th>\n",
       "      <th>b184_12_10</th>\n",
       "      <th>b185_12_10</th>\n",
       "      <th>b186_12_10</th>\n",
       "    </tr>\n",
       "  </thead>\n",
       "  <tbody>\n",
       "    <tr>\n",
       "      <th>count</th>\n",
       "      <td>33720.000000</td>\n",
       "      <td>33720.000000</td>\n",
       "      <td>33720.000000</td>\n",
       "      <td>33720.000000</td>\n",
       "      <td>33720.000000</td>\n",
       "      <td>33720.000000</td>\n",
       "      <td>33720.000000</td>\n",
       "      <td>33720.000000</td>\n",
       "      <td>33720.000000</td>\n",
       "      <td>33720.000000</td>\n",
       "      <td>...</td>\n",
       "      <td>33720.000000</td>\n",
       "      <td>33720.000000</td>\n",
       "      <td>33720.000000</td>\n",
       "      <td>33720.000000</td>\n",
       "      <td>33720.000000</td>\n",
       "      <td>33720.000000</td>\n",
       "      <td>33720.000000</td>\n",
       "      <td>33720.000000</td>\n",
       "      <td>33720.000000</td>\n",
       "      <td>33720.000000</td>\n",
       "    </tr>\n",
       "    <tr>\n",
       "      <th>mean</th>\n",
       "      <td>0.002247</td>\n",
       "      <td>0.002304</td>\n",
       "      <td>0.002430</td>\n",
       "      <td>0.002565</td>\n",
       "      <td>0.002615</td>\n",
       "      <td>0.002691</td>\n",
       "      <td>0.002687</td>\n",
       "      <td>0.002638</td>\n",
       "      <td>0.002487</td>\n",
       "      <td>0.002943</td>\n",
       "      <td>...</td>\n",
       "      <td>0.024226</td>\n",
       "      <td>0.029662</td>\n",
       "      <td>0.028207</td>\n",
       "      <td>0.027531</td>\n",
       "      <td>0.029403</td>\n",
       "      <td>0.031902</td>\n",
       "      <td>0.033641</td>\n",
       "      <td>0.034560</td>\n",
       "      <td>0.035118</td>\n",
       "      <td>0.035639</td>\n",
       "    </tr>\n",
       "    <tr>\n",
       "      <th>std</th>\n",
       "      <td>0.000882</td>\n",
       "      <td>0.000927</td>\n",
       "      <td>0.000999</td>\n",
       "      <td>0.001066</td>\n",
       "      <td>0.001103</td>\n",
       "      <td>0.001149</td>\n",
       "      <td>0.001161</td>\n",
       "      <td>0.001158</td>\n",
       "      <td>0.001098</td>\n",
       "      <td>0.001331</td>\n",
       "      <td>...</td>\n",
       "      <td>0.014980</td>\n",
       "      <td>0.018450</td>\n",
       "      <td>0.017572</td>\n",
       "      <td>0.017085</td>\n",
       "      <td>0.018232</td>\n",
       "      <td>0.019761</td>\n",
       "      <td>0.020832</td>\n",
       "      <td>0.021402</td>\n",
       "      <td>0.021732</td>\n",
       "      <td>0.022028</td>\n",
       "    </tr>\n",
       "    <tr>\n",
       "      <th>min</th>\n",
       "      <td>0.000369</td>\n",
       "      <td>0.000332</td>\n",
       "      <td>0.000345</td>\n",
       "      <td>0.000441</td>\n",
       "      <td>0.000444</td>\n",
       "      <td>0.000410</td>\n",
       "      <td>0.000456</td>\n",
       "      <td>0.000441</td>\n",
       "      <td>0.000372</td>\n",
       "      <td>0.000461</td>\n",
       "      <td>...</td>\n",
       "      <td>0.000646</td>\n",
       "      <td>0.000580</td>\n",
       "      <td>0.000697</td>\n",
       "      <td>0.000635</td>\n",
       "      <td>0.000652</td>\n",
       "      <td>0.000638</td>\n",
       "      <td>0.000869</td>\n",
       "      <td>0.000687</td>\n",
       "      <td>0.001013</td>\n",
       "      <td>0.000771</td>\n",
       "    </tr>\n",
       "    <tr>\n",
       "      <th>25%</th>\n",
       "      <td>0.001588</td>\n",
       "      <td>0.001611</td>\n",
       "      <td>0.001675</td>\n",
       "      <td>0.001761</td>\n",
       "      <td>0.001775</td>\n",
       "      <td>0.001806</td>\n",
       "      <td>0.001789</td>\n",
       "      <td>0.001735</td>\n",
       "      <td>0.001632</td>\n",
       "      <td>0.001898</td>\n",
       "      <td>...</td>\n",
       "      <td>0.011574</td>\n",
       "      <td>0.014084</td>\n",
       "      <td>0.013299</td>\n",
       "      <td>0.013060</td>\n",
       "      <td>0.013952</td>\n",
       "      <td>0.015179</td>\n",
       "      <td>0.016041</td>\n",
       "      <td>0.016421</td>\n",
       "      <td>0.016770</td>\n",
       "      <td>0.016946</td>\n",
       "    </tr>\n",
       "    <tr>\n",
       "      <th>50%</th>\n",
       "      <td>0.002207</td>\n",
       "      <td>0.002261</td>\n",
       "      <td>0.002381</td>\n",
       "      <td>0.002520</td>\n",
       "      <td>0.002568</td>\n",
       "      <td>0.002650</td>\n",
       "      <td>0.002657</td>\n",
       "      <td>0.002603</td>\n",
       "      <td>0.002462</td>\n",
       "      <td>0.002909</td>\n",
       "      <td>...</td>\n",
       "      <td>0.022414</td>\n",
       "      <td>0.027441</td>\n",
       "      <td>0.026038</td>\n",
       "      <td>0.025482</td>\n",
       "      <td>0.027207</td>\n",
       "      <td>0.029539</td>\n",
       "      <td>0.031093</td>\n",
       "      <td>0.031970</td>\n",
       "      <td>0.032546</td>\n",
       "      <td>0.033004</td>\n",
       "    </tr>\n",
       "    <tr>\n",
       "      <th>75%</th>\n",
       "      <td>0.002824</td>\n",
       "      <td>0.002898</td>\n",
       "      <td>0.003079</td>\n",
       "      <td>0.003261</td>\n",
       "      <td>0.003335</td>\n",
       "      <td>0.003446</td>\n",
       "      <td>0.003457</td>\n",
       "      <td>0.003407</td>\n",
       "      <td>0.003230</td>\n",
       "      <td>0.003837</td>\n",
       "      <td>...</td>\n",
       "      <td>0.036040</td>\n",
       "      <td>0.044239</td>\n",
       "      <td>0.042118</td>\n",
       "      <td>0.041040</td>\n",
       "      <td>0.043859</td>\n",
       "      <td>0.047575</td>\n",
       "      <td>0.050114</td>\n",
       "      <td>0.051479</td>\n",
       "      <td>0.052331</td>\n",
       "      <td>0.053096</td>\n",
       "    </tr>\n",
       "    <tr>\n",
       "      <th>max</th>\n",
       "      <td>0.005978</td>\n",
       "      <td>0.006260</td>\n",
       "      <td>0.006729</td>\n",
       "      <td>0.007038</td>\n",
       "      <td>0.007524</td>\n",
       "      <td>0.007449</td>\n",
       "      <td>0.007360</td>\n",
       "      <td>0.007368</td>\n",
       "      <td>0.006909</td>\n",
       "      <td>0.008184</td>\n",
       "      <td>...</td>\n",
       "      <td>0.066931</td>\n",
       "      <td>0.082097</td>\n",
       "      <td>0.078523</td>\n",
       "      <td>0.076033</td>\n",
       "      <td>0.080653</td>\n",
       "      <td>0.085611</td>\n",
       "      <td>0.091917</td>\n",
       "      <td>0.093709</td>\n",
       "      <td>0.094180</td>\n",
       "      <td>0.095604</td>\n",
       "    </tr>\n",
       "  </tbody>\n",
       "</table>\n",
       "<p>8 rows × 186 columns</p>\n",
       "</div>"
      ],
      "text/plain": [
       "         b1_12_10_2    b2_12_10_2    b3_12_10_2    b4_12_10_2    b5_12_10_2  \\\n",
       "count  33720.000000  33720.000000  33720.000000  33720.000000  33720.000000   \n",
       "mean       0.002247      0.002304      0.002430      0.002565      0.002615   \n",
       "std        0.000882      0.000927      0.000999      0.001066      0.001103   \n",
       "min        0.000369      0.000332      0.000345      0.000441      0.000444   \n",
       "25%        0.001588      0.001611      0.001675      0.001761      0.001775   \n",
       "50%        0.002207      0.002261      0.002381      0.002520      0.002568   \n",
       "75%        0.002824      0.002898      0.003079      0.003261      0.003335   \n",
       "max        0.005978      0.006260      0.006729      0.007038      0.007524   \n",
       "\n",
       "         b6_12_10_2    b7_12_10_2    b8_12_10_2    b9_12_10_2    b10_12_10_  \\\n",
       "count  33720.000000  33720.000000  33720.000000  33720.000000  33720.000000   \n",
       "mean       0.002691      0.002687      0.002638      0.002487      0.002943   \n",
       "std        0.001149      0.001161      0.001158      0.001098      0.001331   \n",
       "min        0.000410      0.000456      0.000441      0.000372      0.000461   \n",
       "25%        0.001806      0.001789      0.001735      0.001632      0.001898   \n",
       "50%        0.002650      0.002657      0.002603      0.002462      0.002909   \n",
       "75%        0.003446      0.003457      0.003407      0.003230      0.003837   \n",
       "max        0.007449      0.007360      0.007368      0.006909      0.008184   \n",
       "\n",
       "       ...    b177_12_10    b178_12_10    b179_12_10    b180_12_10  \\\n",
       "count  ...  33720.000000  33720.000000  33720.000000  33720.000000   \n",
       "mean   ...      0.024226      0.029662      0.028207      0.027531   \n",
       "std    ...      0.014980      0.018450      0.017572      0.017085   \n",
       "min    ...      0.000646      0.000580      0.000697      0.000635   \n",
       "25%    ...      0.011574      0.014084      0.013299      0.013060   \n",
       "50%    ...      0.022414      0.027441      0.026038      0.025482   \n",
       "75%    ...      0.036040      0.044239      0.042118      0.041040   \n",
       "max    ...      0.066931      0.082097      0.078523      0.076033   \n",
       "\n",
       "         b181_12_10    b182_12_10    b183_12_10    b184_12_10    b185_12_10  \\\n",
       "count  33720.000000  33720.000000  33720.000000  33720.000000  33720.000000   \n",
       "mean       0.029403      0.031902      0.033641      0.034560      0.035118   \n",
       "std        0.018232      0.019761      0.020832      0.021402      0.021732   \n",
       "min        0.000652      0.000638      0.000869      0.000687      0.001013   \n",
       "25%        0.013952      0.015179      0.016041      0.016421      0.016770   \n",
       "50%        0.027207      0.029539      0.031093      0.031970      0.032546   \n",
       "75%        0.043859      0.047575      0.050114      0.051479      0.052331   \n",
       "max        0.080653      0.085611      0.091917      0.093709      0.094180   \n",
       "\n",
       "         b186_12_10  \n",
       "count  33720.000000  \n",
       "mean       0.035639  \n",
       "std        0.022028  \n",
       "min        0.000771  \n",
       "25%        0.016946  \n",
       "50%        0.033004  \n",
       "75%        0.053096  \n",
       "max        0.095604  \n",
       "\n",
       "[8 rows x 186 columns]"
      ]
     },
     "metadata": {},
     "output_type": "display_data"
    },
    {
     "data": {
      "image/png": "[encoded data removed]",
      "text/plain": [
       "<Figure size 640x480 with 1 Axes>"
      ]
     },
     "metadata": {},
     "output_type": "display_data"
    }
   ],
   "source": [
    "filename = os.path.join(cfg['data_dir'], cfg['data'])\n",
    "df = pd.read_csv(filename)\n",
    "\n",
    "display(HTML('<h2>Data preview:</h2>'))\n",
    "display(df)\n",
    "display(HTML('<hr>'))\n",
    "display(HTML('<h2>Data statistics:</h2>'))\n",
    "display(df.describe())\n",
    "\n",
    "print_hist(df, stat='percent')"
   ]
  },
  {
   "cell_type": "markdown",
   "id": "a7adeb3b-9261-4232-91c6-8f8408a0a456",
   "metadata": {},
   "source": [
    "## data sampling"
   ]
  },
  {
   "cell_type": "code",
   "execution_count": 5,
   "id": "c4816eb1-92b5-4e76-9bbc-1d687def8ccf",
   "metadata": {
    "tags": []
   },
   "outputs": [],
   "source": [
    "def sample_data(df):\n",
    "    # remove duplicates\n",
    "    mask = df.duplicated(keep='first')\n",
    "    df = df[~mask].copy(deep=True)\n",
    "    \n",
    "    # classes counts\n",
    "    df_hist = df.DRUH_DR.groupby(df.DRUH_DR).count().sort_values(ascending=False)\n",
    "    # print('%s\\n' % df_hist)\n",
    "\n",
    "    # select the most frequent classes\n",
    "    selected_classes = df_hist[df_hist > 2500].index.values\n",
    "    # print('selected_classes: %s\\n' % selected_classes)\n",
    "\n",
    "    # set the rest of the classes to OTHER\n",
    "    mask = df.DRUH_DR.isin(selected_classes)\n",
    "    df.loc[~mask,df.DRUH_DR.name] = 'OTHER'\n",
    "    # print_hist(df)\n",
    "\n",
    "    # the number of samples for the least frequent class of the most frequent classes\n",
    "    min_count = df.DRUH_DR.groupby(df.DRUH_DR).count().min()\n",
    "    # print('min count: %d' % min_count)\n",
    "\n",
    "    # sample data per class\n",
    "    df_sampled = pd.DataFrame()\n",
    "    for class_name in df.DRUH_DR.unique():\n",
    "        df_class = df[df.DRUH_DR.str.match(class_name)].sample(n=min_count, axis=0)\n",
    "        df_sampled = pd.concat([df_sampled, df_class])\n",
    "\n",
    "    return df_sampled\n",
    "\n",
    "def plot_band_characteristics(df):\n",
    "    g = sns.FacetGrid(df, col=\"DRUH_DR\", col_wrap=6)\n",
    "    # plot only features starting with 'b0, b1, ..., b9'\n",
    "    for col in enumerate(df.columns[df.columns.to_series().str.match(r'^b\\d+.*')]):\n",
    "        gg = g.map(sns.kdeplot, col[1], label=col[1], warn_singular=False)\n",
    "        gg.set_axis_labels(x_var='')\n",
    "    # g.add_legend()\n",
    "    plt.show()\n",
    "\n",
    "df_sampled = None\n",
    "if cfg['data_sampling']:\n",
    "    df_sampled = sample_data(df)"
   ]
  },
  {
   "cell_type": "code",
   "execution_count": 8,
   "id": "1876300b-3dd4-45d6-b8c6-4cdeeae91336",
   "metadata": {
    "tags": []
   },
   "outputs": [
    {
     "data": {
      "image/png": "[encoded data removed]",
      "text/plain": [
       "<Figure size 640x480 with 1 Axes>"
      ]
     },
     "metadata": {},
     "output_type": "display_data"
    },
    {
     "data": {
      "image/png": "[encoded data removed]",
      "text/plain": [
       "<Figure size 640x480 with 1 Axes>"
      ]
     },
     "metadata": {},
     "output_type": "display_data"
    }
   ],
   "source": [
    "print_hist(df, title='df')\n",
    "# plot_band_characteristics(df)\n",
    "\n",
    "if df_sampled is not None:\n",
    "    print_hist(df_sampled, title='df_sampled')\n",
    "    # plot_band_characteristics(df_sampled)"
   ]
  },
  {
   "cell_type": "code",
   "execution_count": 15,
   "id": "19139620-c8b3-42c6-a289-b197a4585781",
   "metadata": {
    "tags": []
   },
   "outputs": [
    {
     "data": {
      "text/html": [
       "<div>\n",
       "<style scoped>\n",
       "    .dataframe tbody tr th:only-of-type {\n",
       "        vertical-align: middle;\n",
       "    }\n",
       "\n",
       "    .dataframe tbody tr th {\n",
       "        vertical-align: top;\n",
       "    }\n",
       "\n",
       "    .dataframe thead th {\n",
       "        text-align: right;\n",
       "    }\n",
       "</style>\n",
       "<table border=\"1\" class=\"dataframe\">\n",
       "  <thead>\n",
       "    <tr style=\"text-align: right;\">\n",
       "      <th></th>\n",
       "      <th>b1_12_10_2</th>\n",
       "      <th>b2_12_10_2</th>\n",
       "      <th>b3_12_10_2</th>\n",
       "      <th>b4_12_10_2</th>\n",
       "      <th>b5_12_10_2</th>\n",
       "      <th>b6_12_10_2</th>\n",
       "      <th>b7_12_10_2</th>\n",
       "      <th>b8_12_10_2</th>\n",
       "      <th>b9_12_10_2</th>\n",
       "      <th>b10_12_10_</th>\n",
       "      <th>...</th>\n",
       "      <th>b177_12_10</th>\n",
       "      <th>b178_12_10</th>\n",
       "      <th>b179_12_10</th>\n",
       "      <th>b180_12_10</th>\n",
       "      <th>b181_12_10</th>\n",
       "      <th>b182_12_10</th>\n",
       "      <th>b183_12_10</th>\n",
       "      <th>b184_12_10</th>\n",
       "      <th>b185_12_10</th>\n",
       "      <th>b186_12_10</th>\n",
       "    </tr>\n",
       "  </thead>\n",
       "  <tbody>\n",
       "    <tr>\n",
       "      <th>count</th>\n",
       "      <td>19270.000000</td>\n",
       "      <td>19270.000000</td>\n",
       "      <td>19270.000000</td>\n",
       "      <td>19270.000000</td>\n",
       "      <td>19270.000000</td>\n",
       "      <td>19270.000000</td>\n",
       "      <td>19270.000000</td>\n",
       "      <td>19270.000000</td>\n",
       "      <td>19270.000000</td>\n",
       "      <td>19270.000000</td>\n",
       "      <td>...</td>\n",
       "      <td>19270.000000</td>\n",
       "      <td>19270.000000</td>\n",
       "      <td>19270.000000</td>\n",
       "      <td>19270.000000</td>\n",
       "      <td>19270.000000</td>\n",
       "      <td>19270.000000</td>\n",
       "      <td>19270.000000</td>\n",
       "      <td>19270.000000</td>\n",
       "      <td>19270.000000</td>\n",
       "      <td>19270.000000</td>\n",
       "    </tr>\n",
       "    <tr>\n",
       "      <th>mean</th>\n",
       "      <td>-0.000332</td>\n",
       "      <td>-0.000347</td>\n",
       "      <td>-0.000373</td>\n",
       "      <td>-0.000395</td>\n",
       "      <td>-0.000413</td>\n",
       "      <td>-0.000429</td>\n",
       "      <td>-0.000429</td>\n",
       "      <td>-0.000428</td>\n",
       "      <td>-0.000403</td>\n",
       "      <td>-0.000483</td>\n",
       "      <td>...</td>\n",
       "      <td>-0.007665</td>\n",
       "      <td>-0.009466</td>\n",
       "      <td>-0.009028</td>\n",
       "      <td>-0.008787</td>\n",
       "      <td>-0.009370</td>\n",
       "      <td>-0.010165</td>\n",
       "      <td>-0.010707</td>\n",
       "      <td>-0.011011</td>\n",
       "      <td>-0.011178</td>\n",
       "      <td>-0.011341</td>\n",
       "    </tr>\n",
       "    <tr>\n",
       "      <th>std</th>\n",
       "      <td>-0.000013</td>\n",
       "      <td>-0.000018</td>\n",
       "      <td>-0.000023</td>\n",
       "      <td>-0.000030</td>\n",
       "      <td>-0.000031</td>\n",
       "      <td>-0.000030</td>\n",
       "      <td>-0.000027</td>\n",
       "      <td>-0.000025</td>\n",
       "      <td>-0.000020</td>\n",
       "      <td>-0.000024</td>\n",
       "      <td>...</td>\n",
       "      <td>0.000235</td>\n",
       "      <td>0.000291</td>\n",
       "      <td>0.000277</td>\n",
       "      <td>0.000270</td>\n",
       "      <td>0.000296</td>\n",
       "      <td>0.000329</td>\n",
       "      <td>0.000343</td>\n",
       "      <td>0.000357</td>\n",
       "      <td>0.000359</td>\n",
       "      <td>0.000370</td>\n",
       "    </tr>\n",
       "    <tr>\n",
       "      <th>min</th>\n",
       "      <td>0.000000</td>\n",
       "      <td>-0.000122</td>\n",
       "      <td>-0.000103</td>\n",
       "      <td>0.000000</td>\n",
       "      <td>-0.000016</td>\n",
       "      <td>-0.000104</td>\n",
       "      <td>-0.000035</td>\n",
       "      <td>-0.000014</td>\n",
       "      <td>0.000000</td>\n",
       "      <td>-0.000052</td>\n",
       "      <td>...</td>\n",
       "      <td>0.000000</td>\n",
       "      <td>-0.000279</td>\n",
       "      <td>-0.000235</td>\n",
       "      <td>-0.000210</td>\n",
       "      <td>-0.000130</td>\n",
       "      <td>-0.000262</td>\n",
       "      <td>-0.000081</td>\n",
       "      <td>-0.000334</td>\n",
       "      <td>-0.000097</td>\n",
       "      <td>-0.000225</td>\n",
       "    </tr>\n",
       "    <tr>\n",
       "      <th>25%</th>\n",
       "      <td>-0.000382</td>\n",
       "      <td>-0.000396</td>\n",
       "      <td>-0.000420</td>\n",
       "      <td>-0.000447</td>\n",
       "      <td>-0.000484</td>\n",
       "      <td>-0.000508</td>\n",
       "      <td>-0.000510</td>\n",
       "      <td>-0.000512</td>\n",
       "      <td>-0.000481</td>\n",
       "      <td>-0.000579</td>\n",
       "      <td>...</td>\n",
       "      <td>-0.009702</td>\n",
       "      <td>-0.011905</td>\n",
       "      <td>-0.011416</td>\n",
       "      <td>-0.011122</td>\n",
       "      <td>-0.011938</td>\n",
       "      <td>-0.012790</td>\n",
       "      <td>-0.013485</td>\n",
       "      <td>-0.014022</td>\n",
       "      <td>-0.014149</td>\n",
       "      <td>-0.014496</td>\n",
       "    </tr>\n",
       "    <tr>\n",
       "      <th>50%</th>\n",
       "      <td>-0.000343</td>\n",
       "      <td>-0.000354</td>\n",
       "      <td>-0.000384</td>\n",
       "      <td>-0.000390</td>\n",
       "      <td>-0.000413</td>\n",
       "      <td>-0.000428</td>\n",
       "      <td>-0.000431</td>\n",
       "      <td>-0.000435</td>\n",
       "      <td>-0.000418</td>\n",
       "      <td>-0.000501</td>\n",
       "      <td>...</td>\n",
       "      <td>-0.011018</td>\n",
       "      <td>-0.013564</td>\n",
       "      <td>-0.012981</td>\n",
       "      <td>-0.012602</td>\n",
       "      <td>-0.013503</td>\n",
       "      <td>-0.014676</td>\n",
       "      <td>-0.015463</td>\n",
       "      <td>-0.015874</td>\n",
       "      <td>-0.016043</td>\n",
       "      <td>-0.016334</td>\n",
       "    </tr>\n",
       "    <tr>\n",
       "      <th>75%</th>\n",
       "      <td>-0.000349</td>\n",
       "      <td>-0.000380</td>\n",
       "      <td>-0.000399</td>\n",
       "      <td>-0.000434</td>\n",
       "      <td>-0.000444</td>\n",
       "      <td>-0.000458</td>\n",
       "      <td>-0.000460</td>\n",
       "      <td>-0.000453</td>\n",
       "      <td>-0.000418</td>\n",
       "      <td>-0.000511</td>\n",
       "      <td>...</td>\n",
       "      <td>-0.007526</td>\n",
       "      <td>-0.009310</td>\n",
       "      <td>-0.008848</td>\n",
       "      <td>-0.008569</td>\n",
       "      <td>-0.009136</td>\n",
       "      <td>-0.010042</td>\n",
       "      <td>-0.010534</td>\n",
       "      <td>-0.010872</td>\n",
       "      <td>-0.010953</td>\n",
       "      <td>-0.011162</td>\n",
       "    </tr>\n",
       "    <tr>\n",
       "      <th>max</th>\n",
       "      <td>0.000000</td>\n",
       "      <td>0.000000</td>\n",
       "      <td>0.000000</td>\n",
       "      <td>0.000000</td>\n",
       "      <td>0.000000</td>\n",
       "      <td>0.000000</td>\n",
       "      <td>0.000000</td>\n",
       "      <td>0.000000</td>\n",
       "      <td>0.000000</td>\n",
       "      <td>0.000000</td>\n",
       "      <td>...</td>\n",
       "      <td>0.000000</td>\n",
       "      <td>0.000000</td>\n",
       "      <td>0.000000</td>\n",
       "      <td>0.000000</td>\n",
       "      <td>0.000000</td>\n",
       "      <td>0.000000</td>\n",
       "      <td>0.000000</td>\n",
       "      <td>0.000000</td>\n",
       "      <td>0.000000</td>\n",
       "      <td>0.000000</td>\n",
       "    </tr>\n",
       "  </tbody>\n",
       "</table>\n",
       "<p>8 rows × 186 columns</p>\n",
       "</div>"
      ],
      "text/plain": [
       "         b1_12_10_2    b2_12_10_2    b3_12_10_2    b4_12_10_2    b5_12_10_2  \\\n",
       "count  19270.000000  19270.000000  19270.000000  19270.000000  19270.000000   \n",
       "mean      -0.000332     -0.000347     -0.000373     -0.000395     -0.000413   \n",
       "std       -0.000013     -0.000018     -0.000023     -0.000030     -0.000031   \n",
       "min        0.000000     -0.000122     -0.000103      0.000000     -0.000016   \n",
       "25%       -0.000382     -0.000396     -0.000420     -0.000447     -0.000484   \n",
       "50%       -0.000343     -0.000354     -0.000384     -0.000390     -0.000413   \n",
       "75%       -0.000349     -0.000380     -0.000399     -0.000434     -0.000444   \n",
       "max        0.000000      0.000000      0.000000      0.000000      0.000000   \n",
       "\n",
       "         b6_12_10_2    b7_12_10_2    b8_12_10_2    b9_12_10_2    b10_12_10_  \\\n",
       "count  19270.000000  19270.000000  19270.000000  19270.000000  19270.000000   \n",
       "mean      -0.000429     -0.000429     -0.000428     -0.000403     -0.000483   \n",
       "std       -0.000030     -0.000027     -0.000025     -0.000020     -0.000024   \n",
       "min       -0.000104     -0.000035     -0.000014      0.000000     -0.000052   \n",
       "25%       -0.000508     -0.000510     -0.000512     -0.000481     -0.000579   \n",
       "50%       -0.000428     -0.000431     -0.000435     -0.000418     -0.000501   \n",
       "75%       -0.000458     -0.000460     -0.000453     -0.000418     -0.000511   \n",
       "max        0.000000      0.000000      0.000000      0.000000      0.000000   \n",
       "\n",
       "       ...    b177_12_10    b178_12_10    b179_12_10    b180_12_10  \\\n",
       "count  ...  19270.000000  19270.000000  19270.000000  19270.000000   \n",
       "mean   ...     -0.007665     -0.009466     -0.009028     -0.008787   \n",
       "std    ...      0.000235      0.000291      0.000277      0.000270   \n",
       "min    ...      0.000000     -0.000279     -0.000235     -0.000210   \n",
       "25%    ...     -0.009702     -0.011905     -0.011416     -0.011122   \n",
       "50%    ...     -0.011018     -0.013564     -0.012981     -0.012602   \n",
       "75%    ...     -0.007526     -0.009310     -0.008848     -0.008569   \n",
       "max    ...      0.000000      0.000000      0.000000      0.000000   \n",
       "\n",
       "         b181_12_10    b182_12_10    b183_12_10    b184_12_10    b185_12_10  \\\n",
       "count  19270.000000  19270.000000  19270.000000  19270.000000  19270.000000   \n",
       "mean      -0.009370     -0.010165     -0.010707     -0.011011     -0.011178   \n",
       "std        0.000296      0.000329      0.000343      0.000357      0.000359   \n",
       "min       -0.000130     -0.000262     -0.000081     -0.000334     -0.000097   \n",
       "25%       -0.011938     -0.012790     -0.013485     -0.014022     -0.014149   \n",
       "50%       -0.013503     -0.014676     -0.015463     -0.015874     -0.016043   \n",
       "75%       -0.009136     -0.010042     -0.010534     -0.010872     -0.010953   \n",
       "max        0.000000      0.000000      0.000000      0.000000      0.000000   \n",
       "\n",
       "         b186_12_10  \n",
       "count  19270.000000  \n",
       "mean      -0.011341  \n",
       "std        0.000370  \n",
       "min       -0.000225  \n",
       "25%       -0.014496  \n",
       "50%       -0.016334  \n",
       "75%       -0.011162  \n",
       "max        0.000000  \n",
       "\n",
       "[8 rows x 186 columns]"
      ]
     },
     "execution_count": 15,
     "metadata": {},
     "output_type": "execute_result"
    }
   ],
   "source": [
    "df.describe() - df_sampled.describe()"
   ]
  },
  {
   "cell_type": "markdown",
   "id": "5c6e833c-1215-4965-b22f-6f086cad4c75",
   "metadata": {},
   "source": [
    "## prepare data (assuming that the last column is label)"
   ]
  },
  {
   "cell_type": "code",
   "execution_count": 16,
   "id": "1a55447d-ade8-4210-804d-b5d00361f32d",
   "metadata": {
    "tags": []
   },
   "outputs": [],
   "source": [
    "def split_to_train_val(df, frac=0.7, random_state=0):\n",
    "    df_train = df.sample(frac=frac, axis=0, random_state=random_state)\n",
    "    df_val = df[~df.index.isin(df_train.index)]\n",
    "    return df_train, df_val\n",
    "\n",
    "df_train, df_val = split_to_train_val(\n",
    "    df_sampled if df_sampled is not None else df\n",
    ")"
   ]
  },
  {
   "cell_type": "code",
   "execution_count": 17,
   "id": "cb119134-374c-4d92-8977-44d075035a76",
   "metadata": {
    "tags": []
   },
   "outputs": [
    {
     "data": {
      "image/png": "[encoded data removed]",
      "text/plain": [
       "<Figure size 640x480 with 1 Axes>"
      ]
     },
     "metadata": {},
     "output_type": "display_data"
    },
    {
     "data": {
      "image/png": "[encoded data removed]",
      "text/plain": [
       "<Figure size 640x480 with 1 Axes>"
      ]
     },
     "metadata": {},
     "output_type": "display_data"
    }
   ],
   "source": [
    "print_hist(df_train, title='df_train')\n",
    "print_hist(df_val, title='df_val')"
   ]
  },
  {
   "cell_type": "code",
   "execution_count": 18,
   "id": "3c95d40a-9d2f-4b2e-8151-3520136a4dcc",
   "metadata": {
    "tags": []
   },
   "outputs": [
    {
     "data": {
      "image/png": "[encoded data removed]",
      "text/plain": [
       "<Figure size 1800x300 with 5 Axes>"
      ]
     },
     "metadata": {},
     "output_type": "display_data"
    }
   ],
   "source": [
    "plot_band_characteristics(df_train)"
   ]
  },
  {
   "cell_type": "code",
   "execution_count": 19,
   "id": "90151fe3-4b7a-4c95-9666-c1e4737236c6",
   "metadata": {
    "tags": []
   },
   "outputs": [
    {
     "data": {
      "image/png": "[encoded data removed]",
      "text/plain": [
       "<Figure size 1800x300 with 5 Axes>"
      ]
     },
     "metadata": {},
     "output_type": "display_data"
    }
   ],
   "source": [
    "plot_band_characteristics(df_val)"
   ]
  },
  {
   "cell_type": "code",
   "execution_count": 20,
   "id": "a1781810-7018-4110-8953-7177d4cfb5cb",
   "metadata": {
    "tags": []
   },
   "outputs": [],
   "source": [
    "X_train=df_train[df_train.columns[:-1]]\n",
    "Y_train=df_train[[df_train.columns[-1]]]\n",
    "\n",
    "num_classes = (df_sampled.DRUH_DR if df_sampled is not None else df.DRUH_DR).unique().shape[0]\n",
    "\n",
    "label_encoder = LabelEncoder()\n",
    "label_encoder.fit(\n",
    "    df_sampled.DRUH_DR if df_sampled is not None else df.DRUH_DR\n",
    ")\n",
    "\n",
    "Y_train_1hot = to_categorical(\n",
    "    label_encoder.transform(Y_train.DRUH_DR),\n",
    "    num_classes=num_classes\n",
    ")"
   ]
  },
  {
   "cell_type": "code",
   "execution_count": 21,
   "id": "4f9a4516-e182-48a0-83ca-19ff8647380d",
   "metadata": {
    "tags": []
   },
   "outputs": [],
   "source": [
    "X_val=df_val[df_val.columns[:-1]]\n",
    "Y_val=df_val[[df_val.columns[-1]]]\n",
    "Y_val_1hot = to_categorical(\n",
    "    label_encoder.transform(Y_val.DRUH_DR),\n",
    "    num_classes=num_classes\n",
    ")"
   ]
  },
  {
   "cell_type": "code",
   "execution_count": 22,
   "id": "7640015d-3420-4440-9a11-f84f3e73e828",
   "metadata": {
    "tags": []
   },
   "outputs": [
    {
     "data": {
      "text/html": [
       "<div>\n",
       "<style scoped>\n",
       "    .dataframe tbody tr th:only-of-type {\n",
       "        vertical-align: middle;\n",
       "    }\n",
       "\n",
       "    .dataframe tbody tr th {\n",
       "        vertical-align: top;\n",
       "    }\n",
       "\n",
       "    .dataframe thead th {\n",
       "        text-align: right;\n",
       "    }\n",
       "</style>\n",
       "<table border=\"1\" class=\"dataframe\">\n",
       "  <thead>\n",
       "    <tr style=\"text-align: right;\">\n",
       "      <th></th>\n",
       "      <th>b1_12_10_2</th>\n",
       "      <th>b2_12_10_2</th>\n",
       "      <th>b3_12_10_2</th>\n",
       "      <th>b4_12_10_2</th>\n",
       "      <th>b5_12_10_2</th>\n",
       "      <th>b6_12_10_2</th>\n",
       "      <th>b7_12_10_2</th>\n",
       "      <th>b8_12_10_2</th>\n",
       "      <th>b9_12_10_2</th>\n",
       "      <th>b10_12_10_</th>\n",
       "      <th>...</th>\n",
       "      <th>b177_12_10</th>\n",
       "      <th>b178_12_10</th>\n",
       "      <th>b179_12_10</th>\n",
       "      <th>b180_12_10</th>\n",
       "      <th>b181_12_10</th>\n",
       "      <th>b182_12_10</th>\n",
       "      <th>b183_12_10</th>\n",
       "      <th>b184_12_10</th>\n",
       "      <th>b185_12_10</th>\n",
       "      <th>b186_12_10</th>\n",
       "    </tr>\n",
       "  </thead>\n",
       "  <tbody>\n",
       "    <tr>\n",
       "      <th>3715</th>\n",
       "      <td>0.003926</td>\n",
       "      <td>0.004088</td>\n",
       "      <td>0.004291</td>\n",
       "      <td>0.004395</td>\n",
       "      <td>0.004393</td>\n",
       "      <td>0.004273</td>\n",
       "      <td>0.004438</td>\n",
       "      <td>0.004200</td>\n",
       "      <td>0.004341</td>\n",
       "      <td>0.004870</td>\n",
       "      <td>...</td>\n",
       "      <td>0.030799</td>\n",
       "      <td>0.037666</td>\n",
       "      <td>0.036690</td>\n",
       "      <td>0.034553</td>\n",
       "      <td>0.037150</td>\n",
       "      <td>0.040929</td>\n",
       "      <td>0.043040</td>\n",
       "      <td>0.046127</td>\n",
       "      <td>0.045958</td>\n",
       "      <td>0.046212</td>\n",
       "    </tr>\n",
       "    <tr>\n",
       "      <th>8368</th>\n",
       "      <td>0.003307</td>\n",
       "      <td>0.003464</td>\n",
       "      <td>0.003661</td>\n",
       "      <td>0.003924</td>\n",
       "      <td>0.004224</td>\n",
       "      <td>0.004509</td>\n",
       "      <td>0.004085</td>\n",
       "      <td>0.004228</td>\n",
       "      <td>0.003859</td>\n",
       "      <td>0.004752</td>\n",
       "      <td>...</td>\n",
       "      <td>0.051917</td>\n",
       "      <td>0.062998</td>\n",
       "      <td>0.060024</td>\n",
       "      <td>0.058334</td>\n",
       "      <td>0.062577</td>\n",
       "      <td>0.066016</td>\n",
       "      <td>0.067936</td>\n",
       "      <td>0.072620</td>\n",
       "      <td>0.075160</td>\n",
       "      <td>0.076100</td>\n",
       "    </tr>\n",
       "    <tr>\n",
       "      <th>17300</th>\n",
       "      <td>0.005368</td>\n",
       "      <td>0.006064</td>\n",
       "      <td>0.006194</td>\n",
       "      <td>0.006081</td>\n",
       "      <td>0.006395</td>\n",
       "      <td>0.006799</td>\n",
       "      <td>0.007101</td>\n",
       "      <td>0.006773</td>\n",
       "      <td>0.006125</td>\n",
       "      <td>0.007575</td>\n",
       "      <td>...</td>\n",
       "      <td>0.062940</td>\n",
       "      <td>0.075846</td>\n",
       "      <td>0.072011</td>\n",
       "      <td>0.070031</td>\n",
       "      <td>0.073768</td>\n",
       "      <td>0.080651</td>\n",
       "      <td>0.083074</td>\n",
       "      <td>0.088582</td>\n",
       "      <td>0.086810</td>\n",
       "      <td>0.088933</td>\n",
       "    </tr>\n",
       "    <tr>\n",
       "      <th>25208</th>\n",
       "      <td>0.001881</td>\n",
       "      <td>0.001690</td>\n",
       "      <td>0.001925</td>\n",
       "      <td>0.001946</td>\n",
       "      <td>0.002174</td>\n",
       "      <td>0.002063</td>\n",
       "      <td>0.001969</td>\n",
       "      <td>0.001956</td>\n",
       "      <td>0.001618</td>\n",
       "      <td>0.002128</td>\n",
       "      <td>...</td>\n",
       "      <td>0.018012</td>\n",
       "      <td>0.021320</td>\n",
       "      <td>0.019814</td>\n",
       "      <td>0.019785</td>\n",
       "      <td>0.021558</td>\n",
       "      <td>0.023556</td>\n",
       "      <td>0.025038</td>\n",
       "      <td>0.025378</td>\n",
       "      <td>0.025014</td>\n",
       "      <td>0.025882</td>\n",
       "    </tr>\n",
       "    <tr>\n",
       "      <th>3630</th>\n",
       "      <td>0.002272</td>\n",
       "      <td>0.002146</td>\n",
       "      <td>0.002656</td>\n",
       "      <td>0.002879</td>\n",
       "      <td>0.002750</td>\n",
       "      <td>0.002538</td>\n",
       "      <td>0.002730</td>\n",
       "      <td>0.002697</td>\n",
       "      <td>0.002477</td>\n",
       "      <td>0.002831</td>\n",
       "      <td>...</td>\n",
       "      <td>0.021983</td>\n",
       "      <td>0.027474</td>\n",
       "      <td>0.027435</td>\n",
       "      <td>0.024902</td>\n",
       "      <td>0.028504</td>\n",
       "      <td>0.030361</td>\n",
       "      <td>0.031316</td>\n",
       "      <td>0.032690</td>\n",
       "      <td>0.032696</td>\n",
       "      <td>0.033467</td>\n",
       "    </tr>\n",
       "    <tr>\n",
       "      <th>...</th>\n",
       "      <td>...</td>\n",
       "      <td>...</td>\n",
       "      <td>...</td>\n",
       "      <td>...</td>\n",
       "      <td>...</td>\n",
       "      <td>...</td>\n",
       "      <td>...</td>\n",
       "      <td>...</td>\n",
       "      <td>...</td>\n",
       "      <td>...</td>\n",
       "      <td>...</td>\n",
       "      <td>...</td>\n",
       "      <td>...</td>\n",
       "      <td>...</td>\n",
       "      <td>...</td>\n",
       "      <td>...</td>\n",
       "      <td>...</td>\n",
       "      <td>...</td>\n",
       "      <td>...</td>\n",
       "      <td>...</td>\n",
       "      <td>...</td>\n",
       "    </tr>\n",
       "    <tr>\n",
       "      <th>17302</th>\n",
       "      <td>0.003302</td>\n",
       "      <td>0.003931</td>\n",
       "      <td>0.003991</td>\n",
       "      <td>0.004509</td>\n",
       "      <td>0.004536</td>\n",
       "      <td>0.004770</td>\n",
       "      <td>0.004648</td>\n",
       "      <td>0.004572</td>\n",
       "      <td>0.004317</td>\n",
       "      <td>0.004966</td>\n",
       "      <td>...</td>\n",
       "      <td>0.056785</td>\n",
       "      <td>0.067055</td>\n",
       "      <td>0.064200</td>\n",
       "      <td>0.062382</td>\n",
       "      <td>0.065290</td>\n",
       "      <td>0.070559</td>\n",
       "      <td>0.078009</td>\n",
       "      <td>0.077627</td>\n",
       "      <td>0.079251</td>\n",
       "      <td>0.080451</td>\n",
       "    </tr>\n",
       "    <tr>\n",
       "      <th>6720</th>\n",
       "      <td>0.001748</td>\n",
       "      <td>0.001930</td>\n",
       "      <td>0.001868</td>\n",
       "      <td>0.001693</td>\n",
       "      <td>0.001870</td>\n",
       "      <td>0.001924</td>\n",
       "      <td>0.001907</td>\n",
       "      <td>0.001738</td>\n",
       "      <td>0.001550</td>\n",
       "      <td>0.001915</td>\n",
       "      <td>...</td>\n",
       "      <td>0.015724</td>\n",
       "      <td>0.019672</td>\n",
       "      <td>0.018345</td>\n",
       "      <td>0.017337</td>\n",
       "      <td>0.018807</td>\n",
       "      <td>0.019795</td>\n",
       "      <td>0.021617</td>\n",
       "      <td>0.022424</td>\n",
       "      <td>0.021880</td>\n",
       "      <td>0.022546</td>\n",
       "    </tr>\n",
       "    <tr>\n",
       "      <th>3631</th>\n",
       "      <td>0.002117</td>\n",
       "      <td>0.002204</td>\n",
       "      <td>0.002322</td>\n",
       "      <td>0.002688</td>\n",
       "      <td>0.002499</td>\n",
       "      <td>0.002541</td>\n",
       "      <td>0.002625</td>\n",
       "      <td>0.002682</td>\n",
       "      <td>0.002285</td>\n",
       "      <td>0.002640</td>\n",
       "      <td>...</td>\n",
       "      <td>0.024056</td>\n",
       "      <td>0.030738</td>\n",
       "      <td>0.028594</td>\n",
       "      <td>0.029152</td>\n",
       "      <td>0.029847</td>\n",
       "      <td>0.034549</td>\n",
       "      <td>0.034835</td>\n",
       "      <td>0.035494</td>\n",
       "      <td>0.035936</td>\n",
       "      <td>0.037045</td>\n",
       "    </tr>\n",
       "    <tr>\n",
       "      <th>9055</th>\n",
       "      <td>0.003012</td>\n",
       "      <td>0.003044</td>\n",
       "      <td>0.003527</td>\n",
       "      <td>0.003658</td>\n",
       "      <td>0.003848</td>\n",
       "      <td>0.004170</td>\n",
       "      <td>0.003696</td>\n",
       "      <td>0.003918</td>\n",
       "      <td>0.003802</td>\n",
       "      <td>0.004599</td>\n",
       "      <td>...</td>\n",
       "      <td>0.047707</td>\n",
       "      <td>0.060168</td>\n",
       "      <td>0.054732</td>\n",
       "      <td>0.055322</td>\n",
       "      <td>0.058070</td>\n",
       "      <td>0.061721</td>\n",
       "      <td>0.068016</td>\n",
       "      <td>0.070523</td>\n",
       "      <td>0.070064</td>\n",
       "      <td>0.069562</td>\n",
       "    </tr>\n",
       "    <tr>\n",
       "      <th>3079</th>\n",
       "      <td>0.003103</td>\n",
       "      <td>0.003092</td>\n",
       "      <td>0.003466</td>\n",
       "      <td>0.004058</td>\n",
       "      <td>0.004342</td>\n",
       "      <td>0.004339</td>\n",
       "      <td>0.004159</td>\n",
       "      <td>0.003995</td>\n",
       "      <td>0.003913</td>\n",
       "      <td>0.004279</td>\n",
       "      <td>...</td>\n",
       "      <td>0.035361</td>\n",
       "      <td>0.044013</td>\n",
       "      <td>0.042027</td>\n",
       "      <td>0.042440</td>\n",
       "      <td>0.043736</td>\n",
       "      <td>0.047556</td>\n",
       "      <td>0.051060</td>\n",
       "      <td>0.051831</td>\n",
       "      <td>0.052712</td>\n",
       "      <td>0.053721</td>\n",
       "    </tr>\n",
       "  </tbody>\n",
       "</table>\n",
       "<p>10115 rows × 186 columns</p>\n",
       "</div>"
      ],
      "text/plain": [
       "       b1_12_10_2  b2_12_10_2  b3_12_10_2  b4_12_10_2  b5_12_10_2  b6_12_10_2  \\\n",
       "3715     0.003926    0.004088    0.004291    0.004395    0.004393    0.004273   \n",
       "8368     0.003307    0.003464    0.003661    0.003924    0.004224    0.004509   \n",
       "17300    0.005368    0.006064    0.006194    0.006081    0.006395    0.006799   \n",
       "25208    0.001881    0.001690    0.001925    0.001946    0.002174    0.002063   \n",
       "3630     0.002272    0.002146    0.002656    0.002879    0.002750    0.002538   \n",
       "...           ...         ...         ...         ...         ...         ...   \n",
       "17302    0.003302    0.003931    0.003991    0.004509    0.004536    0.004770   \n",
       "6720     0.001748    0.001930    0.001868    0.001693    0.001870    0.001924   \n",
       "3631     0.002117    0.002204    0.002322    0.002688    0.002499    0.002541   \n",
       "9055     0.003012    0.003044    0.003527    0.003658    0.003848    0.004170   \n",
       "3079     0.003103    0.003092    0.003466    0.004058    0.004342    0.004339   \n",
       "\n",
       "       b7_12_10_2  b8_12_10_2  b9_12_10_2  b10_12_10_  ...  b177_12_10  \\\n",
       "3715     0.004438    0.004200    0.004341    0.004870  ...    0.030799   \n",
       "8368     0.004085    0.004228    0.003859    0.004752  ...    0.051917   \n",
       "17300    0.007101    0.006773    0.006125    0.007575  ...    0.062940   \n",
       "25208    0.001969    0.001956    0.001618    0.002128  ...    0.018012   \n",
       "3630     0.002730    0.002697    0.002477    0.002831  ...    0.021983   \n",
       "...           ...         ...         ...         ...  ...         ...   \n",
       "17302    0.004648    0.004572    0.004317    0.004966  ...    0.056785   \n",
       "6720     0.001907    0.001738    0.001550    0.001915  ...    0.015724   \n",
       "3631     0.002625    0.002682    0.002285    0.002640  ...    0.024056   \n",
       "9055     0.003696    0.003918    0.003802    0.004599  ...    0.047707   \n",
       "3079     0.004159    0.003995    0.003913    0.004279  ...    0.035361   \n",
       "\n",
       "       b178_12_10  b179_12_10  b180_12_10  b181_12_10  b182_12_10  b183_12_10  \\\n",
       "3715     0.037666    0.036690    0.034553    0.037150    0.040929    0.043040   \n",
       "8368     0.062998    0.060024    0.058334    0.062577    0.066016    0.067936   \n",
       "17300    0.075846    0.072011    0.070031    0.073768    0.080651    0.083074   \n",
       "25208    0.021320    0.019814    0.019785    0.021558    0.023556    0.025038   \n",
       "3630     0.027474    0.027435    0.024902    0.028504    0.030361    0.031316   \n",
       "...           ...         ...         ...         ...         ...         ...   \n",
       "17302    0.067055    0.064200    0.062382    0.065290    0.070559    0.078009   \n",
       "6720     0.019672    0.018345    0.017337    0.018807    0.019795    0.021617   \n",
       "3631     0.030738    0.028594    0.029152    0.029847    0.034549    0.034835   \n",
       "9055     0.060168    0.054732    0.055322    0.058070    0.061721    0.068016   \n",
       "3079     0.044013    0.042027    0.042440    0.043736    0.047556    0.051060   \n",
       "\n",
       "       b184_12_10  b185_12_10  b186_12_10  \n",
       "3715     0.046127    0.045958    0.046212  \n",
       "8368     0.072620    0.075160    0.076100  \n",
       "17300    0.088582    0.086810    0.088933  \n",
       "25208    0.025378    0.025014    0.025882  \n",
       "3630     0.032690    0.032696    0.033467  \n",
       "...           ...         ...         ...  \n",
       "17302    0.077627    0.079251    0.080451  \n",
       "6720     0.022424    0.021880    0.022546  \n",
       "3631     0.035494    0.035936    0.037045  \n",
       "9055     0.070523    0.070064    0.069562  \n",
       "3079     0.051831    0.052712    0.053721  \n",
       "\n",
       "[10115 rows x 186 columns]"
      ]
     },
     "metadata": {},
     "output_type": "display_data"
    },
    {
     "data": {
      "text/html": [
       "<div>\n",
       "<style scoped>\n",
       "    .dataframe tbody tr th:only-of-type {\n",
       "        vertical-align: middle;\n",
       "    }\n",
       "\n",
       "    .dataframe tbody tr th {\n",
       "        vertical-align: top;\n",
       "    }\n",
       "\n",
       "    .dataframe thead th {\n",
       "        text-align: right;\n",
       "    }\n",
       "</style>\n",
       "<table border=\"1\" class=\"dataframe\">\n",
       "  <thead>\n",
       "    <tr style=\"text-align: right;\">\n",
       "      <th></th>\n",
       "      <th>DRUH_DR</th>\n",
       "    </tr>\n",
       "  </thead>\n",
       "  <tbody>\n",
       "    <tr>\n",
       "      <th>3715</th>\n",
       "      <td>CR</td>\n",
       "    </tr>\n",
       "    <tr>\n",
       "      <th>8368</th>\n",
       "      <td>OS</td>\n",
       "    </tr>\n",
       "    <tr>\n",
       "      <th>17300</th>\n",
       "      <td>DL</td>\n",
       "    </tr>\n",
       "    <tr>\n",
       "      <th>25208</th>\n",
       "      <td>OS</td>\n",
       "    </tr>\n",
       "    <tr>\n",
       "      <th>3630</th>\n",
       "      <td>CR</td>\n",
       "    </tr>\n",
       "    <tr>\n",
       "      <th>...</th>\n",
       "      <td>...</td>\n",
       "    </tr>\n",
       "    <tr>\n",
       "      <th>17302</th>\n",
       "      <td>DL</td>\n",
       "    </tr>\n",
       "    <tr>\n",
       "      <th>6720</th>\n",
       "      <td>SM</td>\n",
       "    </tr>\n",
       "    <tr>\n",
       "      <th>3631</th>\n",
       "      <td>CR</td>\n",
       "    </tr>\n",
       "    <tr>\n",
       "      <th>9055</th>\n",
       "      <td>OS</td>\n",
       "    </tr>\n",
       "    <tr>\n",
       "      <th>3079</th>\n",
       "      <td>CR</td>\n",
       "    </tr>\n",
       "  </tbody>\n",
       "</table>\n",
       "<p>10115 rows × 1 columns</p>\n",
       "</div>"
      ],
      "text/plain": [
       "      DRUH_DR\n",
       "3715       CR\n",
       "8368       OS\n",
       "17300      DL\n",
       "25208      OS\n",
       "3630       CR\n",
       "...       ...\n",
       "17302      DL\n",
       "6720       SM\n",
       "3631       CR\n",
       "9055       OS\n",
       "3079       CR\n",
       "\n",
       "[10115 rows x 1 columns]"
      ]
     },
     "metadata": {},
     "output_type": "display_data"
    },
    {
     "data": {
      "text/plain": [
       "array([[1., 0., 0., 0., 0.],\n",
       "       [0., 0., 1., 0., 0.],\n",
       "       [0., 1., 0., 0., 0.],\n",
       "       ...,\n",
       "       [1., 0., 0., 0., 0.],\n",
       "       [0., 0., 1., 0., 0.],\n",
       "       [1., 0., 0., 0., 0.]], dtype=float32)"
      ]
     },
     "metadata": {},
     "output_type": "display_data"
    }
   ],
   "source": [
    "display(X_train)\n",
    "display(Y_train)\n",
    "display(Y_train_1hot)"
   ]
  },
  {
   "cell_type": "code",
   "execution_count": 24,
   "id": "134656c7-f265-40c7-831b-f4bf01fa209d",
   "metadata": {
    "tags": []
   },
   "outputs": [
    {
     "data": {
      "text/html": [
       "<div>\n",
       "<style scoped>\n",
       "    .dataframe tbody tr th:only-of-type {\n",
       "        vertical-align: middle;\n",
       "    }\n",
       "\n",
       "    .dataframe tbody tr th {\n",
       "        vertical-align: top;\n",
       "    }\n",
       "\n",
       "    .dataframe thead th {\n",
       "        text-align: right;\n",
       "    }\n",
       "</style>\n",
       "<table border=\"1\" class=\"dataframe\">\n",
       "  <thead>\n",
       "    <tr style=\"text-align: right;\">\n",
       "      <th></th>\n",
       "      <th>b1_12_10_2</th>\n",
       "      <th>b2_12_10_2</th>\n",
       "      <th>b3_12_10_2</th>\n",
       "      <th>b4_12_10_2</th>\n",
       "      <th>b5_12_10_2</th>\n",
       "      <th>b6_12_10_2</th>\n",
       "      <th>b7_12_10_2</th>\n",
       "      <th>b8_12_10_2</th>\n",
       "      <th>b9_12_10_2</th>\n",
       "      <th>b10_12_10_</th>\n",
       "      <th>...</th>\n",
       "      <th>b177_12_10</th>\n",
       "      <th>b178_12_10</th>\n",
       "      <th>b179_12_10</th>\n",
       "      <th>b180_12_10</th>\n",
       "      <th>b181_12_10</th>\n",
       "      <th>b182_12_10</th>\n",
       "      <th>b183_12_10</th>\n",
       "      <th>b184_12_10</th>\n",
       "      <th>b185_12_10</th>\n",
       "      <th>b186_12_10</th>\n",
       "    </tr>\n",
       "  </thead>\n",
       "  <tbody>\n",
       "    <tr>\n",
       "      <th>12939</th>\n",
       "      <td>0.002669</td>\n",
       "      <td>0.002636</td>\n",
       "      <td>0.002950</td>\n",
       "      <td>0.003349</td>\n",
       "      <td>0.003470</td>\n",
       "      <td>0.003260</td>\n",
       "      <td>0.003232</td>\n",
       "      <td>0.003402</td>\n",
       "      <td>0.003077</td>\n",
       "      <td>0.003816</td>\n",
       "      <td>...</td>\n",
       "      <td>0.053172</td>\n",
       "      <td>0.064136</td>\n",
       "      <td>0.062661</td>\n",
       "      <td>0.060507</td>\n",
       "      <td>0.064022</td>\n",
       "      <td>0.070418</td>\n",
       "      <td>0.072805</td>\n",
       "      <td>0.074579</td>\n",
       "      <td>0.075459</td>\n",
       "      <td>0.075252</td>\n",
       "    </tr>\n",
       "    <tr>\n",
       "      <th>4482</th>\n",
       "      <td>0.003707</td>\n",
       "      <td>0.003856</td>\n",
       "      <td>0.004034</td>\n",
       "      <td>0.004349</td>\n",
       "      <td>0.004342</td>\n",
       "      <td>0.004585</td>\n",
       "      <td>0.004660</td>\n",
       "      <td>0.004768</td>\n",
       "      <td>0.004211</td>\n",
       "      <td>0.005256</td>\n",
       "      <td>...</td>\n",
       "      <td>0.042628</td>\n",
       "      <td>0.053336</td>\n",
       "      <td>0.051336</td>\n",
       "      <td>0.049291</td>\n",
       "      <td>0.053068</td>\n",
       "      <td>0.057639</td>\n",
       "      <td>0.060540</td>\n",
       "      <td>0.060436</td>\n",
       "      <td>0.063171</td>\n",
       "      <td>0.065448</td>\n",
       "    </tr>\n",
       "    <tr>\n",
       "      <th>2954</th>\n",
       "      <td>0.003419</td>\n",
       "      <td>0.003546</td>\n",
       "      <td>0.003571</td>\n",
       "      <td>0.003868</td>\n",
       "      <td>0.003850</td>\n",
       "      <td>0.003901</td>\n",
       "      <td>0.004175</td>\n",
       "      <td>0.003823</td>\n",
       "      <td>0.003685</td>\n",
       "      <td>0.003886</td>\n",
       "      <td>...</td>\n",
       "      <td>0.023701</td>\n",
       "      <td>0.028777</td>\n",
       "      <td>0.029161</td>\n",
       "      <td>0.028124</td>\n",
       "      <td>0.029573</td>\n",
       "      <td>0.030913</td>\n",
       "      <td>0.033050</td>\n",
       "      <td>0.033585</td>\n",
       "      <td>0.034366</td>\n",
       "      <td>0.035789</td>\n",
       "    </tr>\n",
       "    <tr>\n",
       "      <th>4994</th>\n",
       "      <td>0.004075</td>\n",
       "      <td>0.004181</td>\n",
       "      <td>0.004326</td>\n",
       "      <td>0.004476</td>\n",
       "      <td>0.004685</td>\n",
       "      <td>0.004842</td>\n",
       "      <td>0.004897</td>\n",
       "      <td>0.005013</td>\n",
       "      <td>0.004918</td>\n",
       "      <td>0.005540</td>\n",
       "      <td>...</td>\n",
       "      <td>0.041920</td>\n",
       "      <td>0.051016</td>\n",
       "      <td>0.048033</td>\n",
       "      <td>0.045699</td>\n",
       "      <td>0.050537</td>\n",
       "      <td>0.055006</td>\n",
       "      <td>0.057214</td>\n",
       "      <td>0.058009</td>\n",
       "      <td>0.059627</td>\n",
       "      <td>0.059527</td>\n",
       "    </tr>\n",
       "    <tr>\n",
       "      <th>36</th>\n",
       "      <td>0.001799</td>\n",
       "      <td>0.002142</td>\n",
       "      <td>0.002038</td>\n",
       "      <td>0.001865</td>\n",
       "      <td>0.002269</td>\n",
       "      <td>0.002375</td>\n",
       "      <td>0.002410</td>\n",
       "      <td>0.002062</td>\n",
       "      <td>0.002243</td>\n",
       "      <td>0.002575</td>\n",
       "      <td>...</td>\n",
       "      <td>0.029871</td>\n",
       "      <td>0.036970</td>\n",
       "      <td>0.034365</td>\n",
       "      <td>0.033574</td>\n",
       "      <td>0.036387</td>\n",
       "      <td>0.039827</td>\n",
       "      <td>0.039193</td>\n",
       "      <td>0.041596</td>\n",
       "      <td>0.041447</td>\n",
       "      <td>0.043001</td>\n",
       "    </tr>\n",
       "    <tr>\n",
       "      <th>...</th>\n",
       "      <td>...</td>\n",
       "      <td>...</td>\n",
       "      <td>...</td>\n",
       "      <td>...</td>\n",
       "      <td>...</td>\n",
       "      <td>...</td>\n",
       "      <td>...</td>\n",
       "      <td>...</td>\n",
       "      <td>...</td>\n",
       "      <td>...</td>\n",
       "      <td>...</td>\n",
       "      <td>...</td>\n",
       "      <td>...</td>\n",
       "      <td>...</td>\n",
       "      <td>...</td>\n",
       "      <td>...</td>\n",
       "      <td>...</td>\n",
       "      <td>...</td>\n",
       "      <td>...</td>\n",
       "      <td>...</td>\n",
       "      <td>...</td>\n",
       "    </tr>\n",
       "    <tr>\n",
       "      <th>7287</th>\n",
       "      <td>0.002331</td>\n",
       "      <td>0.002269</td>\n",
       "      <td>0.002569</td>\n",
       "      <td>0.002813</td>\n",
       "      <td>0.003027</td>\n",
       "      <td>0.002767</td>\n",
       "      <td>0.002870</td>\n",
       "      <td>0.003062</td>\n",
       "      <td>0.002733</td>\n",
       "      <td>0.003422</td>\n",
       "      <td>...</td>\n",
       "      <td>0.022282</td>\n",
       "      <td>0.028244</td>\n",
       "      <td>0.026433</td>\n",
       "      <td>0.025254</td>\n",
       "      <td>0.027549</td>\n",
       "      <td>0.029509</td>\n",
       "      <td>0.032363</td>\n",
       "      <td>0.032180</td>\n",
       "      <td>0.032466</td>\n",
       "      <td>0.034281</td>\n",
       "    </tr>\n",
       "    <tr>\n",
       "      <th>21207</th>\n",
       "      <td>0.001413</td>\n",
       "      <td>0.001292</td>\n",
       "      <td>0.001315</td>\n",
       "      <td>0.001372</td>\n",
       "      <td>0.001565</td>\n",
       "      <td>0.001360</td>\n",
       "      <td>0.001447</td>\n",
       "      <td>0.001235</td>\n",
       "      <td>0.001361</td>\n",
       "      <td>0.001503</td>\n",
       "      <td>...</td>\n",
       "      <td>0.006970</td>\n",
       "      <td>0.008055</td>\n",
       "      <td>0.007906</td>\n",
       "      <td>0.008225</td>\n",
       "      <td>0.008152</td>\n",
       "      <td>0.008906</td>\n",
       "      <td>0.009248</td>\n",
       "      <td>0.010022</td>\n",
       "      <td>0.010154</td>\n",
       "      <td>0.010284</td>\n",
       "    </tr>\n",
       "    <tr>\n",
       "      <th>29589</th>\n",
       "      <td>0.000781</td>\n",
       "      <td>0.000807</td>\n",
       "      <td>0.000994</td>\n",
       "      <td>0.000947</td>\n",
       "      <td>0.000812</td>\n",
       "      <td>0.000880</td>\n",
       "      <td>0.000860</td>\n",
       "      <td>0.000822</td>\n",
       "      <td>0.000910</td>\n",
       "      <td>0.000918</td>\n",
       "      <td>...</td>\n",
       "      <td>0.001722</td>\n",
       "      <td>0.002203</td>\n",
       "      <td>0.001856</td>\n",
       "      <td>0.002152</td>\n",
       "      <td>0.002360</td>\n",
       "      <td>0.001910</td>\n",
       "      <td>0.003209</td>\n",
       "      <td>0.002577</td>\n",
       "      <td>0.002932</td>\n",
       "      <td>0.003642</td>\n",
       "    </tr>\n",
       "    <tr>\n",
       "      <th>6228</th>\n",
       "      <td>0.002705</td>\n",
       "      <td>0.002496</td>\n",
       "      <td>0.002904</td>\n",
       "      <td>0.002860</td>\n",
       "      <td>0.002939</td>\n",
       "      <td>0.002974</td>\n",
       "      <td>0.002923</td>\n",
       "      <td>0.003005</td>\n",
       "      <td>0.002966</td>\n",
       "      <td>0.003559</td>\n",
       "      <td>...</td>\n",
       "      <td>0.022710</td>\n",
       "      <td>0.026962</td>\n",
       "      <td>0.026594</td>\n",
       "      <td>0.026847</td>\n",
       "      <td>0.027838</td>\n",
       "      <td>0.029290</td>\n",
       "      <td>0.031713</td>\n",
       "      <td>0.033709</td>\n",
       "      <td>0.030250</td>\n",
       "      <td>0.034763</td>\n",
       "    </tr>\n",
       "    <tr>\n",
       "      <th>27734</th>\n",
       "      <td>0.001264</td>\n",
       "      <td>0.001264</td>\n",
       "      <td>0.001286</td>\n",
       "      <td>0.001354</td>\n",
       "      <td>0.001108</td>\n",
       "      <td>0.001347</td>\n",
       "      <td>0.001162</td>\n",
       "      <td>0.001382</td>\n",
       "      <td>0.001154</td>\n",
       "      <td>0.001384</td>\n",
       "      <td>...</td>\n",
       "      <td>0.004751</td>\n",
       "      <td>0.005653</td>\n",
       "      <td>0.005206</td>\n",
       "      <td>0.004827</td>\n",
       "      <td>0.005308</td>\n",
       "      <td>0.006269</td>\n",
       "      <td>0.006193</td>\n",
       "      <td>0.007042</td>\n",
       "      <td>0.005942</td>\n",
       "      <td>0.007505</td>\n",
       "    </tr>\n",
       "  </tbody>\n",
       "</table>\n",
       "<p>4335 rows × 186 columns</p>\n",
       "</div>"
      ],
      "text/plain": [
       "       b1_12_10_2  b2_12_10_2  b3_12_10_2  b4_12_10_2  b5_12_10_2  b6_12_10_2  \\\n",
       "12939    0.002669    0.002636    0.002950    0.003349    0.003470    0.003260   \n",
       "4482     0.003707    0.003856    0.004034    0.004349    0.004342    0.004585   \n",
       "2954     0.003419    0.003546    0.003571    0.003868    0.003850    0.003901   \n",
       "4994     0.004075    0.004181    0.004326    0.004476    0.004685    0.004842   \n",
       "36       0.001799    0.002142    0.002038    0.001865    0.002269    0.002375   \n",
       "...           ...         ...         ...         ...         ...         ...   \n",
       "7287     0.002331    0.002269    0.002569    0.002813    0.003027    0.002767   \n",
       "21207    0.001413    0.001292    0.001315    0.001372    0.001565    0.001360   \n",
       "29589    0.000781    0.000807    0.000994    0.000947    0.000812    0.000880   \n",
       "6228     0.002705    0.002496    0.002904    0.002860    0.002939    0.002974   \n",
       "27734    0.001264    0.001264    0.001286    0.001354    0.001108    0.001347   \n",
       "\n",
       "       b7_12_10_2  b8_12_10_2  b9_12_10_2  b10_12_10_  ...  b177_12_10  \\\n",
       "12939    0.003232    0.003402    0.003077    0.003816  ...    0.053172   \n",
       "4482     0.004660    0.004768    0.004211    0.005256  ...    0.042628   \n",
       "2954     0.004175    0.003823    0.003685    0.003886  ...    0.023701   \n",
       "4994     0.004897    0.005013    0.004918    0.005540  ...    0.041920   \n",
       "36       0.002410    0.002062    0.002243    0.002575  ...    0.029871   \n",
       "...           ...         ...         ...         ...  ...         ...   \n",
       "7287     0.002870    0.003062    0.002733    0.003422  ...    0.022282   \n",
       "21207    0.001447    0.001235    0.001361    0.001503  ...    0.006970   \n",
       "29589    0.000860    0.000822    0.000910    0.000918  ...    0.001722   \n",
       "6228     0.002923    0.003005    0.002966    0.003559  ...    0.022710   \n",
       "27734    0.001162    0.001382    0.001154    0.001384  ...    0.004751   \n",
       "\n",
       "       b178_12_10  b179_12_10  b180_12_10  b181_12_10  b182_12_10  b183_12_10  \\\n",
       "12939    0.064136    0.062661    0.060507    0.064022    0.070418    0.072805   \n",
       "4482     0.053336    0.051336    0.049291    0.053068    0.057639    0.060540   \n",
       "2954     0.028777    0.029161    0.028124    0.029573    0.030913    0.033050   \n",
       "4994     0.051016    0.048033    0.045699    0.050537    0.055006    0.057214   \n",
       "36       0.036970    0.034365    0.033574    0.036387    0.039827    0.039193   \n",
       "...           ...         ...         ...         ...         ...         ...   \n",
       "7287     0.028244    0.026433    0.025254    0.027549    0.029509    0.032363   \n",
       "21207    0.008055    0.007906    0.008225    0.008152    0.008906    0.009248   \n",
       "29589    0.002203    0.001856    0.002152    0.002360    0.001910    0.003209   \n",
       "6228     0.026962    0.026594    0.026847    0.027838    0.029290    0.031713   \n",
       "27734    0.005653    0.005206    0.004827    0.005308    0.006269    0.006193   \n",
       "\n",
       "       b184_12_10  b185_12_10  b186_12_10  \n",
       "12939    0.074579    0.075459    0.075252  \n",
       "4482     0.060436    0.063171    0.065448  \n",
       "2954     0.033585    0.034366    0.035789  \n",
       "4994     0.058009    0.059627    0.059527  \n",
       "36       0.041596    0.041447    0.043001  \n",
       "...           ...         ...         ...  \n",
       "7287     0.032180    0.032466    0.034281  \n",
       "21207    0.010022    0.010154    0.010284  \n",
       "29589    0.002577    0.002932    0.003642  \n",
       "6228     0.033709    0.030250    0.034763  \n",
       "27734    0.007042    0.005942    0.007505  \n",
       "\n",
       "[4335 rows x 186 columns]"
      ]
     },
     "metadata": {},
     "output_type": "display_data"
    },
    {
     "data": {
      "text/html": [
       "<div>\n",
       "<style scoped>\n",
       "    .dataframe tbody tr th:only-of-type {\n",
       "        vertical-align: middle;\n",
       "    }\n",
       "\n",
       "    .dataframe tbody tr th {\n",
       "        vertical-align: top;\n",
       "    }\n",
       "\n",
       "    .dataframe thead th {\n",
       "        text-align: right;\n",
       "    }\n",
       "</style>\n",
       "<table border=\"1\" class=\"dataframe\">\n",
       "  <thead>\n",
       "    <tr style=\"text-align: right;\">\n",
       "      <th></th>\n",
       "      <th>DRUH_DR</th>\n",
       "    </tr>\n",
       "  </thead>\n",
       "  <tbody>\n",
       "    <tr>\n",
       "      <th>12939</th>\n",
       "      <td>CR</td>\n",
       "    </tr>\n",
       "    <tr>\n",
       "      <th>4482</th>\n",
       "      <td>CR</td>\n",
       "    </tr>\n",
       "    <tr>\n",
       "      <th>2954</th>\n",
       "      <td>CR</td>\n",
       "    </tr>\n",
       "    <tr>\n",
       "      <th>4994</th>\n",
       "      <td>CR</td>\n",
       "    </tr>\n",
       "    <tr>\n",
       "      <th>36</th>\n",
       "      <td>CR</td>\n",
       "    </tr>\n",
       "    <tr>\n",
       "      <th>...</th>\n",
       "      <td>...</td>\n",
       "    </tr>\n",
       "    <tr>\n",
       "      <th>7287</th>\n",
       "      <td>SM</td>\n",
       "    </tr>\n",
       "    <tr>\n",
       "      <th>21207</th>\n",
       "      <td>SM</td>\n",
       "    </tr>\n",
       "    <tr>\n",
       "      <th>29589</th>\n",
       "      <td>SM</td>\n",
       "    </tr>\n",
       "    <tr>\n",
       "      <th>6228</th>\n",
       "      <td>SM</td>\n",
       "    </tr>\n",
       "    <tr>\n",
       "      <th>27734</th>\n",
       "      <td>SM</td>\n",
       "    </tr>\n",
       "  </tbody>\n",
       "</table>\n",
       "<p>4335 rows × 1 columns</p>\n",
       "</div>"
      ],
      "text/plain": [
       "      DRUH_DR\n",
       "12939      CR\n",
       "4482       CR\n",
       "2954       CR\n",
       "4994       CR\n",
       "36         CR\n",
       "...       ...\n",
       "7287       SM\n",
       "21207      SM\n",
       "29589      SM\n",
       "6228       SM\n",
       "27734      SM\n",
       "\n",
       "[4335 rows x 1 columns]"
      ]
     },
     "metadata": {},
     "output_type": "display_data"
    },
    {
     "data": {
      "text/plain": [
       "array([[1., 0., 0., 0., 0.],\n",
       "       [1., 0., 0., 0., 0.],\n",
       "       [1., 0., 0., 0., 0.],\n",
       "       ...,\n",
       "       [0., 0., 0., 0., 1.],\n",
       "       [0., 0., 0., 0., 1.],\n",
       "       [0., 0., 0., 0., 1.]], dtype=float32)"
      ]
     },
     "metadata": {},
     "output_type": "display_data"
    }
   ],
   "source": [
    "display(X_val)\n",
    "display(Y_val)\n",
    "display(Y_val_1hot)"
   ]
  },
  {
   "cell_type": "code",
   "execution_count": 25,
   "id": "f4845ec8-9988-4eb4-8826-31caada29983",
   "metadata": {
    "tags": []
   },
   "outputs": [],
   "source": [
    "def make_model(\n",
    "    input_shape: tuple,\n",
    "    dense1: int = 28,\n",
    "    dense2: int = 28,\n",
    "    activation: str = 'sigmoid',\n",
    "    num_classes: int = 14\n",
    "):\n",
    "    featureInputLayer = tf.keras.Input(shape=input_shape)\n",
    "    fullyConnectedLayer1 = tf.keras.layers.Dense(dense1, name=\"fullyConnectedLayer1_\")(featureInputLayer)\n",
    "    batchNormalizationLayer = tf.keras.layers.BatchNormalization(epsilon=0.000010, name=\"batchNormalizationLayer_\")(fullyConnectedLayer1)\n",
    "    sigmoidLayer = tf.keras.layers.Activation(activation)(batchNormalizationLayer)\n",
    "    dropoutLayer = tf.keras.layers.Dropout(0.150000)(sigmoidLayer)\n",
    "    fullyConnectedLayer3 = tf.keras.layers.Dense(dense2, name=\"fullyConnectedLayer3_\")(dropoutLayer)\n",
    "    sigmoidLayer2 = tf.keras.layers.Activation(activation)(fullyConnectedLayer3)\n",
    "    fullyConnectedLayer4 = tf.keras.layers.Dense(num_classes, name=\"fullyConnectedLayer4_\")(sigmoidLayer2)\n",
    "    softmaxLayer = tf.keras.layers.Softmax()(fullyConnectedLayer4)\n",
    "    classificationLayer = softmaxLayer\n",
    "\n",
    "    model = tf.keras.Model(inputs=[featureInputLayer], outputs=[classificationLayer])\n",
    "    model.compile(\n",
    "        optimizer='adam',\n",
    "        loss='categorical_crossentropy',\n",
    "        metrics=['categorical_accuracy']\n",
    "    )\n",
    "    return model"
   ]
  },
  {
   "cell_type": "code",
   "execution_count": 26,
   "id": "53630333-eb5a-43ac-9c99-c71b9d2da4bc",
   "metadata": {},
   "outputs": [
    {
     "data": {
      "text/html": [
       "wandb version 0.14.0 is available!  To upgrade, please run:\n",
       " $ pip install wandb --upgrade"
      ],
      "text/plain": [
       "<IPython.core.display.HTML object>"
      ]
     },
     "metadata": {},
     "output_type": "display_data"
    },
    {
     "data": {
      "text/html": [
       "Tracking run with wandb version 0.13.10"
      ],
      "text/plain": [
       "<IPython.core.display.HTML object>"
      ]
     },
     "metadata": {},
     "output_type": "display_data"
    },
    {
     "data": {
      "text/html": [
       "Run data is saved locally in <code>/tf/notebooks/wandb/run-20230405_075334-pz0goyr7</code>"
      ],
      "text/plain": [
       "<IPython.core.display.HTML object>"
      ]
     },
     "metadata": {},
     "output_type": "display_data"
    },
    {
     "data": {
      "text/html": [
       "Syncing run <strong><a href='https://wandb.ai/hysped/hysped-myModel3-local/runs/pz0goyr7' target=\"_blank\">xindi-nimoy-10</a></strong> to <a href='https://wandb.ai/hysped/hysped-myModel3-local' target=\"_blank\">Weights & Biases</a> (<a href='https://wandb.me/run' target=\"_blank\">docs</a>)<br/>"
      ],
      "text/plain": [
       "<IPython.core.display.HTML object>"
      ]
     },
     "metadata": {},
     "output_type": "display_data"
    },
    {
     "data": {
      "text/html": [
       " View project at <a href='https://wandb.ai/hysped/hysped-myModel3-local' target=\"_blank\">https://wandb.ai/hysped/hysped-myModel3-local</a>"
      ],
      "text/plain": [
       "<IPython.core.display.HTML object>"
      ]
     },
     "metadata": {},
     "output_type": "display_data"
    },
    {
     "data": {
      "text/html": [
       " View run at <a href='https://wandb.ai/hysped/hysped-myModel3-local/runs/pz0goyr7' target=\"_blank\">https://wandb.ai/hysped/hysped-myModel3-local/runs/pz0goyr7</a>"
      ],
      "text/plain": [
       "<IPython.core.display.HTML object>"
      ]
     },
     "metadata": {},
     "output_type": "display_data"
    },
    {
     "name": "stdout",
     "output_type": "stream",
     "text": [
      "Epoch 1/50\n",
      "80/80 [==============================] - 3s 11ms/step - loss: 1.5013 - categorical_accuracy: 0.4339 - val_loss: 1.6044 - val_categorical_accuracy: 0.2005\n",
      "Epoch 2/50\n",
      "80/80 [==============================] - 1s 10ms/step - loss: 1.3339 - categorical_accuracy: 0.5808 - val_loss: 1.6029 - val_categorical_accuracy: 0.2005\n",
      "Epoch 3/50\n",
      "80/80 [==============================] - 1s 10ms/step - loss: 1.1771 - categorical_accuracy: 0.6478 - val_loss: 1.5894 - val_categorical_accuracy: 0.2794\n",
      "Epoch 4/50\n",
      "80/80 [==============================] - 1s 10ms/step - loss: 1.0285 - categorical_accuracy: 0.6916 - val_loss: 1.5634 - val_categorical_accuracy: 0.3742\n",
      "Epoch 5/50\n",
      "80/80 [==============================] - 1s 10ms/step - loss: 0.9100 - categorical_accuracy: 0.7197 - val_loss: 1.5220 - val_categorical_accuracy: 0.3349\n",
      "Epoch 6/50\n",
      "80/80 [==============================] - 1s 10ms/step - loss: 0.8149 - categorical_accuracy: 0.7465 - val_loss: 1.4206 - val_categorical_accuracy: 0.4701\n",
      "Epoch 7/50\n",
      "80/80 [==============================] - 1s 10ms/step - loss: 0.7689 - categorical_accuracy: 0.7528 - val_loss: 1.3346 - val_categorical_accuracy: 0.3769\n",
      "Epoch 8/50\n",
      "80/80 [==============================] - 1s 9ms/step - loss: 0.7638 - categorical_accuracy: 0.7473 - val_loss: 1.1383 - val_categorical_accuracy: 0.6567\n",
      "Epoch 9/50\n",
      "80/80 [==============================] - 1s 10ms/step - loss: 0.6783 - categorical_accuracy: 0.7784 - val_loss: 0.9421 - val_categorical_accuracy: 0.7370\n",
      "Epoch 10/50\n",
      "80/80 [==============================] - 1s 10ms/step - loss: 0.6507 - categorical_accuracy: 0.7847 - val_loss: 0.8225 - val_categorical_accuracy: 0.7555\n",
      "Epoch 11/50\n",
      "80/80 [==============================] - 1s 10ms/step - loss: 0.6424 - categorical_accuracy: 0.7827 - val_loss: 0.7053 - val_categorical_accuracy: 0.7896\n",
      "Epoch 12/50\n",
      "80/80 [==============================] - 1s 10ms/step - loss: 0.6128 - categorical_accuracy: 0.7900 - val_loss: 0.9051 - val_categorical_accuracy: 0.6690\n",
      "Epoch 13/50\n",
      "80/80 [==============================] - 1s 10ms/step - loss: 0.6627 - categorical_accuracy: 0.7759 - val_loss: 0.7333 - val_categorical_accuracy: 0.7430\n",
      "Epoch 14/50\n",
      "80/80 [==============================] - 1s 10ms/step - loss: 0.6045 - categorical_accuracy: 0.7957 - val_loss: 0.6523 - val_categorical_accuracy: 0.8069\n",
      "Epoch 15/50\n",
      "80/80 [==============================] - 1s 10ms/step - loss: 0.5785 - categorical_accuracy: 0.8026 - val_loss: 0.6442 - val_categorical_accuracy: 0.7772\n",
      "Epoch 16/50\n",
      "80/80 [==============================] - 1s 9ms/step - loss: 0.5641 - categorical_accuracy: 0.8068 - val_loss: 0.5786 - val_categorical_accuracy: 0.8005\n",
      "Epoch 17/50\n",
      "80/80 [==============================] - 1s 10ms/step - loss: 0.5541 - categorical_accuracy: 0.8073 - val_loss: 0.6607 - val_categorical_accuracy: 0.7716\n",
      "Epoch 18/50\n",
      "80/80 [==============================] - 1s 10ms/step - loss: 0.5343 - categorical_accuracy: 0.8167 - val_loss: 0.5696 - val_categorical_accuracy: 0.7931\n",
      "Epoch 19/50\n",
      "80/80 [==============================] - 1s 10ms/step - loss: 0.5337 - categorical_accuracy: 0.8170 - val_loss: 0.8133 - val_categorical_accuracy: 0.6918\n",
      "Epoch 20/50\n",
      "80/80 [==============================] - 1s 10ms/step - loss: 0.5345 - categorical_accuracy: 0.8155 - val_loss: 0.5873 - val_categorical_accuracy: 0.7769\n",
      "Epoch 21/50\n",
      "80/80 [==============================] - 1s 10ms/step - loss: 0.5193 - categorical_accuracy: 0.8191 - val_loss: 0.6826 - val_categorical_accuracy: 0.7633\n",
      "Epoch 22/50\n",
      "80/80 [==============================] - 1s 10ms/step - loss: 0.5122 - categorical_accuracy: 0.8261 - val_loss: 1.0897 - val_categorical_accuracy: 0.5557\n",
      "Epoch 23/50\n",
      "80/80 [==============================] - 1s 10ms/step - loss: 0.5287 - categorical_accuracy: 0.8176 - val_loss: 0.6679 - val_categorical_accuracy: 0.7749\n",
      "Epoch 24/50\n",
      "80/80 [==============================] - 1s 10ms/step - loss: 0.5077 - categorical_accuracy: 0.8247 - val_loss: 0.6738 - val_categorical_accuracy: 0.7619\n",
      "Epoch 25/50\n",
      "80/80 [==============================] - 1s 10ms/step - loss: 0.5180 - categorical_accuracy: 0.8193 - val_loss: 0.5284 - val_categorical_accuracy: 0.8330\n",
      "Epoch 26/50\n",
      "80/80 [==============================] - 1s 10ms/step - loss: 0.5377 - categorical_accuracy: 0.8127 - val_loss: 1.0476 - val_categorical_accuracy: 0.5433\n",
      "Epoch 27/50\n",
      "80/80 [==============================] - 1s 10ms/step - loss: 0.5753 - categorical_accuracy: 0.7950 - val_loss: 0.5029 - val_categorical_accuracy: 0.8595\n",
      "Epoch 28/50\n",
      "80/80 [==============================] - 1s 10ms/step - loss: 0.5138 - categorical_accuracy: 0.8222 - val_loss: 0.8394 - val_categorical_accuracy: 0.6551\n",
      "Epoch 29/50\n",
      "80/80 [==============================] - 1s 10ms/step - loss: 0.5378 - categorical_accuracy: 0.8141 - val_loss: 0.6304 - val_categorical_accuracy: 0.7820\n",
      "Epoch 30/50\n",
      "80/80 [==============================] - 1s 10ms/step - loss: 0.4770 - categorical_accuracy: 0.8366 - val_loss: 0.6756 - val_categorical_accuracy: 0.7308\n",
      "Epoch 31/50\n",
      "80/80 [==============================] - 1s 10ms/step - loss: 0.4783 - categorical_accuracy: 0.8346 - val_loss: 1.0117 - val_categorical_accuracy: 0.5656\n",
      "Epoch 32/50\n",
      "80/80 [==============================] - 1s 10ms/step - loss: 0.5259 - categorical_accuracy: 0.8141 - val_loss: 0.4669 - val_categorical_accuracy: 0.8351\n",
      "Epoch 33/50\n",
      "80/80 [==============================] - 1s 10ms/step - loss: 0.4726 - categorical_accuracy: 0.8324 - val_loss: 1.0977 - val_categorical_accuracy: 0.5656\n",
      "Epoch 34/50\n",
      "80/80 [==============================] - 1s 10ms/step - loss: 0.5372 - categorical_accuracy: 0.8109 - val_loss: 0.5742 - val_categorical_accuracy: 0.8014\n",
      "Epoch 35/50\n",
      "80/80 [==============================] - 1s 10ms/step - loss: 0.4737 - categorical_accuracy: 0.8360 - val_loss: 0.5281 - val_categorical_accuracy: 0.8228\n",
      "Epoch 36/50\n",
      "80/80 [==============================] - 1s 9ms/step - loss: 0.4977 - categorical_accuracy: 0.8252 - val_loss: 1.0389 - val_categorical_accuracy: 0.5774\n",
      "Epoch 37/50\n",
      "80/80 [==============================] - 1s 10ms/step - loss: 0.5196 - categorical_accuracy: 0.8170 - val_loss: 0.5708 - val_categorical_accuracy: 0.7986\n",
      "Epoch 38/50\n",
      "80/80 [==============================] - 1s 10ms/step - loss: 0.4587 - categorical_accuracy: 0.8369 - val_loss: 0.6701 - val_categorical_accuracy: 0.7518\n",
      "Epoch 39/50\n",
      "80/80 [==============================] - 1s 10ms/step - loss: 0.4773 - categorical_accuracy: 0.8345 - val_loss: 0.7122 - val_categorical_accuracy: 0.7107\n",
      "Epoch 40/50\n",
      "80/80 [==============================] - 1s 10ms/step - loss: 0.5016 - categorical_accuracy: 0.8238 - val_loss: 0.6098 - val_categorical_accuracy: 0.7984\n",
      "Epoch 41/50\n",
      "80/80 [==============================] - 1s 10ms/step - loss: 0.4636 - categorical_accuracy: 0.8362 - val_loss: 0.8765 - val_categorical_accuracy: 0.6104\n",
      "Epoch 42/50\n",
      "80/80 [==============================] - 1s 9ms/step - loss: 0.4596 - categorical_accuracy: 0.8365 - val_loss: 0.5703 - val_categorical_accuracy: 0.7968\n",
      "Epoch 43/50\n",
      "80/80 [==============================] - 1s 10ms/step - loss: 0.4577 - categorical_accuracy: 0.8379 - val_loss: 0.5393 - val_categorical_accuracy: 0.8173\n",
      "Epoch 44/50\n",
      "80/80 [==============================] - 1s 10ms/step - loss: 0.4975 - categorical_accuracy: 0.8217 - val_loss: 0.7463 - val_categorical_accuracy: 0.6879\n",
      "Epoch 45/50\n",
      "80/80 [==============================] - 1s 10ms/step - loss: 0.4657 - categorical_accuracy: 0.8363 - val_loss: 0.5572 - val_categorical_accuracy: 0.8157\n",
      "Epoch 46/50\n",
      "80/80 [==============================] - 1s 10ms/step - loss: 0.4323 - categorical_accuracy: 0.8467 - val_loss: 0.5472 - val_categorical_accuracy: 0.8159\n",
      "Epoch 47/50\n",
      "80/80 [==============================] - 1s 10ms/step - loss: 0.4266 - categorical_accuracy: 0.8463 - val_loss: 0.5138 - val_categorical_accuracy: 0.8051\n",
      "Epoch 48/50\n",
      "80/80 [==============================] - 1s 10ms/step - loss: 0.4279 - categorical_accuracy: 0.8481 - val_loss: 0.7027 - val_categorical_accuracy: 0.7167\n",
      "Epoch 49/50\n",
      "80/80 [==============================] - 1s 10ms/step - loss: 0.4731 - categorical_accuracy: 0.8304 - val_loss: 0.4709 - val_categorical_accuracy: 0.8549\n",
      "Epoch 50/50\n",
      "80/80 [==============================] - 1s 10ms/step - loss: 0.4447 - categorical_accuracy: 0.8441 - val_loss: 0.5708 - val_categorical_accuracy: 0.7765\n"
     ]
    },
    {
     "data": {
      "text/html": [
       "Waiting for W&B process to finish... <strong style=\"color:green\">(success).</strong>"
      ],
      "text/plain": [
       "<IPython.core.display.HTML object>"
      ]
     },
     "metadata": {},
     "output_type": "display_data"
    },
    {
     "data": {
      "text/html": [
       "<style>\n",
       "    table.wandb td:nth-child(1) { padding: 0 10px; text-align: left ; width: auto;} td:nth-child(2) {text-align: left ; width: 100%}\n",
       "    .wandb-row { display: flex; flex-direction: row; flex-wrap: wrap; justify-content: flex-start; width: 100% }\n",
       "    .wandb-col { display: flex; flex-direction: column; flex-basis: 100%; flex: 1; padding: 10px; }\n",
       "    </style>\n",
       "<div class=\"wandb-row\"><div class=\"wandb-col\"><h3>Run history:</h3><br/><table class=\"wandb\"><tr><td>epoch/categorical_accuracy</td><td>▁▃▅▅▆▆▆▇▇▇▇▇▇▇▇▇██▇█▇▇█▇█▇█▇█▇██████████</td></tr><tr><td>epoch/epoch</td><td>▁▁▁▁▂▂▂▂▂▃▃▃▃▃▃▄▄▄▄▄▅▅▅▅▅▅▆▆▆▆▆▆▇▇▇▇▇███</td></tr><tr><td>epoch/learning_rate</td><td>▁▁▁▁▁▁▁▁▁▁▁▁▁▁▁▁▁▁▁▁▁▁▁▁▁▁▁▁▁▁▁▁▁▁▁▁▁▁▁▁</td></tr><tr><td>epoch/loss</td><td>█▇▆▅▄▃▃▃▂▂▃▂▂▂▂▂▂▂▂▂▂▂▂▂▁▂▁▂▁▂▁▁▁▁▁▁▁▁▁▁</td></tr><tr><td>epoch/val_categorical_accuracy</td><td>▁▁▂▃▄▃▆▇▇▆▇▇▇▇▇▆▇▅▇▇▅█▆▇▅█▅▇▅▇▇▆▅▇█▆█▇▆▇</td></tr><tr><td>epoch/val_loss</td><td>████▇▆▅▄▂▄▃▂▂▂▂▃▂▅▂▂▅▁▃▂▄▁▅▂▅▂▂▃▄▂▁▃▁▁▂▂</td></tr></table><br/></div><div class=\"wandb-col\"><h3>Run summary:</h3><br/><table class=\"wandb\"><tr><td>epoch/categorical_accuracy</td><td>0.84409</td></tr><tr><td>epoch/epoch</td><td>49</td></tr><tr><td>epoch/learning_rate</td><td>0.001</td></tr><tr><td>epoch/loss</td><td>0.4447</td></tr><tr><td>epoch/val_categorical_accuracy</td><td>0.77647</td></tr><tr><td>epoch/val_loss</td><td>0.57083</td></tr></table><br/></div></div>"
      ],
      "text/plain": [
       "<IPython.core.display.HTML object>"
      ]
     },
     "metadata": {},
     "output_type": "display_data"
    },
    {
     "data": {
      "text/html": [
       " View run <strong style=\"color:#cdcd00\">xindi-nimoy-10</strong> at: <a href='https://wandb.ai/hysped/hysped-myModel3-local/runs/pz0goyr7' target=\"_blank\">https://wandb.ai/hysped/hysped-myModel3-local/runs/pz0goyr7</a><br/>Synced 5 W&B file(s), 0 media file(s), 0 artifact file(s) and 0 other file(s)"
      ],
      "text/plain": [
       "<IPython.core.display.HTML object>"
      ]
     },
     "metadata": {},
     "output_type": "display_data"
    },
    {
     "data": {
      "text/html": [
       "Find logs at: <code>./wandb/run-20230405_075334-pz0goyr7/logs</code>"
      ],
      "text/plain": [
       "<IPython.core.display.HTML object>"
      ]
     },
     "metadata": {},
     "output_type": "display_data"
    }
   ],
   "source": [
    "wandb.init(project='hysped-myModel3-local')\n",
    "model = make_model(\n",
    "    input_shape=(X_train.shape[1], ),\n",
    "    num_classes=num_classes\n",
    ")\n",
    "history = model.fit(\n",
    "    x=X_train,\n",
    "    y=Y_train_1hot,\n",
    "    validation_data=(X_val, Y_val_1hot),\n",
    "    epochs=50,\n",
    "    shuffle=True,\n",
    "    batch_size=128,\n",
    "    callbacks=[\n",
    "        WandbMetricsLogger(),\n",
    "    ],\n",
    "    verbose=1\n",
    ")\n",
    "wandb.finish()"
   ]
  },
  {
   "cell_type": "code",
   "execution_count": 27,
   "id": "25a0824d-7880-438d-b910-b6443a0faf1d",
   "metadata": {},
   "outputs": [
    {
     "name": "stdout",
     "output_type": "stream",
     "text": [
      "136/136 [==============================] - 0s 3ms/step\n"
     ]
    },
    {
     "data": {
      "image/png": "[encoded data removed]",
      "text/plain": [
       "<Figure size 900x500 with 2 Axes>"
      ]
     },
     "metadata": {},
     "output_type": "display_data"
    }
   ],
   "source": [
    "Y_pred = predict_model(model, X_val, Y_val, label_encoder=label_encoder)\n",
    "cm = confusion_matrix(Y_val, Y_pred)\n",
    "\n",
    "fig, ax = plt.subplots(figsize=(9,5))\n",
    "print_cm(ax, cm, labels=label_encoder.classes_)\n",
    "plt.show()"
   ]
  },
  {
   "cell_type": "markdown",
   "id": "be5b806a-fee8-46d4-842a-2af7c8a1020f",
   "metadata": {},
   "source": [
    "## hyperparameter tuning"
   ]
  },
  {
   "cell_type": "code",
   "execution_count": null,
   "id": "e772eaa6-81a6-46a1-90dc-75e1376c0b37",
   "metadata": {
    "tags": []
   },
   "outputs": [
    {
     "name": "stdout",
     "output_type": "stream",
     "text": [
      "Create sweep with ID: xucvp5uf\n",
      "Sweep URL: https://wandb.ai/hysped/hysped-myModel3-sweep-proportional-data/sweeps/xucvp5uf\n"
     ]
    },
    {
     "name": "stderr",
     "output_type": "stream",
     "text": [
      "\u001b[34m\u001b[1mwandb\u001b[0m: Agent Starting Run: otw46v5b with config:\n",
      "\u001b[34m\u001b[1mwandb\u001b[0m: \tactivation: sigmoid\n",
      "\u001b[34m\u001b[1mwandb\u001b[0m: \tbatch_size: 8\n",
      "\u001b[34m\u001b[1mwandb\u001b[0m: \tdense1: 16\n",
      "\u001b[34m\u001b[1mwandb\u001b[0m: \tdense2: 32\n",
      "\u001b[34m\u001b[1mwandb\u001b[0m: \u001b[33mWARNING\u001b[0m Ignored wandb.init() arg project when running a sweep.\n"
     ]
    },
    {
     "data": {
      "text/html": [
       "wandb version 0.14.0 is available!  To upgrade, please run:\n",
       " $ pip install wandb --upgrade"
      ],
      "text/plain": [
       "<IPython.core.display.HTML object>"
      ]
     },
     "metadata": {},
     "output_type": "display_data"
    },
    {
     "data": {
      "text/html": [
       "Tracking run with wandb version 0.13.10"
      ],
      "text/plain": [
       "<IPython.core.display.HTML object>"
      ]
     },
     "metadata": {},
     "output_type": "display_data"
    },
    {
     "data": {
      "text/html": [
       "Run data is saved locally in <code>/tf/notebooks/wandb/run-20230405_075626-otw46v5b</code>"
      ],
      "text/plain": [
       "<IPython.core.display.HTML object>"
      ]
     },
     "metadata": {},
     "output_type": "display_data"
    },
    {
     "data": {
      "text/html": [
       "Syncing run <strong><a href='https://wandb.ai/hysped/hysped-myModel3-sweep-proportional-data/runs/otw46v5b' target=\"_blank\">lucky-sweep-1</a></strong> to <a href='https://wandb.ai/hysped/hysped-myModel3-sweep-proportional-data' target=\"_blank\">Weights & Biases</a> (<a href='https://wandb.me/run' target=\"_blank\">docs</a>)<br/>Sweep page: <a href='https://wandb.ai/hysped/hysped-myModel3-sweep-proportional-data/sweeps/xucvp5uf' target=\"_blank\">https://wandb.ai/hysped/hysped-myModel3-sweep-proportional-data/sweeps/xucvp5uf</a>"
      ],
      "text/plain": [
       "<IPython.core.display.HTML object>"
      ]
     },
     "metadata": {},
     "output_type": "display_data"
    },
    {
     "data": {
      "text/html": [
       " View project at <a href='https://wandb.ai/hysped/hysped-myModel3-sweep-proportional-data' target=\"_blank\">https://wandb.ai/hysped/hysped-myModel3-sweep-proportional-data</a>"
      ],
      "text/plain": [
       "<IPython.core.display.HTML object>"
      ]
     },
     "metadata": {},
     "output_type": "display_data"
    },
    {
     "data": {
      "text/html": [
       " View sweep at <a href='https://wandb.ai/hysped/hysped-myModel3-sweep-proportional-data/sweeps/xucvp5uf' target=\"_blank\">https://wandb.ai/hysped/hysped-myModel3-sweep-proportional-data/sweeps/xucvp5uf</a>"
      ],
      "text/plain": [
       "<IPython.core.display.HTML object>"
      ]
     },
     "metadata": {},
     "output_type": "display_data"
    },
    {
     "data": {
      "text/html": [
       " View run at <a href='https://wandb.ai/hysped/hysped-myModel3-sweep-proportional-data/runs/otw46v5b' target=\"_blank\">https://wandb.ai/hysped/hysped-myModel3-sweep-proportional-data/runs/otw46v5b</a>"
      ],
      "text/plain": [
       "<IPython.core.display.HTML object>"
      ]
     },
     "metadata": {},
     "output_type": "display_data"
    },
    {
     "data": {
      "text/html": [
       "Waiting for W&B process to finish... <strong style=\"color:green\">(success).</strong>"
      ],
      "text/plain": [
       "<IPython.core.display.HTML object>"
      ]
     },
     "metadata": {},
     "output_type": "display_data"
    },
    {
     "data": {
      "application/vnd.jupyter.widget-view+json": {
       "model_id": "6ec787aace9d4fd6b0eeb8b277acc128",
       "version_major": 2,
       "version_minor": 0
      },
      "text/plain": [
       "VBox(children=(Label(value='0.003 MB of 0.008 MB uploaded (0.000 MB deduped)\\r'), FloatProgress(value=0.327655…"
      ]
     },
     "metadata": {},
     "output_type": "display_data"
    },
    {
     "data": {
      "text/html": [
       "<style>\n",
       "    table.wandb td:nth-child(1) { padding: 0 10px; text-align: left ; width: auto;} td:nth-child(2) {text-align: left ; width: 100%}\n",
       "    .wandb-row { display: flex; flex-direction: row; flex-wrap: wrap; justify-content: flex-start; width: 100% }\n",
       "    .wandb-col { display: flex; flex-direction: column; flex-basis: 100%; flex: 1; padding: 10px; }\n",
       "    </style>\n",
       "<div class=\"wandb-row\"><div class=\"wandb-col\"><h3>Run history:</h3><br/><table class=\"wandb\"><tr><td>categorical_accuracy</td><td>▁</td></tr><tr><td>epoch/categorical_accuracy</td><td>▁▄▅▆▆▆▆▆▇▇▇▇▇▇▇▇▇▇▇▇▇██▇▇█▇█████████████</td></tr><tr><td>epoch/epoch</td><td>▁▁▁▁▂▂▂▂▂▃▃▃▃▃▃▄▄▄▄▄▅▅▅▅▅▅▆▆▆▆▆▆▇▇▇▇▇███</td></tr><tr><td>epoch/learning_rate</td><td>▁▁▁▁▁▁▁▁▁▁▁▁▁▁▁▁▁▁▁▁▁▁▁▁▁▁▁▁▁▁▁▁▁▁▁▁▁▁▁▁</td></tr><tr><td>epoch/loss</td><td>█▅▄▃▃▃▃▃▂▂▂▂▂▂▂▂▂▂▂▂▂▁▂▁▂▁▂▁▁▁▁▁▁▁▁▁▁▁▁▁</td></tr><tr><td>epoch/val_categorical_accuracy</td><td>▃▇▇▄▃▇▄▆▇▃▂▅▂▇▅▆▆▇▇▁▆▄▄█▆▆███▆▄▇▆▆▅▃▇▆▂▇</td></tr><tr><td>epoch/val_loss</td><td>█▅▄▅▆▃▄▄▃▇▇▄▇▂▄▄▃▂▂█▃▄▅▁▄▄▁▂▁▃▅▂▂▄▃▆▂▄▆▁</td></tr><tr><td>loss</td><td>▁</td></tr><tr><td>val_categorical_accuracy</td><td>▁</td></tr><tr><td>val_loss</td><td>▁</td></tr></table><br/></div><div class=\"wandb-col\"><h3>Run summary:</h3><br/><table class=\"wandb\"><tr><td>categorical_accuracy</td><td>0.77963</td></tr><tr><td>epoch/categorical_accuracy</td><td>0.77963</td></tr><tr><td>epoch/epoch</td><td>49</td></tr><tr><td>epoch/learning_rate</td><td>0.001</td></tr><tr><td>epoch/loss</td><td>0.58817</td></tr><tr><td>epoch/val_categorical_accuracy</td><td>0.82607</td></tr><tr><td>epoch/val_loss</td><td>0.46335</td></tr><tr><td>loss</td><td>0.58817</td></tr><tr><td>val_categorical_accuracy</td><td>0.82607</td></tr><tr><td>val_loss</td><td>0.46335</td></tr></table><br/></div></div>"
      ],
      "text/plain": [
       "<IPython.core.display.HTML object>"
      ]
     },
     "metadata": {},
     "output_type": "display_data"
    },
    {
     "data": {
      "text/html": [
       " View run <strong style=\"color:#cdcd00\">lucky-sweep-1</strong> at: <a href='https://wandb.ai/hysped/hysped-myModel3-sweep-proportional-data/runs/otw46v5b' target=\"_blank\">https://wandb.ai/hysped/hysped-myModel3-sweep-proportional-data/runs/otw46v5b</a><br/>Synced 4 W&B file(s), 0 media file(s), 0 artifact file(s) and 0 other file(s)"
      ],
      "text/plain": [
       "<IPython.core.display.HTML object>"
      ]
     },
     "metadata": {},
     "output_type": "display_data"
    },
    {
     "data": {
      "text/html": [
       "Find logs at: <code>./wandb/run-20230405_075626-otw46v5b/logs</code>"
      ],
      "text/plain": [
       "<IPython.core.display.HTML object>"
      ]
     },
     "metadata": {},
     "output_type": "display_data"
    },
    {
     "name": "stderr",
     "output_type": "stream",
     "text": [
      "\u001b[34m\u001b[1mwandb\u001b[0m: Agent Starting Run: weuox1xh with config:\n",
      "\u001b[34m\u001b[1mwandb\u001b[0m: \tactivation: relu\n",
      "\u001b[34m\u001b[1mwandb\u001b[0m: \tbatch_size: 64\n",
      "\u001b[34m\u001b[1mwandb\u001b[0m: \tdense1: 32\n",
      "\u001b[34m\u001b[1mwandb\u001b[0m: \tdense2: 32\n",
      "\u001b[34m\u001b[1mwandb\u001b[0m: \u001b[33mWARNING\u001b[0m Ignored wandb.init() arg project when running a sweep.\n"
     ]
    },
    {
     "data": {
      "text/html": [
       "wandb version 0.14.0 is available!  To upgrade, please run:\n",
       " $ pip install wandb --upgrade"
      ],
      "text/plain": [
       "<IPython.core.display.HTML object>"
      ]
     },
     "metadata": {},
     "output_type": "display_data"
    },
    {
     "data": {
      "text/html": [
       "Tracking run with wandb version 0.13.10"
      ],
      "text/plain": [
       "<IPython.core.display.HTML object>"
      ]
     },
     "metadata": {},
     "output_type": "display_data"
    },
    {
     "data": {
      "text/html": [
       "Run data is saved locally in <code>/tf/notebooks/wandb/run-20230405_080524-weuox1xh</code>"
      ],
      "text/plain": [
       "<IPython.core.display.HTML object>"
      ]
     },
     "metadata": {},
     "output_type": "display_data"
    },
    {
     "data": {
      "text/html": [
       "Syncing run <strong><a href='https://wandb.ai/hysped/hysped-myModel3-sweep-proportional-data/runs/weuox1xh' target=\"_blank\">glad-sweep-2</a></strong> to <a href='https://wandb.ai/hysped/hysped-myModel3-sweep-proportional-data' target=\"_blank\">Weights & Biases</a> (<a href='https://wandb.me/run' target=\"_blank\">docs</a>)<br/>Sweep page: <a href='https://wandb.ai/hysped/hysped-myModel3-sweep-proportional-data/sweeps/xucvp5uf' target=\"_blank\">https://wandb.ai/hysped/hysped-myModel3-sweep-proportional-data/sweeps/xucvp5uf</a>"
      ],
      "text/plain": [
       "<IPython.core.display.HTML object>"
      ]
     },
     "metadata": {},
     "output_type": "display_data"
    },
    {
     "data": {
      "text/html": [
       " View project at <a href='https://wandb.ai/hysped/hysped-myModel3-sweep-proportional-data' target=\"_blank\">https://wandb.ai/hysped/hysped-myModel3-sweep-proportional-data</a>"
      ],
      "text/plain": [
       "<IPython.core.display.HTML object>"
      ]
     },
     "metadata": {},
     "output_type": "display_data"
    },
    {
     "data": {
      "text/html": [
       " View sweep at <a href='https://wandb.ai/hysped/hysped-myModel3-sweep-proportional-data/sweeps/xucvp5uf' target=\"_blank\">https://wandb.ai/hysped/hysped-myModel3-sweep-proportional-data/sweeps/xucvp5uf</a>"
      ],
      "text/plain": [
       "<IPython.core.display.HTML object>"
      ]
     },
     "metadata": {},
     "output_type": "display_data"
    },
    {
     "data": {
      "text/html": [
       " View run at <a href='https://wandb.ai/hysped/hysped-myModel3-sweep-proportional-data/runs/weuox1xh' target=\"_blank\">https://wandb.ai/hysped/hysped-myModel3-sweep-proportional-data/runs/weuox1xh</a>"
      ],
      "text/plain": [
       "<IPython.core.display.HTML object>"
      ]
     },
     "metadata": {},
     "output_type": "display_data"
    },
    {
     "data": {
      "text/html": [
       "Waiting for W&B process to finish... <strong style=\"color:green\">(success).</strong>"
      ],
      "text/plain": [
       "<IPython.core.display.HTML object>"
      ]
     },
     "metadata": {},
     "output_type": "display_data"
    },
    {
     "data": {
      "application/vnd.jupyter.widget-view+json": {
       "model_id": "0ed2d12d913549f8babfc9d430dce6a8",
       "version_major": 2,
       "version_minor": 0
      },
      "text/plain": [
       "VBox(children=(Label(value='0.006 MB of 0.008 MB uploaded (0.000 MB deduped)\\r'), FloatProgress(value=0.822366…"
      ]
     },
     "metadata": {},
     "output_type": "display_data"
    },
    {
     "data": {
      "text/html": [
       "<style>\n",
       "    table.wandb td:nth-child(1) { padding: 0 10px; text-align: left ; width: auto;} td:nth-child(2) {text-align: left ; width: 100%}\n",
       "    .wandb-row { display: flex; flex-direction: row; flex-wrap: wrap; justify-content: flex-start; width: 100% }\n",
       "    .wandb-col { display: flex; flex-direction: column; flex-basis: 100%; flex: 1; padding: 10px; }\n",
       "    </style>\n",
       "<div class=\"wandb-row\"><div class=\"wandb-col\"><h3>Run history:</h3><br/><table class=\"wandb\"><tr><td>categorical_accuracy</td><td>▁</td></tr><tr><td>epoch/categorical_accuracy</td><td>▁▅▆▆▇▇▇▇▇▇▇▇▇▇▇▇▇▇▇███▇▇███▇████████████</td></tr><tr><td>epoch/epoch</td><td>▁▁▁▁▂▂▂▂▂▃▃▃▃▃▃▄▄▄▄▄▅▅▅▅▅▅▆▆▆▆▆▆▇▇▇▇▇███</td></tr><tr><td>epoch/learning_rate</td><td>▁▁▁▁▁▁▁▁▁▁▁▁▁▁▁▁▁▁▁▁▁▁▁▁▁▁▁▁▁▁▁▁▁▁▁▁▁▁▁▁</td></tr><tr><td>epoch/loss</td><td>█▄▃▃▃▂▂▂▂▂▂▂▂▂▂▂▂▂▂▁▂▁▂▂▁▁▂▂▁▁▁▁▁▁▁▁▁▁▁▁</td></tr><tr><td>epoch/val_categorical_accuracy</td><td>▁▂▂▅▅▄▅▇▅▃█▅█▅▆▇▅▅▄▆▅▇▆▆▄▇█▇▆▆▇▇▇▆▇█▅▄▇▇</td></tr><tr><td>epoch/val_loss</td><td>▄▄▃▃▂█▃▂▃▅▁▃▁▂▂▁▃▄▇▃▃▂▃▂▆▂▁▂▂▃▂▁▂▅▁▁▄▇▁▂</td></tr><tr><td>loss</td><td>▁</td></tr><tr><td>val_categorical_accuracy</td><td>▁</td></tr><tr><td>val_loss</td><td>▁</td></tr></table><br/></div><div class=\"wandb-col\"><h3>Run summary:</h3><br/><table class=\"wandb\"><tr><td>categorical_accuracy</td><td>0.86614</td></tr><tr><td>epoch/categorical_accuracy</td><td>0.86614</td></tr><tr><td>epoch/epoch</td><td>49</td></tr><tr><td>epoch/learning_rate</td><td>0.001</td></tr><tr><td>epoch/loss</td><td>0.35943</td></tr><tr><td>epoch/val_categorical_accuracy</td><td>0.74902</td></tr><tr><td>epoch/val_loss</td><td>0.68059</td></tr><tr><td>loss</td><td>0.35943</td></tr><tr><td>val_categorical_accuracy</td><td>0.74902</td></tr><tr><td>val_loss</td><td>0.68059</td></tr></table><br/></div></div>"
      ],
      "text/plain": [
       "<IPython.core.display.HTML object>"
      ]
     },
     "metadata": {},
     "output_type": "display_data"
    },
    {
     "data": {
      "text/html": [
       " View run <strong style=\"color:#cdcd00\">glad-sweep-2</strong> at: <a href='https://wandb.ai/hysped/hysped-myModel3-sweep-proportional-data/runs/weuox1xh' target=\"_blank\">https://wandb.ai/hysped/hysped-myModel3-sweep-proportional-data/runs/weuox1xh</a><br/>Synced 4 W&B file(s), 0 media file(s), 0 artifact file(s) and 0 other file(s)"
      ],
      "text/plain": [
       "<IPython.core.display.HTML object>"
      ]
     },
     "metadata": {},
     "output_type": "display_data"
    },
    {
     "data": {
      "text/html": [
       "Find logs at: <code>./wandb/run-20230405_080524-weuox1xh/logs</code>"
      ],
      "text/plain": [
       "<IPython.core.display.HTML object>"
      ]
     },
     "metadata": {},
     "output_type": "display_data"
    },
    {
     "name": "stderr",
     "output_type": "stream",
     "text": [
      "\u001b[34m\u001b[1mwandb\u001b[0m: Agent Starting Run: gzr5d25r with config:\n",
      "\u001b[34m\u001b[1mwandb\u001b[0m: \tactivation: relu\n",
      "\u001b[34m\u001b[1mwandb\u001b[0m: \tbatch_size: 8\n",
      "\u001b[34m\u001b[1mwandb\u001b[0m: \tdense1: 8\n",
      "\u001b[34m\u001b[1mwandb\u001b[0m: \tdense2: 8\n",
      "\u001b[34m\u001b[1mwandb\u001b[0m: \u001b[33mWARNING\u001b[0m Ignored wandb.init() arg project when running a sweep.\n"
     ]
    },
    {
     "data": {
      "text/html": [
       "wandb version 0.14.0 is available!  To upgrade, please run:\n",
       " $ pip install wandb --upgrade"
      ],
      "text/plain": [
       "<IPython.core.display.HTML object>"
      ]
     },
     "metadata": {},
     "output_type": "display_data"
    },
    {
     "data": {
      "text/html": [
       "Tracking run with wandb version 0.13.10"
      ],
      "text/plain": [
       "<IPython.core.display.HTML object>"
      ]
     },
     "metadata": {},
     "output_type": "display_data"
    },
    {
     "data": {
      "text/html": [
       "Run data is saved locally in <code>/tf/notebooks/wandb/run-20230405_080657-gzr5d25r</code>"
      ],
      "text/plain": [
       "<IPython.core.display.HTML object>"
      ]
     },
     "metadata": {},
     "output_type": "display_data"
    },
    {
     "data": {
      "text/html": [
       "Syncing run <strong><a href='https://wandb.ai/hysped/hysped-myModel3-sweep-proportional-data/runs/gzr5d25r' target=\"_blank\">lyric-sweep-3</a></strong> to <a href='https://wandb.ai/hysped/hysped-myModel3-sweep-proportional-data' target=\"_blank\">Weights & Biases</a> (<a href='https://wandb.me/run' target=\"_blank\">docs</a>)<br/>Sweep page: <a href='https://wandb.ai/hysped/hysped-myModel3-sweep-proportional-data/sweeps/xucvp5uf' target=\"_blank\">https://wandb.ai/hysped/hysped-myModel3-sweep-proportional-data/sweeps/xucvp5uf</a>"
      ],
      "text/plain": [
       "<IPython.core.display.HTML object>"
      ]
     },
     "metadata": {},
     "output_type": "display_data"
    },
    {
     "data": {
      "text/html": [
       " View project at <a href='https://wandb.ai/hysped/hysped-myModel3-sweep-proportional-data' target=\"_blank\">https://wandb.ai/hysped/hysped-myModel3-sweep-proportional-data</a>"
      ],
      "text/plain": [
       "<IPython.core.display.HTML object>"
      ]
     },
     "metadata": {},
     "output_type": "display_data"
    },
    {
     "data": {
      "text/html": [
       " View sweep at <a href='https://wandb.ai/hysped/hysped-myModel3-sweep-proportional-data/sweeps/xucvp5uf' target=\"_blank\">https://wandb.ai/hysped/hysped-myModel3-sweep-proportional-data/sweeps/xucvp5uf</a>"
      ],
      "text/plain": [
       "<IPython.core.display.HTML object>"
      ]
     },
     "metadata": {},
     "output_type": "display_data"
    },
    {
     "data": {
      "text/html": [
       " View run at <a href='https://wandb.ai/hysped/hysped-myModel3-sweep-proportional-data/runs/gzr5d25r' target=\"_blank\">https://wandb.ai/hysped/hysped-myModel3-sweep-proportional-data/runs/gzr5d25r</a>"
      ],
      "text/plain": [
       "<IPython.core.display.HTML object>"
      ]
     },
     "metadata": {},
     "output_type": "display_data"
    },
    {
     "data": {
      "text/html": [
       "Waiting for W&B process to finish... <strong style=\"color:green\">(success).</strong>"
      ],
      "text/plain": [
       "<IPython.core.display.HTML object>"
      ]
     },
     "metadata": {},
     "output_type": "display_data"
    },
    {
     "data": {
      "application/vnd.jupyter.widget-view+json": {
       "model_id": "18ffb93965bd4758931d80ebb50c792c",
       "version_major": 2,
       "version_minor": 0
      },
      "text/plain": [
       "VBox(children=(Label(value='0.003 MB of 0.008 MB uploaded (0.000 MB deduped)\\r'), FloatProgress(value=0.388090…"
      ]
     },
     "metadata": {},
     "output_type": "display_data"
    },
    {
     "data": {
      "text/html": [
       "<style>\n",
       "    table.wandb td:nth-child(1) { padding: 0 10px; text-align: left ; width: auto;} td:nth-child(2) {text-align: left ; width: 100%}\n",
       "    .wandb-row { display: flex; flex-direction: row; flex-wrap: wrap; justify-content: flex-start; width: 100% }\n",
       "    .wandb-col { display: flex; flex-direction: column; flex-basis: 100%; flex: 1; padding: 10px; }\n",
       "    </style>\n",
       "<div class=\"wandb-row\"><div class=\"wandb-col\"><h3>Run history:</h3><br/><table class=\"wandb\"><tr><td>categorical_accuracy</td><td>▁</td></tr><tr><td>epoch/categorical_accuracy</td><td>▁▅▆▆▆▇▇▇▇▇▇▇▇▇▇▇▇▇▇▇▇▇▇██▇██████████████</td></tr><tr><td>epoch/epoch</td><td>▁▁▁▁▂▂▂▂▂▃▃▃▃▃▃▄▄▄▄▄▅▅▅▅▅▅▆▆▆▆▆▆▇▇▇▇▇███</td></tr><tr><td>epoch/learning_rate</td><td>▁▁▁▁▁▁▁▁▁▁▁▁▁▁▁▁▁▁▁▁▁▁▁▁▁▁▁▁▁▁▁▁▁▁▁▁▁▁▁▁</td></tr><tr><td>epoch/loss</td><td>█▄▃▃▃▃▃▂▂▂▂▂▂▂▂▂▂▂▂▂▂▂▁▁▁▂▁▁▁▁▁▁▁▁▁▁▂▁▁▁</td></tr><tr><td>epoch/val_categorical_accuracy</td><td>▄▄▄▄█▅▄▅▄█▅▄▆▆▇▇▇▄▃▇▂▄▆▇▆▅▆▃▁▅▆▃██▇▇▅▅█▇</td></tr><tr><td>epoch/val_loss</td><td>▄▄▃▄▁▃▃▂▄▁▃▄▂▃▂▂▂▄▄▂▄▄▂▂▂▃▂██▃▂▇▁▁▁▂▃▂▁▂</td></tr><tr><td>loss</td><td>▁</td></tr><tr><td>val_categorical_accuracy</td><td>▁</td></tr><tr><td>val_loss</td><td>▁</td></tr></table><br/></div><div class=\"wandb-col\"><h3>Run summary:</h3><br/><table class=\"wandb\"><tr><td>categorical_accuracy</td><td>0.75195</td></tr><tr><td>epoch/categorical_accuracy</td><td>0.75195</td></tr><tr><td>epoch/epoch</td><td>49</td></tr><tr><td>epoch/learning_rate</td><td>0.001</td></tr><tr><td>epoch/loss</td><td>0.67379</td></tr><tr><td>epoch/val_categorical_accuracy</td><td>0.74602</td></tr><tr><td>epoch/val_loss</td><td>0.66866</td></tr><tr><td>loss</td><td>0.67379</td></tr><tr><td>val_categorical_accuracy</td><td>0.74602</td></tr><tr><td>val_loss</td><td>0.66866</td></tr></table><br/></div></div>"
      ],
      "text/plain": [
       "<IPython.core.display.HTML object>"
      ]
     },
     "metadata": {},
     "output_type": "display_data"
    },
    {
     "data": {
      "text/html": [
       " View run <strong style=\"color:#cdcd00\">lyric-sweep-3</strong> at: <a href='https://wandb.ai/hysped/hysped-myModel3-sweep-proportional-data/runs/gzr5d25r' target=\"_blank\">https://wandb.ai/hysped/hysped-myModel3-sweep-proportional-data/runs/gzr5d25r</a><br/>Synced 4 W&B file(s), 0 media file(s), 0 artifact file(s) and 0 other file(s)"
      ],
      "text/plain": [
       "<IPython.core.display.HTML object>"
      ]
     },
     "metadata": {},
     "output_type": "display_data"
    },
    {
     "data": {
      "text/html": [
       "Find logs at: <code>./wandb/run-20230405_080657-gzr5d25r/logs</code>"
      ],
      "text/plain": [
       "<IPython.core.display.HTML object>"
      ]
     },
     "metadata": {},
     "output_type": "display_data"
    },
    {
     "name": "stderr",
     "output_type": "stream",
     "text": [
      "\u001b[34m\u001b[1mwandb\u001b[0m: Agent Starting Run: 3nl3xuvd with config:\n",
      "\u001b[34m\u001b[1mwandb\u001b[0m: \tactivation: sigmoid\n",
      "\u001b[34m\u001b[1mwandb\u001b[0m: \tbatch_size: 128\n",
      "\u001b[34m\u001b[1mwandb\u001b[0m: \tdense1: 16\n",
      "\u001b[34m\u001b[1mwandb\u001b[0m: \tdense2: 32\n",
      "\u001b[34m\u001b[1mwandb\u001b[0m: \u001b[33mWARNING\u001b[0m Ignored wandb.init() arg project when running a sweep.\n"
     ]
    },
    {
     "data": {
      "text/html": [
       "wandb version 0.14.0 is available!  To upgrade, please run:\n",
       " $ pip install wandb --upgrade"
      ],
      "text/plain": [
       "<IPython.core.display.HTML object>"
      ]
     },
     "metadata": {},
     "output_type": "display_data"
    },
    {
     "data": {
      "text/html": [
       "Tracking run with wandb version 0.13.10"
      ],
      "text/plain": [
       "<IPython.core.display.HTML object>"
      ]
     },
     "metadata": {},
     "output_type": "display_data"
    },
    {
     "data": {
      "text/html": [
       "Run data is saved locally in <code>/tf/notebooks/wandb/run-20230405_081610-3nl3xuvd</code>"
      ],
      "text/plain": [
       "<IPython.core.display.HTML object>"
      ]
     },
     "metadata": {},
     "output_type": "display_data"
    },
    {
     "data": {
      "text/html": [
       "Syncing run <strong><a href='https://wandb.ai/hysped/hysped-myModel3-sweep-proportional-data/runs/3nl3xuvd' target=\"_blank\">rosy-sweep-4</a></strong> to <a href='https://wandb.ai/hysped/hysped-myModel3-sweep-proportional-data' target=\"_blank\">Weights & Biases</a> (<a href='https://wandb.me/run' target=\"_blank\">docs</a>)<br/>Sweep page: <a href='https://wandb.ai/hysped/hysped-myModel3-sweep-proportional-data/sweeps/xucvp5uf' target=\"_blank\">https://wandb.ai/hysped/hysped-myModel3-sweep-proportional-data/sweeps/xucvp5uf</a>"
      ],
      "text/plain": [
       "<IPython.core.display.HTML object>"
      ]
     },
     "metadata": {},
     "output_type": "display_data"
    },
    {
     "data": {
      "text/html": [
       " View project at <a href='https://wandb.ai/hysped/hysped-myModel3-sweep-proportional-data' target=\"_blank\">https://wandb.ai/hysped/hysped-myModel3-sweep-proportional-data</a>"
      ],
      "text/plain": [
       "<IPython.core.display.HTML object>"
      ]
     },
     "metadata": {},
     "output_type": "display_data"
    },
    {
     "data": {
      "text/html": [
       " View sweep at <a href='https://wandb.ai/hysped/hysped-myModel3-sweep-proportional-data/sweeps/xucvp5uf' target=\"_blank\">https://wandb.ai/hysped/hysped-myModel3-sweep-proportional-data/sweeps/xucvp5uf</a>"
      ],
      "text/plain": [
       "<IPython.core.display.HTML object>"
      ]
     },
     "metadata": {},
     "output_type": "display_data"
    },
    {
     "data": {
      "text/html": [
       " View run at <a href='https://wandb.ai/hysped/hysped-myModel3-sweep-proportional-data/runs/3nl3xuvd' target=\"_blank\">https://wandb.ai/hysped/hysped-myModel3-sweep-proportional-data/runs/3nl3xuvd</a>"
      ],
      "text/plain": [
       "<IPython.core.display.HTML object>"
      ]
     },
     "metadata": {},
     "output_type": "display_data"
    },
    {
     "data": {
      "text/html": [
       "Waiting for W&B process to finish... <strong style=\"color:green\">(success).</strong>"
      ],
      "text/plain": [
       "<IPython.core.display.HTML object>"
      ]
     },
     "metadata": {},
     "output_type": "display_data"
    },
    {
     "data": {
      "text/html": [
       "<style>\n",
       "    table.wandb td:nth-child(1) { padding: 0 10px; text-align: left ; width: auto;} td:nth-child(2) {text-align: left ; width: 100%}\n",
       "    .wandb-row { display: flex; flex-direction: row; flex-wrap: wrap; justify-content: flex-start; width: 100% }\n",
       "    .wandb-col { display: flex; flex-direction: column; flex-basis: 100%; flex: 1; padding: 10px; }\n",
       "    </style>\n",
       "<div class=\"wandb-row\"><div class=\"wandb-col\"><h3>Run history:</h3><br/><table class=\"wandb\"><tr><td>categorical_accuracy</td><td>▁</td></tr><tr><td>epoch/categorical_accuracy</td><td>▁▄▄▅▆▆▆▆▇▇▇▇▇▇▇▇▇▇▇▇▇▇▇█████████████████</td></tr><tr><td>epoch/epoch</td><td>▁▁▁▁▂▂▂▂▂▃▃▃▃▃▃▄▄▄▄▄▅▅▅▅▅▅▆▆▆▆▆▆▇▇▇▇▇███</td></tr><tr><td>epoch/learning_rate</td><td>▁▁▁▁▁▁▁▁▁▁▁▁▁▁▁▁▁▁▁▁▁▁▁▁▁▁▁▁▁▁▁▁▁▁▁▁▁▁▁▁</td></tr><tr><td>epoch/loss</td><td>█▇▆▆▅▄▄▃▃▃▃▂▂▂▂▂▂▂▂▂▂▂▂▂▁▁▂▁▁▁▁▁▁▁▁▁▁▁▁▁</td></tr><tr><td>epoch/val_categorical_accuracy</td><td>▁▁▁▃▄▄▅▆▇▇▆▅▆▇▇▇▅▅▆█▆▇▇▆▇███▆█▆█▇▇█▄▇▇▅▅</td></tr><tr><td>epoch/val_loss</td><td>████▇▆▆▅▃▃▃▄▄▂▂▂▅▄▃▂▃▂▂▃▂▁▂▁▄▁▃▁▂▁▁▅▂▂▅▆</td></tr><tr><td>loss</td><td>▁</td></tr><tr><td>val_categorical_accuracy</td><td>▁</td></tr><tr><td>val_loss</td><td>▁</td></tr></table><br/></div><div class=\"wandb-col\"><h3>Run summary:</h3><br/><table class=\"wandb\"><tr><td>categorical_accuracy</td><td>0.8258</td></tr><tr><td>epoch/categorical_accuracy</td><td>0.8258</td></tr><tr><td>epoch/epoch</td><td>49</td></tr><tr><td>epoch/learning_rate</td><td>0.001</td></tr><tr><td>epoch/loss</td><td>0.49719</td></tr><tr><td>epoch/val_categorical_accuracy</td><td>0.59608</td></tr><tr><td>epoch/val_loss</td><td>1.34326</td></tr><tr><td>loss</td><td>0.49719</td></tr><tr><td>val_categorical_accuracy</td><td>0.59608</td></tr><tr><td>val_loss</td><td>1.34326</td></tr></table><br/></div></div>"
      ],
      "text/plain": [
       "<IPython.core.display.HTML object>"
      ]
     },
     "metadata": {},
     "output_type": "display_data"
    },
    {
     "data": {
      "text/html": [
       " View run <strong style=\"color:#cdcd00\">rosy-sweep-4</strong> at: <a href='https://wandb.ai/hysped/hysped-myModel3-sweep-proportional-data/runs/3nl3xuvd' target=\"_blank\">https://wandb.ai/hysped/hysped-myModel3-sweep-proportional-data/runs/3nl3xuvd</a><br/>Synced 4 W&B file(s), 0 media file(s), 0 artifact file(s) and 0 other file(s)"
      ],
      "text/plain": [
       "<IPython.core.display.HTML object>"
      ]
     },
     "metadata": {},
     "output_type": "display_data"
    },
    {
     "data": {
      "text/html": [
       "Find logs at: <code>./wandb/run-20230405_081610-3nl3xuvd/logs</code>"
      ],
      "text/plain": [
       "<IPython.core.display.HTML object>"
      ]
     },
     "metadata": {},
     "output_type": "display_data"
    },
    {
     "name": "stderr",
     "output_type": "stream",
     "text": [
      "\u001b[34m\u001b[1mwandb\u001b[0m: Sweep Agent: Waiting for job.\n",
      "\u001b[34m\u001b[1mwandb\u001b[0m: Job received.\n",
      "\u001b[34m\u001b[1mwandb\u001b[0m: Agent Starting Run: 2o8r7p6m with config:\n",
      "\u001b[34m\u001b[1mwandb\u001b[0m: \tactivation: relu\n",
      "\u001b[34m\u001b[1mwandb\u001b[0m: \tbatch_size: 64\n",
      "\u001b[34m\u001b[1mwandb\u001b[0m: \tdense1: 8\n",
      "\u001b[34m\u001b[1mwandb\u001b[0m: \tdense2: 8\n",
      "\u001b[34m\u001b[1mwandb\u001b[0m: \u001b[33mWARNING\u001b[0m Ignored wandb.init() arg project when running a sweep.\n"
     ]
    },
    {
     "data": {
      "text/html": [
       "wandb version 0.14.0 is available!  To upgrade, please run:\n",
       " $ pip install wandb --upgrade"
      ],
      "text/plain": [
       "<IPython.core.display.HTML object>"
      ]
     },
     "metadata": {},
     "output_type": "display_data"
    },
    {
     "data": {
      "text/html": [
       "Tracking run with wandb version 0.13.10"
      ],
      "text/plain": [
       "<IPython.core.display.HTML object>"
      ]
     },
     "metadata": {},
     "output_type": "display_data"
    },
    {
     "data": {
      "text/html": [
       "Run data is saved locally in <code>/tf/notebooks/wandb/run-20230405_081707-2o8r7p6m</code>"
      ],
      "text/plain": [
       "<IPython.core.display.HTML object>"
      ]
     },
     "metadata": {},
     "output_type": "display_data"
    },
    {
     "data": {
      "text/html": [
       "Syncing run <strong><a href='https://wandb.ai/hysped/hysped-myModel3-sweep-proportional-data/runs/2o8r7p6m' target=\"_blank\">brisk-sweep-5</a></strong> to <a href='https://wandb.ai/hysped/hysped-myModel3-sweep-proportional-data' target=\"_blank\">Weights & Biases</a> (<a href='https://wandb.me/run' target=\"_blank\">docs</a>)<br/>Sweep page: <a href='https://wandb.ai/hysped/hysped-myModel3-sweep-proportional-data/sweeps/xucvp5uf' target=\"_blank\">https://wandb.ai/hysped/hysped-myModel3-sweep-proportional-data/sweeps/xucvp5uf</a>"
      ],
      "text/plain": [
       "<IPython.core.display.HTML object>"
      ]
     },
     "metadata": {},
     "output_type": "display_data"
    },
    {
     "data": {
      "text/html": [
       " View project at <a href='https://wandb.ai/hysped/hysped-myModel3-sweep-proportional-data' target=\"_blank\">https://wandb.ai/hysped/hysped-myModel3-sweep-proportional-data</a>"
      ],
      "text/plain": [
       "<IPython.core.display.HTML object>"
      ]
     },
     "metadata": {},
     "output_type": "display_data"
    },
    {
     "data": {
      "text/html": [
       " View sweep at <a href='https://wandb.ai/hysped/hysped-myModel3-sweep-proportional-data/sweeps/xucvp5uf' target=\"_blank\">https://wandb.ai/hysped/hysped-myModel3-sweep-proportional-data/sweeps/xucvp5uf</a>"
      ],
      "text/plain": [
       "<IPython.core.display.HTML object>"
      ]
     },
     "metadata": {},
     "output_type": "display_data"
    },
    {
     "data": {
      "text/html": [
       " View run at <a href='https://wandb.ai/hysped/hysped-myModel3-sweep-proportional-data/runs/2o8r7p6m' target=\"_blank\">https://wandb.ai/hysped/hysped-myModel3-sweep-proportional-data/runs/2o8r7p6m</a>"
      ],
      "text/plain": [
       "<IPython.core.display.HTML object>"
      ]
     },
     "metadata": {},
     "output_type": "display_data"
    },
    {
     "data": {
      "text/html": [
       "Waiting for W&B process to finish... <strong style=\"color:green\">(success).</strong>"
      ],
      "text/plain": [
       "<IPython.core.display.HTML object>"
      ]
     },
     "metadata": {},
     "output_type": "display_data"
    },
    {
     "data": {
      "application/vnd.jupyter.widget-view+json": {
       "model_id": "201764211a0647c0a40290bfec5db443",
       "version_major": 2,
       "version_minor": 0
      },
      "text/plain": [
       "VBox(children=(Label(value='0.003 MB of 0.008 MB uploaded (0.000 MB deduped)\\r'), FloatProgress(value=0.327898…"
      ]
     },
     "metadata": {},
     "output_type": "display_data"
    },
    {
     "data": {
      "text/html": [
       "<style>\n",
       "    table.wandb td:nth-child(1) { padding: 0 10px; text-align: left ; width: auto;} td:nth-child(2) {text-align: left ; width: 100%}\n",
       "    .wandb-row { display: flex; flex-direction: row; flex-wrap: wrap; justify-content: flex-start; width: 100% }\n",
       "    .wandb-col { display: flex; flex-direction: column; flex-basis: 100%; flex: 1; padding: 10px; }\n",
       "    </style>\n",
       "<div class=\"wandb-row\"><div class=\"wandb-col\"><h3>Run history:</h3><br/><table class=\"wandb\"><tr><td>categorical_accuracy</td><td>▁</td></tr><tr><td>epoch/categorical_accuracy</td><td>▁▅▆▆▇▆▇▇▇▇▇▇▇▇█▇█▇▇▇▇██████████████▇████</td></tr><tr><td>epoch/epoch</td><td>▁▁▁▁▂▂▂▂▂▃▃▃▃▃▃▄▄▄▄▄▅▅▅▅▅▅▆▆▆▆▆▆▇▇▇▇▇███</td></tr><tr><td>epoch/learning_rate</td><td>▁▁▁▁▁▁▁▁▁▁▁▁▁▁▁▁▁▁▁▁▁▁▁▁▁▁▁▁▁▁▁▁▁▁▁▁▁▁▁▁</td></tr><tr><td>epoch/loss</td><td>█▅▄▃▃▃▂▂▂▂▂▂▂▂▁▂▁▂▂▂▂▁▁▁▁▁▁▁▁▁▁▁▁▁▁▂▁▁▁▁</td></tr><tr><td>epoch/val_categorical_accuracy</td><td>▁▂▅▅▇▅▃▅▄▅▅▅▂▃▇▃▅▇▅█▆▅▃█▆▇▅▄█▅▂▆▆▆▂▂▆▇▇▆</td></tr><tr><td>epoch/val_loss</td><td>▂▂▂▂▁▂▃▂▃▂▂▂▂▄▁▅▂▁▂▁▂▃▅▁▂▁▂▃▁▂█▂▁▂▅▅▁▁▁▁</td></tr><tr><td>loss</td><td>▁</td></tr><tr><td>val_categorical_accuracy</td><td>▁</td></tr><tr><td>val_loss</td><td>▁</td></tr></table><br/></div><div class=\"wandb-col\"><h3>Run summary:</h3><br/><table class=\"wandb\"><tr><td>categorical_accuracy</td><td>0.81434</td></tr><tr><td>epoch/categorical_accuracy</td><td>0.81434</td></tr><tr><td>epoch/epoch</td><td>49</td></tr><tr><td>epoch/learning_rate</td><td>0.001</td></tr><tr><td>epoch/loss</td><td>0.49395</td></tr><tr><td>epoch/val_categorical_accuracy</td><td>0.65905</td></tr><tr><td>epoch/val_loss</td><td>0.81529</td></tr><tr><td>loss</td><td>0.49395</td></tr><tr><td>val_categorical_accuracy</td><td>0.65905</td></tr><tr><td>val_loss</td><td>0.81529</td></tr></table><br/></div></div>"
      ],
      "text/plain": [
       "<IPython.core.display.HTML object>"
      ]
     },
     "metadata": {},
     "output_type": "display_data"
    },
    {
     "data": {
      "text/html": [
       " View run <strong style=\"color:#cdcd00\">brisk-sweep-5</strong> at: <a href='https://wandb.ai/hysped/hysped-myModel3-sweep-proportional-data/runs/2o8r7p6m' target=\"_blank\">https://wandb.ai/hysped/hysped-myModel3-sweep-proportional-data/runs/2o8r7p6m</a><br/>Synced 4 W&B file(s), 0 media file(s), 0 artifact file(s) and 0 other file(s)"
      ],
      "text/plain": [
       "<IPython.core.display.HTML object>"
      ]
     },
     "metadata": {},
     "output_type": "display_data"
    },
    {
     "data": {
      "text/html": [
       "Find logs at: <code>./wandb/run-20230405_081707-2o8r7p6m/logs</code>"
      ],
      "text/plain": [
       "<IPython.core.display.HTML object>"
      ]
     },
     "metadata": {},
     "output_type": "display_data"
    },
    {
     "name": "stderr",
     "output_type": "stream",
     "text": [
      "\u001b[34m\u001b[1mwandb\u001b[0m: Agent Starting Run: x77b71r6 with config:\n",
      "\u001b[34m\u001b[1mwandb\u001b[0m: \tactivation: sigmoid\n",
      "\u001b[34m\u001b[1mwandb\u001b[0m: \tbatch_size: 2\n",
      "\u001b[34m\u001b[1mwandb\u001b[0m: \tdense1: 16\n",
      "\u001b[34m\u001b[1mwandb\u001b[0m: \tdense2: 16\n",
      "\u001b[34m\u001b[1mwandb\u001b[0m: \u001b[33mWARNING\u001b[0m Ignored wandb.init() arg project when running a sweep.\n"
     ]
    },
    {
     "data": {
      "text/html": [
       "wandb version 0.14.0 is available!  To upgrade, please run:\n",
       " $ pip install wandb --upgrade"
      ],
      "text/plain": [
       "<IPython.core.display.HTML object>"
      ]
     },
     "metadata": {},
     "output_type": "display_data"
    },
    {
     "data": {
      "text/html": [
       "Tracking run with wandb version 0.13.10"
      ],
      "text/plain": [
       "<IPython.core.display.HTML object>"
      ]
     },
     "metadata": {},
     "output_type": "display_data"
    },
    {
     "data": {
      "text/html": [
       "Run data is saved locally in <code>/tf/notebooks/wandb/run-20230405_081830-x77b71r6</code>"
      ],
      "text/plain": [
       "<IPython.core.display.HTML object>"
      ]
     },
     "metadata": {},
     "output_type": "display_data"
    },
    {
     "data": {
      "text/html": [
       "Syncing run <strong><a href='https://wandb.ai/hysped/hysped-myModel3-sweep-proportional-data/runs/x77b71r6' target=\"_blank\">denim-sweep-6</a></strong> to <a href='https://wandb.ai/hysped/hysped-myModel3-sweep-proportional-data' target=\"_blank\">Weights & Biases</a> (<a href='https://wandb.me/run' target=\"_blank\">docs</a>)<br/>Sweep page: <a href='https://wandb.ai/hysped/hysped-myModel3-sweep-proportional-data/sweeps/xucvp5uf' target=\"_blank\">https://wandb.ai/hysped/hysped-myModel3-sweep-proportional-data/sweeps/xucvp5uf</a>"
      ],
      "text/plain": [
       "<IPython.core.display.HTML object>"
      ]
     },
     "metadata": {},
     "output_type": "display_data"
    },
    {
     "data": {
      "text/html": [
       " View project at <a href='https://wandb.ai/hysped/hysped-myModel3-sweep-proportional-data' target=\"_blank\">https://wandb.ai/hysped/hysped-myModel3-sweep-proportional-data</a>"
      ],
      "text/plain": [
       "<IPython.core.display.HTML object>"
      ]
     },
     "metadata": {},
     "output_type": "display_data"
    },
    {
     "data": {
      "text/html": [
       " View sweep at <a href='https://wandb.ai/hysped/hysped-myModel3-sweep-proportional-data/sweeps/xucvp5uf' target=\"_blank\">https://wandb.ai/hysped/hysped-myModel3-sweep-proportional-data/sweeps/xucvp5uf</a>"
      ],
      "text/plain": [
       "<IPython.core.display.HTML object>"
      ]
     },
     "metadata": {},
     "output_type": "display_data"
    },
    {
     "data": {
      "text/html": [
       " View run at <a href='https://wandb.ai/hysped/hysped-myModel3-sweep-proportional-data/runs/x77b71r6' target=\"_blank\">https://wandb.ai/hysped/hysped-myModel3-sweep-proportional-data/runs/x77b71r6</a>"
      ],
      "text/plain": [
       "<IPython.core.display.HTML object>"
      ]
     },
     "metadata": {},
     "output_type": "display_data"
    },
    {
     "data": {
      "text/html": [
       "Waiting for W&B process to finish... <strong style=\"color:green\">(success).</strong>"
      ],
      "text/plain": [
       "<IPython.core.display.HTML object>"
      ]
     },
     "metadata": {},
     "output_type": "display_data"
    },
    {
     "data": {
      "application/vnd.jupyter.widget-view+json": {
       "model_id": "b2855e0c7ff24281bc2c130749ba69df",
       "version_major": 2,
       "version_minor": 0
      },
      "text/plain": [
       "VBox(children=(Label(value='0.003 MB of 0.008 MB uploaded (0.000 MB deduped)\\r'), FloatProgress(value=0.326956…"
      ]
     },
     "metadata": {},
     "output_type": "display_data"
    },
    {
     "data": {
      "text/html": [
       "<style>\n",
       "    table.wandb td:nth-child(1) { padding: 0 10px; text-align: left ; width: auto;} td:nth-child(2) {text-align: left ; width: 100%}\n",
       "    .wandb-row { display: flex; flex-direction: row; flex-wrap: wrap; justify-content: flex-start; width: 100% }\n",
       "    .wandb-col { display: flex; flex-direction: column; flex-basis: 100%; flex: 1; padding: 10px; }\n",
       "    </style>\n",
       "<div class=\"wandb-row\"><div class=\"wandb-col\"><h3>Run history:</h3><br/><table class=\"wandb\"><tr><td>categorical_accuracy</td><td>▁</td></tr><tr><td>epoch/categorical_accuracy</td><td>▁▃▅▅▆▆▆▆▆▆▆▆▇▇▇▇▇▇▇▇▇▇▇▇▇▇▇▇▇▇▇▇██████▇█</td></tr><tr><td>epoch/epoch</td><td>▁▁▁▁▂▂▂▂▂▃▃▃▃▃▃▄▄▄▄▄▅▅▅▅▅▅▆▆▆▆▆▆▇▇▇▇▇███</td></tr><tr><td>epoch/learning_rate</td><td>▁▁▁▁▁▁▁▁▁▁▁▁▁▁▁▁▁▁▁▁▁▁▁▁▁▁▁▁▁▁▁▁▁▁▁▁▁▁▁▁</td></tr><tr><td>epoch/loss</td><td>█▆▅▅▄▄▃▄▃▃▃▃▃▂▃▂▂▂▂▂▂▂▂▂▂▂▂▂▂▁▂▂▁▁▁▁▁▁▂▁</td></tr><tr><td>epoch/val_categorical_accuracy</td><td>▄▂▄▄▄▁▅▃▃▅█▇▃▆▄▆▅▃▅▅▇▅▇▄▆▇▆▃▅▆▆▆▄▇▄▄▆▆▇▄</td></tr><tr><td>epoch/val_loss</td><td>█▇▅▅▆▇▅▆▄▄▁▂▄▃▃▂▃▆▃▃▁▄▁▅▂▁▂▅▃▂▂▂▃▁▄▃▁▁▁▄</td></tr><tr><td>loss</td><td>▁</td></tr><tr><td>val_categorical_accuracy</td><td>▁</td></tr><tr><td>val_loss</td><td>▁</td></tr></table><br/></div><div class=\"wandb-col\"><h3>Run summary:</h3><br/><table class=\"wandb\"><tr><td>categorical_accuracy</td><td>0.6003</td></tr><tr><td>epoch/categorical_accuracy</td><td>0.6003</td></tr><tr><td>epoch/epoch</td><td>49</td></tr><tr><td>epoch/learning_rate</td><td>0.001</td></tr><tr><td>epoch/loss</td><td>1.05654</td></tr><tr><td>epoch/val_categorical_accuracy</td><td>0.6346</td></tr><tr><td>epoch/val_loss</td><td>0.96348</td></tr><tr><td>loss</td><td>1.05654</td></tr><tr><td>val_categorical_accuracy</td><td>0.6346</td></tr><tr><td>val_loss</td><td>0.96348</td></tr></table><br/></div></div>"
      ],
      "text/plain": [
       "<IPython.core.display.HTML object>"
      ]
     },
     "metadata": {},
     "output_type": "display_data"
    },
    {
     "data": {
      "text/html": [
       " View run <strong style=\"color:#cdcd00\">denim-sweep-6</strong> at: <a href='https://wandb.ai/hysped/hysped-myModel3-sweep-proportional-data/runs/x77b71r6' target=\"_blank\">https://wandb.ai/hysped/hysped-myModel3-sweep-proportional-data/runs/x77b71r6</a><br/>Synced 4 W&B file(s), 0 media file(s), 0 artifact file(s) and 0 other file(s)"
      ],
      "text/plain": [
       "<IPython.core.display.HTML object>"
      ]
     },
     "metadata": {},
     "output_type": "display_data"
    },
    {
     "data": {
      "text/html": [
       "Find logs at: <code>./wandb/run-20230405_081830-x77b71r6/logs</code>"
      ],
      "text/plain": [
       "<IPython.core.display.HTML object>"
      ]
     },
     "metadata": {},
     "output_type": "display_data"
    },
    {
     "name": "stderr",
     "output_type": "stream",
     "text": [
      "\u001b[34m\u001b[1mwandb\u001b[0m: Agent Starting Run: tvipmaew with config:\n",
      "\u001b[34m\u001b[1mwandb\u001b[0m: \tactivation: relu\n",
      "\u001b[34m\u001b[1mwandb\u001b[0m: \tbatch_size: 1\n",
      "\u001b[34m\u001b[1mwandb\u001b[0m: \tdense1: 32\n",
      "\u001b[34m\u001b[1mwandb\u001b[0m: \tdense2: 32\n",
      "\u001b[34m\u001b[1mwandb\u001b[0m: \u001b[33mWARNING\u001b[0m Ignored wandb.init() arg project when running a sweep.\n"
     ]
    },
    {
     "data": {
      "text/html": [
       "wandb version 0.14.0 is available!  To upgrade, please run:\n",
       " $ pip install wandb --upgrade"
      ],
      "text/plain": [
       "<IPython.core.display.HTML object>"
      ]
     },
     "metadata": {},
     "output_type": "display_data"
    },
    {
     "data": {
      "text/html": [
       "Tracking run with wandb version 0.13.10"
      ],
      "text/plain": [
       "<IPython.core.display.HTML object>"
      ]
     },
     "metadata": {},
     "output_type": "display_data"
    },
    {
     "data": {
      "text/html": [
       "Run data is saved locally in <code>/tf/notebooks/wandb/run-20230405_085625-tvipmaew</code>"
      ],
      "text/plain": [
       "<IPython.core.display.HTML object>"
      ]
     },
     "metadata": {},
     "output_type": "display_data"
    },
    {
     "data": {
      "text/html": [
       "Syncing run <strong><a href='https://wandb.ai/hysped/hysped-myModel3-sweep-proportional-data/runs/tvipmaew' target=\"_blank\">royal-sweep-7</a></strong> to <a href='https://wandb.ai/hysped/hysped-myModel3-sweep-proportional-data' target=\"_blank\">Weights & Biases</a> (<a href='https://wandb.me/run' target=\"_blank\">docs</a>)<br/>Sweep page: <a href='https://wandb.ai/hysped/hysped-myModel3-sweep-proportional-data/sweeps/xucvp5uf' target=\"_blank\">https://wandb.ai/hysped/hysped-myModel3-sweep-proportional-data/sweeps/xucvp5uf</a>"
      ],
      "text/plain": [
       "<IPython.core.display.HTML object>"
      ]
     },
     "metadata": {},
     "output_type": "display_data"
    },
    {
     "data": {
      "text/html": [
       " View project at <a href='https://wandb.ai/hysped/hysped-myModel3-sweep-proportional-data' target=\"_blank\">https://wandb.ai/hysped/hysped-myModel3-sweep-proportional-data</a>"
      ],
      "text/plain": [
       "<IPython.core.display.HTML object>"
      ]
     },
     "metadata": {},
     "output_type": "display_data"
    },
    {
     "data": {
      "text/html": [
       " View sweep at <a href='https://wandb.ai/hysped/hysped-myModel3-sweep-proportional-data/sweeps/xucvp5uf' target=\"_blank\">https://wandb.ai/hysped/hysped-myModel3-sweep-proportional-data/sweeps/xucvp5uf</a>"
      ],
      "text/plain": [
       "<IPython.core.display.HTML object>"
      ]
     },
     "metadata": {},
     "output_type": "display_data"
    },
    {
     "data": {
      "text/html": [
       " View run at <a href='https://wandb.ai/hysped/hysped-myModel3-sweep-proportional-data/runs/tvipmaew' target=\"_blank\">https://wandb.ai/hysped/hysped-myModel3-sweep-proportional-data/runs/tvipmaew</a>"
      ],
      "text/plain": [
       "<IPython.core.display.HTML object>"
      ]
     },
     "metadata": {},
     "output_type": "display_data"
    }
   ],
   "source": [
    "project_name = 'hysped-myModel3-sweep-proportional-data'\n",
    "\n",
    "def main():\n",
    "    wandb.init(project=project_name)\n",
    "    model = make_model(\n",
    "        input_shape=(X_train.shape[1], ),\n",
    "        dense1=wandb.config.dense1,\n",
    "        dense2=wandb.config.dense2,\n",
    "        activation=wandb.config.activation,\n",
    "        num_classes=num_classes\n",
    "    )\n",
    "    history = model.fit(\n",
    "        x=X_train,\n",
    "        y=Y_train_1hot,\n",
    "        epochs=50,\n",
    "        validation_data=(X_val, Y_val_1hot),\n",
    "        shuffle=True,\n",
    "        batch_size=wandb.config.batch_size,\n",
    "        callbacks=[\n",
    "            WandbMetricsLogger(),\n",
    "        ],\n",
    "        verbose=0\n",
    "    )\n",
    "    wandb.log(pd.DataFrame(history.history)[-1:].reset_index(drop=True).to_dict(orient='records')[0])\n",
    "\n",
    "# Define the search space\n",
    "sweep_configuration = {\n",
    "    'method': 'random',\n",
    "    'metric': {\n",
    "        'goal': 'maximize',\n",
    "        'name': 'val_categorical_accuracy'\n",
    "    },\n",
    "    'parameters': {\n",
    "        'dense1': {\n",
    "            'values': [2**x for x in range(3,6)]\n",
    "        },\n",
    "        'dense2': {\n",
    "            'values': [2**x for x in range(3,6)]\n",
    "        },\n",
    "        'activation': {\n",
    "            'values': ['relu', 'sigmoid']\n",
    "        },\n",
    "        'batch_size': {\n",
    "            'values': [2**x for x in range(8)]\n",
    "        }\n",
    "     }\n",
    "}\n",
    "\n",
    "# Start the sweep\n",
    "sweep_id = wandb.sweep(sweep=sweep_configuration, project=project_name)\n",
    "wandb.agent(sweep_id, function=main, count=25)\n",
    "wandb.finish()"
   ]
  },
  {
   "cell_type": "code",
   "execution_count": null,
   "id": "fe1422cb-a8e7-4864-a728-bbcce856c238",
   "metadata": {},
   "outputs": [],
   "source": []
  }
 ],
 "metadata": {
  "kernelspec": {
   "display_name": "Python 3",
   "language": "python",
   "name": "python3"
  },
  "language_info": {
   "codemirror_mode": {
    "name": "ipython",
    "version": 3
   },
   "file_extension": ".py",
   "mimetype": "text/x-python",
   "name": "python",
   "nbconvert_exporter": "python",
   "pygments_lexer": "ipython3",
   "version": "3.8.10"
  }
 },
 "nbformat": 4,
 "nbformat_minor": 5
}
