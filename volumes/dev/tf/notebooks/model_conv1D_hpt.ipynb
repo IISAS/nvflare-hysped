{
 "cells": [
  {
   "cell_type": "code",
   "execution_count": 1,
   "id": "e425699b-0beb-4bde-a1c0-2ce572f5bece",
   "metadata": {
    "tags": []
   },
   "outputs": [
    {
     "name": "stderr",
     "output_type": "stream",
     "text": [
      "\u001b[34m\u001b[1mwandb\u001b[0m: Currently logged in as: \u001b[33mstevo\u001b[0m (\u001b[33mhysped\u001b[0m). Use \u001b[1m`wandb login --relogin`\u001b[0m to force relogin\n"
     ]
    }
   ],
   "source": [
    "import os\n",
    "# os.environ[\"CUDA_VISIBLE_DEVICES\"] = '-1'\n",
    "\n",
    "import sys\n",
    "\n",
    "from importlib import reload\n",
    "\n",
    "import logging\n",
    "reload(logging)\n",
    "logging.basicConfig(\n",
    "    format='%(asctime)s | %(name)s | %(levelname)s : %(message)s',\n",
    "    level=logging.INFO,\n",
    "    stream=sys.stdout\n",
    ")\n",
    "\n",
    "logger = logging.getLogger('hysped')\n",
    "logger.setLevel(logging.DEBUG)\n",
    "\n",
    "import contextily as ctx\n",
    "import geocube\n",
    "import geopandas as gpd\n",
    "import json\n",
    "import matplotlib.pyplot as plt\n",
    "import matplotlib.ticker as mticker\n",
    "import numpy as np\n",
    "import pandas as pd\n",
    "import re\n",
    "import seaborn as sns\n",
    "import shapely\n",
    "import tensorflow as tf\n",
    "import zipfile\n",
    "\n",
    "import wandb\n",
    "wandb.login()\n",
    "\n",
    "from functools import partial\n",
    "from geocube.api.core import make_geocube\n",
    "from geocube.rasterize import rasterize_points_griddata, rasterize_points_radial\n",
    "from IPython.display import JSON, HTML\n",
    "from keras.utils.np_utils import to_categorical\n",
    "from matplotlib.colors import to_rgba\n",
    "from shapely.geometry import box, mapping\n",
    "from sklearn.metrics import confusion_matrix, ConfusionMatrixDisplay\n",
    "from sklearn.preprocessing import LabelEncoder\n",
    "from tensorflow.keras import layers\n",
    "from tqdm.notebook import trange, tqdm\n",
    "from wandb.keras import WandbMetricsLogger, WandbEvalCallback\n",
    "\n",
    "\n",
    "gpus = tf.config.list_physical_devices('GPU')\n",
    "if gpus:\n",
    "    # configure utilization of GPUs\n",
    "    try:\n",
    "        for gpu in gpus:\n",
    "            # memory growth setting\n",
    "            tf.config.experimental.set_memory_growth(gpu, True)\n",
    "            tf.config.set_logical_device_configuration(\n",
    "                gpu,\n",
    "                [tf.config.LogicalDeviceConfiguration(memory_limit=256)]\n",
    "            )\n",
    "    except RuntimeError as e:\n",
    "        # Virtual devices must be set before GPUs have been initialized\n",
    "        module_logger.error(e)\n",
    "\n",
    "\n",
    "# Make numpy values easier to read.\n",
    "np.set_printoptions(precision=6, suppress=True)\n",
    "\n",
    "%matplotlib inline"
   ]
  },
  {
   "cell_type": "code",
   "execution_count": 2,
   "id": "abab32e8-6f14-4780-b4e0-e1bb7562fdbd",
   "metadata": {
    "tags": []
   },
   "outputs": [
    {
     "data": {
      "application/json": {
       "crs": "EPSG:5514",
       "data": "Sverepec_spolu.zip",
       "data_dir": "../data",
       "data_sampling": true,
       "figsize": [
        12,
        12
       ]
      },
      "text/plain": [
       "<IPython.core.display.JSON object>"
      ]
     },
     "metadata": {
      "application/json": {
       "expanded": false,
       "root": "root"
      }
     },
     "output_type": "display_data"
    }
   ],
   "source": [
    "cfg = dict(\n",
    "    crs = 'EPSG:5514',\n",
    "    figsize = (12,12),\n",
    "    data_dir = os.path.join('..', 'data'),\n",
    "    data = 'Sverepec_spolu.zip',\n",
    "    data_sampling = True\n",
    ")\n",
    "display(JSON(cfg))"
   ]
  },
  {
   "cell_type": "code",
   "execution_count": 3,
   "id": "603ce378-b8a8-4d81-8116-2d26b4d48023",
   "metadata": {
    "tags": []
   },
   "outputs": [],
   "source": [
    "def split_df(df:pd.DataFrame, split:float=0.7) -> pd.DataFrame:\n",
    "    rows = df.shape[0]\n",
    "    at = int(split * rows)\n",
    "    return df[:at], df[at:]\n",
    "\n",
    "def nsplit_df(df:pd.DataFrame, splits:[float]=[0.7]) -> pd.DataFrame:\n",
    "    rows = df.shape[0]\n",
    "    df_splits = []\n",
    "    beg = 0\n",
    "    for split in splits:\n",
    "        at = int(split * rows)\n",
    "        df_splits.append(df[beg:at])\n",
    "        beg = at\n",
    "    df_splits.append(df[beg:])\n",
    "    return df_splits\n",
    "\n",
    "def predict_model(m, X, Y, label_encoder):\n",
    "    Y_pred = m.predict(X)\n",
    "    Y_pred = np.argmax(Y_pred, axis=1)\n",
    "    Y_pred = label_encoder.inverse_transform(Y_pred)\n",
    "    Y_pred = pd.DataFrame(Y_pred, columns=['Y_pred'])\n",
    "    return Y_pred\n",
    "\n",
    "def print_cm(ax, cm, labels, title='Confusion Matrix'):\n",
    "    sns.heatmap(\n",
    "        cm,\n",
    "        annot=True,\n",
    "        fmt='g',\n",
    "        ax=ax,\n",
    "        cmap='Blues',\n",
    "        # square=True,\n",
    "        xticklabels=labels,\n",
    "        yticklabels=labels,\n",
    "        linewidths=1,\n",
    "        # annot_kws={'size': 12}\n",
    "    )\n",
    "\n",
    "    ax.set_title(title)\n",
    "    ax.set_xlabel('Predicted label')\n",
    "    ax.set_ylabel('True label')\n",
    "\n",
    "    plt.xticks(rotation=90)\n",
    "    plt.yticks(rotation=0)\n",
    "    plt.tight_layout()\n",
    "    \n",
    "def print_hist(df: pd.DataFrame, col_name='DRUH_DR', stat='count', title=None):\n",
    "    g = sns.histplot(df[col_name], stat=stat)\n",
    "    g.xaxis.set_major_locator(mticker.FixedLocator(g.get_xticks()))\n",
    "    g.set_xticklabels(g.get_xticklabels(), rotation=90)\n",
    "    if title != None:\n",
    "        plt.title(title)\n",
    "    plt.tight_layout()\n",
    "    plt.show()"
   ]
  },
  {
   "cell_type": "markdown",
   "id": "18b495d4-aad9-449c-baf0-e237da0352aa",
   "metadata": {
    "tags": []
   },
   "source": [
    "# Preprocess data"
   ]
  },
  {
   "cell_type": "markdown",
   "id": "642815ad-1a1c-47fb-bcc3-1ff64b3e303c",
   "metadata": {
    "tags": []
   },
   "source": [
    "## Load"
   ]
  },
  {
   "cell_type": "code",
   "execution_count": 4,
   "id": "6ac6163b-f203-4cab-87dd-1998729f211d",
   "metadata": {
    "tags": []
   },
   "outputs": [
    {
     "data": {
      "text/html": [
       "<h2>Data preview:</h2>"
      ],
      "text/plain": [
       "<IPython.core.display.HTML object>"
      ]
     },
     "metadata": {},
     "output_type": "display_data"
    },
    {
     "data": {
      "text/html": [
       "<div>\n",
       "<style scoped>\n",
       "    .dataframe tbody tr th:only-of-type {\n",
       "        vertical-align: middle;\n",
       "    }\n",
       "\n",
       "    .dataframe tbody tr th {\n",
       "        vertical-align: top;\n",
       "    }\n",
       "\n",
       "    .dataframe thead th {\n",
       "        text-align: right;\n",
       "    }\n",
       "</style>\n",
       "<table border=\"1\" class=\"dataframe\">\n",
       "  <thead>\n",
       "    <tr style=\"text-align: right;\">\n",
       "      <th></th>\n",
       "      <th>b1_12_10_2</th>\n",
       "      <th>b2_12_10_2</th>\n",
       "      <th>b3_12_10_2</th>\n",
       "      <th>b4_12_10_2</th>\n",
       "      <th>b5_12_10_2</th>\n",
       "      <th>b6_12_10_2</th>\n",
       "      <th>b7_12_10_2</th>\n",
       "      <th>b8_12_10_2</th>\n",
       "      <th>b9_12_10_2</th>\n",
       "      <th>b10_12_10_</th>\n",
       "      <th>...</th>\n",
       "      <th>b178_12_10</th>\n",
       "      <th>b179_12_10</th>\n",
       "      <th>b180_12_10</th>\n",
       "      <th>b181_12_10</th>\n",
       "      <th>b182_12_10</th>\n",
       "      <th>b183_12_10</th>\n",
       "      <th>b184_12_10</th>\n",
       "      <th>b185_12_10</th>\n",
       "      <th>b186_12_10</th>\n",
       "      <th>DRUH_DR</th>\n",
       "    </tr>\n",
       "  </thead>\n",
       "  <tbody>\n",
       "    <tr>\n",
       "      <th>0</th>\n",
       "      <td>0.002312</td>\n",
       "      <td>0.002194</td>\n",
       "      <td>0.002344</td>\n",
       "      <td>0.002613</td>\n",
       "      <td>0.002497</td>\n",
       "      <td>0.002717</td>\n",
       "      <td>0.002706</td>\n",
       "      <td>0.002898</td>\n",
       "      <td>0.002586</td>\n",
       "      <td>0.003052</td>\n",
       "      <td>...</td>\n",
       "      <td>0.046049</td>\n",
       "      <td>0.043585</td>\n",
       "      <td>0.043107</td>\n",
       "      <td>0.045929</td>\n",
       "      <td>0.051554</td>\n",
       "      <td>0.052172</td>\n",
       "      <td>0.054623</td>\n",
       "      <td>0.054570</td>\n",
       "      <td>0.054656</td>\n",
       "      <td>CR</td>\n",
       "    </tr>\n",
       "    <tr>\n",
       "      <th>1</th>\n",
       "      <td>0.002277</td>\n",
       "      <td>0.002337</td>\n",
       "      <td>0.002361</td>\n",
       "      <td>0.002488</td>\n",
       "      <td>0.002334</td>\n",
       "      <td>0.002713</td>\n",
       "      <td>0.002796</td>\n",
       "      <td>0.002779</td>\n",
       "      <td>0.002748</td>\n",
       "      <td>0.003034</td>\n",
       "      <td>...</td>\n",
       "      <td>0.042515</td>\n",
       "      <td>0.040856</td>\n",
       "      <td>0.039885</td>\n",
       "      <td>0.043333</td>\n",
       "      <td>0.047781</td>\n",
       "      <td>0.048725</td>\n",
       "      <td>0.047153</td>\n",
       "      <td>0.050167</td>\n",
       "      <td>0.052182</td>\n",
       "      <td>CR</td>\n",
       "    </tr>\n",
       "    <tr>\n",
       "      <th>2</th>\n",
       "      <td>0.002243</td>\n",
       "      <td>0.002479</td>\n",
       "      <td>0.002402</td>\n",
       "      <td>0.002322</td>\n",
       "      <td>0.002627</td>\n",
       "      <td>0.002943</td>\n",
       "      <td>0.002809</td>\n",
       "      <td>0.002854</td>\n",
       "      <td>0.002725</td>\n",
       "      <td>0.003096</td>\n",
       "      <td>...</td>\n",
       "      <td>0.044127</td>\n",
       "      <td>0.042798</td>\n",
       "      <td>0.042160</td>\n",
       "      <td>0.042548</td>\n",
       "      <td>0.048506</td>\n",
       "      <td>0.049747</td>\n",
       "      <td>0.050620</td>\n",
       "      <td>0.051325</td>\n",
       "      <td>0.054525</td>\n",
       "      <td>CR</td>\n",
       "    </tr>\n",
       "    <tr>\n",
       "      <th>3</th>\n",
       "      <td>0.001883</td>\n",
       "      <td>0.002045</td>\n",
       "      <td>0.002057</td>\n",
       "      <td>0.001970</td>\n",
       "      <td>0.002191</td>\n",
       "      <td>0.002052</td>\n",
       "      <td>0.002102</td>\n",
       "      <td>0.001991</td>\n",
       "      <td>0.001920</td>\n",
       "      <td>0.002308</td>\n",
       "      <td>...</td>\n",
       "      <td>0.035453</td>\n",
       "      <td>0.032728</td>\n",
       "      <td>0.033034</td>\n",
       "      <td>0.034035</td>\n",
       "      <td>0.037514</td>\n",
       "      <td>0.040421</td>\n",
       "      <td>0.040852</td>\n",
       "      <td>0.040839</td>\n",
       "      <td>0.042109</td>\n",
       "      <td>CR</td>\n",
       "    </tr>\n",
       "    <tr>\n",
       "      <th>4</th>\n",
       "      <td>0.002193</td>\n",
       "      <td>0.001915</td>\n",
       "      <td>0.002164</td>\n",
       "      <td>0.002090</td>\n",
       "      <td>0.002031</td>\n",
       "      <td>0.002108</td>\n",
       "      <td>0.002084</td>\n",
       "      <td>0.002123</td>\n",
       "      <td>0.001950</td>\n",
       "      <td>0.002291</td>\n",
       "      <td>...</td>\n",
       "      <td>0.026016</td>\n",
       "      <td>0.025324</td>\n",
       "      <td>0.024879</td>\n",
       "      <td>0.026462</td>\n",
       "      <td>0.029662</td>\n",
       "      <td>0.030414</td>\n",
       "      <td>0.031456</td>\n",
       "      <td>0.031279</td>\n",
       "      <td>0.032800</td>\n",
       "      <td>CR</td>\n",
       "    </tr>\n",
       "    <tr>\n",
       "      <th>...</th>\n",
       "      <td>...</td>\n",
       "      <td>...</td>\n",
       "      <td>...</td>\n",
       "      <td>...</td>\n",
       "      <td>...</td>\n",
       "      <td>...</td>\n",
       "      <td>...</td>\n",
       "      <td>...</td>\n",
       "      <td>...</td>\n",
       "      <td>...</td>\n",
       "      <td>...</td>\n",
       "      <td>...</td>\n",
       "      <td>...</td>\n",
       "      <td>...</td>\n",
       "      <td>...</td>\n",
       "      <td>...</td>\n",
       "      <td>...</td>\n",
       "      <td>...</td>\n",
       "      <td>...</td>\n",
       "      <td>...</td>\n",
       "      <td>...</td>\n",
       "    </tr>\n",
       "    <tr>\n",
       "      <th>33715</th>\n",
       "      <td>0.002469</td>\n",
       "      <td>0.002863</td>\n",
       "      <td>0.003135</td>\n",
       "      <td>0.003027</td>\n",
       "      <td>0.003056</td>\n",
       "      <td>0.003230</td>\n",
       "      <td>0.003328</td>\n",
       "      <td>0.003523</td>\n",
       "      <td>0.003396</td>\n",
       "      <td>0.003746</td>\n",
       "      <td>...</td>\n",
       "      <td>0.029615</td>\n",
       "      <td>0.028368</td>\n",
       "      <td>0.026700</td>\n",
       "      <td>0.027315</td>\n",
       "      <td>0.031556</td>\n",
       "      <td>0.033276</td>\n",
       "      <td>0.032708</td>\n",
       "      <td>0.033844</td>\n",
       "      <td>0.033287</td>\n",
       "      <td>BR</td>\n",
       "    </tr>\n",
       "    <tr>\n",
       "      <th>33716</th>\n",
       "      <td>0.001235</td>\n",
       "      <td>0.000966</td>\n",
       "      <td>0.000953</td>\n",
       "      <td>0.001050</td>\n",
       "      <td>0.000891</td>\n",
       "      <td>0.001143</td>\n",
       "      <td>0.000930</td>\n",
       "      <td>0.001075</td>\n",
       "      <td>0.000944</td>\n",
       "      <td>0.001074</td>\n",
       "      <td>...</td>\n",
       "      <td>0.006762</td>\n",
       "      <td>0.007508</td>\n",
       "      <td>0.006300</td>\n",
       "      <td>0.007368</td>\n",
       "      <td>0.007559</td>\n",
       "      <td>0.008111</td>\n",
       "      <td>0.009299</td>\n",
       "      <td>0.008149</td>\n",
       "      <td>0.008633</td>\n",
       "      <td>BR</td>\n",
       "    </tr>\n",
       "    <tr>\n",
       "      <th>33717</th>\n",
       "      <td>0.001709</td>\n",
       "      <td>0.001565</td>\n",
       "      <td>0.001225</td>\n",
       "      <td>0.001534</td>\n",
       "      <td>0.001722</td>\n",
       "      <td>0.002060</td>\n",
       "      <td>0.001738</td>\n",
       "      <td>0.001615</td>\n",
       "      <td>0.001751</td>\n",
       "      <td>0.002011</td>\n",
       "      <td>...</td>\n",
       "      <td>0.026855</td>\n",
       "      <td>0.025384</td>\n",
       "      <td>0.025439</td>\n",
       "      <td>0.025496</td>\n",
       "      <td>0.027390</td>\n",
       "      <td>0.029442</td>\n",
       "      <td>0.033317</td>\n",
       "      <td>0.032171</td>\n",
       "      <td>0.032443</td>\n",
       "      <td>BR</td>\n",
       "    </tr>\n",
       "    <tr>\n",
       "      <th>33718</th>\n",
       "      <td>0.001823</td>\n",
       "      <td>0.001716</td>\n",
       "      <td>0.001534</td>\n",
       "      <td>0.001772</td>\n",
       "      <td>0.001997</td>\n",
       "      <td>0.002358</td>\n",
       "      <td>0.002048</td>\n",
       "      <td>0.001988</td>\n",
       "      <td>0.001989</td>\n",
       "      <td>0.002377</td>\n",
       "      <td>...</td>\n",
       "      <td>0.029279</td>\n",
       "      <td>0.027654</td>\n",
       "      <td>0.027549</td>\n",
       "      <td>0.027910</td>\n",
       "      <td>0.030475</td>\n",
       "      <td>0.032133</td>\n",
       "      <td>0.035963</td>\n",
       "      <td>0.035193</td>\n",
       "      <td>0.035305</td>\n",
       "      <td>BR</td>\n",
       "    </tr>\n",
       "    <tr>\n",
       "      <th>33719</th>\n",
       "      <td>0.001937</td>\n",
       "      <td>0.001867</td>\n",
       "      <td>0.001843</td>\n",
       "      <td>0.002009</td>\n",
       "      <td>0.002272</td>\n",
       "      <td>0.002657</td>\n",
       "      <td>0.002358</td>\n",
       "      <td>0.002361</td>\n",
       "      <td>0.002226</td>\n",
       "      <td>0.002743</td>\n",
       "      <td>...</td>\n",
       "      <td>0.031703</td>\n",
       "      <td>0.029924</td>\n",
       "      <td>0.029659</td>\n",
       "      <td>0.030325</td>\n",
       "      <td>0.033560</td>\n",
       "      <td>0.034823</td>\n",
       "      <td>0.038610</td>\n",
       "      <td>0.038214</td>\n",
       "      <td>0.038167</td>\n",
       "      <td>BR</td>\n",
       "    </tr>\n",
       "  </tbody>\n",
       "</table>\n",
       "<p>33720 rows × 187 columns</p>\n",
       "</div>"
      ],
      "text/plain": [
       "       b1_12_10_2  b2_12_10_2  b3_12_10_2  b4_12_10_2  b5_12_10_2  b6_12_10_2  \\\n",
       "0        0.002312    0.002194    0.002344    0.002613    0.002497    0.002717   \n",
       "1        0.002277    0.002337    0.002361    0.002488    0.002334    0.002713   \n",
       "2        0.002243    0.002479    0.002402    0.002322    0.002627    0.002943   \n",
       "3        0.001883    0.002045    0.002057    0.001970    0.002191    0.002052   \n",
       "4        0.002193    0.001915    0.002164    0.002090    0.002031    0.002108   \n",
       "...           ...         ...         ...         ...         ...         ...   \n",
       "33715    0.002469    0.002863    0.003135    0.003027    0.003056    0.003230   \n",
       "33716    0.001235    0.000966    0.000953    0.001050    0.000891    0.001143   \n",
       "33717    0.001709    0.001565    0.001225    0.001534    0.001722    0.002060   \n",
       "33718    0.001823    0.001716    0.001534    0.001772    0.001997    0.002358   \n",
       "33719    0.001937    0.001867    0.001843    0.002009    0.002272    0.002657   \n",
       "\n",
       "       b7_12_10_2  b8_12_10_2  b9_12_10_2  b10_12_10_  ...  b178_12_10  \\\n",
       "0        0.002706    0.002898    0.002586    0.003052  ...    0.046049   \n",
       "1        0.002796    0.002779    0.002748    0.003034  ...    0.042515   \n",
       "2        0.002809    0.002854    0.002725    0.003096  ...    0.044127   \n",
       "3        0.002102    0.001991    0.001920    0.002308  ...    0.035453   \n",
       "4        0.002084    0.002123    0.001950    0.002291  ...    0.026016   \n",
       "...           ...         ...         ...         ...  ...         ...   \n",
       "33715    0.003328    0.003523    0.003396    0.003746  ...    0.029615   \n",
       "33716    0.000930    0.001075    0.000944    0.001074  ...    0.006762   \n",
       "33717    0.001738    0.001615    0.001751    0.002011  ...    0.026855   \n",
       "33718    0.002048    0.001988    0.001989    0.002377  ...    0.029279   \n",
       "33719    0.002358    0.002361    0.002226    0.002743  ...    0.031703   \n",
       "\n",
       "       b179_12_10  b180_12_10  b181_12_10  b182_12_10  b183_12_10  b184_12_10  \\\n",
       "0        0.043585    0.043107    0.045929    0.051554    0.052172    0.054623   \n",
       "1        0.040856    0.039885    0.043333    0.047781    0.048725    0.047153   \n",
       "2        0.042798    0.042160    0.042548    0.048506    0.049747    0.050620   \n",
       "3        0.032728    0.033034    0.034035    0.037514    0.040421    0.040852   \n",
       "4        0.025324    0.024879    0.026462    0.029662    0.030414    0.031456   \n",
       "...           ...         ...         ...         ...         ...         ...   \n",
       "33715    0.028368    0.026700    0.027315    0.031556    0.033276    0.032708   \n",
       "33716    0.007508    0.006300    0.007368    0.007559    0.008111    0.009299   \n",
       "33717    0.025384    0.025439    0.025496    0.027390    0.029442    0.033317   \n",
       "33718    0.027654    0.027549    0.027910    0.030475    0.032133    0.035963   \n",
       "33719    0.029924    0.029659    0.030325    0.033560    0.034823    0.038610   \n",
       "\n",
       "       b185_12_10  b186_12_10  DRUH_DR  \n",
       "0        0.054570    0.054656       CR  \n",
       "1        0.050167    0.052182       CR  \n",
       "2        0.051325    0.054525       CR  \n",
       "3        0.040839    0.042109       CR  \n",
       "4        0.031279    0.032800       CR  \n",
       "...           ...         ...      ...  \n",
       "33715    0.033844    0.033287       BR  \n",
       "33716    0.008149    0.008633       BR  \n",
       "33717    0.032171    0.032443       BR  \n",
       "33718    0.035193    0.035305       BR  \n",
       "33719    0.038214    0.038167       BR  \n",
       "\n",
       "[33720 rows x 187 columns]"
      ]
     },
     "metadata": {},
     "output_type": "display_data"
    },
    {
     "data": {
      "text/html": [
       "<hr>"
      ],
      "text/plain": [
       "<IPython.core.display.HTML object>"
      ]
     },
     "metadata": {},
     "output_type": "display_data"
    },
    {
     "data": {
      "text/html": [
       "<h2>Data statistics:</h2>"
      ],
      "text/plain": [
       "<IPython.core.display.HTML object>"
      ]
     },
     "metadata": {},
     "output_type": "display_data"
    },
    {
     "data": {
      "text/html": [
       "<div>\n",
       "<style scoped>\n",
       "    .dataframe tbody tr th:only-of-type {\n",
       "        vertical-align: middle;\n",
       "    }\n",
       "\n",
       "    .dataframe tbody tr th {\n",
       "        vertical-align: top;\n",
       "    }\n",
       "\n",
       "    .dataframe thead th {\n",
       "        text-align: right;\n",
       "    }\n",
       "</style>\n",
       "<table border=\"1\" class=\"dataframe\">\n",
       "  <thead>\n",
       "    <tr style=\"text-align: right;\">\n",
       "      <th></th>\n",
       "      <th>b1_12_10_2</th>\n",
       "      <th>b2_12_10_2</th>\n",
       "      <th>b3_12_10_2</th>\n",
       "      <th>b4_12_10_2</th>\n",
       "      <th>b5_12_10_2</th>\n",
       "      <th>b6_12_10_2</th>\n",
       "      <th>b7_12_10_2</th>\n",
       "      <th>b8_12_10_2</th>\n",
       "      <th>b9_12_10_2</th>\n",
       "      <th>b10_12_10_</th>\n",
       "      <th>...</th>\n",
       "      <th>b177_12_10</th>\n",
       "      <th>b178_12_10</th>\n",
       "      <th>b179_12_10</th>\n",
       "      <th>b180_12_10</th>\n",
       "      <th>b181_12_10</th>\n",
       "      <th>b182_12_10</th>\n",
       "      <th>b183_12_10</th>\n",
       "      <th>b184_12_10</th>\n",
       "      <th>b185_12_10</th>\n",
       "      <th>b186_12_10</th>\n",
       "    </tr>\n",
       "  </thead>\n",
       "  <tbody>\n",
       "    <tr>\n",
       "      <th>count</th>\n",
       "      <td>33720.000000</td>\n",
       "      <td>33720.000000</td>\n",
       "      <td>33720.000000</td>\n",
       "      <td>33720.000000</td>\n",
       "      <td>33720.000000</td>\n",
       "      <td>33720.000000</td>\n",
       "      <td>33720.000000</td>\n",
       "      <td>33720.000000</td>\n",
       "      <td>33720.000000</td>\n",
       "      <td>33720.000000</td>\n",
       "      <td>...</td>\n",
       "      <td>33720.000000</td>\n",
       "      <td>33720.000000</td>\n",
       "      <td>33720.000000</td>\n",
       "      <td>33720.000000</td>\n",
       "      <td>33720.000000</td>\n",
       "      <td>33720.000000</td>\n",
       "      <td>33720.000000</td>\n",
       "      <td>33720.000000</td>\n",
       "      <td>33720.000000</td>\n",
       "      <td>33720.000000</td>\n",
       "    </tr>\n",
       "    <tr>\n",
       "      <th>mean</th>\n",
       "      <td>0.002247</td>\n",
       "      <td>0.002304</td>\n",
       "      <td>0.002430</td>\n",
       "      <td>0.002565</td>\n",
       "      <td>0.002615</td>\n",
       "      <td>0.002691</td>\n",
       "      <td>0.002687</td>\n",
       "      <td>0.002638</td>\n",
       "      <td>0.002487</td>\n",
       "      <td>0.002943</td>\n",
       "      <td>...</td>\n",
       "      <td>0.024226</td>\n",
       "      <td>0.029662</td>\n",
       "      <td>0.028207</td>\n",
       "      <td>0.027531</td>\n",
       "      <td>0.029403</td>\n",
       "      <td>0.031902</td>\n",
       "      <td>0.033641</td>\n",
       "      <td>0.034560</td>\n",
       "      <td>0.035118</td>\n",
       "      <td>0.035639</td>\n",
       "    </tr>\n",
       "    <tr>\n",
       "      <th>std</th>\n",
       "      <td>0.000882</td>\n",
       "      <td>0.000927</td>\n",
       "      <td>0.000999</td>\n",
       "      <td>0.001066</td>\n",
       "      <td>0.001103</td>\n",
       "      <td>0.001149</td>\n",
       "      <td>0.001161</td>\n",
       "      <td>0.001158</td>\n",
       "      <td>0.001098</td>\n",
       "      <td>0.001331</td>\n",
       "      <td>...</td>\n",
       "      <td>0.014980</td>\n",
       "      <td>0.018450</td>\n",
       "      <td>0.017572</td>\n",
       "      <td>0.017085</td>\n",
       "      <td>0.018232</td>\n",
       "      <td>0.019761</td>\n",
       "      <td>0.020832</td>\n",
       "      <td>0.021402</td>\n",
       "      <td>0.021732</td>\n",
       "      <td>0.022028</td>\n",
       "    </tr>\n",
       "    <tr>\n",
       "      <th>min</th>\n",
       "      <td>0.000369</td>\n",
       "      <td>0.000332</td>\n",
       "      <td>0.000345</td>\n",
       "      <td>0.000441</td>\n",
       "      <td>0.000444</td>\n",
       "      <td>0.000410</td>\n",
       "      <td>0.000456</td>\n",
       "      <td>0.000441</td>\n",
       "      <td>0.000372</td>\n",
       "      <td>0.000461</td>\n",
       "      <td>...</td>\n",
       "      <td>0.000646</td>\n",
       "      <td>0.000580</td>\n",
       "      <td>0.000697</td>\n",
       "      <td>0.000635</td>\n",
       "      <td>0.000652</td>\n",
       "      <td>0.000638</td>\n",
       "      <td>0.000869</td>\n",
       "      <td>0.000687</td>\n",
       "      <td>0.001013</td>\n",
       "      <td>0.000771</td>\n",
       "    </tr>\n",
       "    <tr>\n",
       "      <th>25%</th>\n",
       "      <td>0.001588</td>\n",
       "      <td>0.001611</td>\n",
       "      <td>0.001675</td>\n",
       "      <td>0.001761</td>\n",
       "      <td>0.001775</td>\n",
       "      <td>0.001806</td>\n",
       "      <td>0.001789</td>\n",
       "      <td>0.001735</td>\n",
       "      <td>0.001632</td>\n",
       "      <td>0.001898</td>\n",
       "      <td>...</td>\n",
       "      <td>0.011574</td>\n",
       "      <td>0.014084</td>\n",
       "      <td>0.013299</td>\n",
       "      <td>0.013060</td>\n",
       "      <td>0.013952</td>\n",
       "      <td>0.015179</td>\n",
       "      <td>0.016041</td>\n",
       "      <td>0.016421</td>\n",
       "      <td>0.016770</td>\n",
       "      <td>0.016946</td>\n",
       "    </tr>\n",
       "    <tr>\n",
       "      <th>50%</th>\n",
       "      <td>0.002207</td>\n",
       "      <td>0.002261</td>\n",
       "      <td>0.002381</td>\n",
       "      <td>0.002520</td>\n",
       "      <td>0.002568</td>\n",
       "      <td>0.002650</td>\n",
       "      <td>0.002657</td>\n",
       "      <td>0.002603</td>\n",
       "      <td>0.002462</td>\n",
       "      <td>0.002909</td>\n",
       "      <td>...</td>\n",
       "      <td>0.022414</td>\n",
       "      <td>0.027441</td>\n",
       "      <td>0.026038</td>\n",
       "      <td>0.025482</td>\n",
       "      <td>0.027207</td>\n",
       "      <td>0.029539</td>\n",
       "      <td>0.031093</td>\n",
       "      <td>0.031970</td>\n",
       "      <td>0.032546</td>\n",
       "      <td>0.033004</td>\n",
       "    </tr>\n",
       "    <tr>\n",
       "      <th>75%</th>\n",
       "      <td>0.002824</td>\n",
       "      <td>0.002898</td>\n",
       "      <td>0.003079</td>\n",
       "      <td>0.003261</td>\n",
       "      <td>0.003335</td>\n",
       "      <td>0.003446</td>\n",
       "      <td>0.003457</td>\n",
       "      <td>0.003407</td>\n",
       "      <td>0.003230</td>\n",
       "      <td>0.003837</td>\n",
       "      <td>...</td>\n",
       "      <td>0.036040</td>\n",
       "      <td>0.044239</td>\n",
       "      <td>0.042118</td>\n",
       "      <td>0.041040</td>\n",
       "      <td>0.043859</td>\n",
       "      <td>0.047575</td>\n",
       "      <td>0.050114</td>\n",
       "      <td>0.051479</td>\n",
       "      <td>0.052331</td>\n",
       "      <td>0.053096</td>\n",
       "    </tr>\n",
       "    <tr>\n",
       "      <th>max</th>\n",
       "      <td>0.005978</td>\n",
       "      <td>0.006260</td>\n",
       "      <td>0.006729</td>\n",
       "      <td>0.007038</td>\n",
       "      <td>0.007524</td>\n",
       "      <td>0.007449</td>\n",
       "      <td>0.007360</td>\n",
       "      <td>0.007368</td>\n",
       "      <td>0.006909</td>\n",
       "      <td>0.008184</td>\n",
       "      <td>...</td>\n",
       "      <td>0.066931</td>\n",
       "      <td>0.082097</td>\n",
       "      <td>0.078523</td>\n",
       "      <td>0.076033</td>\n",
       "      <td>0.080653</td>\n",
       "      <td>0.085611</td>\n",
       "      <td>0.091917</td>\n",
       "      <td>0.093709</td>\n",
       "      <td>0.094180</td>\n",
       "      <td>0.095604</td>\n",
       "    </tr>\n",
       "  </tbody>\n",
       "</table>\n",
       "<p>8 rows × 186 columns</p>\n",
       "</div>"
      ],
      "text/plain": [
       "         b1_12_10_2    b2_12_10_2    b3_12_10_2    b4_12_10_2    b5_12_10_2  \\\n",
       "count  33720.000000  33720.000000  33720.000000  33720.000000  33720.000000   \n",
       "mean       0.002247      0.002304      0.002430      0.002565      0.002615   \n",
       "std        0.000882      0.000927      0.000999      0.001066      0.001103   \n",
       "min        0.000369      0.000332      0.000345      0.000441      0.000444   \n",
       "25%        0.001588      0.001611      0.001675      0.001761      0.001775   \n",
       "50%        0.002207      0.002261      0.002381      0.002520      0.002568   \n",
       "75%        0.002824      0.002898      0.003079      0.003261      0.003335   \n",
       "max        0.005978      0.006260      0.006729      0.007038      0.007524   \n",
       "\n",
       "         b6_12_10_2    b7_12_10_2    b8_12_10_2    b9_12_10_2    b10_12_10_  \\\n",
       "count  33720.000000  33720.000000  33720.000000  33720.000000  33720.000000   \n",
       "mean       0.002691      0.002687      0.002638      0.002487      0.002943   \n",
       "std        0.001149      0.001161      0.001158      0.001098      0.001331   \n",
       "min        0.000410      0.000456      0.000441      0.000372      0.000461   \n",
       "25%        0.001806      0.001789      0.001735      0.001632      0.001898   \n",
       "50%        0.002650      0.002657      0.002603      0.002462      0.002909   \n",
       "75%        0.003446      0.003457      0.003407      0.003230      0.003837   \n",
       "max        0.007449      0.007360      0.007368      0.006909      0.008184   \n",
       "\n",
       "       ...    b177_12_10    b178_12_10    b179_12_10    b180_12_10  \\\n",
       "count  ...  33720.000000  33720.000000  33720.000000  33720.000000   \n",
       "mean   ...      0.024226      0.029662      0.028207      0.027531   \n",
       "std    ...      0.014980      0.018450      0.017572      0.017085   \n",
       "min    ...      0.000646      0.000580      0.000697      0.000635   \n",
       "25%    ...      0.011574      0.014084      0.013299      0.013060   \n",
       "50%    ...      0.022414      0.027441      0.026038      0.025482   \n",
       "75%    ...      0.036040      0.044239      0.042118      0.041040   \n",
       "max    ...      0.066931      0.082097      0.078523      0.076033   \n",
       "\n",
       "         b181_12_10    b182_12_10    b183_12_10    b184_12_10    b185_12_10  \\\n",
       "count  33720.000000  33720.000000  33720.000000  33720.000000  33720.000000   \n",
       "mean       0.029403      0.031902      0.033641      0.034560      0.035118   \n",
       "std        0.018232      0.019761      0.020832      0.021402      0.021732   \n",
       "min        0.000652      0.000638      0.000869      0.000687      0.001013   \n",
       "25%        0.013952      0.015179      0.016041      0.016421      0.016770   \n",
       "50%        0.027207      0.029539      0.031093      0.031970      0.032546   \n",
       "75%        0.043859      0.047575      0.050114      0.051479      0.052331   \n",
       "max        0.080653      0.085611      0.091917      0.093709      0.094180   \n",
       "\n",
       "         b186_12_10  \n",
       "count  33720.000000  \n",
       "mean       0.035639  \n",
       "std        0.022028  \n",
       "min        0.000771  \n",
       "25%        0.016946  \n",
       "50%        0.033004  \n",
       "75%        0.053096  \n",
       "max        0.095604  \n",
       "\n",
       "[8 rows x 186 columns]"
      ]
     },
     "metadata": {},
     "output_type": "display_data"
    },
    {
     "data": {
      "image/png": "[encoded data removed]",
      "text/plain": [
       "<Figure size 640x480 with 1 Axes>"
      ]
     },
     "metadata": {},
     "output_type": "display_data"
    }
   ],
   "source": [
    "filename = os.path.join(cfg['data_dir'], cfg['data'])\n",
    "df = pd.read_csv(filename)\n",
    "\n",
    "display(HTML('<h2>Data preview:</h2>'))\n",
    "display(df)\n",
    "display(HTML('<hr>'))\n",
    "display(HTML('<h2>Data statistics:</h2>'))\n",
    "display(df.describe())\n",
    "\n",
    "print_hist(df, stat='percent')"
   ]
  },
  {
   "cell_type": "markdown",
   "id": "a7adeb3b-9261-4232-91c6-8f8408a0a456",
   "metadata": {},
   "source": [
    "## data sampling"
   ]
  },
  {
   "cell_type": "code",
   "execution_count": 5,
   "id": "c4816eb1-92b5-4e76-9bbc-1d687def8ccf",
   "metadata": {
    "tags": []
   },
   "outputs": [],
   "source": [
    "def sample_data(df):\n",
    "    # remove duplicates\n",
    "    mask = df.duplicated(keep='first')\n",
    "    df = df[~mask].copy(deep=True)\n",
    "    \n",
    "    # classes counts\n",
    "    df_hist = df.DRUH_DR.groupby(df.DRUH_DR).count().sort_values(ascending=False)\n",
    "    # print('%s\\n' % df_hist)\n",
    "\n",
    "    # select the most frequent classes\n",
    "    selected_classes = df_hist[df_hist > 2500].index.values\n",
    "    # print('selected_classes: %s\\n' % selected_classes)\n",
    "\n",
    "    # set the rest of the classes to OTHER\n",
    "    mask = df.DRUH_DR.isin(selected_classes)\n",
    "    df.loc[~mask,df.DRUH_DR.name] = 'OTHER'\n",
    "    # print_hist(df)\n",
    "\n",
    "    # the number of samples for the least frequent class of the most frequent classes\n",
    "    min_count = df.DRUH_DR.groupby(df.DRUH_DR).count().min()\n",
    "    # print('min count: %d' % min_count)\n",
    "\n",
    "    # sample data per class\n",
    "    df_sampled = pd.DataFrame()\n",
    "    for class_name in df.DRUH_DR.unique():\n",
    "        df_class = df[df.DRUH_DR.str.match(class_name)].sample(n=min_count, axis=0)\n",
    "        df_sampled = pd.concat([df_sampled, df_class])\n",
    "\n",
    "    return df_sampled\n",
    "\n",
    "def plot_band_characteristics(df):\n",
    "    g = sns.FacetGrid(df, col=\"DRUH_DR\", col_wrap=6)\n",
    "    # plot only features starting with 'b0, b1, ..., b9'\n",
    "    for col in enumerate(df.columns[df.columns.to_series().str.match(r'^b\\d+.*')]):\n",
    "        gg = g.map(sns.kdeplot, col[1], label=col[1], warn_singular=False)\n",
    "        gg.set_axis_labels(x_var='')\n",
    "    # g.add_legend()\n",
    "    plt.show()\n",
    "\n",
    "df_sampled = None\n",
    "if cfg['data_sampling']:\n",
    "    df_sampled = sample_data(df)"
   ]
  },
  {
   "cell_type": "code",
   "execution_count": 6,
   "id": "1876300b-3dd4-45d6-b8c6-4cdeeae91336",
   "metadata": {
    "tags": []
   },
   "outputs": [
    {
     "data": {
      "image/png": "[encoded data removed]",
      "text/plain": [
       "<Figure size 640x480 with 1 Axes>"
      ]
     },
     "metadata": {},
     "output_type": "display_data"
    },
    {
     "data": {
      "image/png": "[encoded data removed]",
      "text/plain": [
       "<Figure size 640x480 with 1 Axes>"
      ]
     },
     "metadata": {},
     "output_type": "display_data"
    }
   ],
   "source": [
    "print_hist(df, title='df')\n",
    "# plot_band_characteristics(df)\n",
    "\n",
    "if df_sampled is not None:\n",
    "    print_hist(df_sampled, title='df_sampled')\n",
    "    # plot_band_characteristics(df_sampled)"
   ]
  },
  {
   "cell_type": "code",
   "execution_count": 7,
   "id": "19139620-c8b3-42c6-a289-b197a4585781",
   "metadata": {
    "tags": []
   },
   "outputs": [
    {
     "data": {
      "text/html": [
       "<div>\n",
       "<style scoped>\n",
       "    .dataframe tbody tr th:only-of-type {\n",
       "        vertical-align: middle;\n",
       "    }\n",
       "\n",
       "    .dataframe tbody tr th {\n",
       "        vertical-align: top;\n",
       "    }\n",
       "\n",
       "    .dataframe thead th {\n",
       "        text-align: right;\n",
       "    }\n",
       "</style>\n",
       "<table border=\"1\" class=\"dataframe\">\n",
       "  <thead>\n",
       "    <tr style=\"text-align: right;\">\n",
       "      <th></th>\n",
       "      <th>b1_12_10_2</th>\n",
       "      <th>b2_12_10_2</th>\n",
       "      <th>b3_12_10_2</th>\n",
       "      <th>b4_12_10_2</th>\n",
       "      <th>b5_12_10_2</th>\n",
       "      <th>b6_12_10_2</th>\n",
       "      <th>b7_12_10_2</th>\n",
       "      <th>b8_12_10_2</th>\n",
       "      <th>b9_12_10_2</th>\n",
       "      <th>b10_12_10_</th>\n",
       "      <th>...</th>\n",
       "      <th>b177_12_10</th>\n",
       "      <th>b178_12_10</th>\n",
       "      <th>b179_12_10</th>\n",
       "      <th>b180_12_10</th>\n",
       "      <th>b181_12_10</th>\n",
       "      <th>b182_12_10</th>\n",
       "      <th>b183_12_10</th>\n",
       "      <th>b184_12_10</th>\n",
       "      <th>b185_12_10</th>\n",
       "      <th>b186_12_10</th>\n",
       "    </tr>\n",
       "  </thead>\n",
       "  <tbody>\n",
       "    <tr>\n",
       "      <th>count</th>\n",
       "      <td>19270.000000</td>\n",
       "      <td>19270.000000</td>\n",
       "      <td>19270.000000</td>\n",
       "      <td>19270.000000</td>\n",
       "      <td>19270.000000</td>\n",
       "      <td>19270.000000</td>\n",
       "      <td>19270.000000</td>\n",
       "      <td>19270.000000</td>\n",
       "      <td>19270.000000</td>\n",
       "      <td>19270.000000</td>\n",
       "      <td>...</td>\n",
       "      <td>19270.000000</td>\n",
       "      <td>19270.000000</td>\n",
       "      <td>19270.000000</td>\n",
       "      <td>19270.000000</td>\n",
       "      <td>19270.000000</td>\n",
       "      <td>19270.000000</td>\n",
       "      <td>19270.000000</td>\n",
       "      <td>19270.000000</td>\n",
       "      <td>19270.000000</td>\n",
       "      <td>19270.000000</td>\n",
       "    </tr>\n",
       "    <tr>\n",
       "      <th>mean</th>\n",
       "      <td>-0.000332</td>\n",
       "      <td>-0.000348</td>\n",
       "      <td>-0.000374</td>\n",
       "      <td>-0.000396</td>\n",
       "      <td>-0.000414</td>\n",
       "      <td>-0.000429</td>\n",
       "      <td>-0.000430</td>\n",
       "      <td>-0.000429</td>\n",
       "      <td>-0.000403</td>\n",
       "      <td>-0.000484</td>\n",
       "      <td>...</td>\n",
       "      <td>-0.007656</td>\n",
       "      <td>-0.009462</td>\n",
       "      <td>-0.009019</td>\n",
       "      <td>-0.008777</td>\n",
       "      <td>-0.009360</td>\n",
       "      <td>-0.010150</td>\n",
       "      <td>-0.010695</td>\n",
       "      <td>-0.011001</td>\n",
       "      <td>-0.011167</td>\n",
       "      <td>-0.011326</td>\n",
       "    </tr>\n",
       "    <tr>\n",
       "      <th>std</th>\n",
       "      <td>-0.000018</td>\n",
       "      <td>-0.000024</td>\n",
       "      <td>-0.000030</td>\n",
       "      <td>-0.000036</td>\n",
       "      <td>-0.000037</td>\n",
       "      <td>-0.000037</td>\n",
       "      <td>-0.000034</td>\n",
       "      <td>-0.000032</td>\n",
       "      <td>-0.000028</td>\n",
       "      <td>-0.000032</td>\n",
       "      <td>...</td>\n",
       "      <td>0.000174</td>\n",
       "      <td>0.000224</td>\n",
       "      <td>0.000211</td>\n",
       "      <td>0.000206</td>\n",
       "      <td>0.000229</td>\n",
       "      <td>0.000255</td>\n",
       "      <td>0.000266</td>\n",
       "      <td>0.000281</td>\n",
       "      <td>0.000277</td>\n",
       "      <td>0.000290</td>\n",
       "    </tr>\n",
       "    <tr>\n",
       "      <th>min</th>\n",
       "      <td>-0.000072</td>\n",
       "      <td>-0.000036</td>\n",
       "      <td>-0.000081</td>\n",
       "      <td>0.000000</td>\n",
       "      <td>0.000000</td>\n",
       "      <td>-0.000104</td>\n",
       "      <td>-0.000074</td>\n",
       "      <td>-0.000014</td>\n",
       "      <td>0.000000</td>\n",
       "      <td>-0.000073</td>\n",
       "      <td>...</td>\n",
       "      <td>0.000000</td>\n",
       "      <td>0.000000</td>\n",
       "      <td>-0.000143</td>\n",
       "      <td>-0.000210</td>\n",
       "      <td>0.000000</td>\n",
       "      <td>-0.000262</td>\n",
       "      <td>-0.000122</td>\n",
       "      <td>-0.000169</td>\n",
       "      <td>-0.000150</td>\n",
       "      <td>-0.000475</td>\n",
       "    </tr>\n",
       "    <tr>\n",
       "      <th>25%</th>\n",
       "      <td>-0.000381</td>\n",
       "      <td>-0.000392</td>\n",
       "      <td>-0.000431</td>\n",
       "      <td>-0.000448</td>\n",
       "      <td>-0.000475</td>\n",
       "      <td>-0.000506</td>\n",
       "      <td>-0.000508</td>\n",
       "      <td>-0.000503</td>\n",
       "      <td>-0.000472</td>\n",
       "      <td>-0.000574</td>\n",
       "      <td>...</td>\n",
       "      <td>-0.009739</td>\n",
       "      <td>-0.012043</td>\n",
       "      <td>-0.011533</td>\n",
       "      <td>-0.011246</td>\n",
       "      <td>-0.011981</td>\n",
       "      <td>-0.013027</td>\n",
       "      <td>-0.013624</td>\n",
       "      <td>-0.014161</td>\n",
       "      <td>-0.014273</td>\n",
       "      <td>-0.014568</td>\n",
       "    </tr>\n",
       "    <tr>\n",
       "      <th>50%</th>\n",
       "      <td>-0.000349</td>\n",
       "      <td>-0.000365</td>\n",
       "      <td>-0.000392</td>\n",
       "      <td>-0.000403</td>\n",
       "      <td>-0.000422</td>\n",
       "      <td>-0.000438</td>\n",
       "      <td>-0.000445</td>\n",
       "      <td>-0.000448</td>\n",
       "      <td>-0.000427</td>\n",
       "      <td>-0.000514</td>\n",
       "      <td>...</td>\n",
       "      <td>-0.011067</td>\n",
       "      <td>-0.013670</td>\n",
       "      <td>-0.013134</td>\n",
       "      <td>-0.012675</td>\n",
       "      <td>-0.013608</td>\n",
       "      <td>-0.014764</td>\n",
       "      <td>-0.015597</td>\n",
       "      <td>-0.015992</td>\n",
       "      <td>-0.016154</td>\n",
       "      <td>-0.016434</td>\n",
       "    </tr>\n",
       "    <tr>\n",
       "      <th>75%</th>\n",
       "      <td>-0.000351</td>\n",
       "      <td>-0.000382</td>\n",
       "      <td>-0.000399</td>\n",
       "      <td>-0.000440</td>\n",
       "      <td>-0.000446</td>\n",
       "      <td>-0.000458</td>\n",
       "      <td>-0.000464</td>\n",
       "      <td>-0.000455</td>\n",
       "      <td>-0.000417</td>\n",
       "      <td>-0.000516</td>\n",
       "      <td>...</td>\n",
       "      <td>-0.007500</td>\n",
       "      <td>-0.009298</td>\n",
       "      <td>-0.008814</td>\n",
       "      <td>-0.008576</td>\n",
       "      <td>-0.009124</td>\n",
       "      <td>-0.010005</td>\n",
       "      <td>-0.010524</td>\n",
       "      <td>-0.010810</td>\n",
       "      <td>-0.010906</td>\n",
       "      <td>-0.011109</td>\n",
       "    </tr>\n",
       "    <tr>\n",
       "      <th>max</th>\n",
       "      <td>0.000000</td>\n",
       "      <td>0.000000</td>\n",
       "      <td>0.000000</td>\n",
       "      <td>0.000000</td>\n",
       "      <td>0.000000</td>\n",
       "      <td>0.000000</td>\n",
       "      <td>0.000000</td>\n",
       "      <td>0.000000</td>\n",
       "      <td>0.000000</td>\n",
       "      <td>0.000000</td>\n",
       "      <td>...</td>\n",
       "      <td>0.000000</td>\n",
       "      <td>0.000000</td>\n",
       "      <td>0.000000</td>\n",
       "      <td>0.000000</td>\n",
       "      <td>0.000000</td>\n",
       "      <td>0.000000</td>\n",
       "      <td>0.000000</td>\n",
       "      <td>0.000000</td>\n",
       "      <td>0.000000</td>\n",
       "      <td>0.000000</td>\n",
       "    </tr>\n",
       "  </tbody>\n",
       "</table>\n",
       "<p>8 rows × 186 columns</p>\n",
       "</div>"
      ],
      "text/plain": [
       "         b1_12_10_2    b2_12_10_2    b3_12_10_2    b4_12_10_2    b5_12_10_2  \\\n",
       "count  19270.000000  19270.000000  19270.000000  19270.000000  19270.000000   \n",
       "mean      -0.000332     -0.000348     -0.000374     -0.000396     -0.000414   \n",
       "std       -0.000018     -0.000024     -0.000030     -0.000036     -0.000037   \n",
       "min       -0.000072     -0.000036     -0.000081      0.000000      0.000000   \n",
       "25%       -0.000381     -0.000392     -0.000431     -0.000448     -0.000475   \n",
       "50%       -0.000349     -0.000365     -0.000392     -0.000403     -0.000422   \n",
       "75%       -0.000351     -0.000382     -0.000399     -0.000440     -0.000446   \n",
       "max        0.000000      0.000000      0.000000      0.000000      0.000000   \n",
       "\n",
       "         b6_12_10_2    b7_12_10_2    b8_12_10_2    b9_12_10_2    b10_12_10_  \\\n",
       "count  19270.000000  19270.000000  19270.000000  19270.000000  19270.000000   \n",
       "mean      -0.000429     -0.000430     -0.000429     -0.000403     -0.000484   \n",
       "std       -0.000037     -0.000034     -0.000032     -0.000028     -0.000032   \n",
       "min       -0.000104     -0.000074     -0.000014      0.000000     -0.000073   \n",
       "25%       -0.000506     -0.000508     -0.000503     -0.000472     -0.000574   \n",
       "50%       -0.000438     -0.000445     -0.000448     -0.000427     -0.000514   \n",
       "75%       -0.000458     -0.000464     -0.000455     -0.000417     -0.000516   \n",
       "max        0.000000      0.000000      0.000000      0.000000      0.000000   \n",
       "\n",
       "       ...    b177_12_10    b178_12_10    b179_12_10    b180_12_10  \\\n",
       "count  ...  19270.000000  19270.000000  19270.000000  19270.000000   \n",
       "mean   ...     -0.007656     -0.009462     -0.009019     -0.008777   \n",
       "std    ...      0.000174      0.000224      0.000211      0.000206   \n",
       "min    ...      0.000000      0.000000     -0.000143     -0.000210   \n",
       "25%    ...     -0.009739     -0.012043     -0.011533     -0.011246   \n",
       "50%    ...     -0.011067     -0.013670     -0.013134     -0.012675   \n",
       "75%    ...     -0.007500     -0.009298     -0.008814     -0.008576   \n",
       "max    ...      0.000000      0.000000      0.000000      0.000000   \n",
       "\n",
       "         b181_12_10    b182_12_10    b183_12_10    b184_12_10    b185_12_10  \\\n",
       "count  19270.000000  19270.000000  19270.000000  19270.000000  19270.000000   \n",
       "mean      -0.009360     -0.010150     -0.010695     -0.011001     -0.011167   \n",
       "std        0.000229      0.000255      0.000266      0.000281      0.000277   \n",
       "min        0.000000     -0.000262     -0.000122     -0.000169     -0.000150   \n",
       "25%       -0.011981     -0.013027     -0.013624     -0.014161     -0.014273   \n",
       "50%       -0.013608     -0.014764     -0.015597     -0.015992     -0.016154   \n",
       "75%       -0.009124     -0.010005     -0.010524     -0.010810     -0.010906   \n",
       "max        0.000000      0.000000      0.000000      0.000000      0.000000   \n",
       "\n",
       "         b186_12_10  \n",
       "count  19270.000000  \n",
       "mean      -0.011326  \n",
       "std        0.000290  \n",
       "min       -0.000475  \n",
       "25%       -0.014568  \n",
       "50%       -0.016434  \n",
       "75%       -0.011109  \n",
       "max        0.000000  \n",
       "\n",
       "[8 rows x 186 columns]"
      ]
     },
     "execution_count": 7,
     "metadata": {},
     "output_type": "execute_result"
    }
   ],
   "source": [
    "df.describe() - df_sampled.describe()"
   ]
  },
  {
   "cell_type": "markdown",
   "id": "5c6e833c-1215-4965-b22f-6f086cad4c75",
   "metadata": {},
   "source": [
    "## prepare data (assuming that the last column is label)"
   ]
  },
  {
   "cell_type": "code",
   "execution_count": 8,
   "id": "1a55447d-ade8-4210-804d-b5d00361f32d",
   "metadata": {
    "tags": []
   },
   "outputs": [],
   "source": [
    "def split_to_train_val(df, frac=0.7, random_state=0):\n",
    "    df_train = df.sample(frac=frac, axis=0, random_state=random_state)\n",
    "    df_val = df[~df.index.isin(df_train.index)]\n",
    "    return df_train, df_val\n",
    "\n",
    "df_train, df_val = split_to_train_val(\n",
    "    df_sampled if df_sampled is not None else df\n",
    ")"
   ]
  },
  {
   "cell_type": "code",
   "execution_count": 9,
   "id": "cb119134-374c-4d92-8977-44d075035a76",
   "metadata": {
    "tags": []
   },
   "outputs": [
    {
     "data": {
      "image/png": "[encoded data removed]",
      "text/plain": [
       "<Figure size 640x480 with 1 Axes>"
      ]
     },
     "metadata": {},
     "output_type": "display_data"
    },
    {
     "data": {
      "image/png": "[encoded data removed]",
      "text/plain": [
       "<Figure size 640x480 with 1 Axes>"
      ]
     },
     "metadata": {},
     "output_type": "display_data"
    }
   ],
   "source": [
    "print_hist(df_train, title='df_train')\n",
    "print_hist(df_val, title='df_val')"
   ]
  },
  {
   "cell_type": "code",
   "execution_count": 10,
   "id": "3c95d40a-9d2f-4b2e-8151-3520136a4dcc",
   "metadata": {
    "tags": []
   },
   "outputs": [
    {
     "data": {
      "image/png": "[encoded data removed]",
      "text/plain": [
       "<Figure size 1800x300 with 5 Axes>"
      ]
     },
     "metadata": {},
     "output_type": "display_data"
    }
   ],
   "source": [
    "plot_band_characteristics(df_train)"
   ]
  },
  {
   "cell_type": "code",
   "execution_count": 11,
   "id": "90151fe3-4b7a-4c95-9666-c1e4737236c6",
   "metadata": {
    "tags": []
   },
   "outputs": [
    {
     "data": {
      "image/png": "[encoded data removed]",
      "text/plain": [
       "<Figure size 1800x300 with 5 Axes>"
      ]
     },
     "metadata": {},
     "output_type": "display_data"
    }
   ],
   "source": [
    "plot_band_characteristics(df_val)"
   ]
  },
  {
   "cell_type": "code",
   "execution_count": 12,
   "id": "a1781810-7018-4110-8953-7177d4cfb5cb",
   "metadata": {
    "tags": []
   },
   "outputs": [],
   "source": [
    "X_train=df_train[df_train.columns[:-1]]\n",
    "Y_train=df_train[[df_train.columns[-1]]]\n",
    "\n",
    "num_classes = (df_sampled.DRUH_DR if df_sampled is not None else df.DRUH_DR).unique().shape[0]\n",
    "\n",
    "label_encoder = LabelEncoder()\n",
    "label_encoder.fit(\n",
    "    df_sampled.DRUH_DR if df_sampled is not None else df.DRUH_DR\n",
    ")\n",
    "\n",
    "Y_train_1hot = to_categorical(\n",
    "    label_encoder.transform(Y_train.DRUH_DR),\n",
    "    num_classes=num_classes\n",
    ")"
   ]
  },
  {
   "cell_type": "code",
   "execution_count": 13,
   "id": "4f9a4516-e182-48a0-83ca-19ff8647380d",
   "metadata": {
    "tags": []
   },
   "outputs": [],
   "source": [
    "X_val=df_val[df_val.columns[:-1]]\n",
    "Y_val=df_val[[df_val.columns[-1]]]\n",
    "Y_val_1hot = to_categorical(\n",
    "    label_encoder.transform(Y_val.DRUH_DR),\n",
    "    num_classes=num_classes\n",
    ")"
   ]
  },
  {
   "cell_type": "code",
   "execution_count": 14,
   "id": "7640015d-3420-4440-9a11-f84f3e73e828",
   "metadata": {
    "collapsed": true,
    "jupyter": {
     "outputs_hidden": true
    },
    "tags": []
   },
   "outputs": [
    {
     "data": {
      "text/html": [
       "<div>\n",
       "<style scoped>\n",
       "    .dataframe tbody tr th:only-of-type {\n",
       "        vertical-align: middle;\n",
       "    }\n",
       "\n",
       "    .dataframe tbody tr th {\n",
       "        vertical-align: top;\n",
       "    }\n",
       "\n",
       "    .dataframe thead th {\n",
       "        text-align: right;\n",
       "    }\n",
       "</style>\n",
       "<table border=\"1\" class=\"dataframe\">\n",
       "  <thead>\n",
       "    <tr style=\"text-align: right;\">\n",
       "      <th></th>\n",
       "      <th>b1_12_10_2</th>\n",
       "      <th>b2_12_10_2</th>\n",
       "      <th>b3_12_10_2</th>\n",
       "      <th>b4_12_10_2</th>\n",
       "      <th>b5_12_10_2</th>\n",
       "      <th>b6_12_10_2</th>\n",
       "      <th>b7_12_10_2</th>\n",
       "      <th>b8_12_10_2</th>\n",
       "      <th>b9_12_10_2</th>\n",
       "      <th>b10_12_10_</th>\n",
       "      <th>...</th>\n",
       "      <th>b177_12_10</th>\n",
       "      <th>b178_12_10</th>\n",
       "      <th>b179_12_10</th>\n",
       "      <th>b180_12_10</th>\n",
       "      <th>b181_12_10</th>\n",
       "      <th>b182_12_10</th>\n",
       "      <th>b183_12_10</th>\n",
       "      <th>b184_12_10</th>\n",
       "      <th>b185_12_10</th>\n",
       "      <th>b186_12_10</th>\n",
       "    </tr>\n",
       "  </thead>\n",
       "  <tbody>\n",
       "    <tr>\n",
       "      <th>3904</th>\n",
       "      <td>0.002844</td>\n",
       "      <td>0.002806</td>\n",
       "      <td>0.003331</td>\n",
       "      <td>0.003843</td>\n",
       "      <td>0.003388</td>\n",
       "      <td>0.003712</td>\n",
       "      <td>0.003836</td>\n",
       "      <td>0.003699</td>\n",
       "      <td>0.003535</td>\n",
       "      <td>0.004247</td>\n",
       "      <td>...</td>\n",
       "      <td>0.033780</td>\n",
       "      <td>0.041268</td>\n",
       "      <td>0.039844</td>\n",
       "      <td>0.040672</td>\n",
       "      <td>0.041637</td>\n",
       "      <td>0.045355</td>\n",
       "      <td>0.047601</td>\n",
       "      <td>0.046867</td>\n",
       "      <td>0.049453</td>\n",
       "      <td>0.049508</td>\n",
       "    </tr>\n",
       "    <tr>\n",
       "      <th>8594</th>\n",
       "      <td>0.001809</td>\n",
       "      <td>0.001948</td>\n",
       "      <td>0.001818</td>\n",
       "      <td>0.001916</td>\n",
       "      <td>0.001949</td>\n",
       "      <td>0.002104</td>\n",
       "      <td>0.002100</td>\n",
       "      <td>0.001996</td>\n",
       "      <td>0.002003</td>\n",
       "      <td>0.002330</td>\n",
       "      <td>...</td>\n",
       "      <td>0.020304</td>\n",
       "      <td>0.024588</td>\n",
       "      <td>0.024367</td>\n",
       "      <td>0.023211</td>\n",
       "      <td>0.024815</td>\n",
       "      <td>0.027992</td>\n",
       "      <td>0.030438</td>\n",
       "      <td>0.030273</td>\n",
       "      <td>0.031533</td>\n",
       "      <td>0.030468</td>\n",
       "    </tr>\n",
       "    <tr>\n",
       "      <th>16433</th>\n",
       "      <td>0.002868</td>\n",
       "      <td>0.002948</td>\n",
       "      <td>0.003323</td>\n",
       "      <td>0.003331</td>\n",
       "      <td>0.003497</td>\n",
       "      <td>0.003497</td>\n",
       "      <td>0.003435</td>\n",
       "      <td>0.003483</td>\n",
       "      <td>0.003189</td>\n",
       "      <td>0.003656</td>\n",
       "      <td>...</td>\n",
       "      <td>0.042336</td>\n",
       "      <td>0.051608</td>\n",
       "      <td>0.049161</td>\n",
       "      <td>0.048304</td>\n",
       "      <td>0.051736</td>\n",
       "      <td>0.055712</td>\n",
       "      <td>0.059941</td>\n",
       "      <td>0.058876</td>\n",
       "      <td>0.059775</td>\n",
       "      <td>0.062838</td>\n",
       "    </tr>\n",
       "    <tr>\n",
       "      <th>9598</th>\n",
       "      <td>0.001839</td>\n",
       "      <td>0.001713</td>\n",
       "      <td>0.002004</td>\n",
       "      <td>0.001816</td>\n",
       "      <td>0.001856</td>\n",
       "      <td>0.001960</td>\n",
       "      <td>0.001959</td>\n",
       "      <td>0.001759</td>\n",
       "      <td>0.001698</td>\n",
       "      <td>0.001832</td>\n",
       "      <td>...</td>\n",
       "      <td>0.018183</td>\n",
       "      <td>0.024069</td>\n",
       "      <td>0.022102</td>\n",
       "      <td>0.022368</td>\n",
       "      <td>0.023514</td>\n",
       "      <td>0.024776</td>\n",
       "      <td>0.027394</td>\n",
       "      <td>0.026536</td>\n",
       "      <td>0.028833</td>\n",
       "      <td>0.028261</td>\n",
       "    </tr>\n",
       "    <tr>\n",
       "      <th>13690</th>\n",
       "      <td>0.003116</td>\n",
       "      <td>0.003487</td>\n",
       "      <td>0.003723</td>\n",
       "      <td>0.003985</td>\n",
       "      <td>0.004221</td>\n",
       "      <td>0.004536</td>\n",
       "      <td>0.004138</td>\n",
       "      <td>0.004441</td>\n",
       "      <td>0.004514</td>\n",
       "      <td>0.004938</td>\n",
       "      <td>...</td>\n",
       "      <td>0.038082</td>\n",
       "      <td>0.046509</td>\n",
       "      <td>0.044905</td>\n",
       "      <td>0.042984</td>\n",
       "      <td>0.046831</td>\n",
       "      <td>0.050702</td>\n",
       "      <td>0.051392</td>\n",
       "      <td>0.055010</td>\n",
       "      <td>0.054443</td>\n",
       "      <td>0.056531</td>\n",
       "    </tr>\n",
       "    <tr>\n",
       "      <th>...</th>\n",
       "      <td>...</td>\n",
       "      <td>...</td>\n",
       "      <td>...</td>\n",
       "      <td>...</td>\n",
       "      <td>...</td>\n",
       "      <td>...</td>\n",
       "      <td>...</td>\n",
       "      <td>...</td>\n",
       "      <td>...</td>\n",
       "      <td>...</td>\n",
       "      <td>...</td>\n",
       "      <td>...</td>\n",
       "      <td>...</td>\n",
       "      <td>...</td>\n",
       "      <td>...</td>\n",
       "      <td>...</td>\n",
       "      <td>...</td>\n",
       "      <td>...</td>\n",
       "      <td>...</td>\n",
       "      <td>...</td>\n",
       "      <td>...</td>\n",
       "    </tr>\n",
       "    <tr>\n",
       "      <th>16196</th>\n",
       "      <td>0.004464</td>\n",
       "      <td>0.004363</td>\n",
       "      <td>0.004738</td>\n",
       "      <td>0.005310</td>\n",
       "      <td>0.005252</td>\n",
       "      <td>0.005603</td>\n",
       "      <td>0.005271</td>\n",
       "      <td>0.005306</td>\n",
       "      <td>0.004757</td>\n",
       "      <td>0.005864</td>\n",
       "      <td>...</td>\n",
       "      <td>0.050559</td>\n",
       "      <td>0.062512</td>\n",
       "      <td>0.060697</td>\n",
       "      <td>0.058709</td>\n",
       "      <td>0.062495</td>\n",
       "      <td>0.066725</td>\n",
       "      <td>0.071021</td>\n",
       "      <td>0.072465</td>\n",
       "      <td>0.075788</td>\n",
       "      <td>0.075658</td>\n",
       "    </tr>\n",
       "    <tr>\n",
       "      <th>11128</th>\n",
       "      <td>0.001377</td>\n",
       "      <td>0.001512</td>\n",
       "      <td>0.001285</td>\n",
       "      <td>0.001329</td>\n",
       "      <td>0.001705</td>\n",
       "      <td>0.001552</td>\n",
       "      <td>0.001500</td>\n",
       "      <td>0.001399</td>\n",
       "      <td>0.001299</td>\n",
       "      <td>0.001636</td>\n",
       "      <td>...</td>\n",
       "      <td>0.009879</td>\n",
       "      <td>0.012016</td>\n",
       "      <td>0.011664</td>\n",
       "      <td>0.010591</td>\n",
       "      <td>0.012512</td>\n",
       "      <td>0.013239</td>\n",
       "      <td>0.013404</td>\n",
       "      <td>0.014309</td>\n",
       "      <td>0.014398</td>\n",
       "      <td>0.015120</td>\n",
       "    </tr>\n",
       "    <tr>\n",
       "      <th>2905</th>\n",
       "      <td>0.002773</td>\n",
       "      <td>0.002868</td>\n",
       "      <td>0.003234</td>\n",
       "      <td>0.003123</td>\n",
       "      <td>0.003252</td>\n",
       "      <td>0.003340</td>\n",
       "      <td>0.003159</td>\n",
       "      <td>0.003341</td>\n",
       "      <td>0.003327</td>\n",
       "      <td>0.003638</td>\n",
       "      <td>...</td>\n",
       "      <td>0.028957</td>\n",
       "      <td>0.036554</td>\n",
       "      <td>0.034584</td>\n",
       "      <td>0.034416</td>\n",
       "      <td>0.034852</td>\n",
       "      <td>0.039445</td>\n",
       "      <td>0.041480</td>\n",
       "      <td>0.041001</td>\n",
       "      <td>0.042871</td>\n",
       "      <td>0.046378</td>\n",
       "    </tr>\n",
       "    <tr>\n",
       "      <th>10261</th>\n",
       "      <td>0.003198</td>\n",
       "      <td>0.003040</td>\n",
       "      <td>0.003535</td>\n",
       "      <td>0.003694</td>\n",
       "      <td>0.003972</td>\n",
       "      <td>0.003674</td>\n",
       "      <td>0.003851</td>\n",
       "      <td>0.003775</td>\n",
       "      <td>0.003499</td>\n",
       "      <td>0.004002</td>\n",
       "      <td>...</td>\n",
       "      <td>0.044507</td>\n",
       "      <td>0.055467</td>\n",
       "      <td>0.052283</td>\n",
       "      <td>0.052063</td>\n",
       "      <td>0.054255</td>\n",
       "      <td>0.057881</td>\n",
       "      <td>0.059107</td>\n",
       "      <td>0.063167</td>\n",
       "      <td>0.065200</td>\n",
       "      <td>0.064313</td>\n",
       "    </tr>\n",
       "    <tr>\n",
       "      <th>13147</th>\n",
       "      <td>0.002601</td>\n",
       "      <td>0.003017</td>\n",
       "      <td>0.003302</td>\n",
       "      <td>0.003396</td>\n",
       "      <td>0.003464</td>\n",
       "      <td>0.003713</td>\n",
       "      <td>0.004024</td>\n",
       "      <td>0.003749</td>\n",
       "      <td>0.003536</td>\n",
       "      <td>0.004419</td>\n",
       "      <td>...</td>\n",
       "      <td>0.039468</td>\n",
       "      <td>0.048929</td>\n",
       "      <td>0.046073</td>\n",
       "      <td>0.044871</td>\n",
       "      <td>0.048523</td>\n",
       "      <td>0.052528</td>\n",
       "      <td>0.054579</td>\n",
       "      <td>0.056350</td>\n",
       "      <td>0.056795</td>\n",
       "      <td>0.058023</td>\n",
       "    </tr>\n",
       "  </tbody>\n",
       "</table>\n",
       "<p>10115 rows × 186 columns</p>\n",
       "</div>"
      ],
      "text/plain": [
       "       b1_12_10_2  b2_12_10_2  b3_12_10_2  b4_12_10_2  b5_12_10_2  b6_12_10_2  \\\n",
       "3904     0.002844    0.002806    0.003331    0.003843    0.003388    0.003712   \n",
       "8594     0.001809    0.001948    0.001818    0.001916    0.001949    0.002104   \n",
       "16433    0.002868    0.002948    0.003323    0.003331    0.003497    0.003497   \n",
       "9598     0.001839    0.001713    0.002004    0.001816    0.001856    0.001960   \n",
       "13690    0.003116    0.003487    0.003723    0.003985    0.004221    0.004536   \n",
       "...           ...         ...         ...         ...         ...         ...   \n",
       "16196    0.004464    0.004363    0.004738    0.005310    0.005252    0.005603   \n",
       "11128    0.001377    0.001512    0.001285    0.001329    0.001705    0.001552   \n",
       "2905     0.002773    0.002868    0.003234    0.003123    0.003252    0.003340   \n",
       "10261    0.003198    0.003040    0.003535    0.003694    0.003972    0.003674   \n",
       "13147    0.002601    0.003017    0.003302    0.003396    0.003464    0.003713   \n",
       "\n",
       "       b7_12_10_2  b8_12_10_2  b9_12_10_2  b10_12_10_  ...  b177_12_10  \\\n",
       "3904     0.003836    0.003699    0.003535    0.004247  ...    0.033780   \n",
       "8594     0.002100    0.001996    0.002003    0.002330  ...    0.020304   \n",
       "16433    0.003435    0.003483    0.003189    0.003656  ...    0.042336   \n",
       "9598     0.001959    0.001759    0.001698    0.001832  ...    0.018183   \n",
       "13690    0.004138    0.004441    0.004514    0.004938  ...    0.038082   \n",
       "...           ...         ...         ...         ...  ...         ...   \n",
       "16196    0.005271    0.005306    0.004757    0.005864  ...    0.050559   \n",
       "11128    0.001500    0.001399    0.001299    0.001636  ...    0.009879   \n",
       "2905     0.003159    0.003341    0.003327    0.003638  ...    0.028957   \n",
       "10261    0.003851    0.003775    0.003499    0.004002  ...    0.044507   \n",
       "13147    0.004024    0.003749    0.003536    0.004419  ...    0.039468   \n",
       "\n",
       "       b178_12_10  b179_12_10  b180_12_10  b181_12_10  b182_12_10  b183_12_10  \\\n",
       "3904     0.041268    0.039844    0.040672    0.041637    0.045355    0.047601   \n",
       "8594     0.024588    0.024367    0.023211    0.024815    0.027992    0.030438   \n",
       "16433    0.051608    0.049161    0.048304    0.051736    0.055712    0.059941   \n",
       "9598     0.024069    0.022102    0.022368    0.023514    0.024776    0.027394   \n",
       "13690    0.046509    0.044905    0.042984    0.046831    0.050702    0.051392   \n",
       "...           ...         ...         ...         ...         ...         ...   \n",
       "16196    0.062512    0.060697    0.058709    0.062495    0.066725    0.071021   \n",
       "11128    0.012016    0.011664    0.010591    0.012512    0.013239    0.013404   \n",
       "2905     0.036554    0.034584    0.034416    0.034852    0.039445    0.041480   \n",
       "10261    0.055467    0.052283    0.052063    0.054255    0.057881    0.059107   \n",
       "13147    0.048929    0.046073    0.044871    0.048523    0.052528    0.054579   \n",
       "\n",
       "       b184_12_10  b185_12_10  b186_12_10  \n",
       "3904     0.046867    0.049453    0.049508  \n",
       "8594     0.030273    0.031533    0.030468  \n",
       "16433    0.058876    0.059775    0.062838  \n",
       "9598     0.026536    0.028833    0.028261  \n",
       "13690    0.055010    0.054443    0.056531  \n",
       "...           ...         ...         ...  \n",
       "16196    0.072465    0.075788    0.075658  \n",
       "11128    0.014309    0.014398    0.015120  \n",
       "2905     0.041001    0.042871    0.046378  \n",
       "10261    0.063167    0.065200    0.064313  \n",
       "13147    0.056350    0.056795    0.058023  \n",
       "\n",
       "[10115 rows x 186 columns]"
      ]
     },
     "metadata": {},
     "output_type": "display_data"
    },
    {
     "data": {
      "text/html": [
       "<div>\n",
       "<style scoped>\n",
       "    .dataframe tbody tr th:only-of-type {\n",
       "        vertical-align: middle;\n",
       "    }\n",
       "\n",
       "    .dataframe tbody tr th {\n",
       "        vertical-align: top;\n",
       "    }\n",
       "\n",
       "    .dataframe thead th {\n",
       "        text-align: right;\n",
       "    }\n",
       "</style>\n",
       "<table border=\"1\" class=\"dataframe\">\n",
       "  <thead>\n",
       "    <tr style=\"text-align: right;\">\n",
       "      <th></th>\n",
       "      <th>DRUH_DR</th>\n",
       "    </tr>\n",
       "  </thead>\n",
       "  <tbody>\n",
       "    <tr>\n",
       "      <th>3904</th>\n",
       "      <td>CR</td>\n",
       "    </tr>\n",
       "    <tr>\n",
       "      <th>8594</th>\n",
       "      <td>OS</td>\n",
       "    </tr>\n",
       "    <tr>\n",
       "      <th>16433</th>\n",
       "      <td>DL</td>\n",
       "    </tr>\n",
       "    <tr>\n",
       "      <th>9598</th>\n",
       "      <td>OS</td>\n",
       "    </tr>\n",
       "    <tr>\n",
       "      <th>13690</th>\n",
       "      <td>CR</td>\n",
       "    </tr>\n",
       "    <tr>\n",
       "      <th>...</th>\n",
       "      <td>...</td>\n",
       "    </tr>\n",
       "    <tr>\n",
       "      <th>16196</th>\n",
       "      <td>DL</td>\n",
       "    </tr>\n",
       "    <tr>\n",
       "      <th>11128</th>\n",
       "      <td>SM</td>\n",
       "    </tr>\n",
       "    <tr>\n",
       "      <th>2905</th>\n",
       "      <td>CR</td>\n",
       "    </tr>\n",
       "    <tr>\n",
       "      <th>10261</th>\n",
       "      <td>OS</td>\n",
       "    </tr>\n",
       "    <tr>\n",
       "      <th>13147</th>\n",
       "      <td>CR</td>\n",
       "    </tr>\n",
       "  </tbody>\n",
       "</table>\n",
       "<p>10115 rows × 1 columns</p>\n",
       "</div>"
      ],
      "text/plain": [
       "      DRUH_DR\n",
       "3904       CR\n",
       "8594       OS\n",
       "16433      DL\n",
       "9598       OS\n",
       "13690      CR\n",
       "...       ...\n",
       "16196      DL\n",
       "11128      SM\n",
       "2905       CR\n",
       "10261      OS\n",
       "13147      CR\n",
       "\n",
       "[10115 rows x 1 columns]"
      ]
     },
     "metadata": {},
     "output_type": "display_data"
    },
    {
     "data": {
      "text/plain": [
       "array([[1., 0., 0., 0., 0.],\n",
       "       [0., 0., 1., 0., 0.],\n",
       "       [0., 1., 0., 0., 0.],\n",
       "       ...,\n",
       "       [1., 0., 0., 0., 0.],\n",
       "       [0., 0., 1., 0., 0.],\n",
       "       [1., 0., 0., 0., 0.]], dtype=float32)"
      ]
     },
     "metadata": {},
     "output_type": "display_data"
    }
   ],
   "source": [
    "display(X_train)\n",
    "display(Y_train)\n",
    "display(Y_train_1hot)"
   ]
  },
  {
   "cell_type": "code",
   "execution_count": 15,
   "id": "134656c7-f265-40c7-831b-f4bf01fa209d",
   "metadata": {
    "collapsed": true,
    "jupyter": {
     "outputs_hidden": true
    },
    "tags": []
   },
   "outputs": [
    {
     "data": {
      "text/html": [
       "<div>\n",
       "<style scoped>\n",
       "    .dataframe tbody tr th:only-of-type {\n",
       "        vertical-align: middle;\n",
       "    }\n",
       "\n",
       "    .dataframe tbody tr th {\n",
       "        vertical-align: top;\n",
       "    }\n",
       "\n",
       "    .dataframe thead th {\n",
       "        text-align: right;\n",
       "    }\n",
       "</style>\n",
       "<table border=\"1\" class=\"dataframe\">\n",
       "  <thead>\n",
       "    <tr style=\"text-align: right;\">\n",
       "      <th></th>\n",
       "      <th>b1_12_10_2</th>\n",
       "      <th>b2_12_10_2</th>\n",
       "      <th>b3_12_10_2</th>\n",
       "      <th>b4_12_10_2</th>\n",
       "      <th>b5_12_10_2</th>\n",
       "      <th>b6_12_10_2</th>\n",
       "      <th>b7_12_10_2</th>\n",
       "      <th>b8_12_10_2</th>\n",
       "      <th>b9_12_10_2</th>\n",
       "      <th>b10_12_10_</th>\n",
       "      <th>...</th>\n",
       "      <th>b177_12_10</th>\n",
       "      <th>b178_12_10</th>\n",
       "      <th>b179_12_10</th>\n",
       "      <th>b180_12_10</th>\n",
       "      <th>b181_12_10</th>\n",
       "      <th>b182_12_10</th>\n",
       "      <th>b183_12_10</th>\n",
       "      <th>b184_12_10</th>\n",
       "      <th>b185_12_10</th>\n",
       "      <th>b186_12_10</th>\n",
       "    </tr>\n",
       "  </thead>\n",
       "  <tbody>\n",
       "    <tr>\n",
       "      <th>11579</th>\n",
       "      <td>0.001953</td>\n",
       "      <td>0.002339</td>\n",
       "      <td>0.002429</td>\n",
       "      <td>0.002438</td>\n",
       "      <td>0.002509</td>\n",
       "      <td>0.002357</td>\n",
       "      <td>0.002480</td>\n",
       "      <td>0.002167</td>\n",
       "      <td>0.002421</td>\n",
       "      <td>0.002626</td>\n",
       "      <td>...</td>\n",
       "      <td>0.025502</td>\n",
       "      <td>0.032809</td>\n",
       "      <td>0.030932</td>\n",
       "      <td>0.029909</td>\n",
       "      <td>0.032576</td>\n",
       "      <td>0.033130</td>\n",
       "      <td>0.035683</td>\n",
       "      <td>0.035006</td>\n",
       "      <td>0.038068</td>\n",
       "      <td>0.038696</td>\n",
       "    </tr>\n",
       "    <tr>\n",
       "      <th>12148</th>\n",
       "      <td>0.002504</td>\n",
       "      <td>0.002207</td>\n",
       "      <td>0.002765</td>\n",
       "      <td>0.002705</td>\n",
       "      <td>0.003215</td>\n",
       "      <td>0.002909</td>\n",
       "      <td>0.003087</td>\n",
       "      <td>0.003158</td>\n",
       "      <td>0.002883</td>\n",
       "      <td>0.003503</td>\n",
       "      <td>...</td>\n",
       "      <td>0.040717</td>\n",
       "      <td>0.049716</td>\n",
       "      <td>0.048193</td>\n",
       "      <td>0.046397</td>\n",
       "      <td>0.050030</td>\n",
       "      <td>0.052238</td>\n",
       "      <td>0.055485</td>\n",
       "      <td>0.056661</td>\n",
       "      <td>0.058529</td>\n",
       "      <td>0.061440</td>\n",
       "    </tr>\n",
       "    <tr>\n",
       "      <th>13181</th>\n",
       "      <td>0.002519</td>\n",
       "      <td>0.002741</td>\n",
       "      <td>0.003021</td>\n",
       "      <td>0.002986</td>\n",
       "      <td>0.002724</td>\n",
       "      <td>0.003209</td>\n",
       "      <td>0.003157</td>\n",
       "      <td>0.003386</td>\n",
       "      <td>0.002933</td>\n",
       "      <td>0.003359</td>\n",
       "      <td>...</td>\n",
       "      <td>0.031662</td>\n",
       "      <td>0.040090</td>\n",
       "      <td>0.038156</td>\n",
       "      <td>0.036706</td>\n",
       "      <td>0.038806</td>\n",
       "      <td>0.042968</td>\n",
       "      <td>0.045665</td>\n",
       "      <td>0.046671</td>\n",
       "      <td>0.047198</td>\n",
       "      <td>0.047504</td>\n",
       "    </tr>\n",
       "    <tr>\n",
       "      <th>387</th>\n",
       "      <td>0.001982</td>\n",
       "      <td>0.001863</td>\n",
       "      <td>0.001731</td>\n",
       "      <td>0.002060</td>\n",
       "      <td>0.002066</td>\n",
       "      <td>0.002052</td>\n",
       "      <td>0.002115</td>\n",
       "      <td>0.002058</td>\n",
       "      <td>0.002078</td>\n",
       "      <td>0.002409</td>\n",
       "      <td>...</td>\n",
       "      <td>0.037580</td>\n",
       "      <td>0.046975</td>\n",
       "      <td>0.042596</td>\n",
       "      <td>0.043434</td>\n",
       "      <td>0.044397</td>\n",
       "      <td>0.049983</td>\n",
       "      <td>0.049547</td>\n",
       "      <td>0.051519</td>\n",
       "      <td>0.053418</td>\n",
       "      <td>0.055136</td>\n",
       "    </tr>\n",
       "    <tr>\n",
       "      <th>3315</th>\n",
       "      <td>0.003410</td>\n",
       "      <td>0.003649</td>\n",
       "      <td>0.003249</td>\n",
       "      <td>0.003996</td>\n",
       "      <td>0.003839</td>\n",
       "      <td>0.003812</td>\n",
       "      <td>0.004108</td>\n",
       "      <td>0.003980</td>\n",
       "      <td>0.003624</td>\n",
       "      <td>0.004739</td>\n",
       "      <td>...</td>\n",
       "      <td>0.034828</td>\n",
       "      <td>0.042077</td>\n",
       "      <td>0.039294</td>\n",
       "      <td>0.037779</td>\n",
       "      <td>0.038634</td>\n",
       "      <td>0.045193</td>\n",
       "      <td>0.047256</td>\n",
       "      <td>0.047354</td>\n",
       "      <td>0.047590</td>\n",
       "      <td>0.048701</td>\n",
       "    </tr>\n",
       "    <tr>\n",
       "      <th>...</th>\n",
       "      <td>...</td>\n",
       "      <td>...</td>\n",
       "      <td>...</td>\n",
       "      <td>...</td>\n",
       "      <td>...</td>\n",
       "      <td>...</td>\n",
       "      <td>...</td>\n",
       "      <td>...</td>\n",
       "      <td>...</td>\n",
       "      <td>...</td>\n",
       "      <td>...</td>\n",
       "      <td>...</td>\n",
       "      <td>...</td>\n",
       "      <td>...</td>\n",
       "      <td>...</td>\n",
       "      <td>...</td>\n",
       "      <td>...</td>\n",
       "      <td>...</td>\n",
       "      <td>...</td>\n",
       "      <td>...</td>\n",
       "      <td>...</td>\n",
       "    </tr>\n",
       "    <tr>\n",
       "      <th>30283</th>\n",
       "      <td>0.002284</td>\n",
       "      <td>0.002065</td>\n",
       "      <td>0.002449</td>\n",
       "      <td>0.002800</td>\n",
       "      <td>0.002527</td>\n",
       "      <td>0.002758</td>\n",
       "      <td>0.002966</td>\n",
       "      <td>0.002579</td>\n",
       "      <td>0.002579</td>\n",
       "      <td>0.003040</td>\n",
       "      <td>...</td>\n",
       "      <td>0.016799</td>\n",
       "      <td>0.020094</td>\n",
       "      <td>0.020104</td>\n",
       "      <td>0.018915</td>\n",
       "      <td>0.020613</td>\n",
       "      <td>0.022150</td>\n",
       "      <td>0.024502</td>\n",
       "      <td>0.023740</td>\n",
       "      <td>0.023530</td>\n",
       "      <td>0.025244</td>\n",
       "    </tr>\n",
       "    <tr>\n",
       "      <th>11011</th>\n",
       "      <td>0.001842</td>\n",
       "      <td>0.002009</td>\n",
       "      <td>0.002310</td>\n",
       "      <td>0.002476</td>\n",
       "      <td>0.002482</td>\n",
       "      <td>0.002455</td>\n",
       "      <td>0.002582</td>\n",
       "      <td>0.002619</td>\n",
       "      <td>0.002383</td>\n",
       "      <td>0.002775</td>\n",
       "      <td>...</td>\n",
       "      <td>0.016695</td>\n",
       "      <td>0.020669</td>\n",
       "      <td>0.019869</td>\n",
       "      <td>0.018769</td>\n",
       "      <td>0.019640</td>\n",
       "      <td>0.022284</td>\n",
       "      <td>0.023808</td>\n",
       "      <td>0.024071</td>\n",
       "      <td>0.023518</td>\n",
       "      <td>0.023685</td>\n",
       "    </tr>\n",
       "    <tr>\n",
       "      <th>22401</th>\n",
       "      <td>0.003225</td>\n",
       "      <td>0.003165</td>\n",
       "      <td>0.003614</td>\n",
       "      <td>0.003757</td>\n",
       "      <td>0.003780</td>\n",
       "      <td>0.003964</td>\n",
       "      <td>0.003688</td>\n",
       "      <td>0.003727</td>\n",
       "      <td>0.003505</td>\n",
       "      <td>0.003876</td>\n",
       "      <td>...</td>\n",
       "      <td>0.013386</td>\n",
       "      <td>0.015526</td>\n",
       "      <td>0.015633</td>\n",
       "      <td>0.014668</td>\n",
       "      <td>0.015891</td>\n",
       "      <td>0.017193</td>\n",
       "      <td>0.018253</td>\n",
       "      <td>0.018483</td>\n",
       "      <td>0.018455</td>\n",
       "      <td>0.019429</td>\n",
       "    </tr>\n",
       "    <tr>\n",
       "      <th>18960</th>\n",
       "      <td>0.001178</td>\n",
       "      <td>0.001692</td>\n",
       "      <td>0.001552</td>\n",
       "      <td>0.001884</td>\n",
       "      <td>0.001404</td>\n",
       "      <td>0.001714</td>\n",
       "      <td>0.001635</td>\n",
       "      <td>0.001822</td>\n",
       "      <td>0.001491</td>\n",
       "      <td>0.001742</td>\n",
       "      <td>...</td>\n",
       "      <td>0.010730</td>\n",
       "      <td>0.012578</td>\n",
       "      <td>0.012266</td>\n",
       "      <td>0.011981</td>\n",
       "      <td>0.012422</td>\n",
       "      <td>0.013468</td>\n",
       "      <td>0.014134</td>\n",
       "      <td>0.014821</td>\n",
       "      <td>0.014615</td>\n",
       "      <td>0.014701</td>\n",
       "    </tr>\n",
       "    <tr>\n",
       "      <th>32830</th>\n",
       "      <td>0.002157</td>\n",
       "      <td>0.002395</td>\n",
       "      <td>0.002660</td>\n",
       "      <td>0.002878</td>\n",
       "      <td>0.002855</td>\n",
       "      <td>0.002672</td>\n",
       "      <td>0.002857</td>\n",
       "      <td>0.003035</td>\n",
       "      <td>0.002670</td>\n",
       "      <td>0.003491</td>\n",
       "      <td>...</td>\n",
       "      <td>0.029092</td>\n",
       "      <td>0.035819</td>\n",
       "      <td>0.032876</td>\n",
       "      <td>0.033346</td>\n",
       "      <td>0.035114</td>\n",
       "      <td>0.037712</td>\n",
       "      <td>0.038369</td>\n",
       "      <td>0.039352</td>\n",
       "      <td>0.040490</td>\n",
       "      <td>0.040275</td>\n",
       "    </tr>\n",
       "  </tbody>\n",
       "</table>\n",
       "<p>4335 rows × 186 columns</p>\n",
       "</div>"
      ],
      "text/plain": [
       "       b1_12_10_2  b2_12_10_2  b3_12_10_2  b4_12_10_2  b5_12_10_2  b6_12_10_2  \\\n",
       "11579    0.001953    0.002339    0.002429    0.002438    0.002509    0.002357   \n",
       "12148    0.002504    0.002207    0.002765    0.002705    0.003215    0.002909   \n",
       "13181    0.002519    0.002741    0.003021    0.002986    0.002724    0.003209   \n",
       "387      0.001982    0.001863    0.001731    0.002060    0.002066    0.002052   \n",
       "3315     0.003410    0.003649    0.003249    0.003996    0.003839    0.003812   \n",
       "...           ...         ...         ...         ...         ...         ...   \n",
       "30283    0.002284    0.002065    0.002449    0.002800    0.002527    0.002758   \n",
       "11011    0.001842    0.002009    0.002310    0.002476    0.002482    0.002455   \n",
       "22401    0.003225    0.003165    0.003614    0.003757    0.003780    0.003964   \n",
       "18960    0.001178    0.001692    0.001552    0.001884    0.001404    0.001714   \n",
       "32830    0.002157    0.002395    0.002660    0.002878    0.002855    0.002672   \n",
       "\n",
       "       b7_12_10_2  b8_12_10_2  b9_12_10_2  b10_12_10_  ...  b177_12_10  \\\n",
       "11579    0.002480    0.002167    0.002421    0.002626  ...    0.025502   \n",
       "12148    0.003087    0.003158    0.002883    0.003503  ...    0.040717   \n",
       "13181    0.003157    0.003386    0.002933    0.003359  ...    0.031662   \n",
       "387      0.002115    0.002058    0.002078    0.002409  ...    0.037580   \n",
       "3315     0.004108    0.003980    0.003624    0.004739  ...    0.034828   \n",
       "...           ...         ...         ...         ...  ...         ...   \n",
       "30283    0.002966    0.002579    0.002579    0.003040  ...    0.016799   \n",
       "11011    0.002582    0.002619    0.002383    0.002775  ...    0.016695   \n",
       "22401    0.003688    0.003727    0.003505    0.003876  ...    0.013386   \n",
       "18960    0.001635    0.001822    0.001491    0.001742  ...    0.010730   \n",
       "32830    0.002857    0.003035    0.002670    0.003491  ...    0.029092   \n",
       "\n",
       "       b178_12_10  b179_12_10  b180_12_10  b181_12_10  b182_12_10  b183_12_10  \\\n",
       "11579    0.032809    0.030932    0.029909    0.032576    0.033130    0.035683   \n",
       "12148    0.049716    0.048193    0.046397    0.050030    0.052238    0.055485   \n",
       "13181    0.040090    0.038156    0.036706    0.038806    0.042968    0.045665   \n",
       "387      0.046975    0.042596    0.043434    0.044397    0.049983    0.049547   \n",
       "3315     0.042077    0.039294    0.037779    0.038634    0.045193    0.047256   \n",
       "...           ...         ...         ...         ...         ...         ...   \n",
       "30283    0.020094    0.020104    0.018915    0.020613    0.022150    0.024502   \n",
       "11011    0.020669    0.019869    0.018769    0.019640    0.022284    0.023808   \n",
       "22401    0.015526    0.015633    0.014668    0.015891    0.017193    0.018253   \n",
       "18960    0.012578    0.012266    0.011981    0.012422    0.013468    0.014134   \n",
       "32830    0.035819    0.032876    0.033346    0.035114    0.037712    0.038369   \n",
       "\n",
       "       b184_12_10  b185_12_10  b186_12_10  \n",
       "11579    0.035006    0.038068    0.038696  \n",
       "12148    0.056661    0.058529    0.061440  \n",
       "13181    0.046671    0.047198    0.047504  \n",
       "387      0.051519    0.053418    0.055136  \n",
       "3315     0.047354    0.047590    0.048701  \n",
       "...           ...         ...         ...  \n",
       "30283    0.023740    0.023530    0.025244  \n",
       "11011    0.024071    0.023518    0.023685  \n",
       "22401    0.018483    0.018455    0.019429  \n",
       "18960    0.014821    0.014615    0.014701  \n",
       "32830    0.039352    0.040490    0.040275  \n",
       "\n",
       "[4335 rows x 186 columns]"
      ]
     },
     "metadata": {},
     "output_type": "display_data"
    },
    {
     "data": {
      "text/html": [
       "<div>\n",
       "<style scoped>\n",
       "    .dataframe tbody tr th:only-of-type {\n",
       "        vertical-align: middle;\n",
       "    }\n",
       "\n",
       "    .dataframe tbody tr th {\n",
       "        vertical-align: top;\n",
       "    }\n",
       "\n",
       "    .dataframe thead th {\n",
       "        text-align: right;\n",
       "    }\n",
       "</style>\n",
       "<table border=\"1\" class=\"dataframe\">\n",
       "  <thead>\n",
       "    <tr style=\"text-align: right;\">\n",
       "      <th></th>\n",
       "      <th>DRUH_DR</th>\n",
       "    </tr>\n",
       "  </thead>\n",
       "  <tbody>\n",
       "    <tr>\n",
       "      <th>11579</th>\n",
       "      <td>CR</td>\n",
       "    </tr>\n",
       "    <tr>\n",
       "      <th>12148</th>\n",
       "      <td>CR</td>\n",
       "    </tr>\n",
       "    <tr>\n",
       "      <th>13181</th>\n",
       "      <td>CR</td>\n",
       "    </tr>\n",
       "    <tr>\n",
       "      <th>387</th>\n",
       "      <td>CR</td>\n",
       "    </tr>\n",
       "    <tr>\n",
       "      <th>3315</th>\n",
       "      <td>CR</td>\n",
       "    </tr>\n",
       "    <tr>\n",
       "      <th>...</th>\n",
       "      <td>...</td>\n",
       "    </tr>\n",
       "    <tr>\n",
       "      <th>30283</th>\n",
       "      <td>SM</td>\n",
       "    </tr>\n",
       "    <tr>\n",
       "      <th>11011</th>\n",
       "      <td>SM</td>\n",
       "    </tr>\n",
       "    <tr>\n",
       "      <th>22401</th>\n",
       "      <td>SM</td>\n",
       "    </tr>\n",
       "    <tr>\n",
       "      <th>18960</th>\n",
       "      <td>SM</td>\n",
       "    </tr>\n",
       "    <tr>\n",
       "      <th>32830</th>\n",
       "      <td>SM</td>\n",
       "    </tr>\n",
       "  </tbody>\n",
       "</table>\n",
       "<p>4335 rows × 1 columns</p>\n",
       "</div>"
      ],
      "text/plain": [
       "      DRUH_DR\n",
       "11579      CR\n",
       "12148      CR\n",
       "13181      CR\n",
       "387        CR\n",
       "3315       CR\n",
       "...       ...\n",
       "30283      SM\n",
       "11011      SM\n",
       "22401      SM\n",
       "18960      SM\n",
       "32830      SM\n",
       "\n",
       "[4335 rows x 1 columns]"
      ]
     },
     "metadata": {},
     "output_type": "display_data"
    },
    {
     "data": {
      "text/plain": [
       "array([[1., 0., 0., 0., 0.],\n",
       "       [1., 0., 0., 0., 0.],\n",
       "       [1., 0., 0., 0., 0.],\n",
       "       ...,\n",
       "       [0., 0., 0., 0., 1.],\n",
       "       [0., 0., 0., 0., 1.],\n",
       "       [0., 0., 0., 0., 1.]], dtype=float32)"
      ]
     },
     "metadata": {},
     "output_type": "display_data"
    }
   ],
   "source": [
    "display(X_val)\n",
    "display(Y_val)\n",
    "display(Y_val_1hot)"
   ]
  },
  {
   "cell_type": "code",
   "execution_count": 16,
   "id": "f4845ec8-9988-4eb4-8826-31caada29983",
   "metadata": {
    "tags": []
   },
   "outputs": [],
   "source": [
    "def make_model(\n",
    "    input_shape: tuple,\n",
    "    filters: int,\n",
    "    kernel_size: int,\n",
    "    num_classes: int\n",
    "):\n",
    "    model = tf.keras.Sequential()\n",
    "    model.add(\n",
    "        tf.keras.layers.Input(\n",
    "            shape=input_shape\n",
    "        )\n",
    "    )\n",
    "    model.add(\n",
    "        tf.keras.layers.BatchNormalization()\n",
    "    )\n",
    "    for i in range(2):\n",
    "        model.add(\n",
    "            tf.keras.layers.Conv1D(\n",
    "                filters=filters,\n",
    "                kernel_size=kernel_size,\n",
    "                activation=tf.nn.relu,\n",
    "                padding='causal'\n",
    "            )\n",
    "        )\n",
    "    model.add(tf.keras.layers.Dropout(0.5))\n",
    "    model.add(tf.keras.layers.MaxPooling1D(pool_size=2))\n",
    "    model.add(tf.keras.layers.Flatten())\n",
    "    model.add(tf.keras.layers.Dense(num_classes * 2))\n",
    "    model.add(tf.keras.layers.Dense(num_classes))\n",
    "    model.add(tf.keras.layers.Softmax())\n",
    "    model.compile(\n",
    "        optimizer='adam',\n",
    "        loss='categorical_crossentropy',\n",
    "        metrics=['categorical_accuracy']\n",
    "    )\n",
    "    return model"
   ]
  },
  {
   "cell_type": "code",
   "execution_count": 19,
   "id": "53630333-eb5a-43ac-9c99-c71b9d2da4bc",
   "metadata": {},
   "outputs": [
    {
     "data": {
      "text/html": [
       "Finishing last run (ID:h5fz0t24) before initializing another..."
      ],
      "text/plain": [
       "<IPython.core.display.HTML object>"
      ]
     },
     "metadata": {},
     "output_type": "display_data"
    },
    {
     "data": {
      "text/html": [
       "Waiting for W&B process to finish... <strong style=\"color:green\">(success).</strong>"
      ],
      "text/plain": [
       "<IPython.core.display.HTML object>"
      ]
     },
     "metadata": {},
     "output_type": "display_data"
    },
    {
     "data": {
      "text/html": [
       " View run <strong style=\"color:#cdcd00\">crusher-data-2</strong> at: <a href='https://wandb.ai/hysped/hysped-conv1d-relu-proportional-data/runs/h5fz0t24' target=\"_blank\">https://wandb.ai/hysped/hysped-conv1d-relu-proportional-data/runs/h5fz0t24</a><br/>Synced 4 W&B file(s), 0 media file(s), 0 artifact file(s) and 0 other file(s)"
      ],
      "text/plain": [
       "<IPython.core.display.HTML object>"
      ]
     },
     "metadata": {},
     "output_type": "display_data"
    },
    {
     "data": {
      "text/html": [
       "Find logs at: <code>./wandb/run-20230405_081047-h5fz0t24/logs</code>"
      ],
      "text/plain": [
       "<IPython.core.display.HTML object>"
      ]
     },
     "metadata": {},
     "output_type": "display_data"
    },
    {
     "data": {
      "text/html": [
       "Successfully finished last run (ID:h5fz0t24). Initializing new run:<br/>"
      ],
      "text/plain": [
       "<IPython.core.display.HTML object>"
      ]
     },
     "metadata": {},
     "output_type": "display_data"
    },
    {
     "data": {
      "application/vnd.jupyter.widget-view+json": {
       "model_id": "7683c415323942c1a95d3d1751ca3e4f",
       "version_major": 2,
       "version_minor": 0
      },
      "text/plain": [
       "VBox(children=(Label(value='Waiting for wandb.init()...\\r'), FloatProgress(value=0.016669280966743825, max=1.0…"
      ]
     },
     "metadata": {},
     "output_type": "display_data"
    },
    {
     "data": {
      "text/html": [
       "wandb version 0.14.0 is available!  To upgrade, please run:\n",
       " $ pip install wandb --upgrade"
      ],
      "text/plain": [
       "<IPython.core.display.HTML object>"
      ]
     },
     "metadata": {},
     "output_type": "display_data"
    },
    {
     "data": {
      "text/html": [
       "Tracking run with wandb version 0.13.10"
      ],
      "text/plain": [
       "<IPython.core.display.HTML object>"
      ]
     },
     "metadata": {},
     "output_type": "display_data"
    },
    {
     "data": {
      "text/html": [
       "Run data is saved locally in <code>/tf/notebooks/wandb/run-20230405_081107-4qd67nzs</code>"
      ],
      "text/plain": [
       "<IPython.core.display.HTML object>"
      ]
     },
     "metadata": {},
     "output_type": "display_data"
    },
    {
     "data": {
      "text/html": [
       "Syncing run <strong><a href='https://wandb.ai/hysped/hysped-conv1d-relu-proportional-data/runs/4qd67nzs' target=\"_blank\">emissary-tanagra-3</a></strong> to <a href='https://wandb.ai/hysped/hysped-conv1d-relu-proportional-data' target=\"_blank\">Weights & Biases</a> (<a href='https://wandb.me/run' target=\"_blank\">docs</a>)<br/>"
      ],
      "text/plain": [
       "<IPython.core.display.HTML object>"
      ]
     },
     "metadata": {},
     "output_type": "display_data"
    },
    {
     "data": {
      "text/html": [
       " View project at <a href='https://wandb.ai/hysped/hysped-conv1d-relu-proportional-data' target=\"_blank\">https://wandb.ai/hysped/hysped-conv1d-relu-proportional-data</a>"
      ],
      "text/plain": [
       "<IPython.core.display.HTML object>"
      ]
     },
     "metadata": {},
     "output_type": "display_data"
    },
    {
     "data": {
      "text/html": [
       " View run at <a href='https://wandb.ai/hysped/hysped-conv1d-relu-proportional-data/runs/4qd67nzs' target=\"_blank\">https://wandb.ai/hysped/hysped-conv1d-relu-proportional-data/runs/4qd67nzs</a>"
      ],
      "text/plain": [
       "<IPython.core.display.HTML object>"
      ]
     },
     "metadata": {},
     "output_type": "display_data"
    },
    {
     "name": "stdout",
     "output_type": "stream",
     "text": [
      "Epoch 1/50\n",
      "1265/1265 [==============================] - 21s 13ms/step - loss: 0.9871 - categorical_accuracy: 0.5981 - val_loss: 0.8490 - val_categorical_accuracy: 0.6055\n",
      "Epoch 2/50\n",
      "1265/1265 [==============================] - 16s 13ms/step - loss: 0.6955 - categorical_accuracy: 0.7375 - val_loss: 0.5919 - val_categorical_accuracy: 0.7977\n",
      "Epoch 3/50\n",
      "1265/1265 [==============================] - 16s 13ms/step - loss: 0.6099 - categorical_accuracy: 0.7762 - val_loss: 0.5303 - val_categorical_accuracy: 0.8348\n",
      "Epoch 4/50\n",
      "1265/1265 [==============================] - 16s 12ms/step - loss: 0.5567 - categorical_accuracy: 0.7976 - val_loss: 0.5031 - val_categorical_accuracy: 0.8397\n",
      "Epoch 5/50\n",
      "1265/1265 [==============================] - 16s 12ms/step - loss: 0.5363 - categorical_accuracy: 0.8068 - val_loss: 0.4556 - val_categorical_accuracy: 0.8473\n",
      "Epoch 6/50\n",
      "1265/1265 [==============================] - 16s 13ms/step - loss: 0.5165 - categorical_accuracy: 0.8107 - val_loss: 0.4518 - val_categorical_accuracy: 0.8683\n",
      "Epoch 7/50\n",
      "1265/1265 [==============================] - 15s 12ms/step - loss: 0.4988 - categorical_accuracy: 0.8183 - val_loss: 0.4145 - val_categorical_accuracy: 0.8727\n",
      "Epoch 8/50\n",
      "1265/1265 [==============================] - 16s 12ms/step - loss: 0.4816 - categorical_accuracy: 0.8300 - val_loss: 0.4686 - val_categorical_accuracy: 0.8547\n",
      "Epoch 9/50\n",
      "1265/1265 [==============================] - 16s 12ms/step - loss: 0.4876 - categorical_accuracy: 0.8204 - val_loss: 0.4205 - val_categorical_accuracy: 0.8761\n",
      "Epoch 10/50\n",
      "1265/1265 [==============================] - 16s 13ms/step - loss: 0.4675 - categorical_accuracy: 0.8300 - val_loss: 0.4904 - val_categorical_accuracy: 0.8683\n",
      "Epoch 11/50\n",
      "1265/1265 [==============================] - 16s 12ms/step - loss: 0.4571 - categorical_accuracy: 0.8370 - val_loss: 0.4088 - val_categorical_accuracy: 0.8768\n",
      "Epoch 12/50\n",
      "1265/1265 [==============================] - 16s 13ms/step - loss: 0.4496 - categorical_accuracy: 0.8407 - val_loss: 0.4039 - val_categorical_accuracy: 0.8895\n",
      "Epoch 13/50\n",
      "1265/1265 [==============================] - 15s 12ms/step - loss: 0.4470 - categorical_accuracy: 0.8455 - val_loss: 0.3990 - val_categorical_accuracy: 0.8775\n",
      "Epoch 14/50\n",
      "1265/1265 [==============================] - 16s 13ms/step - loss: 0.4477 - categorical_accuracy: 0.8422 - val_loss: 0.4063 - val_categorical_accuracy: 0.8770\n",
      "Epoch 15/50\n",
      "1265/1265 [==============================] - 16s 13ms/step - loss: 0.4294 - categorical_accuracy: 0.8475 - val_loss: 0.3774 - val_categorical_accuracy: 0.8833\n",
      "Epoch 16/50\n",
      "1265/1265 [==============================] - 16s 13ms/step - loss: 0.4272 - categorical_accuracy: 0.8495 - val_loss: 0.4118 - val_categorical_accuracy: 0.8782\n",
      "Epoch 17/50\n",
      "1265/1265 [==============================] - 16s 13ms/step - loss: 0.4317 - categorical_accuracy: 0.8475 - val_loss: 0.3730 - val_categorical_accuracy: 0.8865\n",
      "Epoch 18/50\n",
      "1265/1265 [==============================] - 16s 12ms/step - loss: 0.4177 - categorical_accuracy: 0.8514 - val_loss: 0.3695 - val_categorical_accuracy: 0.8888\n",
      "Epoch 19/50\n",
      "1265/1265 [==============================] - 15s 12ms/step - loss: 0.4171 - categorical_accuracy: 0.8533 - val_loss: 0.3608 - val_categorical_accuracy: 0.9036\n",
      "Epoch 20/50\n",
      "1265/1265 [==============================] - 16s 13ms/step - loss: 0.4124 - categorical_accuracy: 0.8540 - val_loss: 0.3257 - val_categorical_accuracy: 0.9047\n",
      "Epoch 21/50\n",
      "1265/1265 [==============================] - 16s 12ms/step - loss: 0.4076 - categorical_accuracy: 0.8554 - val_loss: 0.3385 - val_categorical_accuracy: 0.9082\n",
      "Epoch 22/50\n",
      "1265/1265 [==============================] - 15s 12ms/step - loss: 0.4076 - categorical_accuracy: 0.8556 - val_loss: 0.3482 - val_categorical_accuracy: 0.8923\n",
      "Epoch 23/50\n",
      "1265/1265 [==============================] - 15s 12ms/step - loss: 0.4001 - categorical_accuracy: 0.8585 - val_loss: 0.3722 - val_categorical_accuracy: 0.8937\n",
      "Epoch 24/50\n",
      "1265/1265 [==============================] - 16s 13ms/step - loss: 0.4049 - categorical_accuracy: 0.8552 - val_loss: 0.3556 - val_categorical_accuracy: 0.8969\n",
      "Epoch 25/50\n",
      "1265/1265 [==============================] - 15s 12ms/step - loss: 0.3949 - categorical_accuracy: 0.8623 - val_loss: 0.3229 - val_categorical_accuracy: 0.9015\n",
      "Epoch 26/50\n",
      "1265/1265 [==============================] - 14s 11ms/step - loss: 0.3943 - categorical_accuracy: 0.8600 - val_loss: 0.3939 - val_categorical_accuracy: 0.8976\n",
      "Epoch 27/50\n",
      "1265/1265 [==============================] - 16s 12ms/step - loss: 0.3938 - categorical_accuracy: 0.8615 - val_loss: 0.3294 - val_categorical_accuracy: 0.9087\n",
      "Epoch 28/50\n",
      "1265/1265 [==============================] - 15s 12ms/step - loss: 0.3865 - categorical_accuracy: 0.8649 - val_loss: 0.3516 - val_categorical_accuracy: 0.9087\n",
      "Epoch 29/50\n",
      "1265/1265 [==============================] - 16s 13ms/step - loss: 0.3936 - categorical_accuracy: 0.8629 - val_loss: 0.3389 - val_categorical_accuracy: 0.8978\n",
      "Epoch 30/50\n",
      "1265/1265 [==============================] - 16s 13ms/step - loss: 0.3812 - categorical_accuracy: 0.8699 - val_loss: 0.3262 - val_categorical_accuracy: 0.8976\n",
      "Epoch 31/50\n",
      "1265/1265 [==============================] - 17s 13ms/step - loss: 0.3833 - categorical_accuracy: 0.8631 - val_loss: 0.3009 - val_categorical_accuracy: 0.9116\n",
      "Epoch 32/50\n",
      "1265/1265 [==============================] - 16s 13ms/step - loss: 0.3795 - categorical_accuracy: 0.8658 - val_loss: 0.3608 - val_categorical_accuracy: 0.8782\n",
      "Epoch 33/50\n",
      "1265/1265 [==============================] - 16s 13ms/step - loss: 0.3791 - categorical_accuracy: 0.8642 - val_loss: 0.3395 - val_categorical_accuracy: 0.9024\n",
      "Epoch 34/50\n",
      "1265/1265 [==============================] - 17s 13ms/step - loss: 0.3742 - categorical_accuracy: 0.8712 - val_loss: 0.2963 - val_categorical_accuracy: 0.9105\n",
      "Epoch 35/50\n",
      "1265/1265 [==============================] - 17s 13ms/step - loss: 0.3840 - categorical_accuracy: 0.8672 - val_loss: 0.3008 - val_categorical_accuracy: 0.9091\n",
      "Epoch 36/50\n",
      "1265/1265 [==============================] - 16s 13ms/step - loss: 0.3690 - categorical_accuracy: 0.8726 - val_loss: 0.3136 - val_categorical_accuracy: 0.9061\n",
      "Epoch 37/50\n",
      "1265/1265 [==============================] - 16s 13ms/step - loss: 0.3764 - categorical_accuracy: 0.8672 - val_loss: 0.3301 - val_categorical_accuracy: 0.9033\n",
      "Epoch 38/50\n",
      "1265/1265 [==============================] - 15s 12ms/step - loss: 0.3690 - categorical_accuracy: 0.8682 - val_loss: 0.3064 - val_categorical_accuracy: 0.9188\n",
      "Epoch 39/50\n",
      "1265/1265 [==============================] - 16s 12ms/step - loss: 0.3591 - categorical_accuracy: 0.8738 - val_loss: 0.3233 - val_categorical_accuracy: 0.9027\n",
      "Epoch 40/50\n",
      "1265/1265 [==============================] - 16s 12ms/step - loss: 0.3585 - categorical_accuracy: 0.8761 - val_loss: 0.3162 - val_categorical_accuracy: 0.9047\n",
      "Epoch 41/50\n",
      "1265/1265 [==============================] - 16s 12ms/step - loss: 0.3705 - categorical_accuracy: 0.8701 - val_loss: 0.3385 - val_categorical_accuracy: 0.8953\n",
      "Epoch 42/50\n",
      "1265/1265 [==============================] - 16s 12ms/step - loss: 0.3575 - categorical_accuracy: 0.8749 - val_loss: 0.3032 - val_categorical_accuracy: 0.9089\n",
      "Epoch 43/50\n",
      "1265/1265 [==============================] - 16s 13ms/step - loss: 0.3635 - categorical_accuracy: 0.8747 - val_loss: 0.3115 - val_categorical_accuracy: 0.9006\n",
      "Epoch 44/50\n",
      "1265/1265 [==============================] - 16s 13ms/step - loss: 0.3662 - categorical_accuracy: 0.8721 - val_loss: 0.3060 - val_categorical_accuracy: 0.9038\n",
      "Epoch 45/50\n",
      "1265/1265 [==============================] - 16s 13ms/step - loss: 0.3585 - categorical_accuracy: 0.8720 - val_loss: 0.2797 - val_categorical_accuracy: 0.9218\n",
      "Epoch 46/50\n",
      "1265/1265 [==============================] - 17s 13ms/step - loss: 0.3510 - categorical_accuracy: 0.8764 - val_loss: 0.2872 - val_categorical_accuracy: 0.9195\n",
      "Epoch 47/50\n",
      "1265/1265 [==============================] - 16s 13ms/step - loss: 0.3543 - categorical_accuracy: 0.8763 - val_loss: 0.3017 - val_categorical_accuracy: 0.9126\n",
      "Epoch 48/50\n",
      "1265/1265 [==============================] - 15s 12ms/step - loss: 0.3552 - categorical_accuracy: 0.8754 - val_loss: 0.3392 - val_categorical_accuracy: 0.8957\n",
      "Epoch 49/50\n",
      "1265/1265 [==============================] - 15s 12ms/step - loss: 0.3466 - categorical_accuracy: 0.8761 - val_loss: 0.2862 - val_categorical_accuracy: 0.9227\n",
      "Epoch 50/50\n",
      "1265/1265 [==============================] - 16s 13ms/step - loss: 0.3540 - categorical_accuracy: 0.8763 - val_loss: 0.3215 - val_categorical_accuracy: 0.8920\n"
     ]
    },
    {
     "data": {
      "text/html": [
       "Waiting for W&B process to finish... <strong style=\"color:green\">(success).</strong>"
      ],
      "text/plain": [
       "<IPython.core.display.HTML object>"
      ]
     },
     "metadata": {},
     "output_type": "display_data"
    },
    {
     "data": {
      "application/vnd.jupyter.widget-view+json": {
       "model_id": "125e954e17a440f1ad70db4322310645",
       "version_major": 2,
       "version_minor": 0
      },
      "text/plain": [
       "VBox(children=(Label(value='0.003 MB of 0.003 MB uploaded (0.000 MB deduped)\\r'), FloatProgress(value=1.0, max…"
      ]
     },
     "metadata": {},
     "output_type": "display_data"
    },
    {
     "data": {
      "text/html": [
       "<style>\n",
       "    table.wandb td:nth-child(1) { padding: 0 10px; text-align: left ; width: auto;} td:nth-child(2) {text-align: left ; width: 100%}\n",
       "    .wandb-row { display: flex; flex-direction: row; flex-wrap: wrap; justify-content: flex-start; width: 100% }\n",
       "    .wandb-col { display: flex; flex-direction: column; flex-basis: 100%; flex: 1; padding: 10px; }\n",
       "    </style>\n",
       "<div class=\"wandb-row\"><div class=\"wandb-col\"><h3>Run history:</h3><br/><table class=\"wandb\"><tr><td>epoch/categorical_accuracy</td><td>▁▅▅▆▆▇▇▇▇▇▇▇▇▇▇▇▇▇█▇████████████████████</td></tr><tr><td>epoch/epoch</td><td>▁▁▁▁▂▂▂▂▂▃▃▃▃▃▃▄▄▄▄▄▅▅▅▅▅▅▆▆▆▆▆▆▇▇▇▇▇███</td></tr><tr><td>epoch/learning_rate</td><td>▁▁▁▁▁▁▁▁▁▁▁▁▁▁▁▁▁▁▁▁▁▁▁▁▁▁▁▁▁▁▁▁▁▁▁▁▁▁▁▁</td></tr><tr><td>epoch/loss</td><td>█▅▄▃▃▃▂▃▂▂▂▂▂▂▂▂▂▂▂▂▁▁▁▁▁▁▁▁▁▁▁▁▁▁▁▁▁▁▁▁</td></tr><tr><td>epoch/val_categorical_accuracy</td><td>▁▅▆▆▇▇▇▇▇▇▇▇▇▇▇██▇▇▇█████▇██████▇█████▇▇</td></tr><tr><td>epoch/val_loss</td><td>█▅▄▄▃▃▃▃▃▂▂▂▃▂▂▂▂▂▂▂▂▂▂▂▁▂▂▁▁▂▁▁▂▁▁▁▁▁▂▁</td></tr></table><br/></div><div class=\"wandb-col\"><h3>Run summary:</h3><br/><table class=\"wandb\"><tr><td>epoch/categorical_accuracy</td><td>0.87632</td></tr><tr><td>epoch/epoch</td><td>49</td></tr><tr><td>epoch/learning_rate</td><td>0.001</td></tr><tr><td>epoch/loss</td><td>0.35401</td></tr><tr><td>epoch/val_categorical_accuracy</td><td>0.89204</td></tr><tr><td>epoch/val_loss</td><td>0.32149</td></tr></table><br/></div></div>"
      ],
      "text/plain": [
       "<IPython.core.display.HTML object>"
      ]
     },
     "metadata": {},
     "output_type": "display_data"
    },
    {
     "data": {
      "text/html": [
       " View run <strong style=\"color:#cdcd00\">emissary-tanagra-3</strong> at: <a href='https://wandb.ai/hysped/hysped-conv1d-relu-proportional-data/runs/4qd67nzs' target=\"_blank\">https://wandb.ai/hysped/hysped-conv1d-relu-proportional-data/runs/4qd67nzs</a><br/>Synced 5 W&B file(s), 0 media file(s), 0 artifact file(s) and 0 other file(s)"
      ],
      "text/plain": [
       "<IPython.core.display.HTML object>"
      ]
     },
     "metadata": {},
     "output_type": "display_data"
    },
    {
     "data": {
      "text/html": [
       "Find logs at: <code>./wandb/run-20230405_081107-4qd67nzs/logs</code>"
      ],
      "text/plain": [
       "<IPython.core.display.HTML object>"
      ]
     },
     "metadata": {},
     "output_type": "display_data"
    }
   ],
   "source": [
    "project_name = 'hysped-conv1d-relu-proportional-data'\n",
    "\n",
    "wandb.init(project=project_name)\n",
    "model = make_model(\n",
    "    input_shape=(X_train.shape[1], 1),\n",
    "    filters=32,\n",
    "    kernel_size=14,\n",
    "    num_classes=num_classes\n",
    ")\n",
    "history = model.fit(\n",
    "    x=X_train,\n",
    "    y=Y_train_1hot,\n",
    "    validation_data=(X_val, Y_val_1hot),\n",
    "    epochs=50,\n",
    "    shuffle=True,\n",
    "    batch_size=8,\n",
    "    callbacks=[\n",
    "        WandbMetricsLogger(),\n",
    "    ],\n",
    "    verbose=1\n",
    ")\n",
    "wandb.finish()"
   ]
  },
  {
   "cell_type": "code",
   "execution_count": 20,
   "id": "25a0824d-7880-438d-b910-b6443a0faf1d",
   "metadata": {},
   "outputs": [
    {
     "name": "stdout",
     "output_type": "stream",
     "text": [
      "136/136 [==============================] - 1s 4ms/step\n"
     ]
    },
    {
     "data": {
      "image/png": "[encoded data removed]",
      "text/plain": [
       "<Figure size 900x500 with 2 Axes>"
      ]
     },
     "metadata": {},
     "output_type": "display_data"
    }
   ],
   "source": [
    "Y_pred = predict_model(model, X_val, Y_val, label_encoder=label_encoder)\n",
    "cm = confusion_matrix(Y_val, Y_pred)\n",
    "\n",
    "fig, ax = plt.subplots(figsize=(9,5))\n",
    "print_cm(ax, cm, labels=label_encoder.classes_)\n",
    "plt.show()"
   ]
  },
  {
   "cell_type": "markdown",
   "id": "be5b806a-fee8-46d4-842a-2af7c8a1020f",
   "metadata": {},
   "source": [
    "## hyperparameter tuning"
   ]
  },
  {
   "cell_type": "code",
   "execution_count": null,
   "id": "e772eaa6-81a6-46a1-90dc-75e1376c0b37",
   "metadata": {
    "tags": []
   },
   "outputs": [
    {
     "name": "stdout",
     "output_type": "stream",
     "text": [
      "Create sweep with ID: x1ykyc05\n",
      "Sweep URL: https://wandb.ai/hysped/hysped-conv1d-sweep-relu-proportional-data/sweeps/x1ykyc05\n"
     ]
    },
    {
     "name": "stderr",
     "output_type": "stream",
     "text": [
      "\u001b[34m\u001b[1mwandb\u001b[0m: Agent Starting Run: 0bsri4rt with config:\n",
      "\u001b[34m\u001b[1mwandb\u001b[0m: \tbatch_size: 16\n",
      "\u001b[34m\u001b[1mwandb\u001b[0m: \tfilters: 16\n",
      "\u001b[34m\u001b[1mwandb\u001b[0m: \tkernel_size: 6\n",
      "\u001b[34m\u001b[1mwandb\u001b[0m: \u001b[33mWARNING\u001b[0m Ignored wandb.init() arg project when running a sweep.\n"
     ]
    },
    {
     "data": {
      "text/html": [
       "wandb version 0.14.0 is available!  To upgrade, please run:\n",
       " $ pip install wandb --upgrade"
      ],
      "text/plain": [
       "<IPython.core.display.HTML object>"
      ]
     },
     "metadata": {},
     "output_type": "display_data"
    },
    {
     "data": {
      "text/html": [
       "Tracking run with wandb version 0.13.10"
      ],
      "text/plain": [
       "<IPython.core.display.HTML object>"
      ]
     },
     "metadata": {},
     "output_type": "display_data"
    },
    {
     "data": {
      "text/html": [
       "Run data is saved locally in <code>/tf/notebooks/wandb/run-20230405_082814-0bsri4rt</code>"
      ],
      "text/plain": [
       "<IPython.core.display.HTML object>"
      ]
     },
     "metadata": {},
     "output_type": "display_data"
    },
    {
     "data": {
      "text/html": [
       "Syncing run <strong><a href='https://wandb.ai/hysped/hysped-conv1d-sweep-relu-proportional-data/runs/0bsri4rt' target=\"_blank\">easy-sweep-1</a></strong> to <a href='https://wandb.ai/hysped/hysped-conv1d-sweep-relu-proportional-data' target=\"_blank\">Weights & Biases</a> (<a href='https://wandb.me/run' target=\"_blank\">docs</a>)<br/>Sweep page: <a href='https://wandb.ai/hysped/hysped-conv1d-sweep-relu-proportional-data/sweeps/x1ykyc05' target=\"_blank\">https://wandb.ai/hysped/hysped-conv1d-sweep-relu-proportional-data/sweeps/x1ykyc05</a>"
      ],
      "text/plain": [
       "<IPython.core.display.HTML object>"
      ]
     },
     "metadata": {},
     "output_type": "display_data"
    },
    {
     "data": {
      "text/html": [
       " View project at <a href='https://wandb.ai/hysped/hysped-conv1d-sweep-relu-proportional-data' target=\"_blank\">https://wandb.ai/hysped/hysped-conv1d-sweep-relu-proportional-data</a>"
      ],
      "text/plain": [
       "<IPython.core.display.HTML object>"
      ]
     },
     "metadata": {},
     "output_type": "display_data"
    },
    {
     "data": {
      "text/html": [
       " View sweep at <a href='https://wandb.ai/hysped/hysped-conv1d-sweep-relu-proportional-data/sweeps/x1ykyc05' target=\"_blank\">https://wandb.ai/hysped/hysped-conv1d-sweep-relu-proportional-data/sweeps/x1ykyc05</a>"
      ],
      "text/plain": [
       "<IPython.core.display.HTML object>"
      ]
     },
     "metadata": {},
     "output_type": "display_data"
    },
    {
     "data": {
      "text/html": [
       " View run at <a href='https://wandb.ai/hysped/hysped-conv1d-sweep-relu-proportional-data/runs/0bsri4rt' target=\"_blank\">https://wandb.ai/hysped/hysped-conv1d-sweep-relu-proportional-data/runs/0bsri4rt</a>"
      ],
      "text/plain": [
       "<IPython.core.display.HTML object>"
      ]
     },
     "metadata": {},
     "output_type": "display_data"
    },
    {
     "data": {
      "text/html": [
       "Waiting for W&B process to finish... <strong style=\"color:green\">(success).</strong>"
      ],
      "text/plain": [
       "<IPython.core.display.HTML object>"
      ]
     },
     "metadata": {},
     "output_type": "display_data"
    },
    {
     "data": {
      "application/vnd.jupyter.widget-view+json": {
       "model_id": "17a075bb3a474997b66293fd919533ff",
       "version_major": 2,
       "version_minor": 0
      },
      "text/plain": [
       "VBox(children=(Label(value='0.003 MB of 0.008 MB uploaded (0.000 MB deduped)\\r'), FloatProgress(value=0.327994…"
      ]
     },
     "metadata": {},
     "output_type": "display_data"
    },
    {
     "data": {
      "text/html": [
       "<style>\n",
       "    table.wandb td:nth-child(1) { padding: 0 10px; text-align: left ; width: auto;} td:nth-child(2) {text-align: left ; width: 100%}\n",
       "    .wandb-row { display: flex; flex-direction: row; flex-wrap: wrap; justify-content: flex-start; width: 100% }\n",
       "    .wandb-col { display: flex; flex-direction: column; flex-basis: 100%; flex: 1; padding: 10px; }\n",
       "    </style>\n",
       "<div class=\"wandb-row\"><div class=\"wandb-col\"><h3>Run history:</h3><br/><table class=\"wandb\"><tr><td>categorical_accuracy</td><td>▁</td></tr><tr><td>epoch/categorical_accuracy</td><td>▁▄▅▅▆▆▆▆▆▆▆▆▇▆▇▇▇▇▇▇▇▇▇▇▇▇▇▇█▇██████████</td></tr><tr><td>epoch/epoch</td><td>▁▁▁▁▂▂▂▂▂▃▃▃▃▃▃▄▄▄▄▄▅▅▅▅▅▅▆▆▆▆▆▆▇▇▇▇▇███</td></tr><tr><td>epoch/learning_rate</td><td>▁▁▁▁▁▁▁▁▁▁▁▁▁▁▁▁▁▁▁▁▁▁▁▁▁▁▁▁▁▁▁▁▁▁▁▁▁▁▁▁</td></tr><tr><td>epoch/loss</td><td>█▅▄▄▄▃▃▃▃▃▃▃▃▃▂▂▂▂▂▂▂▂▂▂▂▂▂▂▁▁▁▁▁▁▁▁▁▁▁▁</td></tr><tr><td>epoch/val_categorical_accuracy</td><td>▁▅▆▆▆▆▆▅▇▆▇▇▇▇▇▇▇▇▇▇▇▇▇▇▇▇▇▇█▇▇█████████</td></tr><tr><td>epoch/val_loss</td><td>█▅▄▄▃▃▃▄▃▃▃▃▃▂▂▂▂▂▂▂▂▂▂▂▂▂▂▂▂▂▂▁▁▂▂▂▁▁▁▁</td></tr><tr><td>loss</td><td>▁</td></tr><tr><td>val_categorical_accuracy</td><td>▁</td></tr><tr><td>val_loss</td><td>▁</td></tr></table><br/></div><div class=\"wandb-col\"><h3>Run summary:</h3><br/><table class=\"wandb\"><tr><td>categorical_accuracy</td><td>0.82333</td></tr><tr><td>epoch/categorical_accuracy</td><td>0.82333</td></tr><tr><td>epoch/epoch</td><td>49</td></tr><tr><td>epoch/learning_rate</td><td>0.001</td></tr><tr><td>epoch/loss</td><td>0.49975</td></tr><tr><td>epoch/val_categorical_accuracy</td><td>0.87682</td></tr><tr><td>epoch/val_loss</td><td>0.40899</td></tr><tr><td>loss</td><td>0.49975</td></tr><tr><td>val_categorical_accuracy</td><td>0.87682</td></tr><tr><td>val_loss</td><td>0.40899</td></tr></table><br/></div></div>"
      ],
      "text/plain": [
       "<IPython.core.display.HTML object>"
      ]
     },
     "metadata": {},
     "output_type": "display_data"
    },
    {
     "data": {
      "text/html": [
       " View run <strong style=\"color:#cdcd00\">easy-sweep-1</strong> at: <a href='https://wandb.ai/hysped/hysped-conv1d-sweep-relu-proportional-data/runs/0bsri4rt' target=\"_blank\">https://wandb.ai/hysped/hysped-conv1d-sweep-relu-proportional-data/runs/0bsri4rt</a><br/>Synced 4 W&B file(s), 0 media file(s), 0 artifact file(s) and 0 other file(s)"
      ],
      "text/plain": [
       "<IPython.core.display.HTML object>"
      ]
     },
     "metadata": {},
     "output_type": "display_data"
    },
    {
     "data": {
      "text/html": [
       "Find logs at: <code>./wandb/run-20230405_082814-0bsri4rt/logs</code>"
      ],
      "text/plain": [
       "<IPython.core.display.HTML object>"
      ]
     },
     "metadata": {},
     "output_type": "display_data"
    },
    {
     "name": "stderr",
     "output_type": "stream",
     "text": [
      "\u001b[34m\u001b[1mwandb\u001b[0m: Agent Starting Run: fgk7lx6e with config:\n",
      "\u001b[34m\u001b[1mwandb\u001b[0m: \tbatch_size: 8\n",
      "\u001b[34m\u001b[1mwandb\u001b[0m: \tfilters: 16\n",
      "\u001b[34m\u001b[1mwandb\u001b[0m: \tkernel_size: 9\n",
      "\u001b[34m\u001b[1mwandb\u001b[0m: \u001b[33mWARNING\u001b[0m Ignored wandb.init() arg project when running a sweep.\n"
     ]
    },
    {
     "data": {
      "text/html": [
       "wandb version 0.14.0 is available!  To upgrade, please run:\n",
       " $ pip install wandb --upgrade"
      ],
      "text/plain": [
       "<IPython.core.display.HTML object>"
      ]
     },
     "metadata": {},
     "output_type": "display_data"
    },
    {
     "data": {
      "text/html": [
       "Tracking run with wandb version 0.13.10"
      ],
      "text/plain": [
       "<IPython.core.display.HTML object>"
      ]
     },
     "metadata": {},
     "output_type": "display_data"
    },
    {
     "data": {
      "text/html": [
       "Run data is saved locally in <code>/tf/notebooks/wandb/run-20230405_083411-fgk7lx6e</code>"
      ],
      "text/plain": [
       "<IPython.core.display.HTML object>"
      ]
     },
     "metadata": {},
     "output_type": "display_data"
    },
    {
     "data": {
      "text/html": [
       "Syncing run <strong><a href='https://wandb.ai/hysped/hysped-conv1d-sweep-relu-proportional-data/runs/fgk7lx6e' target=\"_blank\">drawn-sweep-2</a></strong> to <a href='https://wandb.ai/hysped/hysped-conv1d-sweep-relu-proportional-data' target=\"_blank\">Weights & Biases</a> (<a href='https://wandb.me/run' target=\"_blank\">docs</a>)<br/>Sweep page: <a href='https://wandb.ai/hysped/hysped-conv1d-sweep-relu-proportional-data/sweeps/x1ykyc05' target=\"_blank\">https://wandb.ai/hysped/hysped-conv1d-sweep-relu-proportional-data/sweeps/x1ykyc05</a>"
      ],
      "text/plain": [
       "<IPython.core.display.HTML object>"
      ]
     },
     "metadata": {},
     "output_type": "display_data"
    },
    {
     "data": {
      "text/html": [
       " View project at <a href='https://wandb.ai/hysped/hysped-conv1d-sweep-relu-proportional-data' target=\"_blank\">https://wandb.ai/hysped/hysped-conv1d-sweep-relu-proportional-data</a>"
      ],
      "text/plain": [
       "<IPython.core.display.HTML object>"
      ]
     },
     "metadata": {},
     "output_type": "display_data"
    },
    {
     "data": {
      "text/html": [
       " View sweep at <a href='https://wandb.ai/hysped/hysped-conv1d-sweep-relu-proportional-data/sweeps/x1ykyc05' target=\"_blank\">https://wandb.ai/hysped/hysped-conv1d-sweep-relu-proportional-data/sweeps/x1ykyc05</a>"
      ],
      "text/plain": [
       "<IPython.core.display.HTML object>"
      ]
     },
     "metadata": {},
     "output_type": "display_data"
    },
    {
     "data": {
      "text/html": [
       " View run at <a href='https://wandb.ai/hysped/hysped-conv1d-sweep-relu-proportional-data/runs/fgk7lx6e' target=\"_blank\">https://wandb.ai/hysped/hysped-conv1d-sweep-relu-proportional-data/runs/fgk7lx6e</a>"
      ],
      "text/plain": [
       "<IPython.core.display.HTML object>"
      ]
     },
     "metadata": {},
     "output_type": "display_data"
    },
    {
     "data": {
      "text/html": [
       "Waiting for W&B process to finish... <strong style=\"color:green\">(success).</strong>"
      ],
      "text/plain": [
       "<IPython.core.display.HTML object>"
      ]
     },
     "metadata": {},
     "output_type": "display_data"
    },
    {
     "data": {
      "application/vnd.jupyter.widget-view+json": {
       "model_id": "10e56b6714304a13b1a824929ad7d78c",
       "version_major": 2,
       "version_minor": 0
      },
      "text/plain": [
       "VBox(children=(Label(value='0.003 MB of 0.008 MB uploaded (0.000 MB deduped)\\r'), FloatProgress(value=0.327783…"
      ]
     },
     "metadata": {},
     "output_type": "display_data"
    },
    {
     "data": {
      "text/html": [
       "<style>\n",
       "    table.wandb td:nth-child(1) { padding: 0 10px; text-align: left ; width: auto;} td:nth-child(2) {text-align: left ; width: 100%}\n",
       "    .wandb-row { display: flex; flex-direction: row; flex-wrap: wrap; justify-content: flex-start; width: 100% }\n",
       "    .wandb-col { display: flex; flex-direction: column; flex-basis: 100%; flex: 1; padding: 10px; }\n",
       "    </style>\n",
       "<div class=\"wandb-row\"><div class=\"wandb-col\"><h3>Run history:</h3><br/><table class=\"wandb\"><tr><td>categorical_accuracy</td><td>▁</td></tr><tr><td>epoch/categorical_accuracy</td><td>▁▄▄▅▅▅▆▆▆▆▆▆▇▇▇▇▇▇▇▇▇▇▇▇▇▇▇█████████████</td></tr><tr><td>epoch/epoch</td><td>▁▁▁▁▂▂▂▂▂▃▃▃▃▃▃▄▄▄▄▄▅▅▅▅▅▅▆▆▆▆▆▆▇▇▇▇▇███</td></tr><tr><td>epoch/learning_rate</td><td>▁▁▁▁▁▁▁▁▁▁▁▁▁▁▁▁▁▁▁▁▁▁▁▁▁▁▁▁▁▁▁▁▁▁▁▁▁▁▁▁</td></tr><tr><td>epoch/loss</td><td>█▅▅▄▄▄▄▃▃▃▃▃▃▂▂▂▂▂▂▂▂▂▂▂▂▂▁▁▁▁▁▁▁▁▁▁▁▁▁▁</td></tr><tr><td>epoch/val_categorical_accuracy</td><td>▁▃▃▄▄▄▅▅▅▅▆▆▇▆▆▇▆▇▇▇▇▆▇▇▇▇▇▇█▇▇██▇▇▇████</td></tr><tr><td>epoch/val_loss</td><td>█▆▆▅▅▅▄▄▄▄▄▃▃▃▃▂▃▂▂▂▂▂▂▂▂▂▂▂▂▂▂▁▁▁▁▁▁▁▁▁</td></tr><tr><td>loss</td><td>▁</td></tr><tr><td>val_categorical_accuracy</td><td>▁</td></tr><tr><td>val_loss</td><td>▁</td></tr></table><br/></div><div class=\"wandb-col\"><h3>Run summary:</h3><br/><table class=\"wandb\"><tr><td>categorical_accuracy</td><td>0.8521</td></tr><tr><td>epoch/categorical_accuracy</td><td>0.8521</td></tr><tr><td>epoch/epoch</td><td>49</td></tr><tr><td>epoch/learning_rate</td><td>0.001</td></tr><tr><td>epoch/loss</td><td>0.42155</td></tr><tr><td>epoch/val_categorical_accuracy</td><td>0.89435</td></tr><tr><td>epoch/val_loss</td><td>0.36342</td></tr><tr><td>loss</td><td>0.42155</td></tr><tr><td>val_categorical_accuracy</td><td>0.89435</td></tr><tr><td>val_loss</td><td>0.36342</td></tr></table><br/></div></div>"
      ],
      "text/plain": [
       "<IPython.core.display.HTML object>"
      ]
     },
     "metadata": {},
     "output_type": "display_data"
    },
    {
     "data": {
      "text/html": [
       " View run <strong style=\"color:#cdcd00\">drawn-sweep-2</strong> at: <a href='https://wandb.ai/hysped/hysped-conv1d-sweep-relu-proportional-data/runs/fgk7lx6e' target=\"_blank\">https://wandb.ai/hysped/hysped-conv1d-sweep-relu-proportional-data/runs/fgk7lx6e</a><br/>Synced 4 W&B file(s), 0 media file(s), 0 artifact file(s) and 0 other file(s)"
      ],
      "text/plain": [
       "<IPython.core.display.HTML object>"
      ]
     },
     "metadata": {},
     "output_type": "display_data"
    },
    {
     "data": {
      "text/html": [
       "Find logs at: <code>./wandb/run-20230405_083411-fgk7lx6e/logs</code>"
      ],
      "text/plain": [
       "<IPython.core.display.HTML object>"
      ]
     },
     "metadata": {},
     "output_type": "display_data"
    },
    {
     "name": "stderr",
     "output_type": "stream",
     "text": [
      "\u001b[34m\u001b[1mwandb\u001b[0m: Sweep Agent: Waiting for job.\n",
      "\u001b[34m\u001b[1mwandb\u001b[0m: Job received.\n",
      "\u001b[34m\u001b[1mwandb\u001b[0m: Agent Starting Run: 0s1stqj0 with config:\n",
      "\u001b[34m\u001b[1mwandb\u001b[0m: \tbatch_size: 128\n",
      "\u001b[34m\u001b[1mwandb\u001b[0m: \tfilters: 32\n",
      "\u001b[34m\u001b[1mwandb\u001b[0m: \tkernel_size: 14\n",
      "\u001b[34m\u001b[1mwandb\u001b[0m: \u001b[33mWARNING\u001b[0m Ignored wandb.init() arg project when running a sweep.\n"
     ]
    },
    {
     "data": {
      "text/html": [
       "wandb version 0.14.0 is available!  To upgrade, please run:\n",
       " $ pip install wandb --upgrade"
      ],
      "text/plain": [
       "<IPython.core.display.HTML object>"
      ]
     },
     "metadata": {},
     "output_type": "display_data"
    },
    {
     "data": {
      "text/html": [
       "Tracking run with wandb version 0.13.10"
      ],
      "text/plain": [
       "<IPython.core.display.HTML object>"
      ]
     },
     "metadata": {},
     "output_type": "display_data"
    },
    {
     "data": {
      "text/html": [
       "Run data is saved locally in <code>/tf/notebooks/wandb/run-20230405_084632-0s1stqj0</code>"
      ],
      "text/plain": [
       "<IPython.core.display.HTML object>"
      ]
     },
     "metadata": {},
     "output_type": "display_data"
    },
    {
     "data": {
      "text/html": [
       "Syncing run <strong><a href='https://wandb.ai/hysped/hysped-conv1d-sweep-relu-proportional-data/runs/0s1stqj0' target=\"_blank\">swept-sweep-3</a></strong> to <a href='https://wandb.ai/hysped/hysped-conv1d-sweep-relu-proportional-data' target=\"_blank\">Weights & Biases</a> (<a href='https://wandb.me/run' target=\"_blank\">docs</a>)<br/>Sweep page: <a href='https://wandb.ai/hysped/hysped-conv1d-sweep-relu-proportional-data/sweeps/x1ykyc05' target=\"_blank\">https://wandb.ai/hysped/hysped-conv1d-sweep-relu-proportional-data/sweeps/x1ykyc05</a>"
      ],
      "text/plain": [
       "<IPython.core.display.HTML object>"
      ]
     },
     "metadata": {},
     "output_type": "display_data"
    },
    {
     "data": {
      "text/html": [
       " View project at <a href='https://wandb.ai/hysped/hysped-conv1d-sweep-relu-proportional-data' target=\"_blank\">https://wandb.ai/hysped/hysped-conv1d-sweep-relu-proportional-data</a>"
      ],
      "text/plain": [
       "<IPython.core.display.HTML object>"
      ]
     },
     "metadata": {},
     "output_type": "display_data"
    },
    {
     "data": {
      "text/html": [
       " View sweep at <a href='https://wandb.ai/hysped/hysped-conv1d-sweep-relu-proportional-data/sweeps/x1ykyc05' target=\"_blank\">https://wandb.ai/hysped/hysped-conv1d-sweep-relu-proportional-data/sweeps/x1ykyc05</a>"
      ],
      "text/plain": [
       "<IPython.core.display.HTML object>"
      ]
     },
     "metadata": {},
     "output_type": "display_data"
    },
    {
     "data": {
      "text/html": [
       " View run at <a href='https://wandb.ai/hysped/hysped-conv1d-sweep-relu-proportional-data/runs/0s1stqj0' target=\"_blank\">https://wandb.ai/hysped/hysped-conv1d-sweep-relu-proportional-data/runs/0s1stqj0</a>"
      ],
      "text/plain": [
       "<IPython.core.display.HTML object>"
      ]
     },
     "metadata": {},
     "output_type": "display_data"
    },
    {
     "data": {
      "text/html": [
       "Waiting for W&B process to finish... <strong style=\"color:green\">(success).</strong>"
      ],
      "text/plain": [
       "<IPython.core.display.HTML object>"
      ]
     },
     "metadata": {},
     "output_type": "display_data"
    },
    {
     "data": {
      "text/html": [
       "<style>\n",
       "    table.wandb td:nth-child(1) { padding: 0 10px; text-align: left ; width: auto;} td:nth-child(2) {text-align: left ; width: 100%}\n",
       "    .wandb-row { display: flex; flex-direction: row; flex-wrap: wrap; justify-content: flex-start; width: 100% }\n",
       "    .wandb-col { display: flex; flex-direction: column; flex-basis: 100%; flex: 1; padding: 10px; }\n",
       "    </style>\n",
       "<div class=\"wandb-row\"><div class=\"wandb-col\"><h3>Run history:</h3><br/><table class=\"wandb\"><tr><td>categorical_accuracy</td><td>▁</td></tr><tr><td>epoch/categorical_accuracy</td><td>▁▃▅▅▆▆▆▇▇▇▇▇▇▇▇▇▇▇▇▇▇█▇▇█▇█▇████████████</td></tr><tr><td>epoch/epoch</td><td>▁▁▁▁▂▂▂▂▂▃▃▃▃▃▃▄▄▄▄▄▅▅▅▅▅▅▆▆▆▆▆▆▇▇▇▇▇███</td></tr><tr><td>epoch/learning_rate</td><td>▁▁▁▁▁▁▁▁▁▁▁▁▁▁▁▁▁▁▁▁▁▁▁▁▁▁▁▁▁▁▁▁▁▁▁▁▁▁▁▁</td></tr><tr><td>epoch/loss</td><td>█▆▄▄▃▃▃▃▂▂▂▂▂▂▂▂▂▂▂▂▂▁▂▂▁▂▁▂▁▁▁▁▁▁▁▁▁▁▁▁</td></tr><tr><td>epoch/val_categorical_accuracy</td><td>▁▁▁▁▂▅▇▇▇▇█▇███████▇▇██▇████████████████</td></tr><tr><td>epoch/val_loss</td><td>▅▆██▅▃▂▂▂▂▁▂▁▁▁▁▁▁▁▁▁▁▁▂▁▁▁▁▁▁▁▁▁▁▁▁▁▁▁▁</td></tr><tr><td>loss</td><td>▁</td></tr><tr><td>val_categorical_accuracy</td><td>▁</td></tr><tr><td>val_loss</td><td>▁</td></tr></table><br/></div><div class=\"wandb-col\"><h3>Run summary:</h3><br/><table class=\"wandb\"><tr><td>categorical_accuracy</td><td>0.86584</td></tr><tr><td>epoch/categorical_accuracy</td><td>0.86584</td></tr><tr><td>epoch/epoch</td><td>49</td></tr><tr><td>epoch/learning_rate</td><td>0.001</td></tr><tr><td>epoch/loss</td><td>0.38892</td></tr><tr><td>epoch/val_categorical_accuracy</td><td>0.87497</td></tr><tr><td>epoch/val_loss</td><td>0.38973</td></tr><tr><td>loss</td><td>0.38892</td></tr><tr><td>val_categorical_accuracy</td><td>0.87497</td></tr><tr><td>val_loss</td><td>0.38973</td></tr></table><br/></div></div>"
      ],
      "text/plain": [
       "<IPython.core.display.HTML object>"
      ]
     },
     "metadata": {},
     "output_type": "display_data"
    },
    {
     "data": {
      "text/html": [
       " View run <strong style=\"color:#cdcd00\">swept-sweep-3</strong> at: <a href='https://wandb.ai/hysped/hysped-conv1d-sweep-relu-proportional-data/runs/0s1stqj0' target=\"_blank\">https://wandb.ai/hysped/hysped-conv1d-sweep-relu-proportional-data/runs/0s1stqj0</a><br/>Synced 4 W&B file(s), 0 media file(s), 0 artifact file(s) and 0 other file(s)"
      ],
      "text/plain": [
       "<IPython.core.display.HTML object>"
      ]
     },
     "metadata": {},
     "output_type": "display_data"
    },
    {
     "data": {
      "text/html": [
       "Find logs at: <code>./wandb/run-20230405_084632-0s1stqj0/logs</code>"
      ],
      "text/plain": [
       "<IPython.core.display.HTML object>"
      ]
     },
     "metadata": {},
     "output_type": "display_data"
    },
    {
     "name": "stderr",
     "output_type": "stream",
     "text": [
      "\u001b[34m\u001b[1mwandb\u001b[0m: Agent Starting Run: erwuiutb with config:\n",
      "\u001b[34m\u001b[1mwandb\u001b[0m: \tbatch_size: 2\n",
      "\u001b[34m\u001b[1mwandb\u001b[0m: \tfilters: 16\n",
      "\u001b[34m\u001b[1mwandb\u001b[0m: \tkernel_size: 5\n",
      "\u001b[34m\u001b[1mwandb\u001b[0m: \u001b[33mWARNING\u001b[0m Ignored wandb.init() arg project when running a sweep.\n"
     ]
    },
    {
     "data": {
      "text/html": [
       "wandb version 0.14.0 is available!  To upgrade, please run:\n",
       " $ pip install wandb --upgrade"
      ],
      "text/plain": [
       "<IPython.core.display.HTML object>"
      ]
     },
     "metadata": {},
     "output_type": "display_data"
    },
    {
     "data": {
      "text/html": [
       "Tracking run with wandb version 0.13.10"
      ],
      "text/plain": [
       "<IPython.core.display.HTML object>"
      ]
     },
     "metadata": {},
     "output_type": "display_data"
    },
    {
     "data": {
      "text/html": [
       "Run data is saved locally in <code>/tf/notebooks/wandb/run-20230405_084734-erwuiutb</code>"
      ],
      "text/plain": [
       "<IPython.core.display.HTML object>"
      ]
     },
     "metadata": {},
     "output_type": "display_data"
    },
    {
     "data": {
      "text/html": [
       "Syncing run <strong><a href='https://wandb.ai/hysped/hysped-conv1d-sweep-relu-proportional-data/runs/erwuiutb' target=\"_blank\">drawn-sweep-4</a></strong> to <a href='https://wandb.ai/hysped/hysped-conv1d-sweep-relu-proportional-data' target=\"_blank\">Weights & Biases</a> (<a href='https://wandb.me/run' target=\"_blank\">docs</a>)<br/>Sweep page: <a href='https://wandb.ai/hysped/hysped-conv1d-sweep-relu-proportional-data/sweeps/x1ykyc05' target=\"_blank\">https://wandb.ai/hysped/hysped-conv1d-sweep-relu-proportional-data/sweeps/x1ykyc05</a>"
      ],
      "text/plain": [
       "<IPython.core.display.HTML object>"
      ]
     },
     "metadata": {},
     "output_type": "display_data"
    },
    {
     "data": {
      "text/html": [
       " View project at <a href='https://wandb.ai/hysped/hysped-conv1d-sweep-relu-proportional-data' target=\"_blank\">https://wandb.ai/hysped/hysped-conv1d-sweep-relu-proportional-data</a>"
      ],
      "text/plain": [
       "<IPython.core.display.HTML object>"
      ]
     },
     "metadata": {},
     "output_type": "display_data"
    },
    {
     "data": {
      "text/html": [
       " View sweep at <a href='https://wandb.ai/hysped/hysped-conv1d-sweep-relu-proportional-data/sweeps/x1ykyc05' target=\"_blank\">https://wandb.ai/hysped/hysped-conv1d-sweep-relu-proportional-data/sweeps/x1ykyc05</a>"
      ],
      "text/plain": [
       "<IPython.core.display.HTML object>"
      ]
     },
     "metadata": {},
     "output_type": "display_data"
    },
    {
     "data": {
      "text/html": [
       " View run at <a href='https://wandb.ai/hysped/hysped-conv1d-sweep-relu-proportional-data/runs/erwuiutb' target=\"_blank\">https://wandb.ai/hysped/hysped-conv1d-sweep-relu-proportional-data/runs/erwuiutb</a>"
      ],
      "text/plain": [
       "<IPython.core.display.HTML object>"
      ]
     },
     "metadata": {},
     "output_type": "display_data"
    }
   ],
   "source": [
    "project_name = 'hysped-conv1d-sweep-relu-proportional-data'\n",
    "\n",
    "def main():\n",
    "    wandb.init(project=project_name)\n",
    "    model = make_model(\n",
    "        input_shape=(X_train.shape[1], 1),\n",
    "        filters=wandb.config.filters,\n",
    "        kernel_size=wandb.config.kernel_size,\n",
    "        num_classes=num_classes\n",
    "    )\n",
    "    history = model.fit(\n",
    "        x=X_train,\n",
    "        y=Y_train_1hot,\n",
    "        epochs=50,\n",
    "        validation_data=(X_val, Y_val_1hot),\n",
    "        shuffle=True,\n",
    "        batch_size=wandb.config.batch_size,\n",
    "        callbacks=[\n",
    "            WandbMetricsLogger(),\n",
    "        ],\n",
    "        verbose=0\n",
    "    )\n",
    "    wandb.log(pd.DataFrame(history.history)[-1:].reset_index(drop=True).to_dict(orient='records')[0])\n",
    "\n",
    "# Define the search space\n",
    "sweep_configuration = {\n",
    "    'method': 'random',\n",
    "    'metric': {\n",
    "        'goal': 'maximize',\n",
    "        'name': 'val_categorical_accuracy'\n",
    "    },\n",
    "    'parameters': {\n",
    "        'kernel_size': {\n",
    "            'values': [x for x in range(3,17)]\n",
    "        },\n",
    "        'filters': {\n",
    "            'values': [2**x for x in range(4,8)]\n",
    "        },\n",
    "        'batch_size': {\n",
    "            'values': [2**x for x in range(8)]\n",
    "        }\n",
    "     }\n",
    "}\n",
    "\n",
    "# Start the sweep\n",
    "sweep_id = wandb.sweep(sweep=sweep_configuration, project=project_name)\n",
    "wandb.agent(sweep_id, function=main, count=25)\n",
    "wandb.finish()"
   ]
  },
  {
   "cell_type": "code",
   "execution_count": null,
   "id": "fe1422cb-a8e7-4864-a728-bbcce856c238",
   "metadata": {},
   "outputs": [],
   "source": []
  }
 ],
 "metadata": {
  "kernelspec": {
   "display_name": "Python 3",
   "language": "python",
   "name": "python3"
  },
  "language_info": {
   "codemirror_mode": {
    "name": "ipython",
    "version": 3
   },
   "file_extension": ".py",
   "mimetype": "text/x-python",
   "name": "python",
   "nbconvert_exporter": "python",
   "pygments_lexer": "ipython3",
   "version": "3.8.10"
  }
 },
 "nbformat": 4,
 "nbformat_minor": 5
}
