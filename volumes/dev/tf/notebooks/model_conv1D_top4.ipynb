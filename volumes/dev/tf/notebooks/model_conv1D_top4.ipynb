{
 "cells": [
  {
   "cell_type": "code",
   "execution_count": 1,
   "id": "e425699b-0beb-4bde-a1c0-2ce572f5bece",
   "metadata": {
    "tags": []
   },
   "outputs": [
    {
     "name": "stderr",
     "output_type": "stream",
     "text": [
      "\u001b[34m\u001b[1mwandb\u001b[0m: Currently logged in as: \u001b[33mstevo\u001b[0m (\u001b[33mhysped\u001b[0m). Use \u001b[1m`wandb login --relogin`\u001b[0m to force relogin\n"
     ]
    }
   ],
   "source": [
    "import os\n",
    "# os.environ[\"CUDA_VISIBLE_DEVICES\"] = '-1'\n",
    "\n",
    "import sys\n",
    "\n",
    "from importlib import reload\n",
    "\n",
    "import logging\n",
    "reload(logging)\n",
    "logging.basicConfig(\n",
    "    format='%(asctime)s | %(name)s | %(levelname)s : %(message)s',\n",
    "    level=logging.INFO,\n",
    "    stream=sys.stdout\n",
    ")\n",
    "\n",
    "logger = logging.getLogger('hysped')\n",
    "logger.setLevel(logging.DEBUG)\n",
    "\n",
    "import contextily as ctx\n",
    "import geocube\n",
    "import geopandas as gpd\n",
    "import json\n",
    "import matplotlib.pyplot as plt\n",
    "import matplotlib.ticker as mticker\n",
    "import numpy as np\n",
    "import pandas as pd\n",
    "import re\n",
    "import seaborn as sns\n",
    "import shapely\n",
    "import tensorflow as tf\n",
    "import visualkeras\n",
    "import zipfile\n",
    "\n",
    "import wandb\n",
    "wandb.login()\n",
    "\n",
    "from functools import partial\n",
    "from geocube.api.core import make_geocube\n",
    "from geocube.rasterize import rasterize_points_griddata, rasterize_points_radial\n",
    "from IPython.display import JSON, HTML\n",
    "from keras.utils.np_utils import to_categorical\n",
    "from matplotlib.colors import to_rgba\n",
    "from shapely.geometry import box, mapping\n",
    "from sklearn.metrics import confusion_matrix, ConfusionMatrixDisplay\n",
    "from sklearn.preprocessing import LabelEncoder\n",
    "from tensorflow.keras import layers\n",
    "from tqdm.notebook import trange, tqdm\n",
    "from wandb.keras import WandbMetricsLogger, WandbEvalCallback, WandbModelCheckpoint\n",
    "\n",
    "\n",
    "gpus = tf.config.list_physical_devices('GPU')\n",
    "if gpus:\n",
    "    # configure utilization of GPUs\n",
    "    try:\n",
    "        for gpu in gpus:\n",
    "            # memory growth setting\n",
    "            tf.config.experimental.set_memory_growth(gpu, True)\n",
    "            tf.config.set_logical_device_configuration(\n",
    "                gpu,\n",
    "                [tf.config.LogicalDeviceConfiguration(memory_limit=256)]\n",
    "            )\n",
    "    except RuntimeError as e:\n",
    "        # Virtual devices must be set before GPUs have been initialized\n",
    "        module_logger.error(e)\n",
    "\n",
    "\n",
    "# Make numpy values easier to read.\n",
    "np.set_printoptions(precision=6, suppress=True)\n",
    "\n",
    "%matplotlib inline"
   ]
  },
  {
   "cell_type": "code",
   "execution_count": 2,
   "id": "603ce378-b8a8-4d81-8116-2d26b4d48023",
   "metadata": {
    "tags": []
   },
   "outputs": [],
   "source": [
    "def mkdir(path):\n",
    "    if not os.path.isdir(path):\n",
    "        if not os.path.exists(path):\n",
    "            os.mkdir(path)\n",
    "            \n",
    "def predict_model(m, X, Y, label_encoder):\n",
    "    Y_pred = m.predict(X)\n",
    "    Y_pred = np.argmax(Y_pred, axis=1)\n",
    "    Y_pred = label_encoder.inverse_transform(Y_pred)\n",
    "    Y_pred = pd.DataFrame(Y_pred, columns=['Y_pred'])\n",
    "    return Y_pred\n",
    "\n",
    "def plot_cm(ax, cm, labels, title='Confusion Matrix'):\n",
    "    sns.heatmap(\n",
    "        cm,\n",
    "        annot=True,\n",
    "        fmt='g',\n",
    "        ax=ax,\n",
    "        cmap='Blues',\n",
    "        # square=True,\n",
    "        xticklabels=labels,\n",
    "        yticklabels=labels,\n",
    "        linewidths=1,\n",
    "        # annot_kws={'size': 12}\n",
    "    )\n",
    "\n",
    "    ax.set_title(title)\n",
    "    ax.set_xlabel('Predicted label')\n",
    "    ax.set_ylabel('True label')\n",
    "\n",
    "    plt.xticks(rotation=90)\n",
    "    plt.yticks(rotation=0)\n",
    "    plt.tight_layout()"
   ]
  },
  {
   "cell_type": "markdown",
   "id": "4ddbc4e9-f5cd-4ad4-bb81-36fb2c628673",
   "metadata": {},
   "source": [
    "## Configuration"
   ]
  },
  {
   "cell_type": "code",
   "execution_count": 3,
   "id": "abab32e8-6f14-4780-b4e0-e1bb7562fdbd",
   "metadata": {
    "tags": []
   },
   "outputs": [
    {
     "data": {
      "application/json": {
       "class_column": "DRUH_DR",
       "data_dir": "../data/Sverepec_spolu_preprocessed_top4",
       "model_name": "conv1D_top4",
       "models_dir": "../models",
       "num_conv1D_layers": 3,
       "project_name": "hysped-conv1D_top4"
      },
      "text/plain": [
       "<IPython.core.display.JSON object>"
      ]
     },
     "metadata": {
      "application/json": {
       "expanded": true,
       "root": "root"
      }
     },
     "output_type": "display_data"
    }
   ],
   "source": [
    "cfg = dict(\n",
    "    data_dir = os.path.join('..', 'data', 'Sverepec_spolu_preprocessed_top4'),\n",
    "    models_dir = os.path.join('..', 'models'),\n",
    "    class_column = 'DRUH_DR',\n",
    "    model_name = 'conv1D_top4',\n",
    "    num_conv1D_layers = 3,\n",
    ")\n",
    "cfg['project_name'] = 'hysped-%s' % cfg['model_name']\n",
    "\n",
    "mkdir(cfg['models_dir'])\n",
    "display(JSON(cfg, expanded=True))"
   ]
  },
  {
   "cell_type": "markdown",
   "id": "18b495d4-aad9-449c-baf0-e237da0352aa",
   "metadata": {
    "tags": []
   },
   "source": [
    "## Load data"
   ]
  },
  {
   "cell_type": "code",
   "execution_count": 4,
   "id": "bb414119-fb28-4517-bf3d-64166c603d60",
   "metadata": {
    "tags": []
   },
   "outputs": [],
   "source": [
    "X_train = pd.read_parquet(os.path.join(cfg['data_dir'], 'X_train.parquet'))\n",
    "Y_train = pd.read_parquet(os.path.join(cfg['data_dir'], 'Y_train.parquet'))\n",
    "X_val = pd.read_parquet(os.path.join(cfg['data_dir'], 'X_val.parquet'))\n",
    "Y_val = pd.read_parquet(os.path.join(cfg['data_dir'], 'Y_val.parquet'))\n",
    "\n",
    "label_encoder = LabelEncoder()\n",
    "encoder_filename = os.path.join(cfg['data_dir'], 'encoder-%s.npy' % cfg['class_column'])\n",
    "label_encoder.classes_ = np.load(encoder_filename, allow_pickle=True)\n",
    "\n",
    "num_classes = len(label_encoder.classes_)\n",
    "\n",
    "X_train = X_train.values\n",
    "Y_train = to_categorical(\n",
    "    label_encoder.transform(Y_train[cfg['class_column']]),\n",
    "    num_classes=num_classes\n",
    ")\n",
    "\n",
    "X_val = X_val.values\n",
    "Y_val = to_categorical(\n",
    "    label_encoder.transform(Y_val[cfg['class_column']]),\n",
    "    num_classes=num_classes\n",
    ")"
   ]
  },
  {
   "cell_type": "markdown",
   "id": "d799c48f-2a73-4a40-a9fe-69ee29e009ce",
   "metadata": {},
   "source": [
    "## Model architecture"
   ]
  },
  {
   "cell_type": "code",
   "execution_count": 51,
   "id": "f4845ec8-9988-4eb4-8826-31caada29983",
   "metadata": {
    "tags": []
   },
   "outputs": [],
   "source": [
    "def make_model(\n",
    "    input_shape: tuple,\n",
    "    filters: [int],\n",
    "    kernel_sizes: [int],\n",
    "    num_classes: int,\n",
    "    padding: str,\n",
    "    **kwargs\n",
    "):\n",
    "    model = tf.keras.Sequential()\n",
    "    model.add(\n",
    "        tf.keras.layers.Input(\n",
    "            shape=input_shape\n",
    "        )\n",
    "    )\n",
    "    model.add(\n",
    "        tf.keras.layers.BatchNormalization()\n",
    "    )\n",
    "    \n",
    "    for f,k in zip(filters, kernel_sizes):\n",
    "        model.add(\n",
    "            tf.keras.layers.Conv1D(\n",
    "                filters=f,\n",
    "                kernel_size=k,\n",
    "                activation=tf.nn.relu,\n",
    "                padding=padding\n",
    "            )\n",
    "        )\n",
    "        model.add(tf.keras.layers.MaxPooling1D(pool_size=2))\n",
    "        \n",
    "    model.add(tf.keras.layers.Dropout(0.5))\n",
    "    model.add(tf.keras.layers.Flatten())\n",
    "    model.add(tf.keras.layers.Dense(num_classes * 2))\n",
    "    model.add(tf.keras.layers.Dense(num_classes))\n",
    "    model.add(tf.keras.layers.Softmax())\n",
    "    model.compile(\n",
    "        optimizer='adam',\n",
    "        loss='categorical_crossentropy',\n",
    "        metrics=['categorical_accuracy']\n",
    "    )\n",
    "    return model"
   ]
  },
  {
   "cell_type": "markdown",
   "id": "36bbc2f3-e63f-43ce-b207-e784d94f42be",
   "metadata": {},
   "source": [
    "## Train model"
   ]
  },
  {
   "cell_type": "code",
   "execution_count": 30,
   "id": "53630333-eb5a-43ac-9c99-c71b9d2da4bc",
   "metadata": {
    "collapsed": true,
    "jupyter": {
     "outputs_hidden": true
    },
    "tags": []
   },
   "outputs": [
    {
     "data": {
      "text/html": [
       "wandb version 0.14.1 is available!  To upgrade, please run:\n",
       " $ pip install wandb --upgrade"
      ],
      "text/plain": [
       "<IPython.core.display.HTML object>"
      ]
     },
     "metadata": {},
     "output_type": "display_data"
    },
    {
     "data": {
      "text/html": [
       "Tracking run with wandb version 0.13.10"
      ],
      "text/plain": [
       "<IPython.core.display.HTML object>"
      ]
     },
     "metadata": {},
     "output_type": "display_data"
    },
    {
     "data": {
      "text/html": [
       "Run data is saved locally in <code>/tf/notebooks/wandb/run-20230407_133231-gtsmpet1</code>"
      ],
      "text/plain": [
       "<IPython.core.display.HTML object>"
      ]
     },
     "metadata": {},
     "output_type": "display_data"
    },
    {
     "data": {
      "text/html": [
       "Syncing run <strong><a href='https://wandb.ai/hysped/hysped-conv1D_top4/runs/gtsmpet1' target=\"_blank\">balmy-music-78</a></strong> to <a href='https://wandb.ai/hysped/hysped-conv1D_top4' target=\"_blank\">Weights & Biases</a> (<a href='https://wandb.me/run' target=\"_blank\">docs</a>)<br/>"
      ],
      "text/plain": [
       "<IPython.core.display.HTML object>"
      ]
     },
     "metadata": {},
     "output_type": "display_data"
    },
    {
     "data": {
      "text/html": [
       " View project at <a href='https://wandb.ai/hysped/hysped-conv1D_top4' target=\"_blank\">https://wandb.ai/hysped/hysped-conv1D_top4</a>"
      ],
      "text/plain": [
       "<IPython.core.display.HTML object>"
      ]
     },
     "metadata": {},
     "output_type": "display_data"
    },
    {
     "data": {
      "text/html": [
       " View run at <a href='https://wandb.ai/hysped/hysped-conv1D_top4/runs/gtsmpet1' target=\"_blank\">https://wandb.ai/hysped/hysped-conv1D_top4/runs/gtsmpet1</a>"
      ],
      "text/plain": [
       "<IPython.core.display.HTML object>"
      ]
     },
     "metadata": {},
     "output_type": "display_data"
    },
    {
     "name": "stdout",
     "output_type": "stream",
     "text": [
      "2023-04-07 13:32:32,626 | hysped | INFO : run.id: gtsmpet1, run.name: balmy-music-78\n",
      "Model: \"sequential_3\"\n",
      "_________________________________________________________________\n",
      " Layer (type)                Output Shape              Param #   \n",
      "=================================================================\n",
      " batch_normalization_3 (Batc  (None, 186, 1)           4         \n",
      " hNormalization)                                                 \n",
      "                                                                 \n",
      " conv1d_12 (Conv1D)          (None, 186, 512)          5120      \n",
      "                                                                 \n",
      " max_pooling1d_6 (MaxPooling  (None, 93, 512)          0         \n",
      " 1D)                                                             \n",
      "                                                                 \n",
      " conv1d_13 (Conv1D)          (None, 93, 256)           917760    \n",
      "                                                                 \n",
      " max_pooling1d_7 (MaxPooling  (None, 46, 256)          0         \n",
      " 1D)                                                             \n",
      "                                                                 \n",
      " conv1d_14 (Conv1D)          (None, 46, 128)           163968    \n",
      "                                                                 \n",
      " max_pooling1d_8 (MaxPooling  (None, 23, 128)          0         \n",
      " 1D)                                                             \n",
      "                                                                 \n",
      " conv1d_15 (Conv1D)          (None, 23, 64)            24640     \n",
      "                                                                 \n",
      " max_pooling1d_9 (MaxPooling  (None, 11, 64)           0         \n",
      " 1D)                                                             \n",
      "                                                                 \n",
      " dropout_6 (Dropout)         (None, 11, 64)            0         \n",
      "                                                                 \n",
      " flatten_3 (Flatten)         (None, 704)               0         \n",
      "                                                                 \n",
      " dense_6 (Dense)             (None, 10)                7050      \n",
      "                                                                 \n",
      " dense_7 (Dense)             (None, 5)                 55        \n",
      "                                                                 \n",
      " softmax_3 (Softmax)         (None, 5)                 0         \n",
      "                                                                 \n",
      "=================================================================\n",
      "Total params: 1,118,597\n",
      "Trainable params: 1,118,595\n",
      "Non-trainable params: 2\n",
      "_________________________________________________________________\n",
      "2023-04-07 13:32:32,836 | hysped | INFO : model_dir: ../models/conv1D_top4\n",
      "2023-04-07 13:32:32,838 | hysped | INFO : model_file: ../models/conv1D_top4/run_gtsmpet1_model.h5\n",
      "Epoch 1/50\n",
      "80/80 [==============================] - 5s 34ms/step - loss: 1.3353 - categorical_accuracy: 0.4064 - val_loss: 1.7769 - val_categorical_accuracy: 0.1970\n",
      "Epoch 2/50\n",
      "80/80 [==============================] - 3s 32ms/step - loss: 1.0508 - categorical_accuracy: 0.5512 - val_loss: 2.2939 - val_categorical_accuracy: 0.1970\n",
      "Epoch 3/50\n",
      "80/80 [==============================] - 3s 32ms/step - loss: 0.9404 - categorical_accuracy: 0.6084 - val_loss: 2.9609 - val_categorical_accuracy: 0.1970\n",
      "Epoch 4/50\n",
      "80/80 [==============================] - 3s 32ms/step - loss: 0.8511 - categorical_accuracy: 0.6416 - val_loss: 2.6465 - val_categorical_accuracy: 0.1970\n",
      "Epoch 5/50\n",
      "80/80 [==============================] - 3s 32ms/step - loss: 0.7566 - categorical_accuracy: 0.6906 - val_loss: 3.5538 - val_categorical_accuracy: 0.1970\n",
      "Epoch 6/50\n",
      "80/80 [==============================] - 3s 32ms/step - loss: 0.7366 - categorical_accuracy: 0.6930 - val_loss: 2.1192 - val_categorical_accuracy: 0.2588\n",
      "Epoch 7/50\n",
      "80/80 [==============================] - 3s 32ms/step - loss: 0.6924 - categorical_accuracy: 0.7228 - val_loss: 1.6488 - val_categorical_accuracy: 0.3839\n",
      "Epoch 8/50\n",
      "80/80 [==============================] - 3s 31ms/step - loss: 0.6593 - categorical_accuracy: 0.7387 - val_loss: 0.9890 - val_categorical_accuracy: 0.5912\n",
      "Epoch 9/50\n",
      "80/80 [==============================] - 3s 32ms/step - loss: 0.6314 - categorical_accuracy: 0.7532 - val_loss: 1.0328 - val_categorical_accuracy: 0.5516\n",
      "Epoch 10/50\n",
      "80/80 [==============================] - 3s 32ms/step - loss: 0.6405 - categorical_accuracy: 0.7538 - val_loss: 0.5776 - val_categorical_accuracy: 0.7629\n",
      "Epoch 11/50\n",
      "80/80 [==============================] - 3s 32ms/step - loss: 0.5647 - categorical_accuracy: 0.7839 - val_loss: 0.4696 - val_categorical_accuracy: 0.8311\n",
      "Epoch 12/50\n",
      "80/80 [==============================] - 3s 32ms/step - loss: 0.5376 - categorical_accuracy: 0.7970 - val_loss: 0.6625 - val_categorical_accuracy: 0.7329\n",
      "Epoch 13/50\n",
      "80/80 [==============================] - 3s 32ms/step - loss: 0.6540 - categorical_accuracy: 0.7533 - val_loss: 0.4906 - val_categorical_accuracy: 0.8021\n",
      "Epoch 14/50\n",
      "80/80 [==============================] - 3s 32ms/step - loss: 0.5209 - categorical_accuracy: 0.8052 - val_loss: 0.4610 - val_categorical_accuracy: 0.8376\n",
      "Epoch 15/50\n",
      "80/80 [==============================] - 3s 32ms/step - loss: 0.4999 - categorical_accuracy: 0.8145 - val_loss: 0.4153 - val_categorical_accuracy: 0.8607\n",
      "Epoch 16/50\n",
      "80/80 [==============================] - 3s 32ms/step - loss: 0.4839 - categorical_accuracy: 0.8225 - val_loss: 0.3935 - val_categorical_accuracy: 0.8581\n",
      "Epoch 17/50\n",
      "80/80 [==============================] - 3s 32ms/step - loss: 0.4774 - categorical_accuracy: 0.8288 - val_loss: 0.3993 - val_categorical_accuracy: 0.8632\n",
      "Epoch 18/50\n",
      "80/80 [==============================] - 2s 31ms/step - loss: 0.4472 - categorical_accuracy: 0.8428 - val_loss: 0.4119 - val_categorical_accuracy: 0.8450\n",
      "Epoch 19/50\n",
      "80/80 [==============================] - 3s 32ms/step - loss: 0.4929 - categorical_accuracy: 0.8178 - val_loss: 0.4085 - val_categorical_accuracy: 0.8468\n",
      "Epoch 20/50\n",
      "80/80 [==============================] - 3s 32ms/step - loss: 0.4350 - categorical_accuracy: 0.8420 - val_loss: 0.3648 - val_categorical_accuracy: 0.8651\n",
      "Epoch 21/50\n",
      "80/80 [==============================] - 3s 32ms/step - loss: 0.4085 - categorical_accuracy: 0.8535 - val_loss: 0.4224 - val_categorical_accuracy: 0.8337\n",
      "Epoch 22/50\n",
      "80/80 [==============================] - 3s 32ms/step - loss: 0.4808 - categorical_accuracy: 0.8248 - val_loss: 0.3765 - val_categorical_accuracy: 0.8618\n",
      "Epoch 23/50\n",
      "80/80 [==============================] - 3s 32ms/step - loss: 0.4019 - categorical_accuracy: 0.8549 - val_loss: 0.3467 - val_categorical_accuracy: 0.8907\n",
      "Epoch 24/50\n",
      "80/80 [==============================] - 3s 32ms/step - loss: 0.3915 - categorical_accuracy: 0.8571 - val_loss: 0.4446 - val_categorical_accuracy: 0.8334\n",
      "Epoch 25/50\n",
      "80/80 [==============================] - 2s 31ms/step - loss: 0.4513 - categorical_accuracy: 0.8277 - val_loss: 0.3501 - val_categorical_accuracy: 0.8826\n",
      "Epoch 26/50\n",
      "80/80 [==============================] - 3s 31ms/step - loss: 0.4148 - categorical_accuracy: 0.8496 - val_loss: 0.3156 - val_categorical_accuracy: 0.8849\n",
      "Epoch 27/50\n",
      "80/80 [==============================] - 3s 31ms/step - loss: 0.3674 - categorical_accuracy: 0.8662 - val_loss: 0.4028 - val_categorical_accuracy: 0.8291\n",
      "Epoch 28/50\n",
      "80/80 [==============================] - 3s 32ms/step - loss: 0.4330 - categorical_accuracy: 0.8388 - val_loss: 0.3244 - val_categorical_accuracy: 0.8794\n",
      "Epoch 29/50\n",
      "80/80 [==============================] - 3s 32ms/step - loss: 0.3759 - categorical_accuracy: 0.8652 - val_loss: 0.3216 - val_categorical_accuracy: 0.8715\n",
      "Epoch 30/50\n",
      "80/80 [==============================] - 3s 33ms/step - loss: 0.3756 - categorical_accuracy: 0.8660 - val_loss: 0.3139 - val_categorical_accuracy: 0.8937\n",
      "Epoch 31/50\n",
      "80/80 [==============================] - 3s 32ms/step - loss: 0.3490 - categorical_accuracy: 0.8733 - val_loss: 0.2797 - val_categorical_accuracy: 0.8934\n",
      "Epoch 32/50\n",
      "80/80 [==============================] - 3s 32ms/step - loss: 0.3415 - categorical_accuracy: 0.8774 - val_loss: 0.2653 - val_categorical_accuracy: 0.9029\n",
      "Epoch 33/50\n",
      "80/80 [==============================] - 3s 32ms/step - loss: 0.3372 - categorical_accuracy: 0.8779 - val_loss: 0.3049 - val_categorical_accuracy: 0.8911\n",
      "Epoch 34/50\n",
      "80/80 [==============================] - 3s 32ms/step - loss: 0.3305 - categorical_accuracy: 0.8804 - val_loss: 0.8399 - val_categorical_accuracy: 0.6773\n",
      "Epoch 35/50\n",
      "80/80 [==============================] - 3s 32ms/step - loss: 0.6051 - categorical_accuracy: 0.7748 - val_loss: 0.3438 - val_categorical_accuracy: 0.8754\n",
      "Epoch 36/50\n",
      "80/80 [==============================] - 3s 32ms/step - loss: 0.3982 - categorical_accuracy: 0.8534 - val_loss: 0.3033 - val_categorical_accuracy: 0.8939\n",
      "Epoch 37/50\n",
      "80/80 [==============================] - 3s 31ms/step - loss: 0.3696 - categorical_accuracy: 0.8665 - val_loss: 0.2925 - val_categorical_accuracy: 0.8851\n",
      "Epoch 38/50\n",
      "80/80 [==============================] - 3s 31ms/step - loss: 0.3557 - categorical_accuracy: 0.8688 - val_loss: 0.2971 - val_categorical_accuracy: 0.8879\n",
      "Epoch 39/50\n",
      "80/80 [==============================] - 3s 32ms/step - loss: 0.3848 - categorical_accuracy: 0.8600 - val_loss: 0.2749 - val_categorical_accuracy: 0.9031\n",
      "Epoch 40/50\n",
      "80/80 [==============================] - 3s 32ms/step - loss: 0.3444 - categorical_accuracy: 0.8771 - val_loss: 0.3372 - val_categorical_accuracy: 0.8727\n",
      "Epoch 41/50\n",
      "80/80 [==============================] - 3s 31ms/step - loss: 0.3732 - categorical_accuracy: 0.8602 - val_loss: 0.2662 - val_categorical_accuracy: 0.8992\n",
      "Epoch 42/50\n",
      "80/80 [==============================] - 3s 32ms/step - loss: 0.3233 - categorical_accuracy: 0.8839 - val_loss: 0.2992 - val_categorical_accuracy: 0.8879\n",
      "Epoch 43/50\n",
      "80/80 [==============================] - 3s 32ms/step - loss: 0.3260 - categorical_accuracy: 0.8823 - val_loss: 0.2650 - val_categorical_accuracy: 0.9040\n",
      "Epoch 44/50\n",
      "80/80 [==============================] - 3s 32ms/step - loss: 0.3152 - categorical_accuracy: 0.8846 - val_loss: 0.2511 - val_categorical_accuracy: 0.9091\n",
      "Epoch 45/50\n",
      "80/80 [==============================] - 2s 31ms/step - loss: 0.3067 - categorical_accuracy: 0.8870 - val_loss: 0.2684 - val_categorical_accuracy: 0.8939\n",
      "Epoch 46/50\n",
      "80/80 [==============================] - 3s 32ms/step - loss: 0.3275 - categorical_accuracy: 0.8768 - val_loss: 0.2937 - val_categorical_accuracy: 0.8934\n",
      "Epoch 47/50\n",
      "80/80 [==============================] - 3s 32ms/step - loss: 0.3494 - categorical_accuracy: 0.8739 - val_loss: 0.2466 - val_categorical_accuracy: 0.9100\n",
      "Epoch 48/50\n",
      "80/80 [==============================] - 3s 32ms/step - loss: 0.3024 - categorical_accuracy: 0.8920 - val_loss: 0.4101 - val_categorical_accuracy: 0.8422\n",
      "Epoch 49/50\n",
      "80/80 [==============================] - 3s 31ms/step - loss: 0.4423 - categorical_accuracy: 0.8330 - val_loss: 0.3168 - val_categorical_accuracy: 0.8791\n",
      "Epoch 50/50\n",
      "80/80 [==============================] - 3s 32ms/step - loss: 0.4108 - categorical_accuracy: 0.8467 - val_loss: 0.2880 - val_categorical_accuracy: 0.8909\n"
     ]
    },
    {
     "data": {
      "text/html": [
       "Waiting for W&B process to finish... <strong style=\"color:green\">(success).</strong>"
      ],
      "text/plain": [
       "<IPython.core.display.HTML object>"
      ]
     },
     "metadata": {},
     "output_type": "display_data"
    },
    {
     "data": {
      "text/html": [
       "<style>\n",
       "    table.wandb td:nth-child(1) { padding: 0 10px; text-align: left ; width: auto;} td:nth-child(2) {text-align: left ; width: 100%}\n",
       "    .wandb-row { display: flex; flex-direction: row; flex-wrap: wrap; justify-content: flex-start; width: 100% }\n",
       "    .wandb-col { display: flex; flex-direction: column; flex-basis: 100%; flex: 1; padding: 10px; }\n",
       "    </style>\n",
       "<div class=\"wandb-row\"><div class=\"wandb-col\"><h3>Run history:</h3><br/><table class=\"wandb\"><tr><td>epoch/categorical_accuracy</td><td>▁▃▄▄▅▆▆▆▆▇▆▇▇▇▇▇▇▇▇▇▇█▇█████▇██████████▇</td></tr><tr><td>epoch/epoch</td><td>▁▁▁▁▂▂▂▂▂▃▃▃▃▃▃▄▄▄▄▄▅▅▅▅▅▅▆▆▆▆▆▆▇▇▇▇▇███</td></tr><tr><td>epoch/learning_rate</td><td>▁▁▁▁▁▁▁▁▁▁▁▁▁▁▁▁▁▁▁▁▁▁▁▁▁▁▁▁▁▁▁▁▁▁▁▁▁▁▁▁</td></tr><tr><td>epoch/loss</td><td>█▆▅▅▄▄▃▃▃▃▃▂▂▂▂▂▂▂▂▂▂▁▂▁▁▁▁▁▂▁▁▂▁▁▁▁▁▁▁▂</td></tr><tr><td>epoch/val_categorical_accuracy</td><td>▁▁▁▁▂▃▅▄▇▆▇▇▇█▇▇▇██▇█▇█████▆██████████▇█</td></tr><tr><td>epoch/val_loss</td><td>▅▆█▇▆▅▃▃▂▂▂▂▁▁▁▁▁▁▁▂▁▁▁▁▁▁▁▃▁▁▁▁▁▁▁▁▁▁▁▁</td></tr></table><br/></div><div class=\"wandb-col\"><h3>Run summary:</h3><br/><table class=\"wandb\"><tr><td>epoch/categorical_accuracy</td><td>0.84666</td></tr><tr><td>epoch/epoch</td><td>49</td></tr><tr><td>epoch/learning_rate</td><td>0.001</td></tr><tr><td>epoch/loss</td><td>0.41076</td></tr><tr><td>epoch/val_categorical_accuracy</td><td>0.89089</td></tr><tr><td>epoch/val_loss</td><td>0.28798</td></tr></table><br/></div></div>"
      ],
      "text/plain": [
       "<IPython.core.display.HTML object>"
      ]
     },
     "metadata": {},
     "output_type": "display_data"
    },
    {
     "data": {
      "text/html": [
       " View run <strong style=\"color:#cdcd00\">balmy-music-78</strong> at: <a href='https://wandb.ai/hysped/hysped-conv1D_top4/runs/gtsmpet1' target=\"_blank\">https://wandb.ai/hysped/hysped-conv1D_top4/runs/gtsmpet1</a><br/>Synced 5 W&B file(s), 0 media file(s), 17 artifact file(s) and 0 other file(s)"
      ],
      "text/plain": [
       "<IPython.core.display.HTML object>"
      ]
     },
     "metadata": {},
     "output_type": "display_data"
    },
    {
     "data": {
      "text/html": [
       "Find logs at: <code>./wandb/run-20230407_133231-gtsmpet1/logs</code>"
      ],
      "text/plain": [
       "<IPython.core.display.HTML object>"
      ]
     },
     "metadata": {},
     "output_type": "display_data"
    }
   ],
   "source": [
    "config = dict(\n",
    "    input_shape=(X_train.shape[1], 1),   \n",
    "    filters=[512,256,128,64],\n",
    "    kernel_sizes=[9,7,5,3],\n",
    "    num_classes=Y_train.shape[1],\n",
    "    padding='causal'\n",
    ")\n",
    "\n",
    "run = wandb.init(\n",
    "    project=cfg['project_name'],\n",
    "    config=config\n",
    ")\n",
    "logger.info('run.id: %s, run.name: %s' % (run.id, run.name))\n",
    "\n",
    "model = make_model(**run.config)\n",
    "model.summary()\n",
    "\n",
    "model_dir = os.path.join(cfg['models_dir'], cfg['model_name'])\n",
    "mkdir(model_dir)\n",
    "logger.info('model_dir: %s' % model_dir)\n",
    "model_file = os.path.join(model_dir, 'run_%s_model.h5' % (run.id))\n",
    "logger.info('model_file: %s' % model_file)\n",
    "\n",
    "wandbModelCheckpoint = WandbModelCheckpoint(\n",
    "    model_file,\n",
    "    monitor='val_categorical_accuracy',\n",
    "    mode='max',\n",
    "    save_best_only=True\n",
    ")\n",
    "\n",
    "callbacks = [\n",
    "    WandbMetricsLogger(),\n",
    "    wandbModelCheckpoint,\n",
    "]\n",
    "\n",
    "history = model.fit(\n",
    "    x=X_train,\n",
    "    y=Y_train,\n",
    "    validation_data=(X_val, Y_val),\n",
    "    epochs=50,\n",
    "    shuffle=True,\n",
    "    batch_size=128,\n",
    "    callbacks=callbacks,\n",
    "    verbose=1\n",
    ")\n",
    "\n",
    "run.finish()\n",
    "wandb.finish()"
   ]
  },
  {
   "cell_type": "markdown",
   "id": "7e6f2bb9-cb53-4d8f-ab8d-4f940d082203",
   "metadata": {},
   "source": [
    "## Confusion matrix"
   ]
  },
  {
   "cell_type": "code",
   "execution_count": 31,
   "id": "25a0824d-7880-438d-b910-b6443a0faf1d",
   "metadata": {},
   "outputs": [
    {
     "name": "stdout",
     "output_type": "stream",
     "text": [
      "136/136 [==============================] - 1s 5ms/step\n"
     ]
    },
    {
     "data": {
      "image/png": "[encoded data removed]",
      "text/plain": [
       "<Figure size 900x500 with 2 Axes>"
      ]
     },
     "metadata": {},
     "output_type": "display_data"
    }
   ],
   "source": [
    "# load the best model\n",
    "m = tf.keras.models.load_model(wandbModelCheckpoint.filepath)\n",
    "\n",
    "Y_pred = predict_model(m, X_val, Y_val, label_encoder=label_encoder)\n",
    "cm = confusion_matrix(label_encoder.inverse_transform(np.argmax(Y_val, axis=1)), Y_pred)\n",
    "\n",
    "fig, ax = plt.subplots(figsize=(9,5))\n",
    "plot_cm(ax, cm, labels=label_encoder.classes_)\n",
    "plt.title('%s\\n%s\\n%s: %.2f%%\\n' % (cfg['model_name'], os.path.basename(model_file), wandbModelCheckpoint.monitor, wandbModelCheckpoint.best * 100.0))\n",
    "plt.show()"
   ]
  },
  {
   "cell_type": "markdown",
   "id": "be5b806a-fee8-46d4-842a-2af7c8a1020f",
   "metadata": {},
   "source": [
    "## Hyperparameter tuning"
   ]
  },
  {
   "cell_type": "code",
   "execution_count": 32,
   "id": "3d75f8d1-9914-49bc-baca-36b9ccd81faf",
   "metadata": {
    "tags": []
   },
   "outputs": [
    {
     "data": {
      "application/json": {
       "method": "random",
       "metric": {
        "goal": "maximize",
        "name": "val_categorical_accuracy"
       },
       "parameters": {
        "batch_size": {
         "values": [
          128
         ]
        },
        "filters": {
         "values": [
          [
           8,
           4,
           2
          ],
          [
           16,
           8,
           4
          ],
          [
           32,
           16,
           8
          ],
          [
           64,
           32,
           16
          ],
          [
           128,
           64,
           32
          ],
          [
           256,
           128,
           64
          ],
          [
           512,
           256,
           128
          ],
          [
           1024,
           512,
           256
          ]
         ]
        },
        "input_shape": {
         "values": [
          [
           186,
           1
          ]
         ]
        },
        "kernel_sizes": {
         "values": [
          [
           3,
           3,
           3
          ],
          [
           5,
           5,
           5
          ],
          [
           7,
           7,
           7
          ],
          [
           9,
           9,
           9
          ],
          [
           11,
           11,
           11
          ],
          [
           13,
           13,
           13
          ],
          [
           15,
           15,
           15
          ]
         ]
        },
        "num_classes": {
         "values": [
          5
         ]
        },
        "padding": {
         "values": [
          "causal"
         ]
        }
       }
      },
      "text/plain": [
       "<IPython.core.display.JSON object>"
      ]
     },
     "metadata": {
      "application/json": {
       "expanded": true,
       "root": "root"
      }
     },
     "output_type": "display_data"
    }
   ],
   "source": [
    "# Define the search space\n",
    "sweep_configuration = {\n",
    "    'method': 'random',\n",
    "    'metric': {\n",
    "        'goal': 'maximize',\n",
    "        'name': 'val_categorical_accuracy'\n",
    "    },\n",
    "    'parameters': {\n",
    "        'input_shape': {\n",
    "            'values': [(X_train.shape[1], 1)]\n",
    "        },\n",
    "        'num_classes': {\n",
    "            'values': [num_classes]\n",
    "        },\n",
    "        'kernel_sizes': {\n",
    "            'values': [\n",
    "                [kernel_size for conv1d_layer in range(cfg['num_conv1D_layers'])] for kernel_size in [3,5,7,9,11,13,15]\n",
    "            ]\n",
    "        },\n",
    "        'filters': {\n",
    "            'values': [\n",
    "                [2**(conv1d_layer+i) for conv1d_layer in range(cfg['num_conv1D_layers'],0,-1)] for i in range(8)\n",
    "            ]\n",
    "        },\n",
    "        'batch_size': {\n",
    "            'values': [\n",
    "                128\n",
    "            ]\n",
    "        },\n",
    "        'padding': {\n",
    "            'values': [\n",
    "                'causal'\n",
    "            ]\n",
    "        }\n",
    "    }\n",
    "}\n",
    "\n",
    "display(JSON(sweep_configuration, expanded=True))"
   ]
  },
  {
   "cell_type": "code",
   "execution_count": null,
   "id": "e772eaa6-81a6-46a1-90dc-75e1376c0b37",
   "metadata": {
    "tags": []
   },
   "outputs": [
    {
     "name": "stdout",
     "output_type": "stream",
     "text": [
      "Create sweep with ID: z1gj71w2\n",
      "Sweep URL: https://wandb.ai/hysped/hysped-conv1D_top4/sweeps/z1gj71w2\n"
     ]
    },
    {
     "name": "stderr",
     "output_type": "stream",
     "text": [
      "\u001b[34m\u001b[1mwandb\u001b[0m: Agent Starting Run: ic3x6ked with config:\n",
      "\u001b[34m\u001b[1mwandb\u001b[0m: \tbatch_size: 128\n",
      "\u001b[34m\u001b[1mwandb\u001b[0m: \tfilters: [256, 128, 64]\n",
      "\u001b[34m\u001b[1mwandb\u001b[0m: \tinput_shape: [186, 1]\n",
      "\u001b[34m\u001b[1mwandb\u001b[0m: \tkernel_sizes: [3, 3, 3]\n",
      "\u001b[34m\u001b[1mwandb\u001b[0m: \tnum_classes: 5\n",
      "\u001b[34m\u001b[1mwandb\u001b[0m: \tpadding: causal\n",
      "\u001b[34m\u001b[1mwandb\u001b[0m: \u001b[33mWARNING\u001b[0m Ignored wandb.init() arg project when running a sweep.\n"
     ]
    },
    {
     "data": {
      "text/html": [
       "wandb version 0.14.1 is available!  To upgrade, please run:\n",
       " $ pip install wandb --upgrade"
      ],
      "text/plain": [
       "<IPython.core.display.HTML object>"
      ]
     },
     "metadata": {},
     "output_type": "display_data"
    },
    {
     "data": {
      "text/html": [
       "Tracking run with wandb version 0.13.10"
      ],
      "text/plain": [
       "<IPython.core.display.HTML object>"
      ]
     },
     "metadata": {},
     "output_type": "display_data"
    },
    {
     "data": {
      "text/html": [
       "Run data is saved locally in <code>/tf/notebooks/wandb/run-20230407_142124-ic3x6ked</code>"
      ],
      "text/plain": [
       "<IPython.core.display.HTML object>"
      ]
     },
     "metadata": {},
     "output_type": "display_data"
    },
    {
     "data": {
      "text/html": [
       "Syncing run <strong><a href='https://wandb.ai/hysped/hysped-conv1D_top4/runs/ic3x6ked' target=\"_blank\">eternal-sweep-1</a></strong> to <a href='https://wandb.ai/hysped/hysped-conv1D_top4' target=\"_blank\">Weights & Biases</a> (<a href='https://wandb.me/run' target=\"_blank\">docs</a>)<br/>Sweep page: <a href='https://wandb.ai/hysped/hysped-conv1D_top4/sweeps/z1gj71w2' target=\"_blank\">https://wandb.ai/hysped/hysped-conv1D_top4/sweeps/z1gj71w2</a>"
      ],
      "text/plain": [
       "<IPython.core.display.HTML object>"
      ]
     },
     "metadata": {},
     "output_type": "display_data"
    },
    {
     "data": {
      "text/html": [
       " View project at <a href='https://wandb.ai/hysped/hysped-conv1D_top4' target=\"_blank\">https://wandb.ai/hysped/hysped-conv1D_top4</a>"
      ],
      "text/plain": [
       "<IPython.core.display.HTML object>"
      ]
     },
     "metadata": {},
     "output_type": "display_data"
    },
    {
     "data": {
      "text/html": [
       " View sweep at <a href='https://wandb.ai/hysped/hysped-conv1D_top4/sweeps/z1gj71w2' target=\"_blank\">https://wandb.ai/hysped/hysped-conv1D_top4/sweeps/z1gj71w2</a>"
      ],
      "text/plain": [
       "<IPython.core.display.HTML object>"
      ]
     },
     "metadata": {},
     "output_type": "display_data"
    },
    {
     "data": {
      "text/html": [
       " View run at <a href='https://wandb.ai/hysped/hysped-conv1D_top4/runs/ic3x6ked' target=\"_blank\">https://wandb.ai/hysped/hysped-conv1D_top4/runs/ic3x6ked</a>"
      ],
      "text/plain": [
       "<IPython.core.display.HTML object>"
      ]
     },
     "metadata": {},
     "output_type": "display_data"
    },
    {
     "name": "stdout",
     "output_type": "stream",
     "text": [
      "2023-04-07 14:21:25,072 | hysped | INFO : model_dir: ../models/conv1D_top4\n",
      "2023-04-07 14:21:25,073 | hysped | INFO : model_file: ../models/conv1D_top4/run_ic3x6ked_model.h5\n",
      "Epoch 1/50\n",
      "80/80 [==============================] - 5s 32ms/step - loss: 1.3464 - categorical_accuracy: 0.3893 - val_loss: 3.5448 - val_categorical_accuracy: 0.1970\n",
      "Epoch 2/50\n",
      "80/80 [==============================] - 1s 17ms/step - loss: 1.1972 - categorical_accuracy: 0.4921 - val_loss: 5.1735 - val_categorical_accuracy: 0.1970\n",
      "Epoch 3/50\n",
      "80/80 [==============================] - 1s 17ms/step - loss: 1.0207 - categorical_accuracy: 0.5811 - val_loss: 4.6646 - val_categorical_accuracy: 0.1970\n",
      "Epoch 4/50\n",
      "80/80 [==============================] - 1s 17ms/step - loss: 0.9324 - categorical_accuracy: 0.6237 - val_loss: 6.0264 - val_categorical_accuracy: 0.1970\n",
      "Epoch 5/50\n",
      "80/80 [==============================] - 1s 17ms/step - loss: 0.8778 - categorical_accuracy: 0.6538 - val_loss: 5.3316 - val_categorical_accuracy: 0.1970\n",
      "Epoch 6/50\n",
      "80/80 [==============================] - 1s 18ms/step - loss: 0.8440 - categorical_accuracy: 0.6651 - val_loss: 3.7210 - val_categorical_accuracy: 0.2722\n",
      "Epoch 7/50\n",
      "80/80 [==============================] - 1s 18ms/step - loss: 0.8220 - categorical_accuracy: 0.6820 - val_loss: 1.7184 - val_categorical_accuracy: 0.3744\n",
      "Epoch 8/50\n",
      "80/80 [==============================] - 1s 18ms/step - loss: 0.7813 - categorical_accuracy: 0.6955 - val_loss: 1.1881 - val_categorical_accuracy: 0.4800\n",
      "Epoch 9/50\n",
      "80/80 [==============================] - 1s 18ms/step - loss: 0.8023 - categorical_accuracy: 0.6917 - val_loss: 0.7487 - val_categorical_accuracy: 0.7287\n",
      "Epoch 10/50\n",
      "80/80 [==============================] - 1s 17ms/step - loss: 0.8085 - categorical_accuracy: 0.6897 - val_loss: 0.7288 - val_categorical_accuracy: 0.7315\n",
      "Epoch 11/50\n",
      "80/80 [==============================] - 1s 18ms/step - loss: 0.7753 - categorical_accuracy: 0.6970 - val_loss: 0.6671 - val_categorical_accuracy: 0.7836\n",
      "Epoch 12/50\n",
      "80/80 [==============================] - 1s 17ms/step - loss: 0.7644 - categorical_accuracy: 0.7103 - val_loss: 0.6071 - val_categorical_accuracy: 0.7825\n",
      "Epoch 13/50\n",
      "80/80 [==============================] - 1s 17ms/step - loss: 0.7528 - categorical_accuracy: 0.7079 - val_loss: 0.6274 - val_categorical_accuracy: 0.7569\n",
      "Epoch 14/50\n",
      "80/80 [==============================] - 1s 17ms/step - loss: 0.7510 - categorical_accuracy: 0.7112 - val_loss: 0.6102 - val_categorical_accuracy: 0.7730\n",
      "Epoch 15/50\n",
      "80/80 [==============================] - 1s 17ms/step - loss: 0.7401 - categorical_accuracy: 0.7195 - val_loss: 0.6124 - val_categorical_accuracy: 0.7769\n",
      "Epoch 16/50\n",
      "80/80 [==============================] - 1s 18ms/step - loss: 0.7372 - categorical_accuracy: 0.7159 - val_loss: 0.6049 - val_categorical_accuracy: 0.7792\n",
      "Epoch 17/50\n",
      "80/80 [==============================] - 1s 17ms/step - loss: 0.7242 - categorical_accuracy: 0.7262 - val_loss: 0.6034 - val_categorical_accuracy: 0.7792\n",
      "Epoch 18/50\n",
      "80/80 [==============================] - 1s 17ms/step - loss: 0.7782 - categorical_accuracy: 0.7013 - val_loss: 0.6280 - val_categorical_accuracy: 0.7696\n",
      "Epoch 19/50\n",
      "80/80 [==============================] - 1s 17ms/step - loss: 0.7326 - categorical_accuracy: 0.7230 - val_loss: 0.6233 - val_categorical_accuracy: 0.7656\n",
      "Epoch 20/50\n",
      "80/80 [==============================] - 1s 18ms/step - loss: 0.7199 - categorical_accuracy: 0.7303 - val_loss: 0.5774 - val_categorical_accuracy: 0.7864\n",
      "Epoch 21/50\n",
      "80/80 [==============================] - 1s 17ms/step - loss: 0.7061 - categorical_accuracy: 0.7323 - val_loss: 0.5703 - val_categorical_accuracy: 0.7988\n",
      "Epoch 22/50\n",
      "80/80 [==============================] - 1s 17ms/step - loss: 0.7001 - categorical_accuracy: 0.7370 - val_loss: 0.5625 - val_categorical_accuracy: 0.8090\n",
      "Epoch 23/50\n",
      "80/80 [==============================] - 1s 17ms/step - loss: 0.6949 - categorical_accuracy: 0.7409 - val_loss: 0.5810 - val_categorical_accuracy: 0.7892\n",
      "Epoch 24/50\n",
      "80/80 [==============================] - 4s 57ms/step - loss: 0.7151 - categorical_accuracy: 0.7263 - val_loss: 0.5959 - val_categorical_accuracy: 0.7859\n",
      "Epoch 25/50\n",
      "80/80 [==============================] - 1s 18ms/step - loss: 0.7002 - categorical_accuracy: 0.7343 - val_loss: 0.5571 - val_categorical_accuracy: 0.7975\n",
      "Epoch 26/50\n",
      "80/80 [==============================] - 1s 17ms/step - loss: 0.6796 - categorical_accuracy: 0.7435 - val_loss: 0.5572 - val_categorical_accuracy: 0.8016\n",
      "Epoch 27/50\n",
      "80/80 [==============================] - 1s 18ms/step - loss: 0.6847 - categorical_accuracy: 0.7409 - val_loss: 0.5444 - val_categorical_accuracy: 0.8111\n",
      "Epoch 28/50\n",
      "80/80 [==============================] - 1s 17ms/step - loss: 0.6768 - categorical_accuracy: 0.7461 - val_loss: 0.5657 - val_categorical_accuracy: 0.7899\n",
      "Epoch 29/50\n",
      "80/80 [==============================] - 1s 18ms/step - loss: 0.6847 - categorical_accuracy: 0.7452 - val_loss: 0.5599 - val_categorical_accuracy: 0.8074\n",
      "Epoch 30/50\n",
      "80/80 [==============================] - 1s 17ms/step - loss: 0.6598 - categorical_accuracy: 0.7547 - val_loss: 0.5332 - val_categorical_accuracy: 0.8099\n",
      "Epoch 31/50\n",
      "80/80 [==============================] - 1s 17ms/step - loss: 0.6569 - categorical_accuracy: 0.7531 - val_loss: 0.5969 - val_categorical_accuracy: 0.7806\n",
      "Epoch 32/50\n",
      "80/80 [==============================] - 1s 17ms/step - loss: 0.7391 - categorical_accuracy: 0.7199 - val_loss: 0.5613 - val_categorical_accuracy: 0.8048\n",
      "Epoch 33/50\n",
      "80/80 [==============================] - 1s 18ms/step - loss: 0.6944 - categorical_accuracy: 0.7330 - val_loss: 0.5488 - val_categorical_accuracy: 0.7993\n",
      "Epoch 34/50\n",
      "80/80 [==============================] - 1s 17ms/step - loss: 0.6808 - categorical_accuracy: 0.7367 - val_loss: 0.5589 - val_categorical_accuracy: 0.7982\n",
      "Epoch 35/50\n",
      "80/80 [==============================] - 1s 17ms/step - loss: 0.6704 - categorical_accuracy: 0.7462 - val_loss: 0.5668 - val_categorical_accuracy: 0.7963\n",
      "Epoch 36/50\n",
      "80/80 [==============================] - 1s 16ms/step - loss: 0.6842 - categorical_accuracy: 0.7383 - val_loss: 0.5968 - val_categorical_accuracy: 0.7661\n",
      "Epoch 37/50\n",
      "80/80 [==============================] - 1s 17ms/step - loss: 0.6711 - categorical_accuracy: 0.7451 - val_loss: 0.5324 - val_categorical_accuracy: 0.8037\n",
      "Epoch 38/50\n",
      "80/80 [==============================] - 1s 17ms/step - loss: 0.6444 - categorical_accuracy: 0.7607 - val_loss: 0.5129 - val_categorical_accuracy: 0.8180\n",
      "Epoch 39/50\n",
      "80/80 [==============================] - 1s 17ms/step - loss: 0.6558 - categorical_accuracy: 0.7512 - val_loss: 0.5917 - val_categorical_accuracy: 0.7559\n",
      "Epoch 40/50\n",
      "80/80 [==============================] - 1s 17ms/step - loss: 0.6355 - categorical_accuracy: 0.7612 - val_loss: 0.6073 - val_categorical_accuracy: 0.7696\n",
      "Epoch 41/50\n",
      "80/80 [==============================] - 1s 17ms/step - loss: 0.7418 - categorical_accuracy: 0.7212 - val_loss: 0.5747 - val_categorical_accuracy: 0.7931\n",
      "Epoch 42/50\n",
      "80/80 [==============================] - 1s 17ms/step - loss: 0.6596 - categorical_accuracy: 0.7540 - val_loss: 0.5357 - val_categorical_accuracy: 0.8014\n",
      "Epoch 43/50\n",
      "80/80 [==============================] - 1s 17ms/step - loss: 0.6323 - categorical_accuracy: 0.7634 - val_loss: 0.7008 - val_categorical_accuracy: 0.7142\n",
      "Epoch 44/50\n",
      "80/80 [==============================] - 1s 18ms/step - loss: 0.6710 - categorical_accuracy: 0.7466 - val_loss: 0.5705 - val_categorical_accuracy: 0.7866\n",
      "Epoch 45/50\n",
      "80/80 [==============================] - 1s 17ms/step - loss: 0.6736 - categorical_accuracy: 0.7435 - val_loss: 0.5270 - val_categorical_accuracy: 0.8009\n",
      "Epoch 46/50\n",
      "80/80 [==============================] - 1s 17ms/step - loss: 0.6231 - categorical_accuracy: 0.7652 - val_loss: 0.5223 - val_categorical_accuracy: 0.8104\n",
      "Epoch 47/50\n",
      "80/80 [==============================] - 1s 17ms/step - loss: 0.6457 - categorical_accuracy: 0.7592 - val_loss: 0.5122 - val_categorical_accuracy: 0.8173\n",
      "Epoch 48/50\n",
      "80/80 [==============================] - 1s 18ms/step - loss: 0.6081 - categorical_accuracy: 0.7750 - val_loss: 0.4765 - val_categorical_accuracy: 0.8441\n",
      "Epoch 49/50\n",
      "80/80 [==============================] - 1s 17ms/step - loss: 0.6070 - categorical_accuracy: 0.7759 - val_loss: 0.5221 - val_categorical_accuracy: 0.8076\n",
      "Epoch 50/50\n",
      "80/80 [==============================] - 1s 17ms/step - loss: 0.6378 - categorical_accuracy: 0.7621 - val_loss: 0.4837 - val_categorical_accuracy: 0.8275\n"
     ]
    },
    {
     "data": {
      "text/html": [
       "Waiting for W&B process to finish... <strong style=\"color:green\">(success).</strong>"
      ],
      "text/plain": [
       "<IPython.core.display.HTML object>"
      ]
     },
     "metadata": {},
     "output_type": "display_data"
    },
    {
     "data": {
      "text/html": [
       "<style>\n",
       "    table.wandb td:nth-child(1) { padding: 0 10px; text-align: left ; width: auto;} td:nth-child(2) {text-align: left ; width: 100%}\n",
       "    .wandb-row { display: flex; flex-direction: row; flex-wrap: wrap; justify-content: flex-start; width: 100% }\n",
       "    .wandb-col { display: flex; flex-direction: column; flex-basis: 100%; flex: 1; padding: 10px; }\n",
       "    </style>\n",
       "<div class=\"wandb-row\"><div class=\"wandb-col\"><h3>Run history:</h3><br/><table class=\"wandb\"><tr><td>epoch/categorical_accuracy</td><td>▁▃▄▅▆▆▇▆▇▇▇▇▇▇▇▇▇▇▇▇▇▇▇▇█▇▇▇▇▇██▇██▇████</td></tr><tr><td>epoch/epoch</td><td>▁▁▁▁▂▂▂▂▂▃▃▃▃▃▃▄▄▄▄▄▅▅▅▅▅▅▆▆▆▆▆▆▇▇▇▇▇███</td></tr><tr><td>epoch/learning_rate</td><td>▁▁▁▁▁▁▁▁▁▁▁▁▁▁▁▁▁▁▁▁▁▁▁▁▁▁▁▁▁▁▁▁▁▁▁▁▁▁▁▁</td></tr><tr><td>epoch/loss</td><td>█▇▅▄▃▃▃▃▃▂▂▂▂▂▃▂▂▂▂▂▂▂▂▂▁▂▂▂▂▂▁▁▂▁▁▂▁▁▁▁</td></tr><tr><td>epoch/val_categorical_accuracy</td><td>▁▁▁▁▂▃▄▇▇▇▇▇▇▇▇▇██▇▇██▇█▇███▇██▇▇█▇▇████</td></tr><tr><td>epoch/val_loss</td><td>▅▇▆█▅▃▂▁▁▁▁▁▁▁▁▁▁▁▁▁▁▁▁▁▁▁▁▁▁▁▁▁▁▁▁▁▁▁▁▁</td></tr><tr><td>val_categorical_accuracy</td><td>▁</td></tr></table><br/></div><div class=\"wandb-col\"><h3>Run summary:</h3><br/><table class=\"wandb\"><tr><td>epoch/categorical_accuracy</td><td>0.76214</td></tr><tr><td>epoch/epoch</td><td>49</td></tr><tr><td>epoch/learning_rate</td><td>0.001</td></tr><tr><td>epoch/loss</td><td>0.63778</td></tr><tr><td>epoch/val_categorical_accuracy</td><td>0.82745</td></tr><tr><td>epoch/val_loss</td><td>0.48367</td></tr><tr><td>val_categorical_accuracy</td><td>0.84406</td></tr></table><br/></div></div>"
      ],
      "text/plain": [
       "<IPython.core.display.HTML object>"
      ]
     },
     "metadata": {},
     "output_type": "display_data"
    },
    {
     "data": {
      "text/html": [
       " View run <strong style=\"color:#cdcd00\">eternal-sweep-1</strong> at: <a href='https://wandb.ai/hysped/hysped-conv1D_top4/runs/ic3x6ked' target=\"_blank\">https://wandb.ai/hysped/hysped-conv1D_top4/runs/ic3x6ked</a><br/>Synced 5 W&B file(s), 0 media file(s), 13 artifact file(s) and 0 other file(s)"
      ],
      "text/plain": [
       "<IPython.core.display.HTML object>"
      ]
     },
     "metadata": {},
     "output_type": "display_data"
    },
    {
     "data": {
      "text/html": [
       "Find logs at: <code>./wandb/run-20230407_142124-ic3x6ked/logs</code>"
      ],
      "text/plain": [
       "<IPython.core.display.HTML object>"
      ]
     },
     "metadata": {},
     "output_type": "display_data"
    },
    {
     "name": "stderr",
     "output_type": "stream",
     "text": [
      "\u001b[34m\u001b[1mwandb\u001b[0m: Agent Starting Run: gjjjn2dm with config:\n",
      "\u001b[34m\u001b[1mwandb\u001b[0m: \tbatch_size: 128\n",
      "\u001b[34m\u001b[1mwandb\u001b[0m: \tfilters: [128, 64, 32]\n",
      "\u001b[34m\u001b[1mwandb\u001b[0m: \tinput_shape: [186, 1]\n",
      "\u001b[34m\u001b[1mwandb\u001b[0m: \tkernel_sizes: [13, 13, 13]\n",
      "\u001b[34m\u001b[1mwandb\u001b[0m: \tnum_classes: 5\n",
      "\u001b[34m\u001b[1mwandb\u001b[0m: \tpadding: causal\n",
      "\u001b[34m\u001b[1mwandb\u001b[0m: \u001b[33mWARNING\u001b[0m Ignored wandb.init() arg project when running a sweep.\n"
     ]
    },
    {
     "data": {
      "text/html": [
       "wandb version 0.14.1 is available!  To upgrade, please run:\n",
       " $ pip install wandb --upgrade"
      ],
      "text/plain": [
       "<IPython.core.display.HTML object>"
      ]
     },
     "metadata": {},
     "output_type": "display_data"
    },
    {
     "data": {
      "text/html": [
       "Tracking run with wandb version 0.13.10"
      ],
      "text/plain": [
       "<IPython.core.display.HTML object>"
      ]
     },
     "metadata": {},
     "output_type": "display_data"
    },
    {
     "data": {
      "text/html": [
       "Run data is saved locally in <code>/tf/notebooks/wandb/run-20230407_142249-gjjjn2dm</code>"
      ],
      "text/plain": [
       "<IPython.core.display.HTML object>"
      ]
     },
     "metadata": {},
     "output_type": "display_data"
    },
    {
     "data": {
      "text/html": [
       "Syncing run <strong><a href='https://wandb.ai/hysped/hysped-conv1D_top4/runs/gjjjn2dm' target=\"_blank\">robust-sweep-2</a></strong> to <a href='https://wandb.ai/hysped/hysped-conv1D_top4' target=\"_blank\">Weights & Biases</a> (<a href='https://wandb.me/run' target=\"_blank\">docs</a>)<br/>Sweep page: <a href='https://wandb.ai/hysped/hysped-conv1D_top4/sweeps/z1gj71w2' target=\"_blank\">https://wandb.ai/hysped/hysped-conv1D_top4/sweeps/z1gj71w2</a>"
      ],
      "text/plain": [
       "<IPython.core.display.HTML object>"
      ]
     },
     "metadata": {},
     "output_type": "display_data"
    },
    {
     "data": {
      "text/html": [
       " View project at <a href='https://wandb.ai/hysped/hysped-conv1D_top4' target=\"_blank\">https://wandb.ai/hysped/hysped-conv1D_top4</a>"
      ],
      "text/plain": [
       "<IPython.core.display.HTML object>"
      ]
     },
     "metadata": {},
     "output_type": "display_data"
    },
    {
     "data": {
      "text/html": [
       " View sweep at <a href='https://wandb.ai/hysped/hysped-conv1D_top4/sweeps/z1gj71w2' target=\"_blank\">https://wandb.ai/hysped/hysped-conv1D_top4/sweeps/z1gj71w2</a>"
      ],
      "text/plain": [
       "<IPython.core.display.HTML object>"
      ]
     },
     "metadata": {},
     "output_type": "display_data"
    },
    {
     "data": {
      "text/html": [
       " View run at <a href='https://wandb.ai/hysped/hysped-conv1D_top4/runs/gjjjn2dm' target=\"_blank\">https://wandb.ai/hysped/hysped-conv1D_top4/runs/gjjjn2dm</a>"
      ],
      "text/plain": [
       "<IPython.core.display.HTML object>"
      ]
     },
     "metadata": {},
     "output_type": "display_data"
    },
    {
     "name": "stdout",
     "output_type": "stream",
     "text": [
      "2023-04-07 14:22:50,406 | hysped | INFO : model_dir: ../models/conv1D_top4\n",
      "2023-04-07 14:22:50,407 | hysped | INFO : model_file: ../models/conv1D_top4/run_gjjjn2dm_model.h5\n",
      "Epoch 1/50\n",
      "80/80 [==============================] - 5s 27ms/step - loss: 1.3244 - categorical_accuracy: 0.4191 - val_loss: 1.6239 - val_categorical_accuracy: 0.1970\n",
      "Epoch 2/50\n",
      "80/80 [==============================] - 1s 17ms/step - loss: 1.0326 - categorical_accuracy: 0.5580 - val_loss: 1.6163 - val_categorical_accuracy: 0.1970\n",
      "Epoch 3/50\n",
      "80/80 [==============================] - 1s 18ms/step - loss: 0.8845 - categorical_accuracy: 0.6261 - val_loss: 1.5995 - val_categorical_accuracy: 0.1970\n",
      "Epoch 4/50\n",
      "80/80 [==============================] - 1s 17ms/step - loss: 0.8167 - categorical_accuracy: 0.6620 - val_loss: 1.7118 - val_categorical_accuracy: 0.1970\n",
      "Epoch 5/50\n",
      "80/80 [==============================] - 1s 17ms/step - loss: 0.7919 - categorical_accuracy: 0.6757 - val_loss: 2.3706 - val_categorical_accuracy: 0.1970\n",
      "Epoch 6/50\n",
      "80/80 [==============================] - 1s 18ms/step - loss: 0.7510 - categorical_accuracy: 0.6994 - val_loss: 1.5922 - val_categorical_accuracy: 0.2916\n",
      "Epoch 7/50\n",
      "80/80 [==============================] - 1s 18ms/step - loss: 0.7312 - categorical_accuracy: 0.7066 - val_loss: 1.0501 - val_categorical_accuracy: 0.5386\n",
      "Epoch 8/50\n",
      "80/80 [==============================] - 2s 26ms/step - loss: 0.6818 - categorical_accuracy: 0.7280 - val_loss: 0.7511 - val_categorical_accuracy: 0.7077\n",
      "Epoch 9/50\n",
      "80/80 [==============================] - 1s 18ms/step - loss: 0.6552 - categorical_accuracy: 0.7426 - val_loss: 0.6072 - val_categorical_accuracy: 0.7795\n",
      "Epoch 10/50\n",
      "80/80 [==============================] - 1s 18ms/step - loss: 0.6511 - categorical_accuracy: 0.7461 - val_loss: 0.5565 - val_categorical_accuracy: 0.8092\n",
      "Epoch 11/50\n",
      "80/80 [==============================] - 1s 17ms/step - loss: 0.6131 - categorical_accuracy: 0.7637 - val_loss: 0.5112 - val_categorical_accuracy: 0.8148\n",
      "Epoch 12/50\n",
      "80/80 [==============================] - 1s 17ms/step - loss: 0.5745 - categorical_accuracy: 0.7821 - val_loss: 0.5704 - val_categorical_accuracy: 0.7965\n",
      "Epoch 13/50\n",
      "80/80 [==============================] - 1s 18ms/step - loss: 0.5732 - categorical_accuracy: 0.7850 - val_loss: 0.7616 - val_categorical_accuracy: 0.6448\n",
      "Epoch 14/50\n",
      "80/80 [==============================] - 1s 18ms/step - loss: 0.5607 - categorical_accuracy: 0.7926 - val_loss: 0.5897 - val_categorical_accuracy: 0.7576\n",
      "Epoch 15/50\n",
      "80/80 [==============================] - 1s 18ms/step - loss: 0.5354 - categorical_accuracy: 0.8063 - val_loss: 0.4072 - val_categorical_accuracy: 0.8517\n",
      "Epoch 16/50\n",
      "80/80 [==============================] - 1s 18ms/step - loss: 0.4979 - categorical_accuracy: 0.8227 - val_loss: 0.5509 - val_categorical_accuracy: 0.7832\n",
      "Epoch 17/50\n",
      "80/80 [==============================] - 1s 18ms/step - loss: 0.4985 - categorical_accuracy: 0.8225 - val_loss: 0.3836 - val_categorical_accuracy: 0.8641\n",
      "Epoch 18/50\n",
      "80/80 [==============================] - 1s 18ms/step - loss: 0.4499 - categorical_accuracy: 0.8379 - val_loss: 0.3649 - val_categorical_accuracy: 0.8747\n",
      "Epoch 19/50\n",
      "80/80 [==============================] - 1s 17ms/step - loss: 0.4475 - categorical_accuracy: 0.8427 - val_loss: 0.4906 - val_categorical_accuracy: 0.7968\n",
      "Epoch 20/50\n",
      "80/80 [==============================] - 1s 18ms/step - loss: 0.4666 - categorical_accuracy: 0.8312 - val_loss: 0.3690 - val_categorical_accuracy: 0.8731\n",
      "Epoch 21/50\n",
      "80/80 [==============================] - 1s 18ms/step - loss: 0.4516 - categorical_accuracy: 0.8429 - val_loss: 0.3582 - val_categorical_accuracy: 0.8874\n",
      "Epoch 22/50\n",
      "80/80 [==============================] - 1s 17ms/step - loss: 0.4398 - categorical_accuracy: 0.8466 - val_loss: 0.4282 - val_categorical_accuracy: 0.8420\n",
      "Epoch 23/50\n",
      "80/80 [==============================] - 1s 18ms/step - loss: 0.4209 - categorical_accuracy: 0.8513 - val_loss: 0.3259 - val_categorical_accuracy: 0.8817\n",
      "Epoch 24/50\n",
      "80/80 [==============================] - 1s 18ms/step - loss: 0.3995 - categorical_accuracy: 0.8620 - val_loss: 0.3312 - val_categorical_accuracy: 0.8939\n",
      "Epoch 25/50\n",
      "80/80 [==============================] - 1s 18ms/step - loss: 0.4131 - categorical_accuracy: 0.8508 - val_loss: 0.3661 - val_categorical_accuracy: 0.8637\n",
      "Epoch 26/50\n",
      "80/80 [==============================] - 1s 18ms/step - loss: 0.4158 - categorical_accuracy: 0.8470 - val_loss: 0.3324 - val_categorical_accuracy: 0.8805\n",
      "Epoch 27/50\n",
      "80/80 [==============================] - 1s 17ms/step - loss: 0.4083 - categorical_accuracy: 0.8545 - val_loss: 0.3065 - val_categorical_accuracy: 0.8893\n",
      "Epoch 28/50\n",
      "80/80 [==============================] - 1s 18ms/step - loss: 0.3825 - categorical_accuracy: 0.8643 - val_loss: 0.3497 - val_categorical_accuracy: 0.8660\n",
      "Epoch 29/50\n",
      "80/80 [==============================] - 1s 17ms/step - loss: 0.3843 - categorical_accuracy: 0.8617 - val_loss: 0.4441 - val_categorical_accuracy: 0.8219\n",
      "Epoch 30/50\n",
      "80/80 [==============================] - 1s 17ms/step - loss: 0.4370 - categorical_accuracy: 0.8396 - val_loss: 0.4049 - val_categorical_accuracy: 0.8507\n",
      "Epoch 31/50\n",
      "80/80 [==============================] - 1s 18ms/step - loss: 0.4787 - categorical_accuracy: 0.8226 - val_loss: 0.5315 - val_categorical_accuracy: 0.7767\n",
      "Epoch 32/50\n",
      "80/80 [==============================] - 1s 17ms/step - loss: 0.4103 - categorical_accuracy: 0.8497 - val_loss: 0.3068 - val_categorical_accuracy: 0.8895\n",
      "Epoch 33/50\n",
      "80/80 [==============================] - 1s 17ms/step - loss: 0.3651 - categorical_accuracy: 0.8700 - val_loss: 0.3025 - val_categorical_accuracy: 0.8918\n",
      "Epoch 34/50\n",
      "80/80 [==============================] - 1s 17ms/step - loss: 0.3626 - categorical_accuracy: 0.8685 - val_loss: 0.3691 - val_categorical_accuracy: 0.8651\n",
      "Epoch 35/50\n",
      "80/80 [==============================] - 1s 17ms/step - loss: 0.3871 - categorical_accuracy: 0.8641 - val_loss: 0.3824 - val_categorical_accuracy: 0.8572\n",
      "Epoch 36/50\n",
      "80/80 [==============================] - 1s 18ms/step - loss: 0.3822 - categorical_accuracy: 0.8636 - val_loss: 0.3144 - val_categorical_accuracy: 0.8819\n",
      "Epoch 37/50\n",
      "80/80 [==============================] - 1s 18ms/step - loss: 0.3553 - categorical_accuracy: 0.8725 - val_loss: 0.2730 - val_categorical_accuracy: 0.9077\n",
      "Epoch 38/50\n",
      "80/80 [==============================] - 1s 18ms/step - loss: 0.3426 - categorical_accuracy: 0.8778 - val_loss: 0.3788 - val_categorical_accuracy: 0.8512\n",
      "Epoch 39/50\n",
      "80/80 [==============================] - 1s 17ms/step - loss: 0.3882 - categorical_accuracy: 0.8627 - val_loss: 0.5674 - val_categorical_accuracy: 0.7926\n",
      "Epoch 40/50\n",
      "80/80 [==============================] - 1s 17ms/step - loss: 0.4767 - categorical_accuracy: 0.8234 - val_loss: 0.4367 - val_categorical_accuracy: 0.8263\n",
      "Epoch 41/50\n",
      "80/80 [==============================] - 1s 17ms/step - loss: 0.5032 - categorical_accuracy: 0.8089 - val_loss: 0.3492 - val_categorical_accuracy: 0.8669\n",
      "Epoch 42/50\n",
      "80/80 [==============================] - 1s 18ms/step - loss: 0.3995 - categorical_accuracy: 0.8575 - val_loss: 0.3281 - val_categorical_accuracy: 0.8740\n",
      "Epoch 43/50\n",
      "80/80 [==============================] - 1s 17ms/step - loss: 0.3802 - categorical_accuracy: 0.8661 - val_loss: 0.3107 - val_categorical_accuracy: 0.8927\n",
      "Epoch 44/50\n",
      "80/80 [==============================] - 1s 17ms/step - loss: 0.3717 - categorical_accuracy: 0.8632 - val_loss: 0.3479 - val_categorical_accuracy: 0.8685\n",
      "Epoch 45/50\n",
      "80/80 [==============================] - 1s 18ms/step - loss: 0.3521 - categorical_accuracy: 0.8732 - val_loss: 0.2691 - val_categorical_accuracy: 0.8978\n",
      "Epoch 46/50\n",
      "80/80 [==============================] - 1s 18ms/step - loss: 0.3407 - categorical_accuracy: 0.8780 - val_loss: 0.3138 - val_categorical_accuracy: 0.8916\n",
      "Epoch 47/50\n",
      "80/80 [==============================] - 1s 15ms/step - loss: 0.4329 - categorical_accuracy: 0.8440 - val_loss: 0.3255 - val_categorical_accuracy: 0.8967\n",
      "Epoch 48/50\n",
      "80/80 [==============================] - 1s 18ms/step - loss: 0.3520 - categorical_accuracy: 0.8733 - val_loss: 0.2925 - val_categorical_accuracy: 0.8890\n",
      "Epoch 49/50\n",
      "80/80 [==============================] - 1s 18ms/step - loss: 0.3433 - categorical_accuracy: 0.8778 - val_loss: 0.2619 - val_categorical_accuracy: 0.9027\n",
      "Epoch 50/50\n",
      "80/80 [==============================] - 1s 18ms/step - loss: 0.3414 - categorical_accuracy: 0.8778 - val_loss: 0.5547 - val_categorical_accuracy: 0.7827\n"
     ]
    },
    {
     "data": {
      "text/html": [
       "Waiting for W&B process to finish... <strong style=\"color:green\">(success).</strong>"
      ],
      "text/plain": [
       "<IPython.core.display.HTML object>"
      ]
     },
     "metadata": {},
     "output_type": "display_data"
    },
    {
     "data": {
      "text/html": [
       "<style>\n",
       "    table.wandb td:nth-child(1) { padding: 0 10px; text-align: left ; width: auto;} td:nth-child(2) {text-align: left ; width: 100%}\n",
       "    .wandb-row { display: flex; flex-direction: row; flex-wrap: wrap; justify-content: flex-start; width: 100% }\n",
       "    .wandb-col { display: flex; flex-direction: column; flex-basis: 100%; flex: 1; padding: 10px; }\n",
       "    </style>\n",
       "<div class=\"wandb-row\"><div class=\"wandb-col\"><h3>Run history:</h3><br/><table class=\"wandb\"><tr><td>epoch/categorical_accuracy</td><td>▁▃▄▅▅▅▆▆▆▇▇▇▇▇▇▇▇███████▇███████▇████▇██</td></tr><tr><td>epoch/epoch</td><td>▁▁▁▁▂▂▂▂▂▃▃▃▃▃▃▄▄▄▄▄▅▅▅▅▅▅▆▆▆▆▆▆▇▇▇▇▇███</td></tr><tr><td>epoch/learning_rate</td><td>▁▁▁▁▁▁▁▁▁▁▁▁▁▁▁▁▁▁▁▁▁▁▁▁▁▁▁▁▁▁▁▁▁▁▁▁▁▁▁▁</td></tr><tr><td>epoch/loss</td><td>█▆▅▄▄▄▃▃▃▃▃▃▂▂▂▂▂▂▂▁▂▁▁▁▂▁▁▁▁▁▁▁▂▁▁▁▁▂▁▁</td></tr><tr><td>epoch/val_categorical_accuracy</td><td>▁▁▁▁▂▄▆▇▇▇▅▇▇██▇█▇█████▇▇█████▇▇███████▇</td></tr><tr><td>epoch/val_loss</td><td>██▇█▇▅▃▃▂▂▃▃▂▂▁▂▁▂▁▁▁▁▁▂▂▁▁▁▁▁▂▂▁▁▁▁▁▁▁▂</td></tr><tr><td>val_categorical_accuracy</td><td>▁</td></tr></table><br/></div><div class=\"wandb-col\"><h3>Run summary:</h3><br/><table class=\"wandb\"><tr><td>epoch/categorical_accuracy</td><td>0.87781</td></tr><tr><td>epoch/epoch</td><td>49</td></tr><tr><td>epoch/learning_rate</td><td>0.001</td></tr><tr><td>epoch/loss</td><td>0.34139</td></tr><tr><td>epoch/val_categorical_accuracy</td><td>0.7827</td></tr><tr><td>epoch/val_loss</td><td>0.55469</td></tr><tr><td>val_categorical_accuracy</td><td>0.90773</td></tr></table><br/></div></div>"
      ],
      "text/plain": [
       "<IPython.core.display.HTML object>"
      ]
     },
     "metadata": {},
     "output_type": "display_data"
    },
    {
     "data": {
      "text/html": [
       " View run <strong style=\"color:#cdcd00\">robust-sweep-2</strong> at: <a href='https://wandb.ai/hysped/hysped-conv1D_top4/runs/gjjjn2dm' target=\"_blank\">https://wandb.ai/hysped/hysped-conv1D_top4/runs/gjjjn2dm</a><br/>Synced 5 W&B file(s), 0 media file(s), 13 artifact file(s) and 0 other file(s)"
      ],
      "text/plain": [
       "<IPython.core.display.HTML object>"
      ]
     },
     "metadata": {},
     "output_type": "display_data"
    },
    {
     "data": {
      "text/html": [
       "Find logs at: <code>./wandb/run-20230407_142249-gjjjn2dm/logs</code>"
      ],
      "text/plain": [
       "<IPython.core.display.HTML object>"
      ]
     },
     "metadata": {},
     "output_type": "display_data"
    },
    {
     "name": "stderr",
     "output_type": "stream",
     "text": [
      "\u001b[34m\u001b[1mwandb\u001b[0m: Agent Starting Run: ijedfaki with config:\n",
      "\u001b[34m\u001b[1mwandb\u001b[0m: \tbatch_size: 128\n",
      "\u001b[34m\u001b[1mwandb\u001b[0m: \tfilters: [256, 128, 64]\n",
      "\u001b[34m\u001b[1mwandb\u001b[0m: \tinput_shape: [186, 1]\n",
      "\u001b[34m\u001b[1mwandb\u001b[0m: \tkernel_sizes: [5, 5, 5]\n",
      "\u001b[34m\u001b[1mwandb\u001b[0m: \tnum_classes: 5\n",
      "\u001b[34m\u001b[1mwandb\u001b[0m: \tpadding: causal\n",
      "\u001b[34m\u001b[1mwandb\u001b[0m: \u001b[33mWARNING\u001b[0m Ignored wandb.init() arg project when running a sweep.\n"
     ]
    },
    {
     "data": {
      "text/html": [
       "wandb version 0.14.1 is available!  To upgrade, please run:\n",
       " $ pip install wandb --upgrade"
      ],
      "text/plain": [
       "<IPython.core.display.HTML object>"
      ]
     },
     "metadata": {},
     "output_type": "display_data"
    },
    {
     "data": {
      "text/html": [
       "Tracking run with wandb version 0.13.10"
      ],
      "text/plain": [
       "<IPython.core.display.HTML object>"
      ]
     },
     "metadata": {},
     "output_type": "display_data"
    },
    {
     "data": {
      "text/html": [
       "Run data is saved locally in <code>/tf/notebooks/wandb/run-20230407_142413-ijedfaki</code>"
      ],
      "text/plain": [
       "<IPython.core.display.HTML object>"
      ]
     },
     "metadata": {},
     "output_type": "display_data"
    },
    {
     "data": {
      "text/html": [
       "Syncing run <strong><a href='https://wandb.ai/hysped/hysped-conv1D_top4/runs/ijedfaki' target=\"_blank\">sweet-sweep-3</a></strong> to <a href='https://wandb.ai/hysped/hysped-conv1D_top4' target=\"_blank\">Weights & Biases</a> (<a href='https://wandb.me/run' target=\"_blank\">docs</a>)<br/>Sweep page: <a href='https://wandb.ai/hysped/hysped-conv1D_top4/sweeps/z1gj71w2' target=\"_blank\">https://wandb.ai/hysped/hysped-conv1D_top4/sweeps/z1gj71w2</a>"
      ],
      "text/plain": [
       "<IPython.core.display.HTML object>"
      ]
     },
     "metadata": {},
     "output_type": "display_data"
    },
    {
     "data": {
      "text/html": [
       " View project at <a href='https://wandb.ai/hysped/hysped-conv1D_top4' target=\"_blank\">https://wandb.ai/hysped/hysped-conv1D_top4</a>"
      ],
      "text/plain": [
       "<IPython.core.display.HTML object>"
      ]
     },
     "metadata": {},
     "output_type": "display_data"
    },
    {
     "data": {
      "text/html": [
       " View sweep at <a href='https://wandb.ai/hysped/hysped-conv1D_top4/sweeps/z1gj71w2' target=\"_blank\">https://wandb.ai/hysped/hysped-conv1D_top4/sweeps/z1gj71w2</a>"
      ],
      "text/plain": [
       "<IPython.core.display.HTML object>"
      ]
     },
     "metadata": {},
     "output_type": "display_data"
    },
    {
     "data": {
      "text/html": [
       " View run at <a href='https://wandb.ai/hysped/hysped-conv1D_top4/runs/ijedfaki' target=\"_blank\">https://wandb.ai/hysped/hysped-conv1D_top4/runs/ijedfaki</a>"
      ],
      "text/plain": [
       "<IPython.core.display.HTML object>"
      ]
     },
     "metadata": {},
     "output_type": "display_data"
    },
    {
     "name": "stdout",
     "output_type": "stream",
     "text": [
      "2023-04-07 14:24:14,158 | hysped | INFO : model_dir: ../models/conv1D_top4\n",
      "2023-04-07 14:24:14,159 | hysped | INFO : model_file: ../models/conv1D_top4/run_ijedfaki_model.h5\n",
      "Epoch 1/50\n",
      "80/80 [==============================] - 5s 32ms/step - loss: 1.3118 - categorical_accuracy: 0.4226 - val_loss: 2.4046 - val_categorical_accuracy: 0.1970\n",
      "Epoch 2/50\n",
      "80/80 [==============================] - 1s 17ms/step - loss: 1.0907 - categorical_accuracy: 0.5379 - val_loss: 3.5875 - val_categorical_accuracy: 0.1970\n",
      "Epoch 3/50\n",
      "80/80 [==============================] - 1s 17ms/step - loss: 0.9282 - categorical_accuracy: 0.6222 - val_loss: 4.1987 - val_categorical_accuracy: 0.1970\n",
      "Epoch 4/50\n",
      "80/80 [==============================] - 1s 18ms/step - loss: 0.8550 - categorical_accuracy: 0.6565 - val_loss: 5.7622 - val_categorical_accuracy: 0.1970\n",
      "Epoch 5/50\n",
      "80/80 [==============================] - 1s 18ms/step - loss: 0.8040 - categorical_accuracy: 0.6827 - val_loss: 4.0170 - val_categorical_accuracy: 0.1970\n",
      "Epoch 6/50\n",
      "80/80 [==============================] - 1s 18ms/step - loss: 0.7834 - categorical_accuracy: 0.6933 - val_loss: 4.9828 - val_categorical_accuracy: 0.1970\n",
      "Epoch 7/50\n",
      "80/80 [==============================] - 1s 18ms/step - loss: 0.7486 - categorical_accuracy: 0.7072 - val_loss: 1.5661 - val_categorical_accuracy: 0.3737\n",
      "Epoch 8/50\n",
      "80/80 [==============================] - 1s 14ms/step - loss: 0.7147 - categorical_accuracy: 0.7197 - val_loss: 0.8304 - val_categorical_accuracy: 0.6427\n",
      "Epoch 9/50\n",
      "80/80 [==============================] - 1s 17ms/step - loss: 0.7454 - categorical_accuracy: 0.7139 - val_loss: 0.6845 - val_categorical_accuracy: 0.7562\n",
      "Epoch 10/50\n",
      "80/80 [==============================] - 1s 18ms/step - loss: 0.6958 - categorical_accuracy: 0.7364 - val_loss: 0.6836 - val_categorical_accuracy: 0.7276\n",
      "Epoch 11/50\n",
      "80/80 [==============================] - 1s 18ms/step - loss: 0.6528 - categorical_accuracy: 0.7524 - val_loss: 0.5481 - val_categorical_accuracy: 0.7961\n",
      "Epoch 12/50\n",
      "80/80 [==============================] - 1s 18ms/step - loss: 0.6480 - categorical_accuracy: 0.7528 - val_loss: 0.6495 - val_categorical_accuracy: 0.7737\n",
      "Epoch 13/50\n",
      "80/80 [==============================] - 1s 18ms/step - loss: 0.6958 - categorical_accuracy: 0.7337 - val_loss: 0.5201 - val_categorical_accuracy: 0.8256\n",
      "Epoch 14/50\n",
      "80/80 [==============================] - 1s 18ms/step - loss: 0.6307 - categorical_accuracy: 0.7624 - val_loss: 0.4952 - val_categorical_accuracy: 0.8302\n",
      "Epoch 15/50\n",
      "80/80 [==============================] - 1s 18ms/step - loss: 0.6115 - categorical_accuracy: 0.7667 - val_loss: 0.4905 - val_categorical_accuracy: 0.8228\n",
      "Epoch 16/50\n",
      "80/80 [==============================] - 1s 18ms/step - loss: 0.5857 - categorical_accuracy: 0.7829 - val_loss: 0.4730 - val_categorical_accuracy: 0.8346\n",
      "Epoch 17/50\n",
      "80/80 [==============================] - 1s 17ms/step - loss: 0.5873 - categorical_accuracy: 0.7800 - val_loss: 0.6543 - val_categorical_accuracy: 0.7336\n",
      "Epoch 18/50\n",
      "80/80 [==============================] - 1s 18ms/step - loss: 0.6337 - categorical_accuracy: 0.7611 - val_loss: 0.5151 - val_categorical_accuracy: 0.8044\n",
      "Epoch 19/50\n",
      "80/80 [==============================] - 1s 17ms/step - loss: 0.5711 - categorical_accuracy: 0.7847 - val_loss: 0.4662 - val_categorical_accuracy: 0.8291\n",
      "Epoch 20/50\n",
      "80/80 [==============================] - 1s 17ms/step - loss: 0.5804 - categorical_accuracy: 0.7835 - val_loss: 0.4660 - val_categorical_accuracy: 0.8249\n",
      "Epoch 21/50\n",
      "80/80 [==============================] - 1s 18ms/step - loss: 0.5958 - categorical_accuracy: 0.7804 - val_loss: 0.4886 - val_categorical_accuracy: 0.8281\n",
      "Epoch 22/50\n",
      "80/80 [==============================] - 1s 17ms/step - loss: 0.5891 - categorical_accuracy: 0.7792 - val_loss: 0.4942 - val_categorical_accuracy: 0.8367\n",
      "Epoch 23/50\n",
      "80/80 [==============================] - 1s 18ms/step - loss: 0.6214 - categorical_accuracy: 0.7646 - val_loss: 0.4250 - val_categorical_accuracy: 0.8519\n",
      "Epoch 24/50\n",
      "80/80 [==============================] - 1s 18ms/step - loss: 0.5502 - categorical_accuracy: 0.7992 - val_loss: 0.4231 - val_categorical_accuracy: 0.8572\n",
      "Epoch 25/50\n",
      "80/80 [==============================] - 1s 17ms/step - loss: 0.5232 - categorical_accuracy: 0.8090 - val_loss: 0.5205 - val_categorical_accuracy: 0.7899\n",
      "Epoch 26/50\n",
      "80/80 [==============================] - 1s 18ms/step - loss: 0.6600 - categorical_accuracy: 0.7541 - val_loss: 0.4669 - val_categorical_accuracy: 0.8374\n",
      "Epoch 27/50\n",
      "80/80 [==============================] - 1s 17ms/step - loss: 0.5385 - categorical_accuracy: 0.7971 - val_loss: 0.4831 - val_categorical_accuracy: 0.8265\n",
      "Epoch 28/50\n",
      "80/80 [==============================] - 1s 17ms/step - loss: 0.6032 - categorical_accuracy: 0.7796 - val_loss: 0.4363 - val_categorical_accuracy: 0.8503\n",
      "Epoch 29/50\n",
      "80/80 [==============================] - 1s 18ms/step - loss: 0.5894 - categorical_accuracy: 0.7829 - val_loss: 0.4245 - val_categorical_accuracy: 0.8494\n",
      "Epoch 30/50\n",
      "80/80 [==============================] - 1s 18ms/step - loss: 0.5311 - categorical_accuracy: 0.8039 - val_loss: 0.4048 - val_categorical_accuracy: 0.8593\n",
      "Epoch 31/50\n",
      "80/80 [==============================] - 2s 19ms/step - loss: 0.5043 - categorical_accuracy: 0.8172 - val_loss: 0.4096 - val_categorical_accuracy: 0.8572\n",
      "Epoch 32/50\n",
      "80/80 [==============================] - 1s 17ms/step - loss: 0.5176 - categorical_accuracy: 0.8060 - val_loss: 0.4471 - val_categorical_accuracy: 0.8401\n",
      "Epoch 33/50\n",
      "80/80 [==============================] - 1s 17ms/step - loss: 0.5358 - categorical_accuracy: 0.7989 - val_loss: 0.3919 - val_categorical_accuracy: 0.8692\n",
      "Epoch 34/50\n",
      "80/80 [==============================] - 1s 17ms/step - loss: 0.5706 - categorical_accuracy: 0.7907 - val_loss: 0.4596 - val_categorical_accuracy: 0.8337\n",
      "Epoch 35/50\n",
      "80/80 [==============================] - 1s 18ms/step - loss: 0.5570 - categorical_accuracy: 0.7943 - val_loss: 0.6051 - val_categorical_accuracy: 0.7578\n",
      "Epoch 36/50\n",
      "80/80 [==============================] - 1s 18ms/step - loss: 0.5794 - categorical_accuracy: 0.7836 - val_loss: 0.3923 - val_categorical_accuracy: 0.8609\n",
      "Epoch 37/50\n",
      "80/80 [==============================] - 1s 17ms/step - loss: 0.4925 - categorical_accuracy: 0.8205 - val_loss: 0.4749 - val_categorical_accuracy: 0.8055\n",
      "Epoch 38/50\n",
      "80/80 [==============================] - 1s 17ms/step - loss: 0.5247 - categorical_accuracy: 0.8071 - val_loss: 0.4446 - val_categorical_accuracy: 0.8344\n",
      "Epoch 39/50\n",
      "80/80 [==============================] - 1s 18ms/step - loss: 0.5410 - categorical_accuracy: 0.8010 - val_loss: 0.3784 - val_categorical_accuracy: 0.8710\n",
      "Epoch 40/50\n",
      "80/80 [==============================] - 1s 18ms/step - loss: 0.4759 - categorical_accuracy: 0.8252 - val_loss: 0.4722 - val_categorical_accuracy: 0.8450\n",
      "Epoch 41/50\n",
      "80/80 [==============================] - 1s 17ms/step - loss: 0.5348 - categorical_accuracy: 0.8077 - val_loss: 0.3928 - val_categorical_accuracy: 0.8669\n",
      "Epoch 42/50\n",
      "80/80 [==============================] - 1s 18ms/step - loss: 0.4981 - categorical_accuracy: 0.8197 - val_loss: 0.3721 - val_categorical_accuracy: 0.8667\n",
      "Epoch 43/50\n",
      "80/80 [==============================] - 1s 18ms/step - loss: 0.4659 - categorical_accuracy: 0.8317 - val_loss: 0.3667 - val_categorical_accuracy: 0.8704\n",
      "Epoch 44/50\n",
      "80/80 [==============================] - 1s 18ms/step - loss: 0.4605 - categorical_accuracy: 0.8371 - val_loss: 0.3503 - val_categorical_accuracy: 0.8750\n",
      "Epoch 45/50\n",
      "80/80 [==============================] - 1s 16ms/step - loss: 0.4465 - categorical_accuracy: 0.8359 - val_loss: 0.3795 - val_categorical_accuracy: 0.8724\n",
      "Epoch 46/50\n",
      "80/80 [==============================] - 1s 18ms/step - loss: 0.4512 - categorical_accuracy: 0.8383 - val_loss: 0.5704 - val_categorical_accuracy: 0.7592\n",
      "Epoch 47/50\n",
      "80/80 [==============================] - 1s 18ms/step - loss: 0.5608 - categorical_accuracy: 0.7889 - val_loss: 0.3656 - val_categorical_accuracy: 0.8717\n",
      "Epoch 48/50\n",
      "80/80 [==============================] - 1s 17ms/step - loss: 0.4664 - categorical_accuracy: 0.8278 - val_loss: 0.3570 - val_categorical_accuracy: 0.8634\n",
      "Epoch 49/50\n",
      "80/80 [==============================] - 1s 18ms/step - loss: 0.4414 - categorical_accuracy: 0.8432 - val_loss: 0.4082 - val_categorical_accuracy: 0.8662\n",
      "Epoch 50/50\n",
      "80/80 [==============================] - 1s 18ms/step - loss: 0.5376 - categorical_accuracy: 0.8005 - val_loss: 0.3744 - val_categorical_accuracy: 0.8770\n"
     ]
    },
    {
     "data": {
      "text/html": [
       "Waiting for W&B process to finish... <strong style=\"color:green\">(success).</strong>"
      ],
      "text/plain": [
       "<IPython.core.display.HTML object>"
      ]
     },
     "metadata": {},
     "output_type": "display_data"
    },
    {
     "data": {
      "text/html": [
       "<style>\n",
       "    table.wandb td:nth-child(1) { padding: 0 10px; text-align: left ; width: auto;} td:nth-child(2) {text-align: left ; width: 100%}\n",
       "    .wandb-row { display: flex; flex-direction: row; flex-wrap: wrap; justify-content: flex-start; width: 100% }\n",
       "    .wandb-col { display: flex; flex-direction: column; flex-basis: 100%; flex: 1; padding: 10px; }\n",
       "    </style>\n",
       "<div class=\"wandb-row\"><div class=\"wandb-col\"><h3>Run history:</h3><br/><table class=\"wandb\"><tr><td>epoch/categorical_accuracy</td><td>▁▃▄▅▆▆▆▆▇▇▆▇▇▇▇▇▇▇▇▇▇▇▇▇█▇▇▇▇█▇▇▇████▇█▇</td></tr><tr><td>epoch/epoch</td><td>▁▁▁▁▂▂▂▂▂▃▃▃▃▃▃▄▄▄▄▄▅▅▅▅▅▅▆▆▆▆▆▆▇▇▇▇▇███</td></tr><tr><td>epoch/learning_rate</td><td>▁▁▁▁▁▁▁▁▁▁▁▁▁▁▁▁▁▁▁▁▁▁▁▁▁▁▁▁▁▁▁▁▁▁▁▁▁▁▁▁</td></tr><tr><td>epoch/loss</td><td>█▆▅▄▄▃▃▃▃▃▃▂▂▂▂▂▂▂▂▂▃▂▂▂▁▂▂▂▂▁▂▂▂▁▁▁▁▂▁▂</td></tr><tr><td>epoch/val_categorical_accuracy</td><td>▁▁▁▁▁▃▆▇▇▇▇██▇▇█▇████▇███████▇██████▇███</td></tr><tr><td>epoch/val_loss</td><td>▄▅▆█▇▃▂▁▁▁▁▁▁▁▁▁▁▁▁▁▁▁▁▁▁▁▁▁▁▁▁▁▁▁▁▁▁▁▁▁</td></tr><tr><td>val_categorical_accuracy</td><td>▁</td></tr></table><br/></div><div class=\"wandb-col\"><h3>Run summary:</h3><br/><table class=\"wandb\"><tr><td>epoch/categorical_accuracy</td><td>0.80049</td></tr><tr><td>epoch/epoch</td><td>49</td></tr><tr><td>epoch/learning_rate</td><td>0.001</td></tr><tr><td>epoch/loss</td><td>0.53757</td></tr><tr><td>epoch/val_categorical_accuracy</td><td>0.87705</td></tr><tr><td>epoch/val_loss</td><td>0.37438</td></tr><tr><td>val_categorical_accuracy</td><td>0.87705</td></tr></table><br/></div></div>"
      ],
      "text/plain": [
       "<IPython.core.display.HTML object>"
      ]
     },
     "metadata": {},
     "output_type": "display_data"
    },
    {
     "data": {
      "text/html": [
       " View run <strong style=\"color:#cdcd00\">sweet-sweep-3</strong> at: <a href='https://wandb.ai/hysped/hysped-conv1D_top4/runs/ijedfaki' target=\"_blank\">https://wandb.ai/hysped/hysped-conv1D_top4/runs/ijedfaki</a><br/>Synced 5 W&B file(s), 0 media file(s), 16 artifact file(s) and 0 other file(s)"
      ],
      "text/plain": [
       "<IPython.core.display.HTML object>"
      ]
     },
     "metadata": {},
     "output_type": "display_data"
    },
    {
     "data": {
      "text/html": [
       "Find logs at: <code>./wandb/run-20230407_142413-ijedfaki/logs</code>"
      ],
      "text/plain": [
       "<IPython.core.display.HTML object>"
      ]
     },
     "metadata": {},
     "output_type": "display_data"
    },
    {
     "name": "stderr",
     "output_type": "stream",
     "text": [
      "\u001b[34m\u001b[1mwandb\u001b[0m: Agent Starting Run: ei88cage with config:\n",
      "\u001b[34m\u001b[1mwandb\u001b[0m: \tbatch_size: 128\n",
      "\u001b[34m\u001b[1mwandb\u001b[0m: \tfilters: [64, 32, 16]\n",
      "\u001b[34m\u001b[1mwandb\u001b[0m: \tinput_shape: [186, 1]\n",
      "\u001b[34m\u001b[1mwandb\u001b[0m: \tkernel_sizes: [13, 13, 13]\n",
      "\u001b[34m\u001b[1mwandb\u001b[0m: \tnum_classes: 5\n",
      "\u001b[34m\u001b[1mwandb\u001b[0m: \tpadding: causal\n",
      "\u001b[34m\u001b[1mwandb\u001b[0m: \u001b[33mWARNING\u001b[0m Ignored wandb.init() arg project when running a sweep.\n"
     ]
    },
    {
     "data": {
      "text/html": [
       "wandb version 0.14.1 is available!  To upgrade, please run:\n",
       " $ pip install wandb --upgrade"
      ],
      "text/plain": [
       "<IPython.core.display.HTML object>"
      ]
     },
     "metadata": {},
     "output_type": "display_data"
    },
    {
     "data": {
      "text/html": [
       "Tracking run with wandb version 0.13.10"
      ],
      "text/plain": [
       "<IPython.core.display.HTML object>"
      ]
     },
     "metadata": {},
     "output_type": "display_data"
    },
    {
     "data": {
      "text/html": [
       "Run data is saved locally in <code>/tf/notebooks/wandb/run-20230407_142541-ei88cage</code>"
      ],
      "text/plain": [
       "<IPython.core.display.HTML object>"
      ]
     },
     "metadata": {},
     "output_type": "display_data"
    },
    {
     "data": {
      "text/html": [
       "Syncing run <strong><a href='https://wandb.ai/hysped/hysped-conv1D_top4/runs/ei88cage' target=\"_blank\">vague-sweep-4</a></strong> to <a href='https://wandb.ai/hysped/hysped-conv1D_top4' target=\"_blank\">Weights & Biases</a> (<a href='https://wandb.me/run' target=\"_blank\">docs</a>)<br/>Sweep page: <a href='https://wandb.ai/hysped/hysped-conv1D_top4/sweeps/z1gj71w2' target=\"_blank\">https://wandb.ai/hysped/hysped-conv1D_top4/sweeps/z1gj71w2</a>"
      ],
      "text/plain": [
       "<IPython.core.display.HTML object>"
      ]
     },
     "metadata": {},
     "output_type": "display_data"
    },
    {
     "data": {
      "text/html": [
       " View project at <a href='https://wandb.ai/hysped/hysped-conv1D_top4' target=\"_blank\">https://wandb.ai/hysped/hysped-conv1D_top4</a>"
      ],
      "text/plain": [
       "<IPython.core.display.HTML object>"
      ]
     },
     "metadata": {},
     "output_type": "display_data"
    },
    {
     "data": {
      "text/html": [
       " View sweep at <a href='https://wandb.ai/hysped/hysped-conv1D_top4/sweeps/z1gj71w2' target=\"_blank\">https://wandb.ai/hysped/hysped-conv1D_top4/sweeps/z1gj71w2</a>"
      ],
      "text/plain": [
       "<IPython.core.display.HTML object>"
      ]
     },
     "metadata": {},
     "output_type": "display_data"
    },
    {
     "data": {
      "text/html": [
       " View run at <a href='https://wandb.ai/hysped/hysped-conv1D_top4/runs/ei88cage' target=\"_blank\">https://wandb.ai/hysped/hysped-conv1D_top4/runs/ei88cage</a>"
      ],
      "text/plain": [
       "<IPython.core.display.HTML object>"
      ]
     },
     "metadata": {},
     "output_type": "display_data"
    },
    {
     "name": "stdout",
     "output_type": "stream",
     "text": [
      "2023-04-07 14:25:42,626 | hysped | INFO : model_dir: ../models/conv1D_top4\n",
      "2023-04-07 14:25:42,627 | hysped | INFO : model_file: ../models/conv1D_top4/run_ei88cage_model.h5\n",
      "Epoch 1/50\n",
      "80/80 [==============================] - 4s 22ms/step - loss: 1.4004 - categorical_accuracy: 0.3823 - val_loss: 1.7144 - val_categorical_accuracy: 0.1970\n",
      "Epoch 2/50\n",
      "80/80 [==============================] - 1s 16ms/step - loss: 1.1869 - categorical_accuracy: 0.4997 - val_loss: 2.0533 - val_categorical_accuracy: 0.1970\n",
      "Epoch 3/50\n",
      "80/80 [==============================] - 1s 17ms/step - loss: 1.0582 - categorical_accuracy: 0.5568 - val_loss: 1.9048 - val_categorical_accuracy: 0.1970\n",
      "Epoch 4/50\n",
      "80/80 [==============================] - 1s 17ms/step - loss: 0.9265 - categorical_accuracy: 0.6264 - val_loss: 1.8187 - val_categorical_accuracy: 0.1970\n",
      "Epoch 5/50\n",
      "80/80 [==============================] - 1s 18ms/step - loss: 0.8908 - categorical_accuracy: 0.6293 - val_loss: 1.6712 - val_categorical_accuracy: 0.2962\n",
      "Epoch 6/50\n",
      "80/80 [==============================] - 1s 18ms/step - loss: 0.9458 - categorical_accuracy: 0.6126 - val_loss: 1.5329 - val_categorical_accuracy: 0.2865\n",
      "Epoch 7/50\n",
      "80/80 [==============================] - 1s 18ms/step - loss: 0.8093 - categorical_accuracy: 0.6751 - val_loss: 1.3250 - val_categorical_accuracy: 0.3449\n",
      "Epoch 8/50\n",
      "80/80 [==============================] - 1s 17ms/step - loss: 0.7807 - categorical_accuracy: 0.6892 - val_loss: 1.0564 - val_categorical_accuracy: 0.4830\n",
      "Epoch 9/50\n",
      "80/80 [==============================] - 1s 18ms/step - loss: 0.7368 - categorical_accuracy: 0.7113 - val_loss: 0.9310 - val_categorical_accuracy: 0.5183\n",
      "Epoch 10/50\n",
      "80/80 [==============================] - 1s 18ms/step - loss: 0.7370 - categorical_accuracy: 0.7022 - val_loss: 0.6232 - val_categorical_accuracy: 0.7765\n",
      "Epoch 11/50\n",
      "80/80 [==============================] - 1s 18ms/step - loss: 0.6985 - categorical_accuracy: 0.7316 - val_loss: 0.7016 - val_categorical_accuracy: 0.6618\n",
      "Epoch 12/50\n",
      "80/80 [==============================] - 1s 17ms/step - loss: 0.6963 - categorical_accuracy: 0.7271 - val_loss: 0.6390 - val_categorical_accuracy: 0.7140\n",
      "Epoch 13/50\n",
      "80/80 [==============================] - 1s 18ms/step - loss: 0.6756 - categorical_accuracy: 0.7328 - val_loss: 0.5828 - val_categorical_accuracy: 0.7855\n",
      "Epoch 14/50\n",
      "80/80 [==============================] - 1s 17ms/step - loss: 0.6476 - categorical_accuracy: 0.7552 - val_loss: 0.5224 - val_categorical_accuracy: 0.8111\n",
      "Epoch 15/50\n",
      "80/80 [==============================] - 1s 17ms/step - loss: 0.6079 - categorical_accuracy: 0.7727 - val_loss: 0.5482 - val_categorical_accuracy: 0.7737\n",
      "Epoch 16/50\n",
      "80/80 [==============================] - 1s 18ms/step - loss: 0.5852 - categorical_accuracy: 0.7791 - val_loss: 0.4446 - val_categorical_accuracy: 0.8436\n",
      "Epoch 17/50\n",
      "80/80 [==============================] - 1s 18ms/step - loss: 0.5454 - categorical_accuracy: 0.8008 - val_loss: 0.4360 - val_categorical_accuracy: 0.8459\n",
      "Epoch 18/50\n",
      "80/80 [==============================] - 1s 18ms/step - loss: 0.5636 - categorical_accuracy: 0.7929 - val_loss: 0.5318 - val_categorical_accuracy: 0.7799\n",
      "Epoch 19/50\n",
      "80/80 [==============================] - 1s 18ms/step - loss: 0.5880 - categorical_accuracy: 0.7770 - val_loss: 0.4510 - val_categorical_accuracy: 0.8593\n",
      "Epoch 20/50\n",
      "80/80 [==============================] - 1s 17ms/step - loss: 0.5406 - categorical_accuracy: 0.8044 - val_loss: 0.4103 - val_categorical_accuracy: 0.8540\n",
      "Epoch 21/50\n",
      "80/80 [==============================] - 1s 18ms/step - loss: 0.5041 - categorical_accuracy: 0.8160 - val_loss: 0.3861 - val_categorical_accuracy: 0.8722\n",
      "Epoch 22/50\n",
      "80/80 [==============================] - 1s 18ms/step - loss: 0.4927 - categorical_accuracy: 0.8213 - val_loss: 0.3856 - val_categorical_accuracy: 0.8630\n",
      "Epoch 23/50\n",
      "80/80 [==============================] - 1s 17ms/step - loss: 0.4820 - categorical_accuracy: 0.8262 - val_loss: 0.3600 - val_categorical_accuracy: 0.8710\n",
      "Epoch 24/50\n",
      "80/80 [==============================] - 1s 17ms/step - loss: 0.4577 - categorical_accuracy: 0.8332 - val_loss: 0.3725 - val_categorical_accuracy: 0.8676\n",
      "Epoch 25/50\n",
      "80/80 [==============================] - 1s 17ms/step - loss: 0.4576 - categorical_accuracy: 0.8333 - val_loss: 0.6781 - val_categorical_accuracy: 0.6870\n",
      "Epoch 26/50\n",
      "80/80 [==============================] - 1s 17ms/step - loss: 0.7424 - categorical_accuracy: 0.7091 - val_loss: 0.5976 - val_categorical_accuracy: 0.7917\n",
      "Epoch 27/50\n",
      "80/80 [==============================] - 1s 17ms/step - loss: 0.7341 - categorical_accuracy: 0.7120 - val_loss: 0.5059 - val_categorical_accuracy: 0.8249\n",
      "Epoch 28/50\n",
      "80/80 [==============================] - 1s 17ms/step - loss: 0.5940 - categorical_accuracy: 0.7771 - val_loss: 0.4677 - val_categorical_accuracy: 0.8226\n",
      "Epoch 29/50\n",
      "80/80 [==============================] - 1s 17ms/step - loss: 0.5281 - categorical_accuracy: 0.8063 - val_loss: 0.4021 - val_categorical_accuracy: 0.8537\n",
      "Epoch 30/50\n",
      "80/80 [==============================] - 1s 17ms/step - loss: 0.4997 - categorical_accuracy: 0.8199 - val_loss: 0.4398 - val_categorical_accuracy: 0.8334\n",
      "Epoch 31/50\n",
      "80/80 [==============================] - 1s 18ms/step - loss: 0.4867 - categorical_accuracy: 0.8235 - val_loss: 0.3618 - val_categorical_accuracy: 0.8731\n",
      "Epoch 32/50\n",
      "80/80 [==============================] - 1s 17ms/step - loss: 0.4482 - categorical_accuracy: 0.8406 - val_loss: 0.3723 - val_categorical_accuracy: 0.8697\n",
      "Epoch 33/50\n",
      "80/80 [==============================] - 1s 17ms/step - loss: 0.4420 - categorical_accuracy: 0.8431 - val_loss: 0.3251 - val_categorical_accuracy: 0.8895\n",
      "Epoch 34/50\n",
      "80/80 [==============================] - 1s 17ms/step - loss: 0.4137 - categorical_accuracy: 0.8526 - val_loss: 0.3190 - val_categorical_accuracy: 0.8870\n",
      "Epoch 35/50\n",
      "80/80 [==============================] - 1s 18ms/step - loss: 0.4037 - categorical_accuracy: 0.8569 - val_loss: 0.3253 - val_categorical_accuracy: 0.8768\n",
      "Epoch 36/50\n",
      "80/80 [==============================] - 1s 17ms/step - loss: 0.4363 - categorical_accuracy: 0.8453 - val_loss: 0.3858 - val_categorical_accuracy: 0.8531\n",
      "Epoch 37/50\n",
      "80/80 [==============================] - 1s 17ms/step - loss: 0.4225 - categorical_accuracy: 0.8462 - val_loss: 0.3189 - val_categorical_accuracy: 0.8842\n",
      "Epoch 38/50\n",
      "80/80 [==============================] - 1s 17ms/step - loss: 0.4306 - categorical_accuracy: 0.8465 - val_loss: 0.3321 - val_categorical_accuracy: 0.8775\n",
      "Epoch 39/50\n",
      "80/80 [==============================] - 1s 18ms/step - loss: 0.4067 - categorical_accuracy: 0.8518 - val_loss: 0.3336 - val_categorical_accuracy: 0.8897\n",
      "Epoch 40/50\n",
      "80/80 [==============================] - 1s 17ms/step - loss: 0.4094 - categorical_accuracy: 0.8530 - val_loss: 0.3579 - val_categorical_accuracy: 0.8574\n",
      "Epoch 41/50\n",
      "80/80 [==============================] - 1s 17ms/step - loss: 0.4509 - categorical_accuracy: 0.8370 - val_loss: 0.4402 - val_categorical_accuracy: 0.8242\n",
      "Epoch 42/50\n",
      "80/80 [==============================] - 1s 17ms/step - loss: 0.4488 - categorical_accuracy: 0.8356 - val_loss: 0.3370 - val_categorical_accuracy: 0.8685\n",
      "Epoch 43/50\n",
      "80/80 [==============================] - 1s 17ms/step - loss: 0.3858 - categorical_accuracy: 0.8641 - val_loss: 0.3182 - val_categorical_accuracy: 0.8847\n",
      "Epoch 44/50\n",
      "80/80 [==============================] - 1s 17ms/step - loss: 0.3875 - categorical_accuracy: 0.8650 - val_loss: 0.3763 - val_categorical_accuracy: 0.8593\n",
      "Epoch 45/50\n",
      "80/80 [==============================] - 1s 17ms/step - loss: 0.4274 - categorical_accuracy: 0.8464 - val_loss: 0.3348 - val_categorical_accuracy: 0.8701\n",
      "Epoch 46/50\n",
      "80/80 [==============================] - 1s 17ms/step - loss: 0.3900 - categorical_accuracy: 0.8613 - val_loss: 0.3570 - val_categorical_accuracy: 0.8706\n",
      "Epoch 47/50\n",
      "80/80 [==============================] - 1s 17ms/step - loss: 0.3960 - categorical_accuracy: 0.8579 - val_loss: 0.3469 - val_categorical_accuracy: 0.8669\n",
      "Epoch 48/50\n",
      "80/80 [==============================] - 1s 18ms/step - loss: 0.3794 - categorical_accuracy: 0.8650 - val_loss: 0.2868 - val_categorical_accuracy: 0.8925\n",
      "Epoch 49/50\n",
      "80/80 [==============================] - 1s 18ms/step - loss: 0.3685 - categorical_accuracy: 0.8677 - val_loss: 0.2795 - val_categorical_accuracy: 0.8990\n",
      "Epoch 50/50\n",
      "80/80 [==============================] - 1s 17ms/step - loss: 0.3680 - categorical_accuracy: 0.8665 - val_loss: 0.2778 - val_categorical_accuracy: 0.8987\n"
     ]
    },
    {
     "data": {
      "text/html": [
       "Waiting for W&B process to finish... <strong style=\"color:green\">(success).</strong>"
      ],
      "text/plain": [
       "<IPython.core.display.HTML object>"
      ]
     },
     "metadata": {},
     "output_type": "display_data"
    },
    {
     "data": {
      "text/html": [
       "<style>\n",
       "    table.wandb td:nth-child(1) { padding: 0 10px; text-align: left ; width: auto;} td:nth-child(2) {text-align: left ; width: 100%}\n",
       "    .wandb-row { display: flex; flex-direction: row; flex-wrap: wrap; justify-content: flex-start; width: 100% }\n",
       "    .wandb-col { display: flex; flex-direction: column; flex-basis: 100%; flex: 1; padding: 10px; }\n",
       "    </style>\n",
       "<div class=\"wandb-row\"><div class=\"wandb-col\"><h3>Run history:</h3><br/><table class=\"wandb\"><tr><td>epoch/categorical_accuracy</td><td>▁▃▄▅▄▅▅▆▆▆▆▆▇▇▇▇▇▇▇█▆▆▇▇▇███████████████</td></tr><tr><td>epoch/epoch</td><td>▁▁▁▁▂▂▂▂▂▃▃▃▃▃▃▄▄▄▄▄▅▅▅▅▅▅▆▆▆▆▆▆▇▇▇▇▇███</td></tr><tr><td>epoch/learning_rate</td><td>▁▁▁▁▁▁▁▁▁▁▁▁▁▁▁▁▁▁▁▁▁▁▁▁▁▁▁▁▁▁▁▁▁▁▁▁▁▁▁▁</td></tr><tr><td>epoch/loss</td><td>█▇▆▅▅▄▄▄▃▃▃▃▂▂▂▂▂▂▂▂▄▃▃▂▂▂▂▁▁▁▁▁▂▂▁▁▁▁▁▁</td></tr><tr><td>epoch/val_categorical_accuracy</td><td>▁▁▁▁▂▂▄▄▆▆▇▇▇▇▇█████▇▇▇█████████▇███████</td></tr><tr><td>epoch/val_loss</td><td>▇█▇▇▆▅▄▄▃▂▂▂▂▂▂▂▁▁▁▁▂▂▂▁▁▁▁▁▁▁▁▁▂▁▁▁▁▁▁▁</td></tr><tr><td>val_categorical_accuracy</td><td>▁</td></tr></table><br/></div><div class=\"wandb-col\"><h3>Run summary:</h3><br/><table class=\"wandb\"><tr><td>epoch/categorical_accuracy</td><td>0.86653</td></tr><tr><td>epoch/epoch</td><td>49</td></tr><tr><td>epoch/learning_rate</td><td>0.001</td></tr><tr><td>epoch/loss</td><td>0.36799</td></tr><tr><td>epoch/val_categorical_accuracy</td><td>0.89873</td></tr><tr><td>epoch/val_loss</td><td>0.27777</td></tr><tr><td>val_categorical_accuracy</td><td>0.89896</td></tr></table><br/></div></div>"
      ],
      "text/plain": [
       "<IPython.core.display.HTML object>"
      ]
     },
     "metadata": {},
     "output_type": "display_data"
    },
    {
     "data": {
      "text/html": [
       " View run <strong style=\"color:#cdcd00\">vague-sweep-4</strong> at: <a href='https://wandb.ai/hysped/hysped-conv1D_top4/runs/ei88cage' target=\"_blank\">https://wandb.ai/hysped/hysped-conv1D_top4/runs/ei88cage</a><br/>Synced 5 W&B file(s), 0 media file(s), 17 artifact file(s) and 0 other file(s)"
      ],
      "text/plain": [
       "<IPython.core.display.HTML object>"
      ]
     },
     "metadata": {},
     "output_type": "display_data"
    },
    {
     "data": {
      "text/html": [
       "Find logs at: <code>./wandb/run-20230407_142541-ei88cage/logs</code>"
      ],
      "text/plain": [
       "<IPython.core.display.HTML object>"
      ]
     },
     "metadata": {},
     "output_type": "display_data"
    },
    {
     "name": "stderr",
     "output_type": "stream",
     "text": [
      "\u001b[34m\u001b[1mwandb\u001b[0m: Agent Starting Run: uq7m7uva with config:\n",
      "\u001b[34m\u001b[1mwandb\u001b[0m: \tbatch_size: 128\n",
      "\u001b[34m\u001b[1mwandb\u001b[0m: \tfilters: [1024, 512, 256]\n",
      "\u001b[34m\u001b[1mwandb\u001b[0m: \tinput_shape: [186, 1]\n",
      "\u001b[34m\u001b[1mwandb\u001b[0m: \tkernel_sizes: [3, 3, 3]\n",
      "\u001b[34m\u001b[1mwandb\u001b[0m: \tnum_classes: 5\n",
      "\u001b[34m\u001b[1mwandb\u001b[0m: \tpadding: causal\n",
      "\u001b[34m\u001b[1mwandb\u001b[0m: \u001b[33mWARNING\u001b[0m Ignored wandb.init() arg project when running a sweep.\n"
     ]
    },
    {
     "data": {
      "text/html": [
       "wandb version 0.14.1 is available!  To upgrade, please run:\n",
       " $ pip install wandb --upgrade"
      ],
      "text/plain": [
       "<IPython.core.display.HTML object>"
      ]
     },
     "metadata": {},
     "output_type": "display_data"
    },
    {
     "data": {
      "text/html": [
       "Tracking run with wandb version 0.13.10"
      ],
      "text/plain": [
       "<IPython.core.display.HTML object>"
      ]
     },
     "metadata": {},
     "output_type": "display_data"
    },
    {
     "data": {
      "text/html": [
       "Run data is saved locally in <code>/tf/notebooks/wandb/run-20230407_142705-uq7m7uva</code>"
      ],
      "text/plain": [
       "<IPython.core.display.HTML object>"
      ]
     },
     "metadata": {},
     "output_type": "display_data"
    },
    {
     "data": {
      "text/html": [
       "Syncing run <strong><a href='https://wandb.ai/hysped/hysped-conv1D_top4/runs/uq7m7uva' target=\"_blank\">lyric-sweep-5</a></strong> to <a href='https://wandb.ai/hysped/hysped-conv1D_top4' target=\"_blank\">Weights & Biases</a> (<a href='https://wandb.me/run' target=\"_blank\">docs</a>)<br/>Sweep page: <a href='https://wandb.ai/hysped/hysped-conv1D_top4/sweeps/z1gj71w2' target=\"_blank\">https://wandb.ai/hysped/hysped-conv1D_top4/sweeps/z1gj71w2</a>"
      ],
      "text/plain": [
       "<IPython.core.display.HTML object>"
      ]
     },
     "metadata": {},
     "output_type": "display_data"
    },
    {
     "data": {
      "text/html": [
       " View project at <a href='https://wandb.ai/hysped/hysped-conv1D_top4' target=\"_blank\">https://wandb.ai/hysped/hysped-conv1D_top4</a>"
      ],
      "text/plain": [
       "<IPython.core.display.HTML object>"
      ]
     },
     "metadata": {},
     "output_type": "display_data"
    },
    {
     "data": {
      "text/html": [
       " View sweep at <a href='https://wandb.ai/hysped/hysped-conv1D_top4/sweeps/z1gj71w2' target=\"_blank\">https://wandb.ai/hysped/hysped-conv1D_top4/sweeps/z1gj71w2</a>"
      ],
      "text/plain": [
       "<IPython.core.display.HTML object>"
      ]
     },
     "metadata": {},
     "output_type": "display_data"
    },
    {
     "data": {
      "text/html": [
       " View run at <a href='https://wandb.ai/hysped/hysped-conv1D_top4/runs/uq7m7uva' target=\"_blank\">https://wandb.ai/hysped/hysped-conv1D_top4/runs/uq7m7uva</a>"
      ],
      "text/plain": [
       "<IPython.core.display.HTML object>"
      ]
     },
     "metadata": {},
     "output_type": "display_data"
    },
    {
     "name": "stdout",
     "output_type": "stream",
     "text": [
      "2023-04-07 14:27:06,417 | hysped | INFO : model_dir: ../models/conv1D_top4\n",
      "2023-04-07 14:27:06,418 | hysped | INFO : model_file: ../models/conv1D_top4/run_uq7m7uva_model.h5\n",
      "Epoch 1/50\n",
      " 5/80 [>.............................] - ETA: 3s - loss: 1.5131 - categorical_accuracy: 0.30312023-04-07 14:27:09,331 | tensorflow | WARNING : Callback method `on_train_batch_end` is slow compared to the batch time (batch time: 0.0175s vs `on_train_batch_end` time: 0.0193s). Check your callbacks.\n",
      "80/80 [==============================] - 8s 67ms/step - loss: 1.2138 - categorical_accuracy: 0.4780 - val_loss: 3.1839 - val_categorical_accuracy: 0.1970\n",
      "Epoch 2/50\n",
      "80/80 [==============================] - 4s 51ms/step - loss: 0.9735 - categorical_accuracy: 0.5984 - val_loss: 4.3630 - val_categorical_accuracy: 0.1970\n",
      "Epoch 3/50\n",
      "80/80 [==============================] - 4s 52ms/step - loss: 0.8485 - categorical_accuracy: 0.6663 - val_loss: 6.0674 - val_categorical_accuracy: 0.1970\n",
      "Epoch 4/50\n",
      "80/80 [==============================] - 4s 52ms/step - loss: 0.8450 - categorical_accuracy: 0.6709 - val_loss: 10.4430 - val_categorical_accuracy: 0.1970\n",
      "Epoch 5/50\n",
      "80/80 [==============================] - 4s 52ms/step - loss: 0.7448 - categorical_accuracy: 0.7172 - val_loss: 7.5590 - val_categorical_accuracy: 0.1970\n",
      "Epoch 6/50\n",
      "80/80 [==============================] - 4s 51ms/step - loss: 0.7335 - categorical_accuracy: 0.7221 - val_loss: 7.7397 - val_categorical_accuracy: 0.1970\n",
      "Epoch 7/50\n",
      "80/80 [==============================] - 4s 53ms/step - loss: 0.7202 - categorical_accuracy: 0.7262 - val_loss: 2.6676 - val_categorical_accuracy: 0.2941\n",
      "Epoch 8/50\n",
      "80/80 [==============================] - 4s 52ms/step - loss: 0.7031 - categorical_accuracy: 0.7372 - val_loss: 1.0031 - val_categorical_accuracy: 0.5783\n",
      "Epoch 9/50\n",
      "80/80 [==============================] - 4s 52ms/step - loss: 0.7027 - categorical_accuracy: 0.7350 - val_loss: 0.7105 - val_categorical_accuracy: 0.7608\n",
      "Epoch 10/50\n",
      "80/80 [==============================] - 4s 52ms/step - loss: 0.7137 - categorical_accuracy: 0.7308 - val_loss: 0.6205 - val_categorical_accuracy: 0.7903\n",
      "Epoch 11/50\n",
      "80/80 [==============================] - 4s 52ms/step - loss: 0.6799 - categorical_accuracy: 0.7472 - val_loss: 0.7907 - val_categorical_accuracy: 0.7465\n",
      "Epoch 12/50\n",
      "80/80 [==============================] - 4s 52ms/step - loss: 0.7711 - categorical_accuracy: 0.7154 - val_loss: 0.6146 - val_categorical_accuracy: 0.7742\n",
      "Epoch 13/50\n",
      "80/80 [==============================] - 4s 54ms/step - loss: 0.6743 - categorical_accuracy: 0.7531 - val_loss: 0.5681 - val_categorical_accuracy: 0.7986\n",
      "Epoch 14/50\n",
      "80/80 [==============================] - 4s 51ms/step - loss: 0.6440 - categorical_accuracy: 0.7593 - val_loss: 0.5705 - val_categorical_accuracy: 0.7965\n",
      "Epoch 15/50\n",
      "80/80 [==============================] - 4s 52ms/step - loss: 0.6932 - categorical_accuracy: 0.7406 - val_loss: 0.6035 - val_categorical_accuracy: 0.7449\n",
      "Epoch 16/50\n",
      "80/80 [==============================] - 4s 52ms/step - loss: 0.6759 - categorical_accuracy: 0.7433 - val_loss: 0.5393 - val_categorical_accuracy: 0.8025\n",
      "Epoch 17/50\n",
      "80/80 [==============================] - 4s 52ms/step - loss: 0.6791 - categorical_accuracy: 0.7466 - val_loss: 0.5180 - val_categorical_accuracy: 0.8138\n",
      "Epoch 18/50\n",
      "80/80 [==============================] - 4s 51ms/step - loss: 0.6292 - categorical_accuracy: 0.7660 - val_loss: 0.5669 - val_categorical_accuracy: 0.7785\n",
      "Epoch 19/50\n",
      "80/80 [==============================] - 4s 52ms/step - loss: 0.6219 - categorical_accuracy: 0.7625 - val_loss: 0.5270 - val_categorical_accuracy: 0.8111\n",
      "Epoch 20/50\n",
      "80/80 [==============================] - 4s 52ms/step - loss: 0.6866 - categorical_accuracy: 0.7485 - val_loss: 0.6088 - val_categorical_accuracy: 0.7804\n",
      "Epoch 21/50\n",
      "80/80 [==============================] - 4s 53ms/step - loss: 0.6582 - categorical_accuracy: 0.7561 - val_loss: 0.5042 - val_categorical_accuracy: 0.8247\n",
      "Epoch 22/50\n",
      "80/80 [==============================] - 4s 52ms/step - loss: 0.6061 - categorical_accuracy: 0.7766 - val_loss: 0.5001 - val_categorical_accuracy: 0.8196\n",
      "Epoch 23/50\n",
      "80/80 [==============================] - 4s 53ms/step - loss: 0.5898 - categorical_accuracy: 0.7803 - val_loss: 0.4823 - val_categorical_accuracy: 0.8452\n",
      "Epoch 24/50\n",
      "80/80 [==============================] - 4s 52ms/step - loss: 0.5948 - categorical_accuracy: 0.7803 - val_loss: 0.4924 - val_categorical_accuracy: 0.8182\n",
      "Epoch 25/50\n",
      "80/80 [==============================] - 4s 52ms/step - loss: 0.5650 - categorical_accuracy: 0.7940 - val_loss: 0.4603 - val_categorical_accuracy: 0.8448\n",
      "Epoch 26/50\n",
      "80/80 [==============================] - 4s 52ms/step - loss: 0.5634 - categorical_accuracy: 0.7937 - val_loss: 0.4988 - val_categorical_accuracy: 0.8171\n",
      "Epoch 27/50\n",
      "80/80 [==============================] - 4s 52ms/step - loss: 0.5649 - categorical_accuracy: 0.7872 - val_loss: 0.4733 - val_categorical_accuracy: 0.8254\n",
      "Epoch 28/50\n",
      "80/80 [==============================] - 4s 55ms/step - loss: 0.5731 - categorical_accuracy: 0.7920 - val_loss: 0.6002 - val_categorical_accuracy: 0.7774\n",
      "Epoch 29/50\n",
      "80/80 [==============================] - 4s 50ms/step - loss: 0.6078 - categorical_accuracy: 0.7735 - val_loss: 0.5396 - val_categorical_accuracy: 0.7885\n",
      "Epoch 30/50\n",
      "80/80 [==============================] - 4s 52ms/step - loss: 0.5847 - categorical_accuracy: 0.7876 - val_loss: 0.4636 - val_categorical_accuracy: 0.8268\n",
      "Epoch 31/50\n",
      "80/80 [==============================] - 4s 51ms/step - loss: 0.5388 - categorical_accuracy: 0.8004 - val_loss: 0.4397 - val_categorical_accuracy: 0.8328\n",
      "Epoch 32/50\n",
      "80/80 [==============================] - 4s 52ms/step - loss: 0.5425 - categorical_accuracy: 0.7978 - val_loss: 0.5569 - val_categorical_accuracy: 0.7592\n",
      "Epoch 33/50\n",
      "80/80 [==============================] - 4s 52ms/step - loss: 0.5641 - categorical_accuracy: 0.7921 - val_loss: 0.4747 - val_categorical_accuracy: 0.8245\n",
      "Epoch 34/50\n",
      "80/80 [==============================] - 4s 52ms/step - loss: 0.5464 - categorical_accuracy: 0.7978 - val_loss: 0.4931 - val_categorical_accuracy: 0.8014\n",
      "Epoch 35/50\n",
      "80/80 [==============================] - 4s 52ms/step - loss: 0.5426 - categorical_accuracy: 0.8016 - val_loss: 0.4392 - val_categorical_accuracy: 0.8450\n",
      "Epoch 36/50\n",
      "80/80 [==============================] - 4s 53ms/step - loss: 0.5162 - categorical_accuracy: 0.8147 - val_loss: 0.4098 - val_categorical_accuracy: 0.8618\n",
      "Epoch 37/50\n",
      "80/80 [==============================] - 4s 52ms/step - loss: 0.5055 - categorical_accuracy: 0.8148 - val_loss: 0.4326 - val_categorical_accuracy: 0.8505\n",
      "Epoch 38/50\n",
      "80/80 [==============================] - 4s 52ms/step - loss: 0.5684 - categorical_accuracy: 0.7917 - val_loss: 0.5488 - val_categorical_accuracy: 0.7993\n",
      "Epoch 39/50\n",
      "80/80 [==============================] - 4s 52ms/step - loss: 0.5915 - categorical_accuracy: 0.7820 - val_loss: 0.4126 - val_categorical_accuracy: 0.8519\n",
      "Epoch 40/50\n",
      "80/80 [==============================] - 4s 52ms/step - loss: 0.5477 - categorical_accuracy: 0.7963 - val_loss: 0.4034 - val_categorical_accuracy: 0.8535\n",
      "Epoch 41/50\n",
      "80/80 [==============================] - 4s 52ms/step - loss: 0.5091 - categorical_accuracy: 0.8110 - val_loss: 0.3822 - val_categorical_accuracy: 0.8685\n",
      "Epoch 42/50\n",
      "80/80 [==============================] - 5s 64ms/step - loss: 0.4940 - categorical_accuracy: 0.8210 - val_loss: 0.4348 - val_categorical_accuracy: 0.8401\n",
      "Epoch 43/50\n",
      "80/80 [==============================] - 4s 52ms/step - loss: 0.5452 - categorical_accuracy: 0.7987 - val_loss: 0.4134 - val_categorical_accuracy: 0.8494\n",
      "Epoch 44/50\n",
      "80/80 [==============================] - 4s 52ms/step - loss: 0.4838 - categorical_accuracy: 0.8217 - val_loss: 0.3935 - val_categorical_accuracy: 0.8597\n",
      "Epoch 45/50\n",
      "80/80 [==============================] - 4s 52ms/step - loss: 0.5139 - categorical_accuracy: 0.8144 - val_loss: 0.4085 - val_categorical_accuracy: 0.8623\n",
      "Epoch 46/50\n",
      "80/80 [==============================] - 4s 53ms/step - loss: 0.4764 - categorical_accuracy: 0.8288 - val_loss: 0.3826 - val_categorical_accuracy: 0.8687\n",
      "Epoch 47/50\n",
      "80/80 [==============================] - 4s 52ms/step - loss: 0.5441 - categorical_accuracy: 0.8023 - val_loss: 0.4492 - val_categorical_accuracy: 0.8316\n",
      "Epoch 48/50\n",
      "80/80 [==============================] - 4s 51ms/step - loss: 0.5127 - categorical_accuracy: 0.8119 - val_loss: 0.3882 - val_categorical_accuracy: 0.8655\n",
      "Epoch 49/50\n",
      "80/80 [==============================] - 4s 52ms/step - loss: 0.4694 - categorical_accuracy: 0.8282 - val_loss: 0.4095 - val_categorical_accuracy: 0.8510\n",
      "Epoch 50/50\n",
      "80/80 [==============================] - 4s 52ms/step - loss: 0.4974 - categorical_accuracy: 0.8188 - val_loss: 0.3756 - val_categorical_accuracy: 0.8687\n"
     ]
    },
    {
     "data": {
      "text/html": [
       "Waiting for W&B process to finish... <strong style=\"color:green\">(success).</strong>"
      ],
      "text/plain": [
       "<IPython.core.display.HTML object>"
      ]
     },
     "metadata": {},
     "output_type": "display_data"
    },
    {
     "data": {
      "application/vnd.jupyter.widget-view+json": {
       "model_id": "a0a868a8eefe47a484f267e60d4fd03b",
       "version_major": 2,
       "version_minor": 0
      },
      "text/plain": [
       "VBox(children=(Label(value='302.732 MB of 302.732 MB uploaded (0.000 MB deduped)\\r'), FloatProgress(value=1.0,…"
      ]
     },
     "metadata": {},
     "output_type": "display_data"
    },
    {
     "data": {
      "text/html": [
       "<style>\n",
       "    table.wandb td:nth-child(1) { padding: 0 10px; text-align: left ; width: auto;} td:nth-child(2) {text-align: left ; width: 100%}\n",
       "    .wandb-row { display: flex; flex-direction: row; flex-wrap: wrap; justify-content: flex-start; width: 100% }\n",
       "    .wandb-col { display: flex; flex-direction: column; flex-basis: 100%; flex: 1; padding: 10px; }\n",
       "    </style>\n",
       "<div class=\"wandb-row\"><div class=\"wandb-col\"><h3>Run history:</h3><br/><table class=\"wandb\"><tr><td>epoch/categorical_accuracy</td><td>▁▃▅▅▆▆▆▆▆▆▆▇▆▆▇▇▇▇▇▇▇▇▇▇▇▇▇▇██▇▇██▇██▇██</td></tr><tr><td>epoch/epoch</td><td>▁▁▁▁▂▂▂▂▂▃▃▃▃▃▃▄▄▄▄▄▅▅▅▅▅▅▆▆▆▆▆▆▇▇▇▇▇███</td></tr><tr><td>epoch/learning_rate</td><td>▁▁▁▁▁▁▁▁▁▁▁▁▁▁▁▁▁▁▁▁▁▁▁▁▁▁▁▁▁▁▁▁▁▁▁▁▁▁▁▁</td></tr><tr><td>epoch/loss</td><td>█▆▅▄▃▃▃▃▃▄▃▃▃▃▂▂▃▂▂▂▂▂▂▂▂▂▂▂▁▁▂▂▁▁▂▁▁▂▁▁</td></tr><tr><td>epoch/val_categorical_accuracy</td><td>▁▁▁▁▁▂▅▇▇▇▇▇▇▇▇▇█▇█▇▇█▇▇█▇█▇██▇█████████</td></tr><tr><td>epoch/val_loss</td><td>▃▄▅█▆▃▁▁▁▁▁▁▁▁▁▁▁▁▁▁▁▁▁▁▁▁▁▁▁▁▁▁▁▁▁▁▁▁▁▁</td></tr><tr><td>val_categorical_accuracy</td><td>▁</td></tr></table><br/></div><div class=\"wandb-col\"><h3>Run summary:</h3><br/><table class=\"wandb\"><tr><td>epoch/categorical_accuracy</td><td>0.81878</td></tr><tr><td>epoch/epoch</td><td>49</td></tr><tr><td>epoch/learning_rate</td><td>0.001</td></tr><tr><td>epoch/loss</td><td>0.49741</td></tr><tr><td>epoch/val_categorical_accuracy</td><td>0.86874</td></tr><tr><td>epoch/val_loss</td><td>0.37564</td></tr><tr><td>val_categorical_accuracy</td><td>0.86874</td></tr></table><br/></div></div>"
      ],
      "text/plain": [
       "<IPython.core.display.HTML object>"
      ]
     },
     "metadata": {},
     "output_type": "display_data"
    },
    {
     "data": {
      "text/html": [
       " View run <strong style=\"color:#cdcd00\">lyric-sweep-5</strong> at: <a href='https://wandb.ai/hysped/hysped-conv1D_top4/runs/uq7m7uva' target=\"_blank\">https://wandb.ai/hysped/hysped-conv1D_top4/runs/uq7m7uva</a><br/>Synced 5 W&B file(s), 0 media file(s), 13 artifact file(s) and 0 other file(s)"
      ],
      "text/plain": [
       "<IPython.core.display.HTML object>"
      ]
     },
     "metadata": {},
     "output_type": "display_data"
    },
    {
     "data": {
      "text/html": [
       "Find logs at: <code>./wandb/run-20230407_142705-uq7m7uva/logs</code>"
      ],
      "text/plain": [
       "<IPython.core.display.HTML object>"
      ]
     },
     "metadata": {},
     "output_type": "display_data"
    },
    {
     "name": "stderr",
     "output_type": "stream",
     "text": [
      "\u001b[34m\u001b[1mwandb\u001b[0m: Agent Starting Run: pajxg0il with config:\n",
      "\u001b[34m\u001b[1mwandb\u001b[0m: \tbatch_size: 128\n",
      "\u001b[34m\u001b[1mwandb\u001b[0m: \tfilters: [32, 16, 8]\n",
      "\u001b[34m\u001b[1mwandb\u001b[0m: \tinput_shape: [186, 1]\n",
      "\u001b[34m\u001b[1mwandb\u001b[0m: \tkernel_sizes: [7, 7, 7]\n",
      "\u001b[34m\u001b[1mwandb\u001b[0m: \tnum_classes: 5\n",
      "\u001b[34m\u001b[1mwandb\u001b[0m: \tpadding: causal\n",
      "\u001b[34m\u001b[1mwandb\u001b[0m: \u001b[33mWARNING\u001b[0m Ignored wandb.init() arg project when running a sweep.\n"
     ]
    },
    {
     "data": {
      "text/html": [
       "wandb version 0.14.1 is available!  To upgrade, please run:\n",
       " $ pip install wandb --upgrade"
      ],
      "text/plain": [
       "<IPython.core.display.HTML object>"
      ]
     },
     "metadata": {},
     "output_type": "display_data"
    },
    {
     "data": {
      "text/html": [
       "Tracking run with wandb version 0.13.10"
      ],
      "text/plain": [
       "<IPython.core.display.HTML object>"
      ]
     },
     "metadata": {},
     "output_type": "display_data"
    },
    {
     "data": {
      "text/html": [
       "Run data is saved locally in <code>/tf/notebooks/wandb/run-20230407_143048-pajxg0il</code>"
      ],
      "text/plain": [
       "<IPython.core.display.HTML object>"
      ]
     },
     "metadata": {},
     "output_type": "display_data"
    },
    {
     "data": {
      "text/html": [
       "Syncing run <strong><a href='https://wandb.ai/hysped/hysped-conv1D_top4/runs/pajxg0il' target=\"_blank\">lunar-sweep-6</a></strong> to <a href='https://wandb.ai/hysped/hysped-conv1D_top4' target=\"_blank\">Weights & Biases</a> (<a href='https://wandb.me/run' target=\"_blank\">docs</a>)<br/>Sweep page: <a href='https://wandb.ai/hysped/hysped-conv1D_top4/sweeps/z1gj71w2' target=\"_blank\">https://wandb.ai/hysped/hysped-conv1D_top4/sweeps/z1gj71w2</a>"
      ],
      "text/plain": [
       "<IPython.core.display.HTML object>"
      ]
     },
     "metadata": {},
     "output_type": "display_data"
    },
    {
     "data": {
      "text/html": [
       " View project at <a href='https://wandb.ai/hysped/hysped-conv1D_top4' target=\"_blank\">https://wandb.ai/hysped/hysped-conv1D_top4</a>"
      ],
      "text/plain": [
       "<IPython.core.display.HTML object>"
      ]
     },
     "metadata": {},
     "output_type": "display_data"
    },
    {
     "data": {
      "text/html": [
       " View sweep at <a href='https://wandb.ai/hysped/hysped-conv1D_top4/sweeps/z1gj71w2' target=\"_blank\">https://wandb.ai/hysped/hysped-conv1D_top4/sweeps/z1gj71w2</a>"
      ],
      "text/plain": [
       "<IPython.core.display.HTML object>"
      ]
     },
     "metadata": {},
     "output_type": "display_data"
    },
    {
     "data": {
      "text/html": [
       " View run at <a href='https://wandb.ai/hysped/hysped-conv1D_top4/runs/pajxg0il' target=\"_blank\">https://wandb.ai/hysped/hysped-conv1D_top4/runs/pajxg0il</a>"
      ],
      "text/plain": [
       "<IPython.core.display.HTML object>"
      ]
     },
     "metadata": {},
     "output_type": "display_data"
    },
    {
     "name": "stdout",
     "output_type": "stream",
     "text": [
      "2023-04-07 14:30:49,329 | hysped | INFO : model_dir: ../models/conv1D_top4\n",
      "2023-04-07 14:30:49,330 | hysped | INFO : model_file: ../models/conv1D_top4/run_pajxg0il_model.h5\n",
      "Epoch 1/50\n",
      "80/80 [==============================] - 4s 21ms/step - loss: 1.4736 - categorical_accuracy: 0.3406 - val_loss: 1.5936 - val_categorical_accuracy: 0.2081\n",
      "Epoch 2/50\n",
      "80/80 [==============================] - 1s 17ms/step - loss: 1.3038 - categorical_accuracy: 0.4409 - val_loss: 2.3351 - val_categorical_accuracy: 0.1970\n",
      "Epoch 3/50\n",
      "80/80 [==============================] - 1s 17ms/step - loss: 1.1793 - categorical_accuracy: 0.5057 - val_loss: 3.0883 - val_categorical_accuracy: 0.1970\n",
      "Epoch 4/50\n",
      "80/80 [==============================] - 1s 17ms/step - loss: 1.0839 - categorical_accuracy: 0.5536 - val_loss: 3.2069 - val_categorical_accuracy: 0.1970\n",
      "Epoch 5/50\n",
      "80/80 [==============================] - 1s 17ms/step - loss: 1.0325 - categorical_accuracy: 0.5720 - val_loss: 2.8763 - val_categorical_accuracy: 0.1970\n",
      "Epoch 6/50\n",
      "80/80 [==============================] - 1s 16ms/step - loss: 0.9791 - categorical_accuracy: 0.6017 - val_loss: 2.8318 - val_categorical_accuracy: 0.2595\n",
      "Epoch 7/50\n",
      "80/80 [==============================] - 1s 17ms/step - loss: 0.9402 - categorical_accuracy: 0.6170 - val_loss: 1.6368 - val_categorical_accuracy: 0.3825\n",
      "Epoch 8/50\n",
      "80/80 [==============================] - 1s 18ms/step - loss: 0.9423 - categorical_accuracy: 0.6233 - val_loss: 1.0400 - val_categorical_accuracy: 0.5589\n",
      "Epoch 9/50\n",
      "80/80 [==============================] - 1s 17ms/step - loss: 0.9173 - categorical_accuracy: 0.6336 - val_loss: 0.8499 - val_categorical_accuracy: 0.6630\n",
      "Epoch 10/50\n",
      "80/80 [==============================] - 1s 17ms/step - loss: 0.8882 - categorical_accuracy: 0.6469 - val_loss: 0.8325 - val_categorical_accuracy: 0.6648\n",
      "Epoch 11/50\n",
      "80/80 [==============================] - 1s 17ms/step - loss: 0.8982 - categorical_accuracy: 0.6422 - val_loss: 0.7619 - val_categorical_accuracy: 0.7066\n",
      "Epoch 12/50\n",
      "80/80 [==============================] - 1s 17ms/step - loss: 0.8650 - categorical_accuracy: 0.6566 - val_loss: 0.7644 - val_categorical_accuracy: 0.6764\n",
      "Epoch 13/50\n",
      "80/80 [==============================] - 1s 17ms/step - loss: 0.8524 - categorical_accuracy: 0.6631 - val_loss: 0.7146 - val_categorical_accuracy: 0.7317\n",
      "Epoch 14/50\n",
      "80/80 [==============================] - 1s 17ms/step - loss: 0.8356 - categorical_accuracy: 0.6699 - val_loss: 0.7086 - val_categorical_accuracy: 0.7386\n",
      "Epoch 15/50\n",
      "80/80 [==============================] - 1s 17ms/step - loss: 0.8311 - categorical_accuracy: 0.6772 - val_loss: 0.7108 - val_categorical_accuracy: 0.7368\n",
      "Epoch 16/50\n",
      "80/80 [==============================] - 1s 17ms/step - loss: 0.8289 - categorical_accuracy: 0.6811 - val_loss: 0.7062 - val_categorical_accuracy: 0.7303\n",
      "Epoch 17/50\n",
      "80/80 [==============================] - 1s 17ms/step - loss: 0.8133 - categorical_accuracy: 0.6801 - val_loss: 0.6887 - val_categorical_accuracy: 0.7612\n",
      "Epoch 18/50\n",
      "80/80 [==============================] - 1s 17ms/step - loss: 0.8074 - categorical_accuracy: 0.6856 - val_loss: 0.6880 - val_categorical_accuracy: 0.7638\n",
      "Epoch 19/50\n",
      "80/80 [==============================] - 1s 17ms/step - loss: 0.8380 - categorical_accuracy: 0.6752 - val_loss: 0.7179 - val_categorical_accuracy: 0.7093\n",
      "Epoch 20/50\n",
      "80/80 [==============================] - 1s 17ms/step - loss: 0.8098 - categorical_accuracy: 0.6894 - val_loss: 0.7106 - val_categorical_accuracy: 0.7352\n",
      "Epoch 21/50\n",
      "80/80 [==============================] - 1s 16ms/step - loss: 0.8585 - categorical_accuracy: 0.6635 - val_loss: 0.6924 - val_categorical_accuracy: 0.7463\n",
      "Epoch 22/50\n",
      "80/80 [==============================] - 1s 17ms/step - loss: 0.7920 - categorical_accuracy: 0.6925 - val_loss: 0.6499 - val_categorical_accuracy: 0.7707\n",
      "Epoch 23/50\n",
      "80/80 [==============================] - 1s 17ms/step - loss: 0.7849 - categorical_accuracy: 0.7013 - val_loss: 0.7128 - val_categorical_accuracy: 0.6856\n",
      "Epoch 24/50\n",
      "80/80 [==============================] - 1s 17ms/step - loss: 0.7923 - categorical_accuracy: 0.6963 - val_loss: 0.6689 - val_categorical_accuracy: 0.7513\n",
      "Epoch 25/50\n",
      "80/80 [==============================] - 1s 17ms/step - loss: 0.8011 - categorical_accuracy: 0.6936 - val_loss: 0.6471 - val_categorical_accuracy: 0.7714\n",
      "Epoch 26/50\n",
      "80/80 [==============================] - 1s 17ms/step - loss: 0.7743 - categorical_accuracy: 0.7058 - val_loss: 0.6403 - val_categorical_accuracy: 0.7783\n",
      "Epoch 27/50\n",
      "80/80 [==============================] - 1s 17ms/step - loss: 0.7647 - categorical_accuracy: 0.7112 - val_loss: 0.6486 - val_categorical_accuracy: 0.7622\n",
      "Epoch 28/50\n",
      "80/80 [==============================] - 1s 16ms/step - loss: 0.7773 - categorical_accuracy: 0.7049 - val_loss: 0.6574 - val_categorical_accuracy: 0.7506\n",
      "Epoch 29/50\n",
      "80/80 [==============================] - 1s 16ms/step - loss: 0.7506 - categorical_accuracy: 0.7165 - val_loss: 0.6692 - val_categorical_accuracy: 0.7488\n",
      "Epoch 30/50\n",
      "80/80 [==============================] - 1s 16ms/step - loss: 0.8042 - categorical_accuracy: 0.6901 - val_loss: 0.6448 - val_categorical_accuracy: 0.7760\n",
      "Epoch 31/50\n",
      "80/80 [==============================] - 1s 17ms/step - loss: 0.7556 - categorical_accuracy: 0.7171 - val_loss: 0.6279 - val_categorical_accuracy: 0.7746\n",
      "Epoch 32/50\n",
      "80/80 [==============================] - 1s 17ms/step - loss: 0.7449 - categorical_accuracy: 0.7199 - val_loss: 0.6117 - val_categorical_accuracy: 0.7975\n",
      "Epoch 33/50\n",
      "80/80 [==============================] - 1s 17ms/step - loss: 0.7423 - categorical_accuracy: 0.7185 - val_loss: 0.6244 - val_categorical_accuracy: 0.7806\n",
      "Epoch 34/50\n",
      "80/80 [==============================] - 1s 17ms/step - loss: 0.7774 - categorical_accuracy: 0.7064 - val_loss: 0.6848 - val_categorical_accuracy: 0.7236\n",
      "Epoch 35/50\n",
      "80/80 [==============================] - 1s 17ms/step - loss: 0.8065 - categorical_accuracy: 0.6889 - val_loss: 0.6641 - val_categorical_accuracy: 0.7451\n",
      "Epoch 36/50\n",
      "80/80 [==============================] - 1s 17ms/step - loss: 0.7674 - categorical_accuracy: 0.7122 - val_loss: 0.6600 - val_categorical_accuracy: 0.7400\n",
      "Epoch 37/50\n",
      "80/80 [==============================] - 1s 18ms/step - loss: 0.7412 - categorical_accuracy: 0.7191 - val_loss: 0.6048 - val_categorical_accuracy: 0.7986\n",
      "Epoch 38/50\n",
      "80/80 [==============================] - 1s 17ms/step - loss: 0.7190 - categorical_accuracy: 0.7312 - val_loss: 0.5959 - val_categorical_accuracy: 0.7968\n",
      "Epoch 39/50\n",
      "80/80 [==============================] - 1s 17ms/step - loss: 0.7237 - categorical_accuracy: 0.7290 - val_loss: 0.6110 - val_categorical_accuracy: 0.7622\n",
      "Epoch 40/50\n",
      "80/80 [==============================] - 1s 17ms/step - loss: 0.7197 - categorical_accuracy: 0.7265 - val_loss: 0.5768 - val_categorical_accuracy: 0.8083\n",
      "Epoch 41/50\n",
      "80/80 [==============================] - 1s 17ms/step - loss: 0.7149 - categorical_accuracy: 0.7317 - val_loss: 0.5794 - val_categorical_accuracy: 0.8032\n",
      "Epoch 42/50\n",
      "80/80 [==============================] - 1s 18ms/step - loss: 0.7123 - categorical_accuracy: 0.7339 - val_loss: 0.5641 - val_categorical_accuracy: 0.8164\n",
      "Epoch 43/50\n",
      "80/80 [==============================] - 1s 15ms/step - loss: 0.7105 - categorical_accuracy: 0.7316 - val_loss: 0.5869 - val_categorical_accuracy: 0.7832\n",
      "Epoch 44/50\n",
      "80/80 [==============================] - 1s 17ms/step - loss: 0.7023 - categorical_accuracy: 0.7356 - val_loss: 0.5435 - val_categorical_accuracy: 0.8168\n",
      "Epoch 45/50\n",
      "80/80 [==============================] - 1s 17ms/step - loss: 0.6891 - categorical_accuracy: 0.7472 - val_loss: 0.5456 - val_categorical_accuracy: 0.8210\n",
      "Epoch 46/50\n",
      "80/80 [==============================] - 1s 16ms/step - loss: 0.6891 - categorical_accuracy: 0.7361 - val_loss: 0.5512 - val_categorical_accuracy: 0.8203\n",
      "Epoch 47/50\n",
      "80/80 [==============================] - 1s 17ms/step - loss: 0.6984 - categorical_accuracy: 0.7417 - val_loss: 0.5448 - val_categorical_accuracy: 0.8161\n",
      "Epoch 48/50\n",
      "80/80 [==============================] - 1s 17ms/step - loss: 0.6834 - categorical_accuracy: 0.7438 - val_loss: 0.5798 - val_categorical_accuracy: 0.8009\n",
      "Epoch 49/50\n",
      "80/80 [==============================] - 1s 15ms/step - loss: 0.7450 - categorical_accuracy: 0.7225 - val_loss: 0.5688 - val_categorical_accuracy: 0.7938\n",
      "Epoch 50/50\n",
      "80/80 [==============================] - 1s 17ms/step - loss: 0.7063 - categorical_accuracy: 0.7330 - val_loss: 0.5497 - val_categorical_accuracy: 0.8095\n"
     ]
    },
    {
     "data": {
      "text/html": [
       "Waiting for W&B process to finish... <strong style=\"color:green\">(success).</strong>"
      ],
      "text/plain": [
       "<IPython.core.display.HTML object>"
      ]
     },
     "metadata": {},
     "output_type": "display_data"
    },
    {
     "data": {
      "text/html": [
       "<style>\n",
       "    table.wandb td:nth-child(1) { padding: 0 10px; text-align: left ; width: auto;} td:nth-child(2) {text-align: left ; width: 100%}\n",
       "    .wandb-row { display: flex; flex-direction: row; flex-wrap: wrap; justify-content: flex-start; width: 100% }\n",
       "    .wandb-col { display: flex; flex-direction: column; flex-basis: 100%; flex: 1; padding: 10px; }\n",
       "    </style>\n",
       "<div class=\"wandb-row\"><div class=\"wandb-col\"><h3>Run history:</h3><br/><table class=\"wandb\"><tr><td>epoch/categorical_accuracy</td><td>▁▃▄▅▆▆▆▆▆▆▇▇▇▇▇▇▇▇▇▇▇▇▇████▇▇███████████</td></tr><tr><td>epoch/epoch</td><td>▁▁▁▁▂▂▂▂▂▃▃▃▃▃▃▄▄▄▄▄▅▅▅▅▅▅▆▆▆▆▆▆▇▇▇▇▇███</td></tr><tr><td>epoch/learning_rate</td><td>▁▁▁▁▁▁▁▁▁▁▁▁▁▁▁▁▁▁▁▁▁▁▁▁▁▁▁▁▁▁▁▁▁▁▁▁▁▁▁▁</td></tr><tr><td>epoch/loss</td><td>█▆▅▅▄▃▃▃▃▃▂▂▂▂▂▂▃▂▂▂▂▂▂▂▂▂▂▂▂▂▁▁▁▁▁▁▁▁▁▁</td></tr><tr><td>epoch/val_categorical_accuracy</td><td>▁▁▁▁▂▃▅▆▇▆▇▇▇▇▇▇▇▇▆▇█▇▇▇▇██▇▇██▇████████</td></tr><tr><td>epoch/val_loss</td><td>▄▆██▇▄▂▂▂▂▁▁▁▁▁▁▁▁▁▁▁▁▁▁▁▁▁▁▁▁▁▁▁▁▁▁▁▁▁▁</td></tr><tr><td>val_categorical_accuracy</td><td>▁</td></tr></table><br/></div><div class=\"wandb-col\"><h3>Run summary:</h3><br/><table class=\"wandb\"><tr><td>epoch/categorical_accuracy</td><td>0.73297</td></tr><tr><td>epoch/epoch</td><td>49</td></tr><tr><td>epoch/learning_rate</td><td>0.001</td></tr><tr><td>epoch/loss</td><td>0.70633</td></tr><tr><td>epoch/val_categorical_accuracy</td><td>0.80946</td></tr><tr><td>epoch/val_loss</td><td>0.54973</td></tr><tr><td>val_categorical_accuracy</td><td>0.82099</td></tr></table><br/></div></div>"
      ],
      "text/plain": [
       "<IPython.core.display.HTML object>"
      ]
     },
     "metadata": {},
     "output_type": "display_data"
    },
    {
     "data": {
      "text/html": [
       " View run <strong style=\"color:#cdcd00\">lunar-sweep-6</strong> at: <a href='https://wandb.ai/hysped/hysped-conv1D_top4/runs/pajxg0il' target=\"_blank\">https://wandb.ai/hysped/hysped-conv1D_top4/runs/pajxg0il</a><br/>Synced 5 W&B file(s), 0 media file(s), 20 artifact file(s) and 0 other file(s)"
      ],
      "text/plain": [
       "<IPython.core.display.HTML object>"
      ]
     },
     "metadata": {},
     "output_type": "display_data"
    },
    {
     "data": {
      "text/html": [
       "Find logs at: <code>./wandb/run-20230407_143048-pajxg0il/logs</code>"
      ],
      "text/plain": [
       "<IPython.core.display.HTML object>"
      ]
     },
     "metadata": {},
     "output_type": "display_data"
    },
    {
     "name": "stderr",
     "output_type": "stream",
     "text": [
      "\u001b[34m\u001b[1mwandb\u001b[0m: Agent Starting Run: s3yesut0 with config:\n",
      "\u001b[34m\u001b[1mwandb\u001b[0m: \tbatch_size: 128\n",
      "\u001b[34m\u001b[1mwandb\u001b[0m: \tfilters: [128, 64, 32]\n",
      "\u001b[34m\u001b[1mwandb\u001b[0m: \tinput_shape: [186, 1]\n",
      "\u001b[34m\u001b[1mwandb\u001b[0m: \tkernel_sizes: [9, 9, 9]\n",
      "\u001b[34m\u001b[1mwandb\u001b[0m: \tnum_classes: 5\n",
      "\u001b[34m\u001b[1mwandb\u001b[0m: \tpadding: causal\n",
      "\u001b[34m\u001b[1mwandb\u001b[0m: \u001b[33mWARNING\u001b[0m Ignored wandb.init() arg project when running a sweep.\n"
     ]
    },
    {
     "data": {
      "text/html": [
       "wandb version 0.14.1 is available!  To upgrade, please run:\n",
       " $ pip install wandb --upgrade"
      ],
      "text/plain": [
       "<IPython.core.display.HTML object>"
      ]
     },
     "metadata": {},
     "output_type": "display_data"
    },
    {
     "data": {
      "text/html": [
       "Tracking run with wandb version 0.13.10"
      ],
      "text/plain": [
       "<IPython.core.display.HTML object>"
      ]
     },
     "metadata": {},
     "output_type": "display_data"
    },
    {
     "data": {
      "text/html": [
       "Run data is saved locally in <code>/tf/notebooks/wandb/run-20230407_143211-s3yesut0</code>"
      ],
      "text/plain": [
       "<IPython.core.display.HTML object>"
      ]
     },
     "metadata": {},
     "output_type": "display_data"
    },
    {
     "data": {
      "text/html": [
       "Syncing run <strong><a href='https://wandb.ai/hysped/hysped-conv1D_top4/runs/s3yesut0' target=\"_blank\">fine-sweep-7</a></strong> to <a href='https://wandb.ai/hysped/hysped-conv1D_top4' target=\"_blank\">Weights & Biases</a> (<a href='https://wandb.me/run' target=\"_blank\">docs</a>)<br/>Sweep page: <a href='https://wandb.ai/hysped/hysped-conv1D_top4/sweeps/z1gj71w2' target=\"_blank\">https://wandb.ai/hysped/hysped-conv1D_top4/sweeps/z1gj71w2</a>"
      ],
      "text/plain": [
       "<IPython.core.display.HTML object>"
      ]
     },
     "metadata": {},
     "output_type": "display_data"
    }
   ],
   "source": [
    "def main():\n",
    "    run = wandb.init(project=cfg['project_name'])\n",
    "    model = make_model(**wandb.config)\n",
    "    \n",
    "    model_dir = os.path.join(cfg['models_dir'], cfg['model_name'])\n",
    "    mkdir(model_dir)\n",
    "    logger.info('model_dir: %s' % model_dir)\n",
    "    model_file = os.path.join(model_dir, 'run_%s_model.h5' % (run.id))\n",
    "    logger.info('model_file: %s' % model_file)\n",
    "    \n",
    "    wandbModelCheckpoint = WandbModelCheckpoint(\n",
    "        model_file,\n",
    "        monitor='val_categorical_accuracy',\n",
    "        mode='max',\n",
    "        save_best_only=True\n",
    "    )\n",
    "\n",
    "    callbacks = [\n",
    "        WandbMetricsLogger(),\n",
    "        wandbModelCheckpoint,\n",
    "    ]\n",
    "\n",
    "    history = model.fit(\n",
    "        x=X_train,\n",
    "        y=Y_train,\n",
    "        validation_data=(X_val, Y_val),\n",
    "        epochs=50,\n",
    "        shuffle=True,\n",
    "        batch_size=wandb.config.batch_size,\n",
    "        callbacks=callbacks,\n",
    "        verbose=1\n",
    "    )\n",
    "    \n",
    "    wandb.log({\n",
    "        wandbModelCheckpoint.monitor: wandbModelCheckpoint.best\n",
    "    })\n",
    "    run.finish()\n",
    "    # wandb.log(pd.DataFrame(history.history)[-1:].reset_index(drop=True).to_dict(orient='records')[0])\n",
    "\n",
    "# Start the sweep\n",
    "sweep_id = wandb.sweep(\n",
    "    sweep=sweep_configuration,\n",
    "    project=cfg['project_name']\n",
    ")\n",
    "wandb.agent(sweep_id, function=main, count=50)\n",
    "wandb.finish()"
   ]
  },
  {
   "cell_type": "raw",
   "id": "df3302ec-0f79-4dd8-bd83-58ef0b9bd4a9",
   "metadata": {},
   "source": [
    "run = wandb.init()\n",
    "artifact = run.use_artifact('hysped/hysped-conv1D_top4/run_of27uy90_model:v13', type='model')\n",
    "artifact_dir = artifact.download()"
   ]
  }
 ],
 "metadata": {
  "kernelspec": {
   "display_name": "Python 3",
   "language": "python",
   "name": "python3"
  },
  "language_info": {
   "codemirror_mode": {
    "name": "ipython",
    "version": 3
   },
   "file_extension": ".py",
   "mimetype": "text/x-python",
   "name": "python",
   "nbconvert_exporter": "python",
   "pygments_lexer": "ipython3",
   "version": "3.8.10"
  }
 },
 "nbformat": 4,
 "nbformat_minor": 5
}
