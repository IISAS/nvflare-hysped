{
 "cells": [
  {
   "cell_type": "code",
   "execution_count": 1,
   "id": "e425699b-0beb-4bde-a1c0-2ce572f5bece",
   "metadata": {
    "tags": []
   },
   "outputs": [
    {
     "name": "stderr",
     "output_type": "stream",
     "text": [
      "\u001b[34m\u001b[1mwandb\u001b[0m: Currently logged in as: \u001b[33mstevo\u001b[0m (\u001b[33mhysped\u001b[0m). Use \u001b[1m`wandb login --relogin`\u001b[0m to force relogin\n"
     ]
    }
   ],
   "source": [
    "import os\n",
    "# os.environ[\"CUDA_VISIBLE_DEVICES\"] = '-1'\n",
    "\n",
    "import sys\n",
    "\n",
    "from importlib import reload\n",
    "\n",
    "import logging\n",
    "reload(logging)\n",
    "logging.basicConfig(\n",
    "    format='%(asctime)s | %(name)s | %(levelname)s : %(message)s',\n",
    "    level=logging.INFO,\n",
    "    stream=sys.stdout\n",
    ")\n",
    "\n",
    "logger = logging.getLogger('hysped')\n",
    "logger.setLevel(logging.DEBUG)\n",
    "\n",
    "import contextily as ctx\n",
    "import geocube\n",
    "import geopandas as gpd\n",
    "import json\n",
    "import matplotlib.pyplot as plt\n",
    "import matplotlib.ticker as mticker\n",
    "import numpy as np\n",
    "import pandas as pd\n",
    "import re\n",
    "import seaborn as sns\n",
    "import shapely\n",
    "import tensorflow as tf\n",
    "import visualkeras\n",
    "import zipfile\n",
    "\n",
    "import wandb\n",
    "wandb.login()\n",
    "\n",
    "from functools import partial\n",
    "from geocube.api.core import make_geocube\n",
    "from geocube.rasterize import rasterize_points_griddata, rasterize_points_radial\n",
    "from IPython.display import JSON, HTML\n",
    "from keras.utils.np_utils import to_categorical\n",
    "from matplotlib.colors import to_rgba\n",
    "from shapely.geometry import box, mapping\n",
    "from sklearn.metrics import confusion_matrix, ConfusionMatrixDisplay\n",
    "from sklearn.preprocessing import LabelEncoder\n",
    "from tensorflow.keras import layers\n",
    "from tqdm.notebook import trange, tqdm\n",
    "from wandb.keras import WandbMetricsLogger, WandbEvalCallback, WandbModelCheckpoint\n",
    "\n",
    "\n",
    "gpus = tf.config.list_physical_devices('GPU')\n",
    "if gpus:\n",
    "    # configure utilization of GPUs\n",
    "    try:\n",
    "        for gpu in gpus:\n",
    "            # memory growth setting\n",
    "            tf.config.experimental.set_memory_growth(gpu, True)\n",
    "            tf.config.set_logical_device_configuration(\n",
    "                gpu,\n",
    "                [tf.config.LogicalDeviceConfiguration(memory_limit=256)]\n",
    "            )\n",
    "    except RuntimeError as e:\n",
    "        # Virtual devices must be set before GPUs have been initialized\n",
    "        module_logger.error(e)\n",
    "\n",
    "\n",
    "# Make numpy values easier to read.\n",
    "np.set_printoptions(precision=6, suppress=True)\n",
    "\n",
    "%matplotlib inline"
   ]
  },
  {
   "cell_type": "code",
   "execution_count": 2,
   "id": "603ce378-b8a8-4d81-8116-2d26b4d48023",
   "metadata": {
    "tags": []
   },
   "outputs": [],
   "source": [
    "def mkdir(path):\n",
    "    if not os.path.isdir(path):\n",
    "        if not os.path.exists(path):\n",
    "            os.mkdir(path)\n",
    "            \n",
    "def predict_model(m, X, Y, label_encoder):\n",
    "    Y_pred = m.predict(X)\n",
    "    Y_pred = np.argmax(Y_pred, axis=1)\n",
    "    Y_pred = label_encoder.inverse_transform(Y_pred)\n",
    "    Y_pred = pd.DataFrame(Y_pred, columns=['Y_pred'])\n",
    "    return Y_pred\n",
    "\n",
    "def plot_cm(ax, cm, labels, title='Confusion Matrix'):\n",
    "    sns.heatmap(\n",
    "        cm,\n",
    "        annot=True,\n",
    "        fmt='g',\n",
    "        ax=ax,\n",
    "        cmap='Blues',\n",
    "        # square=True,\n",
    "        xticklabels=labels,\n",
    "        yticklabels=labels,\n",
    "        linewidths=1,\n",
    "        # annot_kws={'size': 12}\n",
    "    )\n",
    "\n",
    "    ax.set_title(title)\n",
    "    ax.set_xlabel('Predicted label')\n",
    "    ax.set_ylabel('True label')\n",
    "\n",
    "    plt.xticks(rotation=90)\n",
    "    plt.yticks(rotation=0)\n",
    "    plt.tight_layout()"
   ]
  },
  {
   "cell_type": "markdown",
   "id": "4ddbc4e9-f5cd-4ad4-bb81-36fb2c628673",
   "metadata": {},
   "source": [
    "## Configuration"
   ]
  },
  {
   "cell_type": "code",
   "execution_count": 3,
   "id": "abab32e8-6f14-4780-b4e0-e1bb7562fdbd",
   "metadata": {
    "tags": []
   },
   "outputs": [
    {
     "data": {
      "application/json": {
       "class_column": "DRUH_DR",
       "data_dir": "../data/Sverepec_spolu_preprocessed_top4",
       "model_name": "conv1D_top4",
       "models_dir": "../models",
       "num_conv1D_layers": 4,
       "project_name": "hysped-conv1D_top4"
      },
      "text/plain": [
       "<IPython.core.display.JSON object>"
      ]
     },
     "metadata": {
      "application/json": {
       "expanded": true,
       "root": "root"
      }
     },
     "output_type": "display_data"
    }
   ],
   "source": [
    "cfg = dict(\n",
    "    data_dir = os.path.join('..', 'data', 'Sverepec_spolu_preprocessed_top4'),\n",
    "    models_dir = os.path.join('..', 'models'),\n",
    "    class_column = 'DRUH_DR',\n",
    "    model_name = 'conv1D_top4',\n",
    "    num_conv1D_layers = 4,\n",
    ")\n",
    "cfg['project_name'] = 'hysped-%s' % cfg['model_name']\n",
    "\n",
    "mkdir(cfg['models_dir'])\n",
    "display(JSON(cfg, expanded=True))"
   ]
  },
  {
   "cell_type": "markdown",
   "id": "18b495d4-aad9-449c-baf0-e237da0352aa",
   "metadata": {
    "tags": []
   },
   "source": [
    "## Load data"
   ]
  },
  {
   "cell_type": "code",
   "execution_count": 4,
   "id": "bb414119-fb28-4517-bf3d-64166c603d60",
   "metadata": {
    "tags": []
   },
   "outputs": [],
   "source": [
    "X_train = pd.read_parquet(os.path.join(cfg['data_dir'], 'X_train.parquet'))\n",
    "Y_train = pd.read_parquet(os.path.join(cfg['data_dir'], 'Y_train.parquet'))\n",
    "X_val = pd.read_parquet(os.path.join(cfg['data_dir'], 'X_val.parquet'))\n",
    "Y_val = pd.read_parquet(os.path.join(cfg['data_dir'], 'Y_val.parquet'))\n",
    "\n",
    "label_encoder = LabelEncoder()\n",
    "encoder_filename = os.path.join(cfg['data_dir'], 'encoder-%s.npy' % cfg['class_column'])\n",
    "label_encoder.classes_ = np.load(encoder_filename, allow_pickle=True)\n",
    "\n",
    "num_classes = len(label_encoder.classes_)\n",
    "\n",
    "X_train = X_train.values\n",
    "Y_train = to_categorical(\n",
    "    label_encoder.transform(Y_train[cfg['class_column']]),\n",
    "    num_classes=num_classes\n",
    ")\n",
    "\n",
    "X_val = X_val.values\n",
    "Y_val = to_categorical(\n",
    "    label_encoder.transform(Y_val[cfg['class_column']]),\n",
    "    num_classes=num_classes\n",
    ")"
   ]
  },
  {
   "cell_type": "markdown",
   "id": "d799c48f-2a73-4a40-a9fe-69ee29e009ce",
   "metadata": {},
   "source": [
    "## Model architecture"
   ]
  },
  {
   "cell_type": "code",
   "execution_count": 5,
   "id": "f4845ec8-9988-4eb4-8826-31caada29983",
   "metadata": {
    "tags": []
   },
   "outputs": [],
   "source": [
    "def make_model(\n",
    "    input_shape: tuple,\n",
    "    filters: [int],\n",
    "    kernel_sizes: [int],\n",
    "    num_classes: int,\n",
    "    padding: str,\n",
    "    **kwargs\n",
    "):\n",
    "    model = tf.keras.Sequential()\n",
    "    model.add(\n",
    "        tf.keras.layers.Input(\n",
    "            shape=input_shape\n",
    "        )\n",
    "    )\n",
    "    model.add(\n",
    "        tf.keras.layers.BatchNormalization()\n",
    "    )\n",
    "    \n",
    "    for f,k in zip(filters, kernel_sizes):\n",
    "        model.add(\n",
    "            tf.keras.layers.Conv1D(\n",
    "                filters=f,\n",
    "                kernel_size=k,\n",
    "                activation=tf.nn.relu,\n",
    "                padding=padding\n",
    "            )\n",
    "        )\n",
    "        model.add(tf.keras.layers.MaxPooling1D(pool_size=2))\n",
    "        \n",
    "    model.add(tf.keras.layers.Dropout(0.5))\n",
    "    model.add(tf.keras.layers.Flatten())\n",
    "    model.add(tf.keras.layers.Dense(num_classes * 2))\n",
    "    model.add(tf.keras.layers.Dense(num_classes))\n",
    "    model.add(tf.keras.layers.Softmax())\n",
    "    model.compile(\n",
    "        optimizer='adam',\n",
    "        loss='categorical_crossentropy',\n",
    "        metrics=['categorical_accuracy']\n",
    "    )\n",
    "    return model"
   ]
  },
  {
   "cell_type": "markdown",
   "id": "36bbc2f3-e63f-43ce-b207-e784d94f42be",
   "metadata": {},
   "source": [
    "## Train model"
   ]
  },
  {
   "cell_type": "code",
   "execution_count": 6,
   "id": "53630333-eb5a-43ac-9c99-c71b9d2da4bc",
   "metadata": {
    "tags": []
   },
   "outputs": [
    {
     "data": {
      "text/html": [
       "wandb version 0.14.2 is available!  To upgrade, please run:\n",
       " $ pip install wandb --upgrade"
      ],
      "text/plain": [
       "<IPython.core.display.HTML object>"
      ]
     },
     "metadata": {},
     "output_type": "display_data"
    },
    {
     "data": {
      "text/html": [
       "Tracking run with wandb version 0.13.10"
      ],
      "text/plain": [
       "<IPython.core.display.HTML object>"
      ]
     },
     "metadata": {},
     "output_type": "display_data"
    },
    {
     "data": {
      "text/html": [
       "Run data is saved locally in <code>/tf/notebooks/wandb/run-20230407_211806-223up64a</code>"
      ],
      "text/plain": [
       "<IPython.core.display.HTML object>"
      ]
     },
     "metadata": {},
     "output_type": "display_data"
    },
    {
     "data": {
      "text/html": [
       "Syncing run <strong><a href='https://wandb.ai/hysped/hysped-conv1D_top4/runs/223up64a' target=\"_blank\">frosty-smoke-135</a></strong> to <a href='https://wandb.ai/hysped/hysped-conv1D_top4' target=\"_blank\">Weights & Biases</a> (<a href='https://wandb.me/run' target=\"_blank\">docs</a>)<br/>"
      ],
      "text/plain": [
       "<IPython.core.display.HTML object>"
      ]
     },
     "metadata": {},
     "output_type": "display_data"
    },
    {
     "data": {
      "text/html": [
       " View project at <a href='https://wandb.ai/hysped/hysped-conv1D_top4' target=\"_blank\">https://wandb.ai/hysped/hysped-conv1D_top4</a>"
      ],
      "text/plain": [
       "<IPython.core.display.HTML object>"
      ]
     },
     "metadata": {},
     "output_type": "display_data"
    },
    {
     "data": {
      "text/html": [
       " View run at <a href='https://wandb.ai/hysped/hysped-conv1D_top4/runs/223up64a' target=\"_blank\">https://wandb.ai/hysped/hysped-conv1D_top4/runs/223up64a</a>"
      ],
      "text/plain": [
       "<IPython.core.display.HTML object>"
      ]
     },
     "metadata": {},
     "output_type": "display_data"
    },
    {
     "name": "stdout",
     "output_type": "stream",
     "text": [
      "2023-04-07 21:18:07,472 | hysped | INFO : run.id: 223up64a, run.name: frosty-smoke-135\n",
      "Model: \"sequential\"\n",
      "_________________________________________________________________\n",
      " Layer (type)                Output Shape              Param #   \n",
      "=================================================================\n",
      " batch_normalization (BatchN  (None, 186, 1)           4         \n",
      " ormalization)                                                   \n",
      "                                                                 \n",
      " conv1d (Conv1D)             (None, 186, 512)          5120      \n",
      "                                                                 \n",
      " max_pooling1d (MaxPooling1D  (None, 93, 512)          0         \n",
      " )                                                               \n",
      "                                                                 \n",
      " conv1d_1 (Conv1D)           (None, 93, 256)           917760    \n",
      "                                                                 \n",
      " max_pooling1d_1 (MaxPooling  (None, 46, 256)          0         \n",
      " 1D)                                                             \n",
      "                                                                 \n",
      " conv1d_2 (Conv1D)           (None, 46, 128)           163968    \n",
      "                                                                 \n",
      " max_pooling1d_2 (MaxPooling  (None, 23, 128)          0         \n",
      " 1D)                                                             \n",
      "                                                                 \n",
      " conv1d_3 (Conv1D)           (None, 23, 64)            24640     \n",
      "                                                                 \n",
      " max_pooling1d_3 (MaxPooling  (None, 11, 64)           0         \n",
      " 1D)                                                             \n",
      "                                                                 \n",
      " dropout (Dropout)           (None, 11, 64)            0         \n",
      "                                                                 \n",
      " flatten (Flatten)           (None, 704)               0         \n",
      "                                                                 \n",
      " dense (Dense)               (None, 10)                7050      \n",
      "                                                                 \n",
      " dense_1 (Dense)             (None, 5)                 55        \n",
      "                                                                 \n",
      " softmax (Softmax)           (None, 5)                 0         \n",
      "                                                                 \n",
      "=================================================================\n",
      "Total params: 1,118,597\n",
      "Trainable params: 1,118,595\n",
      "Non-trainable params: 2\n",
      "_________________________________________________________________\n",
      "2023-04-07 21:18:08,424 | hysped | INFO : model_dir: ../models/conv1D_top4\n",
      "2023-04-07 21:18:08,425 | hysped | INFO : model_file: ../models/conv1D_top4/run_223up64a_model.h5\n"
     ]
    },
    {
     "name": "stderr",
     "output_type": "stream",
     "text": [
      "\u001b[34m\u001b[1mwandb\u001b[0m: \u001b[33mWARNING\u001b[0m When using `save_best_only`, ensure that the `filepath` argument contains formatting placeholders like `{epoch:02d}` or `{batch:02d}`. This ensures correct interpretation of the logged artifacts.\n"
     ]
    },
    {
     "name": "stdout",
     "output_type": "stream",
     "text": [
      "Epoch 1/50\n",
      "80/80 [==============================] - 9s 47ms/step - loss: 1.3803 - categorical_accuracy: 0.3829 - val_loss: 1.6346 - val_categorical_accuracy: 0.1970\n",
      "Epoch 2/50\n",
      "80/80 [==============================] - 3s 35ms/step - loss: 1.1282 - categorical_accuracy: 0.5252 - val_loss: 1.9754 - val_categorical_accuracy: 0.1970\n",
      "Epoch 3/50\n",
      "80/80 [==============================] - 3s 36ms/step - loss: 0.9445 - categorical_accuracy: 0.6086 - val_loss: 2.2437 - val_categorical_accuracy: 0.1970\n",
      "Epoch 4/50\n",
      "80/80 [==============================] - 3s 37ms/step - loss: 0.8002 - categorical_accuracy: 0.6712 - val_loss: 2.3927 - val_categorical_accuracy: 0.1970\n",
      "Epoch 5/50\n",
      "80/80 [==============================] - 3s 36ms/step - loss: 0.7291 - categorical_accuracy: 0.7051 - val_loss: 2.3212 - val_categorical_accuracy: 0.2383\n",
      "Epoch 6/50\n",
      "80/80 [==============================] - 3s 37ms/step - loss: 0.6680 - categorical_accuracy: 0.7313 - val_loss: 1.4231 - val_categorical_accuracy: 0.3806\n",
      "Epoch 7/50\n",
      "80/80 [==============================] - 3s 36ms/step - loss: 0.6150 - categorical_accuracy: 0.7627 - val_loss: 1.2292 - val_categorical_accuracy: 0.4565\n",
      "Epoch 8/50\n",
      "80/80 [==============================] - 3s 36ms/step - loss: 0.5794 - categorical_accuracy: 0.7816 - val_loss: 0.9858 - val_categorical_accuracy: 0.5758\n",
      "Epoch 9/50\n",
      "80/80 [==============================] - 3s 36ms/step - loss: 0.5663 - categorical_accuracy: 0.7843 - val_loss: 0.8216 - val_categorical_accuracy: 0.6178\n",
      "Epoch 10/50\n",
      "80/80 [==============================] - 3s 37ms/step - loss: 0.5500 - categorical_accuracy: 0.7824 - val_loss: 0.4957 - val_categorical_accuracy: 0.8014\n",
      "Epoch 11/50\n",
      "80/80 [==============================] - 3s 36ms/step - loss: 0.5098 - categorical_accuracy: 0.8116 - val_loss: 0.5898 - val_categorical_accuracy: 0.7463\n",
      "Epoch 12/50\n",
      "80/80 [==============================] - 3s 37ms/step - loss: 0.5197 - categorical_accuracy: 0.8016 - val_loss: 0.5674 - val_categorical_accuracy: 0.7626\n",
      "Epoch 13/50\n",
      "80/80 [==============================] - 3s 36ms/step - loss: 0.5921 - categorical_accuracy: 0.7761 - val_loss: 0.4151 - val_categorical_accuracy: 0.8521\n",
      "Epoch 14/50\n",
      "80/80 [==============================] - 3s 36ms/step - loss: 0.4592 - categorical_accuracy: 0.8283 - val_loss: 0.3618 - val_categorical_accuracy: 0.8694\n",
      "Epoch 15/50\n",
      "80/80 [==============================] - 3s 36ms/step - loss: 0.4341 - categorical_accuracy: 0.8417 - val_loss: 0.3644 - val_categorical_accuracy: 0.8687\n",
      "Epoch 16/50\n",
      "80/80 [==============================] - 3s 36ms/step - loss: 0.4210 - categorical_accuracy: 0.8462 - val_loss: 0.3393 - val_categorical_accuracy: 0.8768\n",
      "Epoch 17/50\n",
      "80/80 [==============================] - 3s 35ms/step - loss: 0.4044 - categorical_accuracy: 0.8502 - val_loss: 0.3850 - val_categorical_accuracy: 0.8627\n",
      "Epoch 18/50\n",
      "80/80 [==============================] - 3s 35ms/step - loss: 0.4038 - categorical_accuracy: 0.8488 - val_loss: 0.4339 - val_categorical_accuracy: 0.8457\n",
      "Epoch 19/50\n",
      "80/80 [==============================] - 3s 37ms/step - loss: 0.4186 - categorical_accuracy: 0.8435 - val_loss: 0.3291 - val_categorical_accuracy: 0.8877\n",
      "Epoch 20/50\n",
      "80/80 [==============================] - 3s 35ms/step - loss: 0.3848 - categorical_accuracy: 0.8587 - val_loss: 0.3820 - val_categorical_accuracy: 0.8505\n",
      "Epoch 21/50\n",
      "80/80 [==============================] - 3s 36ms/step - loss: 0.3709 - categorical_accuracy: 0.8652 - val_loss: 0.5553 - val_categorical_accuracy: 0.7958\n",
      "Epoch 22/50\n",
      "80/80 [==============================] - 3s 35ms/step - loss: 0.4470 - categorical_accuracy: 0.8360 - val_loss: 0.4289 - val_categorical_accuracy: 0.8408\n",
      "Epoch 23/50\n",
      "80/80 [==============================] - 3s 36ms/step - loss: 0.3963 - categorical_accuracy: 0.8501 - val_loss: 0.6226 - val_categorical_accuracy: 0.7382\n",
      "Epoch 24/50\n",
      "80/80 [==============================] - 3s 36ms/step - loss: 0.4242 - categorical_accuracy: 0.8441 - val_loss: 0.3631 - val_categorical_accuracy: 0.8597\n",
      "Epoch 25/50\n",
      "80/80 [==============================] - 3s 36ms/step - loss: 0.4030 - categorical_accuracy: 0.8475 - val_loss: 0.3166 - val_categorical_accuracy: 0.8770\n",
      "Epoch 26/50\n",
      "80/80 [==============================] - 3s 36ms/step - loss: 0.3324 - categorical_accuracy: 0.8788 - val_loss: 0.2974 - val_categorical_accuracy: 0.8867\n",
      "Epoch 27/50\n",
      "80/80 [==============================] - 3s 36ms/step - loss: 0.3343 - categorical_accuracy: 0.8753 - val_loss: 0.2777 - val_categorical_accuracy: 0.8976\n",
      "Epoch 28/50\n",
      "80/80 [==============================] - 3s 36ms/step - loss: 0.3239 - categorical_accuracy: 0.8808 - val_loss: 0.3276 - val_categorical_accuracy: 0.8634\n",
      "Epoch 29/50\n",
      "80/80 [==============================] - 3s 36ms/step - loss: 0.3424 - categorical_accuracy: 0.8732 - val_loss: 0.2567 - val_categorical_accuracy: 0.9126\n",
      "Epoch 30/50\n",
      "80/80 [==============================] - 3s 36ms/step - loss: 0.3169 - categorical_accuracy: 0.8806 - val_loss: 0.2903 - val_categorical_accuracy: 0.8909\n",
      "Epoch 31/50\n",
      "80/80 [==============================] - 3s 35ms/step - loss: 0.3008 - categorical_accuracy: 0.8925 - val_loss: 0.2735 - val_categorical_accuracy: 0.8967\n",
      "Epoch 32/50\n",
      "80/80 [==============================] - 3s 36ms/step - loss: 0.3237 - categorical_accuracy: 0.8850 - val_loss: 0.2733 - val_categorical_accuracy: 0.9029\n",
      "Epoch 33/50\n",
      "80/80 [==============================] - 3s 36ms/step - loss: 0.3015 - categorical_accuracy: 0.8900 - val_loss: 0.2687 - val_categorical_accuracy: 0.9070\n",
      "Epoch 34/50\n",
      "80/80 [==============================] - 3s 37ms/step - loss: 0.2913 - categorical_accuracy: 0.8955 - val_loss: 0.3673 - val_categorical_accuracy: 0.8593\n",
      "Epoch 35/50\n",
      "80/80 [==============================] - 3s 36ms/step - loss: 0.3310 - categorical_accuracy: 0.8797 - val_loss: 0.2661 - val_categorical_accuracy: 0.9027\n",
      "Epoch 36/50\n",
      "80/80 [==============================] - 2s 29ms/step - loss: 0.3125 - categorical_accuracy: 0.8862 - val_loss: 0.2574 - val_categorical_accuracy: 0.8992\n",
      "Epoch 37/50\n",
      "80/80 [==============================] - 2s 29ms/step - loss: 0.3248 - categorical_accuracy: 0.8821 - val_loss: 0.2468 - val_categorical_accuracy: 0.9050\n",
      "Epoch 38/50\n",
      "80/80 [==============================] - 2s 28ms/step - loss: 0.2900 - categorical_accuracy: 0.8955 - val_loss: 0.2369 - val_categorical_accuracy: 0.9103\n",
      "Epoch 39/50\n",
      "80/80 [==============================] - 2s 29ms/step - loss: 0.2860 - categorical_accuracy: 0.8952 - val_loss: 0.2410 - val_categorical_accuracy: 0.9116\n",
      "Epoch 40/50\n",
      "80/80 [==============================] - 2s 29ms/step - loss: 0.2845 - categorical_accuracy: 0.8978 - val_loss: 0.2233 - val_categorical_accuracy: 0.9246\n",
      "Epoch 41/50\n",
      "80/80 [==============================] - 2s 28ms/step - loss: 0.2868 - categorical_accuracy: 0.8945 - val_loss: 0.2620 - val_categorical_accuracy: 0.9052\n",
      "Epoch 42/50\n",
      "80/80 [==============================] - 2s 27ms/step - loss: 0.2903 - categorical_accuracy: 0.8921 - val_loss: 0.2454 - val_categorical_accuracy: 0.9119\n",
      "Epoch 43/50\n",
      "80/80 [==============================] - 2s 29ms/step - loss: 0.2899 - categorical_accuracy: 0.8940 - val_loss: 0.2344 - val_categorical_accuracy: 0.9170\n",
      "Epoch 44/50\n",
      "80/80 [==============================] - 3s 32ms/step - loss: 0.2608 - categorical_accuracy: 0.9017 - val_loss: 0.2222 - val_categorical_accuracy: 0.9310\n",
      "Epoch 45/50\n",
      "80/80 [==============================] - 2s 31ms/step - loss: 0.2534 - categorical_accuracy: 0.9054 - val_loss: 0.3801 - val_categorical_accuracy: 0.8648\n",
      "Epoch 46/50\n",
      "80/80 [==============================] - 2s 31ms/step - loss: 0.4104 - categorical_accuracy: 0.8508 - val_loss: 0.3246 - val_categorical_accuracy: 0.8787\n",
      "Epoch 47/50\n",
      "80/80 [==============================] - 3s 31ms/step - loss: 0.3270 - categorical_accuracy: 0.8804 - val_loss: 0.2376 - val_categorical_accuracy: 0.9163\n",
      "Epoch 48/50\n",
      "80/80 [==============================] - 2s 31ms/step - loss: 0.2779 - categorical_accuracy: 0.8985 - val_loss: 0.2237 - val_categorical_accuracy: 0.9176\n",
      "Epoch 49/50\n",
      "80/80 [==============================] - 2s 31ms/step - loss: 0.2906 - categorical_accuracy: 0.8918 - val_loss: 0.2221 - val_categorical_accuracy: 0.9234\n",
      "Epoch 50/50\n",
      "80/80 [==============================] - 2s 30ms/step - loss: 0.2577 - categorical_accuracy: 0.9052 - val_loss: 0.2072 - val_categorical_accuracy: 0.9296\n"
     ]
    },
    {
     "data": {
      "text/html": [
       "Waiting for W&B process to finish... <strong style=\"color:green\">(success).</strong>"
      ],
      "text/plain": [
       "<IPython.core.display.HTML object>"
      ]
     },
     "metadata": {},
     "output_type": "display_data"
    },
    {
     "data": {
      "text/html": [
       "<style>\n",
       "    table.wandb td:nth-child(1) { padding: 0 10px; text-align: left ; width: auto;} td:nth-child(2) {text-align: left ; width: 100%}\n",
       "    .wandb-row { display: flex; flex-direction: row; flex-wrap: wrap; justify-content: flex-start; width: 100% }\n",
       "    .wandb-col { display: flex; flex-direction: column; flex-basis: 100%; flex: 1; padding: 10px; }\n",
       "    </style>\n",
       "<div class=\"wandb-row\"><div class=\"wandb-col\"><h3>Run history:</h3><br/><table class=\"wandb\"><tr><td>epoch/categorical_accuracy</td><td>▁▃▄▅▆▆▆▆▇▇▆▇▇▇▇▇▇▇▇▇████████████████▇███</td></tr><tr><td>epoch/epoch</td><td>▁▁▁▁▂▂▂▂▂▃▃▃▃▃▃▄▄▄▄▄▅▅▅▅▅▅▆▆▆▆▆▆▇▇▇▇▇███</td></tr><tr><td>epoch/learning_rate</td><td>▁▁▁▁▁▁▁▁▁▁▁▁▁▁▁▁▁▁▁▁▁▁▁▁▁▁▁▁▁▁▁▁▁▁▁▁▁▁▁▁</td></tr><tr><td>epoch/loss</td><td>█▆▅▄▄▃▃▃▃▃▃▂▂▂▂▂▂▂▂▂▁▁▁▂▁▁▁▁▁▁▁▁▁▁▁▁▂▁▁▁</td></tr><tr><td>epoch/val_categorical_accuracy</td><td>▁▁▁▁▃▃▅▅▆▆▇▇▇▇▇█▇▇▆▇██▇████▇████████████</td></tr><tr><td>epoch/val_loss</td><td>▆▇██▅▄▃▃▂▂▂▁▁▂▂▁▂▂▂▁▁▁▁▁▁▁▁▂▁▁▁▁▁▁▁▁▁▁▁▁</td></tr></table><br/></div><div class=\"wandb-col\"><h3>Run summary:</h3><br/><table class=\"wandb\"><tr><td>epoch/categorical_accuracy</td><td>0.90519</td></tr><tr><td>epoch/epoch</td><td>49</td></tr><tr><td>epoch/learning_rate</td><td>0.001</td></tr><tr><td>epoch/loss</td><td>0.25769</td></tr><tr><td>epoch/val_categorical_accuracy</td><td>0.92964</td></tr><tr><td>epoch/val_loss</td><td>0.20723</td></tr></table><br/></div></div>"
      ],
      "text/plain": [
       "<IPython.core.display.HTML object>"
      ]
     },
     "metadata": {},
     "output_type": "display_data"
    },
    {
     "data": {
      "text/html": [
       " View run <strong style=\"color:#cdcd00\">frosty-smoke-135</strong> at: <a href='https://wandb.ai/hysped/hysped-conv1D_top4/runs/223up64a' target=\"_blank\">https://wandb.ai/hysped/hysped-conv1D_top4/runs/223up64a</a><br/>Synced 5 W&B file(s), 0 media file(s), 15 artifact file(s) and 0 other file(s)"
      ],
      "text/plain": [
       "<IPython.core.display.HTML object>"
      ]
     },
     "metadata": {},
     "output_type": "display_data"
    },
    {
     "data": {
      "text/html": [
       "Find logs at: <code>./wandb/run-20230407_211806-223up64a/logs</code>"
      ],
      "text/plain": [
       "<IPython.core.display.HTML object>"
      ]
     },
     "metadata": {},
     "output_type": "display_data"
    }
   ],
   "source": [
    "config = dict(\n",
    "    input_shape=(X_train.shape[1], 1),   \n",
    "    filters=[512,256,128,64],\n",
    "    kernel_sizes=[9,7,5,3],\n",
    "    num_classes=Y_train.shape[1],\n",
    "    padding='causal'\n",
    ")\n",
    "\n",
    "run = wandb.init(\n",
    "    project=cfg['project_name'],\n",
    "    config=config\n",
    ")\n",
    "logger.info('run.id: %s, run.name: %s' % (run.id, run.name))\n",
    "\n",
    "model = make_model(**run.config)\n",
    "model.summary()\n",
    "\n",
    "model_dir = os.path.join(cfg['models_dir'], cfg['model_name'])\n",
    "mkdir(model_dir)\n",
    "logger.info('model_dir: %s' % model_dir)\n",
    "model_file = os.path.join(model_dir, 'run_%s_model.h5' % (run.id))\n",
    "logger.info('model_file: %s' % model_file)\n",
    "\n",
    "wandbModelCheckpoint = WandbModelCheckpoint(\n",
    "    model_file,\n",
    "    monitor='val_categorical_accuracy',\n",
    "    mode='max',\n",
    "    save_best_only=True\n",
    ")\n",
    "\n",
    "callbacks = [\n",
    "    WandbMetricsLogger(),\n",
    "    wandbModelCheckpoint,\n",
    "]\n",
    "\n",
    "history = model.fit(\n",
    "    x=X_train,\n",
    "    y=Y_train,\n",
    "    validation_data=(X_val, Y_val),\n",
    "    epochs=50,\n",
    "    shuffle=True,\n",
    "    batch_size=128,\n",
    "    callbacks=callbacks,\n",
    "    verbose=1\n",
    ")\n",
    "\n",
    "run.finish()\n",
    "wandb.finish()"
   ]
  },
  {
   "cell_type": "markdown",
   "id": "7e6f2bb9-cb53-4d8f-ab8d-4f940d082203",
   "metadata": {},
   "source": [
    "## Confusion matrix"
   ]
  },
  {
   "cell_type": "code",
   "execution_count": 7,
   "id": "25a0824d-7880-438d-b910-b6443a0faf1d",
   "metadata": {},
   "outputs": [
    {
     "name": "stdout",
     "output_type": "stream",
     "text": [
      "136/136 [==============================] - 1s 7ms/step\n"
     ]
    },
    {
     "data": {
      "image/png": "[encoded data removed]",
      "text/plain": [
       "<Figure size 900x500 with 2 Axes>"
      ]
     },
     "metadata": {},
     "output_type": "display_data"
    }
   ],
   "source": [
    "# load the best model\n",
    "m = tf.keras.models.load_model(wandbModelCheckpoint.filepath)\n",
    "\n",
    "Y_pred = predict_model(m, X_val, Y_val, label_encoder=label_encoder)\n",
    "cm = confusion_matrix(label_encoder.inverse_transform(np.argmax(Y_val, axis=1)), Y_pred)\n",
    "\n",
    "fig, ax = plt.subplots(figsize=(9,5))\n",
    "plot_cm(ax, cm, labels=label_encoder.classes_)\n",
    "plt.title('%s\\n%s\\n%s: %.2f%%\\n' % (cfg['model_name'], os.path.basename(model_file), wandbModelCheckpoint.monitor, wandbModelCheckpoint.best * 100.0))\n",
    "plt.show()"
   ]
  },
  {
   "cell_type": "markdown",
   "id": "be5b806a-fee8-46d4-842a-2af7c8a1020f",
   "metadata": {},
   "source": [
    "## Hyperparameter tuning"
   ]
  },
  {
   "cell_type": "code",
   "execution_count": 8,
   "id": "3d75f8d1-9914-49bc-baca-36b9ccd81faf",
   "metadata": {
    "tags": []
   },
   "outputs": [
    {
     "data": {
      "application/json": {
       "method": "random",
       "metric": {
        "goal": "maximize",
        "name": "val_categorical_accuracy"
       },
       "parameters": {
        "batch_size": {
         "values": [
          128
         ]
        },
        "filters": {
         "values": [
          [
           16,
           8,
           4,
           2
          ],
          [
           32,
           16,
           8,
           4
          ],
          [
           64,
           32,
           16,
           8
          ],
          [
           128,
           64,
           32,
           16
          ],
          [
           256,
           128,
           64,
           32
          ],
          [
           512,
           256,
           128,
           64
          ],
          [
           1024,
           512,
           256,
           128
          ],
          [
           2048,
           1024,
           512,
           256
          ]
         ]
        },
        "input_shape": {
         "values": [
          [
           186,
           1
          ]
         ]
        },
        "kernel_sizes": {
         "values": [
          [
           3,
           3,
           3,
           3
          ],
          [
           5,
           5,
           5,
           5
          ],
          [
           7,
           7,
           7,
           7
          ],
          [
           9,
           9,
           9,
           9
          ],
          [
           11,
           11,
           11,
           11
          ],
          [
           13,
           13,
           13,
           13
          ],
          [
           15,
           15,
           15,
           15
          ]
         ]
        },
        "num_classes": {
         "values": [
          5
         ]
        },
        "padding": {
         "values": [
          "causal"
         ]
        }
       }
      },
      "text/plain": [
       "<IPython.core.display.JSON object>"
      ]
     },
     "metadata": {
      "application/json": {
       "expanded": true,
       "root": "root"
      }
     },
     "output_type": "display_data"
    }
   ],
   "source": [
    "# Define the search space\n",
    "sweep_configuration = {\n",
    "    'method': 'random',\n",
    "    'metric': {\n",
    "        'goal': 'maximize',\n",
    "        'name': 'val_categorical_accuracy'\n",
    "    },\n",
    "    'parameters': {\n",
    "        'input_shape': {\n",
    "            'values': [(X_train.shape[1], 1)]\n",
    "        },\n",
    "        'num_classes': {\n",
    "            'values': [num_classes]\n",
    "        },\n",
    "        'kernel_sizes': {\n",
    "            'values': [\n",
    "                [kernel_size for conv1d_layer in range(cfg['num_conv1D_layers'])] for kernel_size in [3,5,7,9,11,13,15]\n",
    "            ]\n",
    "        },\n",
    "        'filters': {\n",
    "            'values': [\n",
    "                [2**(conv1d_layer+i) for conv1d_layer in range(cfg['num_conv1D_layers'],0,-1)] for i in range(8)\n",
    "            ]\n",
    "        },\n",
    "        'batch_size': {\n",
    "            'values': [\n",
    "                128\n",
    "            ]\n",
    "        },\n",
    "        'padding': {\n",
    "            'values': [\n",
    "                'causal'\n",
    "            ]\n",
    "        }\n",
    "    }\n",
    "}\n",
    "\n",
    "display(JSON(sweep_configuration, expanded=True))"
   ]
  },
  {
   "cell_type": "code",
   "execution_count": null,
   "id": "e772eaa6-81a6-46a1-90dc-75e1376c0b37",
   "metadata": {
    "tags": []
   },
   "outputs": [
    {
     "name": "stdout",
     "output_type": "stream",
     "text": [
      "Create sweep with ID: nqd1nv85\n",
      "Sweep URL: https://wandb.ai/hysped/hysped-conv1D_top4/sweeps/nqd1nv85\n"
     ]
    },
    {
     "name": "stderr",
     "output_type": "stream",
     "text": [
      "\u001b[34m\u001b[1mwandb\u001b[0m: Agent Starting Run: 3o0ivppk with config:\n",
      "\u001b[34m\u001b[1mwandb\u001b[0m: \tbatch_size: 128\n",
      "\u001b[34m\u001b[1mwandb\u001b[0m: \tfilters: [128, 64, 32, 16]\n",
      "\u001b[34m\u001b[1mwandb\u001b[0m: \tinput_shape: [186, 1]\n",
      "\u001b[34m\u001b[1mwandb\u001b[0m: \tkernel_sizes: [5, 5, 5, 5]\n",
      "\u001b[34m\u001b[1mwandb\u001b[0m: \tnum_classes: 5\n",
      "\u001b[34m\u001b[1mwandb\u001b[0m: \tpadding: causal\n",
      "\u001b[34m\u001b[1mwandb\u001b[0m: \u001b[33mWARNING\u001b[0m Ignored wandb.init() arg project when running a sweep.\n"
     ]
    },
    {
     "data": {
      "text/html": [
       "wandb version 0.14.2 is available!  To upgrade, please run:\n",
       " $ pip install wandb --upgrade"
      ],
      "text/plain": [
       "<IPython.core.display.HTML object>"
      ]
     },
     "metadata": {},
     "output_type": "display_data"
    },
    {
     "data": {
      "text/html": [
       "Tracking run with wandb version 0.13.10"
      ],
      "text/plain": [
       "<IPython.core.display.HTML object>"
      ]
     },
     "metadata": {},
     "output_type": "display_data"
    },
    {
     "data": {
      "text/html": [
       "Run data is saved locally in <code>/tf/notebooks/wandb/run-20230407_212124-3o0ivppk</code>"
      ],
      "text/plain": [
       "<IPython.core.display.HTML object>"
      ]
     },
     "metadata": {},
     "output_type": "display_data"
    },
    {
     "data": {
      "text/html": [
       "Syncing run <strong><a href='https://wandb.ai/hysped/hysped-conv1D_top4/runs/3o0ivppk' target=\"_blank\">volcanic-sweep-1</a></strong> to <a href='https://wandb.ai/hysped/hysped-conv1D_top4' target=\"_blank\">Weights & Biases</a> (<a href='https://wandb.me/run' target=\"_blank\">docs</a>)<br/>Sweep page: <a href='https://wandb.ai/hysped/hysped-conv1D_top4/sweeps/nqd1nv85' target=\"_blank\">https://wandb.ai/hysped/hysped-conv1D_top4/sweeps/nqd1nv85</a>"
      ],
      "text/plain": [
       "<IPython.core.display.HTML object>"
      ]
     },
     "metadata": {},
     "output_type": "display_data"
    },
    {
     "data": {
      "text/html": [
       " View project at <a href='https://wandb.ai/hysped/hysped-conv1D_top4' target=\"_blank\">https://wandb.ai/hysped/hysped-conv1D_top4</a>"
      ],
      "text/plain": [
       "<IPython.core.display.HTML object>"
      ]
     },
     "metadata": {},
     "output_type": "display_data"
    },
    {
     "data": {
      "text/html": [
       " View sweep at <a href='https://wandb.ai/hysped/hysped-conv1D_top4/sweeps/nqd1nv85' target=\"_blank\">https://wandb.ai/hysped/hysped-conv1D_top4/sweeps/nqd1nv85</a>"
      ],
      "text/plain": [
       "<IPython.core.display.HTML object>"
      ]
     },
     "metadata": {},
     "output_type": "display_data"
    },
    {
     "data": {
      "text/html": [
       " View run at <a href='https://wandb.ai/hysped/hysped-conv1D_top4/runs/3o0ivppk' target=\"_blank\">https://wandb.ai/hysped/hysped-conv1D_top4/runs/3o0ivppk</a>"
      ],
      "text/plain": [
       "<IPython.core.display.HTML object>"
      ]
     },
     "metadata": {},
     "output_type": "display_data"
    },
    {
     "name": "stdout",
     "output_type": "stream",
     "text": [
      "2023-04-07 21:21:25,564 | hysped | INFO : model_dir: ../models/conv1D_top4\n",
      "2023-04-07 21:21:25,565 | hysped | INFO : model_file: ../models/conv1D_top4/run_3o0ivppk_model.h5\n",
      "Epoch 1/50\n",
      "80/80 [==============================] - 5s 31ms/step - loss: 1.4462 - categorical_accuracy: 0.3564 - val_loss: 1.6608 - val_categorical_accuracy: 0.1970\n",
      "Epoch 2/50\n",
      "80/80 [==============================] - 2s 20ms/step - loss: 1.2118 - categorical_accuracy: 0.4979 - val_loss: 2.1550 - val_categorical_accuracy: 0.1970\n",
      "Epoch 3/50\n",
      "80/80 [==============================] - 2s 20ms/step - loss: 1.0581 - categorical_accuracy: 0.5582 - val_loss: 2.7103 - val_categorical_accuracy: 0.1970\n",
      "Epoch 4/50\n",
      "80/80 [==============================] - 2s 20ms/step - loss: 1.0020 - categorical_accuracy: 0.5873 - val_loss: 3.5606 - val_categorical_accuracy: 0.1970\n",
      "Epoch 5/50\n",
      "80/80 [==============================] - 1s 19ms/step - loss: 0.9011 - categorical_accuracy: 0.6294 - val_loss: 3.4015 - val_categorical_accuracy: 0.2309\n",
      "Epoch 6/50\n",
      "80/80 [==============================] - 2s 20ms/step - loss: 0.8657 - categorical_accuracy: 0.6477 - val_loss: 2.5383 - val_categorical_accuracy: 0.2837\n",
      "Epoch 7/50\n",
      "80/80 [==============================] - 2s 20ms/step - loss: 0.8382 - categorical_accuracy: 0.6612 - val_loss: 1.7787 - val_categorical_accuracy: 0.3112\n",
      "Epoch 8/50\n",
      "80/80 [==============================] - 2s 20ms/step - loss: 0.8435 - categorical_accuracy: 0.6562 - val_loss: 0.9045 - val_categorical_accuracy: 0.6270\n",
      "Epoch 9/50\n",
      "80/80 [==============================] - 2s 20ms/step - loss: 0.7730 - categorical_accuracy: 0.6934 - val_loss: 0.8900 - val_categorical_accuracy: 0.5875\n",
      "Epoch 10/50\n",
      "80/80 [==============================] - 2s 21ms/step - loss: 0.7657 - categorical_accuracy: 0.7016 - val_loss: 0.7482 - val_categorical_accuracy: 0.7174\n",
      "Epoch 11/50\n",
      "80/80 [==============================] - 2s 20ms/step - loss: 0.7626 - categorical_accuracy: 0.6984 - val_loss: 0.6413 - val_categorical_accuracy: 0.7684\n",
      "Epoch 12/50\n",
      "80/80 [==============================] - 2s 20ms/step - loss: 0.7620 - categorical_accuracy: 0.6989 - val_loss: 0.7277 - val_categorical_accuracy: 0.6990\n",
      "Epoch 13/50\n",
      "80/80 [==============================] - 2s 21ms/step - loss: 0.7753 - categorical_accuracy: 0.6930 - val_loss: 0.5903 - val_categorical_accuracy: 0.7882\n",
      "Epoch 14/50\n",
      "80/80 [==============================] - 2s 20ms/step - loss: 0.7215 - categorical_accuracy: 0.7222 - val_loss: 0.5999 - val_categorical_accuracy: 0.7772\n",
      "Epoch 15/50\n",
      "80/80 [==============================] - 2s 20ms/step - loss: 0.7025 - categorical_accuracy: 0.7281 - val_loss: 0.5298 - val_categorical_accuracy: 0.8219\n",
      "Epoch 16/50\n",
      "80/80 [==============================] - 2s 20ms/step - loss: 0.6500 - categorical_accuracy: 0.7583 - val_loss: 0.5439 - val_categorical_accuracy: 0.8088\n",
      "Epoch 17/50\n",
      "80/80 [==============================] - 2s 20ms/step - loss: 0.6519 - categorical_accuracy: 0.7537 - val_loss: 0.5089 - val_categorical_accuracy: 0.8155\n",
      "Epoch 18/50\n",
      "80/80 [==============================] - 1s 19ms/step - loss: 0.6592 - categorical_accuracy: 0.7515 - val_loss: 0.5431 - val_categorical_accuracy: 0.8067\n",
      "Epoch 19/50\n",
      "80/80 [==============================] - 2s 20ms/step - loss: 0.6563 - categorical_accuracy: 0.7509 - val_loss: 0.5435 - val_categorical_accuracy: 0.7834\n",
      "Epoch 20/50\n",
      "80/80 [==============================] - 2s 21ms/step - loss: 0.6160 - categorical_accuracy: 0.7688 - val_loss: 0.4540 - val_categorical_accuracy: 0.8457\n",
      "Epoch 21/50\n",
      "80/80 [==============================] - 2s 19ms/step - loss: 0.5840 - categorical_accuracy: 0.7866 - val_loss: 0.5290 - val_categorical_accuracy: 0.8201\n",
      "Epoch 22/50\n",
      "80/80 [==============================] - 2s 20ms/step - loss: 0.6476 - categorical_accuracy: 0.7546 - val_loss: 0.4940 - val_categorical_accuracy: 0.8125\n",
      "Epoch 23/50\n",
      "80/80 [==============================] - 2s 20ms/step - loss: 0.5720 - categorical_accuracy: 0.7905 - val_loss: 0.4399 - val_categorical_accuracy: 0.8482\n",
      "Epoch 24/50\n",
      "80/80 [==============================] - 2s 20ms/step - loss: 0.5896 - categorical_accuracy: 0.7786 - val_loss: 0.5465 - val_categorical_accuracy: 0.8035\n",
      "Epoch 25/50\n",
      "80/80 [==============================] - 2s 21ms/step - loss: 0.6500 - categorical_accuracy: 0.7513 - val_loss: 0.4587 - val_categorical_accuracy: 0.8558\n",
      "Epoch 26/50\n",
      "80/80 [==============================] - 2s 20ms/step - loss: 0.5978 - categorical_accuracy: 0.7797 - val_loss: 0.4432 - val_categorical_accuracy: 0.8438\n",
      "Epoch 27/50\n",
      "80/80 [==============================] - 2s 20ms/step - loss: 0.5410 - categorical_accuracy: 0.8089 - val_loss: 0.4278 - val_categorical_accuracy: 0.8491\n",
      "Epoch 28/50\n",
      "80/80 [==============================] - 2s 20ms/step - loss: 0.5230 - categorical_accuracy: 0.8056 - val_loss: 0.4293 - val_categorical_accuracy: 0.8528\n",
      "Epoch 29/50\n",
      "80/80 [==============================] - 2s 20ms/step - loss: 0.5561 - categorical_accuracy: 0.7931 - val_loss: 0.4123 - val_categorical_accuracy: 0.8591\n",
      "Epoch 30/50\n",
      "80/80 [==============================] - 2s 20ms/step - loss: 0.5199 - categorical_accuracy: 0.8115 - val_loss: 0.3825 - val_categorical_accuracy: 0.8646\n",
      "Epoch 31/50\n",
      "80/80 [==============================] - 2s 20ms/step - loss: 0.5138 - categorical_accuracy: 0.8150 - val_loss: 0.4001 - val_categorical_accuracy: 0.8646\n",
      "Epoch 32/50\n",
      "80/80 [==============================] - 2s 19ms/step - loss: 0.5501 - categorical_accuracy: 0.7985 - val_loss: 0.3942 - val_categorical_accuracy: 0.8632\n",
      "Epoch 33/50\n",
      "80/80 [==============================] - 2s 20ms/step - loss: 0.5009 - categorical_accuracy: 0.8262 - val_loss: 0.3779 - val_categorical_accuracy: 0.8632\n",
      "Epoch 34/50\n",
      "80/80 [==============================] - 2s 20ms/step - loss: 0.5003 - categorical_accuracy: 0.8187 - val_loss: 0.4459 - val_categorical_accuracy: 0.8445\n",
      "Epoch 35/50\n",
      "80/80 [==============================] - 2s 20ms/step - loss: 0.6683 - categorical_accuracy: 0.7470 - val_loss: 0.4149 - val_categorical_accuracy: 0.8507\n",
      "Epoch 36/50\n",
      "80/80 [==============================] - 2s 20ms/step - loss: 0.5234 - categorical_accuracy: 0.8052 - val_loss: 0.3918 - val_categorical_accuracy: 0.8607\n",
      "Epoch 37/50\n",
      "80/80 [==============================] - 2s 20ms/step - loss: 0.5020 - categorical_accuracy: 0.8168 - val_loss: 0.4028 - val_categorical_accuracy: 0.8586\n",
      "Epoch 38/50\n",
      "80/80 [==============================] - 2s 19ms/step - loss: 0.5044 - categorical_accuracy: 0.8177 - val_loss: 0.3771 - val_categorical_accuracy: 0.8646\n",
      "Epoch 39/50\n",
      "80/80 [==============================] - 2s 20ms/step - loss: 0.4863 - categorical_accuracy: 0.8224 - val_loss: 0.3636 - val_categorical_accuracy: 0.8766\n",
      "Epoch 40/50\n",
      "80/80 [==============================] - 1s 19ms/step - loss: 0.4812 - categorical_accuracy: 0.8269 - val_loss: 0.3756 - val_categorical_accuracy: 0.8623\n",
      "Epoch 41/50\n",
      "80/80 [==============================] - 1s 15ms/step - loss: 0.4706 - categorical_accuracy: 0.8337 - val_loss: 0.3747 - val_categorical_accuracy: 0.8602\n",
      "Epoch 42/50\n",
      "80/80 [==============================] - 2s 19ms/step - loss: 0.5018 - categorical_accuracy: 0.8152 - val_loss: 0.3659 - val_categorical_accuracy: 0.8724\n",
      "Epoch 43/50\n",
      "80/80 [==============================] - 1s 17ms/step - loss: 0.4733 - categorical_accuracy: 0.8302 - val_loss: 0.3581 - val_categorical_accuracy: 0.8766\n",
      "Epoch 44/50\n",
      "80/80 [==============================] - 2s 19ms/step - loss: 0.4528 - categorical_accuracy: 0.8401 - val_loss: 0.3441 - val_categorical_accuracy: 0.8849\n",
      "Epoch 45/50\n",
      "80/80 [==============================] - 1s 18ms/step - loss: 0.4446 - categorical_accuracy: 0.8425 - val_loss: 0.3508 - val_categorical_accuracy: 0.8736\n",
      "Epoch 46/50\n",
      "80/80 [==============================] - 1s 19ms/step - loss: 0.4669 - categorical_accuracy: 0.8329 - val_loss: 0.3451 - val_categorical_accuracy: 0.8770\n",
      "Epoch 47/50\n",
      "80/80 [==============================] - 1s 15ms/step - loss: 0.4474 - categorical_accuracy: 0.8411 - val_loss: 0.3290 - val_categorical_accuracy: 0.8821\n",
      "Epoch 48/50\n",
      "80/80 [==============================] - 1s 17ms/step - loss: 0.4350 - categorical_accuracy: 0.8446 - val_loss: 0.3326 - val_categorical_accuracy: 0.8731\n",
      "Epoch 49/50\n",
      "80/80 [==============================] - 1s 17ms/step - loss: 0.4656 - categorical_accuracy: 0.8365 - val_loss: 0.3300 - val_categorical_accuracy: 0.8798\n",
      "Epoch 50/50\n",
      "80/80 [==============================] - 2s 21ms/step - loss: 0.4355 - categorical_accuracy: 0.8426 - val_loss: 0.3176 - val_categorical_accuracy: 0.8913\n"
     ]
    },
    {
     "data": {
      "text/html": [
       "Waiting for W&B process to finish... <strong style=\"color:green\">(success).</strong>"
      ],
      "text/plain": [
       "<IPython.core.display.HTML object>"
      ]
     },
     "metadata": {},
     "output_type": "display_data"
    },
    {
     "data": {
      "text/html": [
       "<style>\n",
       "    table.wandb td:nth-child(1) { padding: 0 10px; text-align: left ; width: auto;} td:nth-child(2) {text-align: left ; width: 100%}\n",
       "    .wandb-row { display: flex; flex-direction: row; flex-wrap: wrap; justify-content: flex-start; width: 100% }\n",
       "    .wandb-col { display: flex; flex-direction: column; flex-basis: 100%; flex: 1; padding: 10px; }\n",
       "    </style>\n",
       "<div class=\"wandb-row\"><div class=\"wandb-col\"><h3>Run history:</h3><br/><table class=\"wandb\"><tr><td>epoch/categorical_accuracy</td><td>▁▃▄▄▅▅▅▆▆▆▆▆▇▇▇▇▇▇▇▇▇▇▇▇█▇██▇███████████</td></tr><tr><td>epoch/epoch</td><td>▁▁▁▁▂▂▂▂▂▃▃▃▃▃▃▄▄▄▄▄▅▅▅▅▅▅▆▆▆▆▆▆▇▇▇▇▇███</td></tr><tr><td>epoch/learning_rate</td><td>▁▁▁▁▁▁▁▁▁▁▁▁▁▁▁▁▁▁▁▁▁▁▁▁▁▁▁▁▁▁▁▁▁▁▁▁▁▁▁▁</td></tr><tr><td>epoch/loss</td><td>█▆▅▅▄▄▄▃▃▃▃▃▂▃▃▃▂▂▂▂▂▂▂▂▂▂▁▁▂▁▁▁▁▁▁▁▁▁▁▁</td></tr><tr><td>epoch/val_categorical_accuracy</td><td>▁▁▁▁▂▂▅▅▇▆▇▇▇▇▇▇▇▇█▇████████████████████</td></tr><tr><td>epoch/val_loss</td><td>▄▅▆█▆▄▂▂▂▂▂▂▁▁▁▁▁▁▁▁▁▁▁▁▁▁▁▁▁▁▁▁▁▁▁▁▁▁▁▁</td></tr><tr><td>val_categorical_accuracy</td><td>▁</td></tr></table><br/></div><div class=\"wandb-col\"><h3>Run summary:</h3><br/><table class=\"wandb\"><tr><td>epoch/categorical_accuracy</td><td>0.84261</td></tr><tr><td>epoch/epoch</td><td>49</td></tr><tr><td>epoch/learning_rate</td><td>0.001</td></tr><tr><td>epoch/loss</td><td>0.43551</td></tr><tr><td>epoch/val_categorical_accuracy</td><td>0.89135</td></tr><tr><td>epoch/val_loss</td><td>0.31756</td></tr><tr><td>val_categorical_accuracy</td><td>0.89135</td></tr></table><br/></div></div>"
      ],
      "text/plain": [
       "<IPython.core.display.HTML object>"
      ]
     },
     "metadata": {},
     "output_type": "display_data"
    },
    {
     "data": {
      "text/html": [
       " View run <strong style=\"color:#cdcd00\">volcanic-sweep-1</strong> at: <a href='https://wandb.ai/hysped/hysped-conv1D_top4/runs/3o0ivppk' target=\"_blank\">https://wandb.ai/hysped/hysped-conv1D_top4/runs/3o0ivppk</a><br/>Synced 5 W&B file(s), 0 media file(s), 17 artifact file(s) and 0 other file(s)"
      ],
      "text/plain": [
       "<IPython.core.display.HTML object>"
      ]
     },
     "metadata": {},
     "output_type": "display_data"
    },
    {
     "data": {
      "text/html": [
       "Find logs at: <code>./wandb/run-20230407_212124-3o0ivppk/logs</code>"
      ],
      "text/plain": [
       "<IPython.core.display.HTML object>"
      ]
     },
     "metadata": {},
     "output_type": "display_data"
    },
    {
     "name": "stderr",
     "output_type": "stream",
     "text": [
      "\u001b[34m\u001b[1mwandb\u001b[0m: Agent Starting Run: d2vvkdvh with config:\n",
      "\u001b[34m\u001b[1mwandb\u001b[0m: \tbatch_size: 128\n",
      "\u001b[34m\u001b[1mwandb\u001b[0m: \tfilters: [2048, 1024, 512, 256]\n",
      "\u001b[34m\u001b[1mwandb\u001b[0m: \tinput_shape: [186, 1]\n",
      "\u001b[34m\u001b[1mwandb\u001b[0m: \tkernel_sizes: [9, 9, 9, 9]\n",
      "\u001b[34m\u001b[1mwandb\u001b[0m: \tnum_classes: 5\n",
      "\u001b[34m\u001b[1mwandb\u001b[0m: \tpadding: causal\n",
      "\u001b[34m\u001b[1mwandb\u001b[0m: \u001b[33mWARNING\u001b[0m Ignored wandb.init() arg project when running a sweep.\n"
     ]
    },
    {
     "data": {
      "text/html": [
       "wandb version 0.14.2 is available!  To upgrade, please run:\n",
       " $ pip install wandb --upgrade"
      ],
      "text/plain": [
       "<IPython.core.display.HTML object>"
      ]
     },
     "metadata": {},
     "output_type": "display_data"
    },
    {
     "data": {
      "text/html": [
       "Tracking run with wandb version 0.13.10"
      ],
      "text/plain": [
       "<IPython.core.display.HTML object>"
      ]
     },
     "metadata": {},
     "output_type": "display_data"
    },
    {
     "data": {
      "text/html": [
       "Run data is saved locally in <code>/tf/notebooks/wandb/run-20230407_212258-d2vvkdvh</code>"
      ],
      "text/plain": [
       "<IPython.core.display.HTML object>"
      ]
     },
     "metadata": {},
     "output_type": "display_data"
    },
    {
     "data": {
      "text/html": [
       "Syncing run <strong><a href='https://wandb.ai/hysped/hysped-conv1D_top4/runs/d2vvkdvh' target=\"_blank\">fearless-sweep-2</a></strong> to <a href='https://wandb.ai/hysped/hysped-conv1D_top4' target=\"_blank\">Weights & Biases</a> (<a href='https://wandb.me/run' target=\"_blank\">docs</a>)<br/>Sweep page: <a href='https://wandb.ai/hysped/hysped-conv1D_top4/sweeps/nqd1nv85' target=\"_blank\">https://wandb.ai/hysped/hysped-conv1D_top4/sweeps/nqd1nv85</a>"
      ],
      "text/plain": [
       "<IPython.core.display.HTML object>"
      ]
     },
     "metadata": {},
     "output_type": "display_data"
    },
    {
     "data": {
      "text/html": [
       " View project at <a href='https://wandb.ai/hysped/hysped-conv1D_top4' target=\"_blank\">https://wandb.ai/hysped/hysped-conv1D_top4</a>"
      ],
      "text/plain": [
       "<IPython.core.display.HTML object>"
      ]
     },
     "metadata": {},
     "output_type": "display_data"
    },
    {
     "data": {
      "text/html": [
       " View sweep at <a href='https://wandb.ai/hysped/hysped-conv1D_top4/sweeps/nqd1nv85' target=\"_blank\">https://wandb.ai/hysped/hysped-conv1D_top4/sweeps/nqd1nv85</a>"
      ],
      "text/plain": [
       "<IPython.core.display.HTML object>"
      ]
     },
     "metadata": {},
     "output_type": "display_data"
    },
    {
     "data": {
      "text/html": [
       " View run at <a href='https://wandb.ai/hysped/hysped-conv1D_top4/runs/d2vvkdvh' target=\"_blank\">https://wandb.ai/hysped/hysped-conv1D_top4/runs/d2vvkdvh</a>"
      ],
      "text/plain": [
       "<IPython.core.display.HTML object>"
      ]
     },
     "metadata": {},
     "output_type": "display_data"
    },
    {
     "name": "stdout",
     "output_type": "stream",
     "text": [
      "2023-04-07 21:22:59,320 | hysped | INFO : model_dir: ../models/conv1D_top4\n",
      "2023-04-07 21:22:59,321 | hysped | INFO : model_file: ../models/conv1D_top4/run_d2vvkdvh_model.h5\n",
      "Epoch 1/50\n",
      " 6/80 [=>............................] - ETA: 13s - loss: 1.8059 - categorical_accuracy: 0.20572023-04-07 21:23:04,491 | tensorflow | WARNING : Callback method `on_train_batch_end` is slow compared to the batch time (batch time: 0.0532s vs `on_train_batch_end` time: 0.1033s). Check your callbacks.\n",
      "80/80 [==============================] - 23s 243ms/step - loss: 1.3440 - categorical_accuracy: 0.4151 - val_loss: 3.5157 - val_categorical_accuracy: 0.1970\n",
      "Epoch 2/50\n",
      "80/80 [==============================] - 17s 215ms/step - loss: 0.9300 - categorical_accuracy: 0.6176 - val_loss: 4.6056 - val_categorical_accuracy: 0.1970\n",
      "Epoch 3/50\n",
      "80/80 [==============================] - 19s 233ms/step - loss: 0.7571 - categorical_accuracy: 0.6976 - val_loss: 3.6308 - val_categorical_accuracy: 0.2005\n",
      "Epoch 4/50\n",
      "80/80 [==============================] - 17s 206ms/step - loss: 0.7208 - categorical_accuracy: 0.7085 - val_loss: 4.1787 - val_categorical_accuracy: 0.1970\n",
      "Epoch 5/50\n",
      "80/80 [==============================] - 17s 210ms/step - loss: 0.6647 - categorical_accuracy: 0.7358 - val_loss: 4.3050 - val_categorical_accuracy: 0.1970\n",
      "Epoch 6/50\n",
      "80/80 [==============================] - 18s 224ms/step - loss: 0.6541 - categorical_accuracy: 0.7401 - val_loss: 2.4530 - val_categorical_accuracy: 0.2441\n",
      "Epoch 7/50\n",
      "80/80 [==============================] - 18s 230ms/step - loss: 0.5430 - categorical_accuracy: 0.7942 - val_loss: 1.4239 - val_categorical_accuracy: 0.4514\n",
      "Epoch 8/50\n",
      "80/80 [==============================] - 19s 233ms/step - loss: 0.5650 - categorical_accuracy: 0.7845 - val_loss: 1.2499 - val_categorical_accuracy: 0.5246\n",
      "Epoch 9/50\n",
      "80/80 [==============================] - 17s 206ms/step - loss: 0.6172 - categorical_accuracy: 0.7713 - val_loss: 0.4899 - val_categorical_accuracy: 0.8108\n",
      "Epoch 10/50\n",
      "80/80 [==============================] - 17s 215ms/step - loss: 0.4598 - categorical_accuracy: 0.8326 - val_loss: 0.3851 - val_categorical_accuracy: 0.8577\n",
      "Epoch 11/50\n",
      "80/80 [==============================] - 16s 201ms/step - loss: 0.4534 - categorical_accuracy: 0.8315 - val_loss: 0.4355 - val_categorical_accuracy: 0.8360\n",
      "Epoch 12/50\n",
      "80/80 [==============================] - 16s 202ms/step - loss: 0.4738 - categorical_accuracy: 0.8240 - val_loss: 0.6895 - val_categorical_accuracy: 0.7354\n",
      "Epoch 13/50\n",
      "80/80 [==============================] - 16s 203ms/step - loss: 0.5267 - categorical_accuracy: 0.8046 - val_loss: 0.4952 - val_categorical_accuracy: 0.8092\n",
      "Epoch 14/50\n",
      "80/80 [==============================] - 17s 216ms/step - loss: 0.4333 - categorical_accuracy: 0.8385 - val_loss: 0.3717 - val_categorical_accuracy: 0.8618\n",
      "Epoch 15/50\n",
      "80/80 [==============================] - 17s 216ms/step - loss: 0.3869 - categorical_accuracy: 0.8594 - val_loss: 0.3477 - val_categorical_accuracy: 0.8768\n",
      "Epoch 16/50\n",
      "80/80 [==============================] - 16s 203ms/step - loss: 0.3770 - categorical_accuracy: 0.8587 - val_loss: 1.2301 - val_categorical_accuracy: 0.6634\n",
      "Epoch 17/50\n",
      "80/80 [==============================] - 16s 203ms/step - loss: 0.6118 - categorical_accuracy: 0.7768 - val_loss: 0.3511 - val_categorical_accuracy: 0.8646\n",
      "Epoch 18/50\n",
      "80/80 [==============================] - 16s 199ms/step - loss: 0.3984 - categorical_accuracy: 0.8528 - val_loss: 0.3278 - val_categorical_accuracy: 0.8623\n",
      "Epoch 19/50\n",
      "80/80 [==============================] - 16s 202ms/step - loss: 0.3691 - categorical_accuracy: 0.8632 - val_loss: 0.3258 - val_categorical_accuracy: 0.8812\n",
      "Epoch 20/50\n",
      "80/80 [==============================] - 21s 260ms/step - loss: 0.3602 - categorical_accuracy: 0.8644 - val_loss: 0.3093 - val_categorical_accuracy: 0.8844\n",
      "Epoch 21/50\n",
      "11/80 [===>..........................] - ETA: 14s - loss: 0.3637 - categorical_accuracy: 0.8722"
     ]
    },
    {
     "data": {
      "text/html": [
       "Waiting for W&B process to finish... <strong style=\"color:red\">(failed 1).</strong> Press Control-C to abort syncing."
      ],
      "text/plain": [
       "<IPython.core.display.HTML object>"
      ]
     },
     "metadata": {},
     "output_type": "display_data"
    },
    {
     "data": {
      "text/html": [
       "<style>\n",
       "    table.wandb td:nth-child(1) { padding: 0 10px; text-align: left ; width: auto;} td:nth-child(2) {text-align: left ; width: 100%}\n",
       "    .wandb-row { display: flex; flex-direction: row; flex-wrap: wrap; justify-content: flex-start; width: 100% }\n",
       "    .wandb-col { display: flex; flex-direction: column; flex-basis: 100%; flex: 1; padding: 10px; }\n",
       "    </style>\n",
       "<div class=\"wandb-row\"><div class=\"wandb-col\"><h3>Run history:</h3><br/><table class=\"wandb\"><tr><td>epoch/categorical_accuracy</td><td>▁▄▅▆▆▆▇▇▇█▇▇▇███▇███</td></tr><tr><td>epoch/epoch</td><td>▁▁▂▂▂▃▃▄▄▄▅▅▅▆▆▇▇▇██</td></tr><tr><td>epoch/learning_rate</td><td>▁▁▁▁▁▁▁▁▁▁▁▁▁▁▁▁▁▁▁▁</td></tr><tr><td>epoch/loss</td><td>█▅▄▄▃▃▂▂▃▂▂▂▂▂▁▁▃▁▁▁</td></tr><tr><td>epoch/val_categorical_accuracy</td><td>▁▁▁▁▁▁▄▄▇██▆▇██▆████</td></tr><tr><td>epoch/val_loss</td><td>▆█▆▇█▄▃▃▁▁▁▂▁▁▁▃▁▁▁▁</td></tr></table><br/></div><div class=\"wandb-col\"><h3>Run summary:</h3><br/><table class=\"wandb\"><tr><td>epoch/categorical_accuracy</td><td>0.86436</td></tr><tr><td>epoch/epoch</td><td>19</td></tr><tr><td>epoch/learning_rate</td><td>0.001</td></tr><tr><td>epoch/loss</td><td>0.36016</td></tr><tr><td>epoch/val_categorical_accuracy</td><td>0.88443</td></tr><tr><td>epoch/val_loss</td><td>0.30927</td></tr></table><br/></div></div>"
      ],
      "text/plain": [
       "<IPython.core.display.HTML object>"
      ]
     },
     "metadata": {},
     "output_type": "display_data"
    },
    {
     "data": {
      "text/html": [
       " View run <strong style=\"color:#cdcd00\">fearless-sweep-2</strong> at: <a href='https://wandb.ai/hysped/hysped-conv1D_top4/runs/d2vvkdvh' target=\"_blank\">https://wandb.ai/hysped/hysped-conv1D_top4/runs/d2vvkdvh</a><br/>Synced 5 W&B file(s), 0 media file(s), 11 artifact file(s) and 0 other file(s)"
      ],
      "text/plain": [
       "<IPython.core.display.HTML object>"
      ]
     },
     "metadata": {},
     "output_type": "display_data"
    },
    {
     "data": {
      "text/html": [
       "Find logs at: <code>./wandb/run-20230407_212258-d2vvkdvh/logs</code>"
      ],
      "text/plain": [
       "<IPython.core.display.HTML object>"
      ]
     },
     "metadata": {},
     "output_type": "display_data"
    },
    {
     "name": "stderr",
     "output_type": "stream",
     "text": [
      "Run d2vvkdvh errored: ResourceExhaustedError()\n",
      "\u001b[34m\u001b[1mwandb\u001b[0m: \u001b[32m\u001b[41mERROR\u001b[0m Run d2vvkdvh errored: ResourceExhaustedError()\n",
      "\u001b[34m\u001b[1mwandb\u001b[0m: Agent Starting Run: mqeeflrr with config:\n",
      "\u001b[34m\u001b[1mwandb\u001b[0m: \tbatch_size: 128\n",
      "\u001b[34m\u001b[1mwandb\u001b[0m: \tfilters: [1024, 512, 256, 128]\n",
      "\u001b[34m\u001b[1mwandb\u001b[0m: \tinput_shape: [186, 1]\n",
      "\u001b[34m\u001b[1mwandb\u001b[0m: \tkernel_sizes: [9, 9, 9, 9]\n",
      "\u001b[34m\u001b[1mwandb\u001b[0m: \tnum_classes: 5\n",
      "\u001b[34m\u001b[1mwandb\u001b[0m: \tpadding: causal\n",
      "\u001b[34m\u001b[1mwandb\u001b[0m: \u001b[33mWARNING\u001b[0m Ignored wandb.init() arg project when running a sweep.\n"
     ]
    },
    {
     "data": {
      "text/html": [
       "wandb version 0.14.2 is available!  To upgrade, please run:\n",
       " $ pip install wandb --upgrade"
      ],
      "text/plain": [
       "<IPython.core.display.HTML object>"
      ]
     },
     "metadata": {},
     "output_type": "display_data"
    },
    {
     "data": {
      "text/html": [
       "Tracking run with wandb version 0.13.10"
      ],
      "text/plain": [
       "<IPython.core.display.HTML object>"
      ]
     },
     "metadata": {},
     "output_type": "display_data"
    },
    {
     "data": {
      "text/html": [
       "Run data is saved locally in <code>/tf/notebooks/wandb/run-20230407_212907-mqeeflrr</code>"
      ],
      "text/plain": [
       "<IPython.core.display.HTML object>"
      ]
     },
     "metadata": {},
     "output_type": "display_data"
    },
    {
     "data": {
      "text/html": [
       "Syncing run <strong><a href='https://wandb.ai/hysped/hysped-conv1D_top4/runs/mqeeflrr' target=\"_blank\">treasured-sweep-3</a></strong> to <a href='https://wandb.ai/hysped/hysped-conv1D_top4' target=\"_blank\">Weights & Biases</a> (<a href='https://wandb.me/run' target=\"_blank\">docs</a>)<br/>Sweep page: <a href='https://wandb.ai/hysped/hysped-conv1D_top4/sweeps/nqd1nv85' target=\"_blank\">https://wandb.ai/hysped/hysped-conv1D_top4/sweeps/nqd1nv85</a>"
      ],
      "text/plain": [
       "<IPython.core.display.HTML object>"
      ]
     },
     "metadata": {},
     "output_type": "display_data"
    },
    {
     "data": {
      "text/html": [
       " View project at <a href='https://wandb.ai/hysped/hysped-conv1D_top4' target=\"_blank\">https://wandb.ai/hysped/hysped-conv1D_top4</a>"
      ],
      "text/plain": [
       "<IPython.core.display.HTML object>"
      ]
     },
     "metadata": {},
     "output_type": "display_data"
    },
    {
     "data": {
      "text/html": [
       " View sweep at <a href='https://wandb.ai/hysped/hysped-conv1D_top4/sweeps/nqd1nv85' target=\"_blank\">https://wandb.ai/hysped/hysped-conv1D_top4/sweeps/nqd1nv85</a>"
      ],
      "text/plain": [
       "<IPython.core.display.HTML object>"
      ]
     },
     "metadata": {},
     "output_type": "display_data"
    },
    {
     "data": {
      "text/html": [
       " View run at <a href='https://wandb.ai/hysped/hysped-conv1D_top4/runs/mqeeflrr' target=\"_blank\">https://wandb.ai/hysped/hysped-conv1D_top4/runs/mqeeflrr</a>"
      ],
      "text/plain": [
       "<IPython.core.display.HTML object>"
      ]
     },
     "metadata": {},
     "output_type": "display_data"
    },
    {
     "name": "stdout",
     "output_type": "stream",
     "text": [
      "2023-04-07 21:29:08,275 | hysped | INFO : model_dir: ../models/conv1D_top4\n",
      "2023-04-07 21:29:08,276 | hysped | INFO : model_file: ../models/conv1D_top4/run_mqeeflrr_model.h5\n",
      "Epoch 1/50\n",
      " 6/80 [=>............................] - ETA: 4s - loss: 1.5925 - categorical_accuracy: 0.27862023-04-07 21:29:11,916 | tensorflow | WARNING : Callback method `on_train_batch_end` is slow compared to the batch time (batch time: 0.0221s vs `on_train_batch_end` time: 0.0272s). Check your callbacks.\n",
      "80/80 [==============================] - 10s 88ms/step - loss: 1.3048 - categorical_accuracy: 0.4357 - val_loss: 1.7271 - val_categorical_accuracy: 0.1970\n",
      "Epoch 2/50\n",
      "80/80 [==============================] - 6s 79ms/step - loss: 0.9917 - categorical_accuracy: 0.5796 - val_loss: 3.9166 - val_categorical_accuracy: 0.1970\n",
      "Epoch 3/50\n",
      "80/80 [==============================] - 6s 76ms/step - loss: 0.8546 - categorical_accuracy: 0.6469 - val_loss: 3.8956 - val_categorical_accuracy: 0.1970\n",
      "Epoch 4/50\n",
      "80/80 [==============================] - 6s 75ms/step - loss: 0.6794 - categorical_accuracy: 0.7318 - val_loss: 3.6729 - val_categorical_accuracy: 0.1970\n",
      "Epoch 5/50\n",
      "80/80 [==============================] - 6s 76ms/step - loss: 0.6964 - categorical_accuracy: 0.7188 - val_loss: 5.4947 - val_categorical_accuracy: 0.1970\n",
      "Epoch 6/50\n",
      "80/80 [==============================] - 6s 76ms/step - loss: 0.5653 - categorical_accuracy: 0.7837 - val_loss: 3.9929 - val_categorical_accuracy: 0.1970\n",
      "Epoch 7/50\n",
      "80/80 [==============================] - 6s 79ms/step - loss: 0.5466 - categorical_accuracy: 0.7966 - val_loss: 1.4303 - val_categorical_accuracy: 0.4607\n",
      "Epoch 8/50\n",
      "80/80 [==============================] - 6s 80ms/step - loss: 0.4568 - categorical_accuracy: 0.8315 - val_loss: 0.7972 - val_categorical_accuracy: 0.6565\n",
      "Epoch 9/50\n",
      "80/80 [==============================] - 6s 78ms/step - loss: 0.4533 - categorical_accuracy: 0.8324 - val_loss: 0.6145 - val_categorical_accuracy: 0.7753\n",
      "Epoch 10/50\n",
      "80/80 [==============================] - 6s 79ms/step - loss: 0.5460 - categorical_accuracy: 0.7962 - val_loss: 0.4808 - val_categorical_accuracy: 0.7998\n",
      "Epoch 11/50\n",
      "80/80 [==============================] - 6s 78ms/step - loss: 0.4214 - categorical_accuracy: 0.8413 - val_loss: 0.4921 - val_categorical_accuracy: 0.8092\n",
      "Epoch 12/50\n",
      "80/80 [==============================] - 6s 77ms/step - loss: 0.4573 - categorical_accuracy: 0.8270 - val_loss: 0.5071 - val_categorical_accuracy: 0.7439\n",
      "Epoch 13/50\n",
      "80/80 [==============================] - 6s 79ms/step - loss: 0.4162 - categorical_accuracy: 0.8420 - val_loss: 0.3100 - val_categorical_accuracy: 0.8805\n",
      "Epoch 14/50\n",
      "80/80 [==============================] - 6s 76ms/step - loss: 0.3633 - categorical_accuracy: 0.8616 - val_loss: 0.3546 - val_categorical_accuracy: 0.8699\n",
      "Epoch 15/50\n",
      "80/80 [==============================] - 6s 76ms/step - loss: 0.3705 - categorical_accuracy: 0.8608 - val_loss: 0.5262 - val_categorical_accuracy: 0.8351\n",
      "Epoch 16/50\n",
      "80/80 [==============================] - 6s 76ms/step - loss: 0.5080 - categorical_accuracy: 0.8143 - val_loss: 0.3389 - val_categorical_accuracy: 0.8621\n",
      "Epoch 17/50\n",
      "80/80 [==============================] - 6s 76ms/step - loss: 0.3953 - categorical_accuracy: 0.8506 - val_loss: 0.6937 - val_categorical_accuracy: 0.7276\n",
      "Epoch 18/50\n",
      "80/80 [==============================] - 6s 76ms/step - loss: 0.5874 - categorical_accuracy: 0.7748 - val_loss: 0.3500 - val_categorical_accuracy: 0.8662\n",
      "Epoch 19/50\n",
      "80/80 [==============================] - 6s 76ms/step - loss: 0.4107 - categorical_accuracy: 0.8447 - val_loss: 0.3192 - val_categorical_accuracy: 0.8766\n",
      "Epoch 20/50\n",
      "80/80 [==============================] - 6s 80ms/step - loss: 0.3839 - categorical_accuracy: 0.8589 - val_loss: 0.3116 - val_categorical_accuracy: 0.8877\n",
      "Epoch 21/50\n",
      "80/80 [==============================] - 6s 77ms/step - loss: 0.3584 - categorical_accuracy: 0.8668 - val_loss: 0.3204 - val_categorical_accuracy: 0.8766\n",
      "Epoch 22/50\n",
      "80/80 [==============================] - 6s 76ms/step - loss: 0.3379 - categorical_accuracy: 0.8714 - val_loss: 0.3000 - val_categorical_accuracy: 0.8817\n",
      "Epoch 23/50\n",
      "80/80 [==============================] - 6s 77ms/step - loss: 0.3306 - categorical_accuracy: 0.8779 - val_loss: 0.3233 - val_categorical_accuracy: 0.8685\n",
      "Epoch 24/50\n",
      "80/80 [==============================] - 6s 77ms/step - loss: 0.3767 - categorical_accuracy: 0.8625 - val_loss: 0.3696 - val_categorical_accuracy: 0.8616\n",
      "Epoch 25/50\n",
      "80/80 [==============================] - 6s 75ms/step - loss: 0.3400 - categorical_accuracy: 0.8733 - val_loss: 0.3135 - val_categorical_accuracy: 0.8835\n",
      "Epoch 26/50\n",
      "80/80 [==============================] - 11s 132ms/step - loss: 0.3165 - categorical_accuracy: 0.8829 - val_loss: 0.3246 - val_categorical_accuracy: 0.8648\n",
      "Epoch 27/50\n",
      "80/80 [==============================] - 6s 76ms/step - loss: 0.4162 - categorical_accuracy: 0.8465 - val_loss: 0.4202 - val_categorical_accuracy: 0.8510\n",
      "Epoch 28/50\n",
      "80/80 [==============================] - 5s 67ms/step - loss: 0.3537 - categorical_accuracy: 0.8730 - val_loss: 0.3992 - val_categorical_accuracy: 0.8542\n",
      "Epoch 29/50\n",
      "80/80 [==============================] - 6s 70ms/step - loss: 0.3922 - categorical_accuracy: 0.8539 - val_loss: 0.3075 - val_categorical_accuracy: 0.8957\n",
      "Epoch 30/50\n",
      "80/80 [==============================] - 7s 88ms/step - loss: 0.3581 - categorical_accuracy: 0.8691 - val_loss: 0.2807 - val_categorical_accuracy: 0.8911\n",
      "Epoch 31/50\n",
      "80/80 [==============================] - 8s 97ms/step - loss: 0.3079 - categorical_accuracy: 0.8865 - val_loss: 0.3751 - val_categorical_accuracy: 0.8674\n",
      "Epoch 32/50\n",
      "80/80 [==============================] - 8s 94ms/step - loss: 0.3561 - categorical_accuracy: 0.8669 - val_loss: 0.2547 - val_categorical_accuracy: 0.9047\n",
      "Epoch 33/50\n",
      "80/80 [==============================] - 8s 104ms/step - loss: 0.3075 - categorical_accuracy: 0.8881 - val_loss: 0.2259 - val_categorical_accuracy: 0.9156\n",
      "Epoch 34/50\n",
      "80/80 [==============================] - 7s 93ms/step - loss: 0.2692 - categorical_accuracy: 0.9003 - val_loss: 0.2626 - val_categorical_accuracy: 0.9040\n",
      "Epoch 35/50\n",
      "80/80 [==============================] - 8s 104ms/step - loss: 0.3173 - categorical_accuracy: 0.8802 - val_loss: 0.2266 - val_categorical_accuracy: 0.9151\n",
      "Epoch 36/50\n",
      "80/80 [==============================] - 8s 94ms/step - loss: 0.2863 - categorical_accuracy: 0.8948 - val_loss: 0.2243 - val_categorical_accuracy: 0.9116\n",
      "Epoch 37/50\n",
      "80/80 [==============================] - 8s 97ms/step - loss: 0.2753 - categorical_accuracy: 0.8973 - val_loss: 0.2859 - val_categorical_accuracy: 0.8953\n",
      "Epoch 38/50\n",
      "80/80 [==============================] - 8s 95ms/step - loss: 0.2787 - categorical_accuracy: 0.8984 - val_loss: 0.2263 - val_categorical_accuracy: 0.9093\n",
      "Epoch 39/50\n",
      "80/80 [==============================] - 8s 106ms/step - loss: 0.2589 - categorical_accuracy: 0.9063 - val_loss: 0.2204 - val_categorical_accuracy: 0.9200\n",
      "Epoch 40/50\n",
      "80/80 [==============================] - 7s 92ms/step - loss: 0.2882 - categorical_accuracy: 0.8934 - val_loss: 0.2284 - val_categorical_accuracy: 0.9114\n",
      "Epoch 41/50\n",
      "80/80 [==============================] - 8s 98ms/step - loss: 0.2529 - categorical_accuracy: 0.9072 - val_loss: 0.2489 - val_categorical_accuracy: 0.8990\n",
      "Epoch 42/50\n",
      "80/80 [==============================] - 8s 95ms/step - loss: 0.2482 - categorical_accuracy: 0.9108 - val_loss: 0.1984 - val_categorical_accuracy: 0.9354\n",
      "Epoch 43/50\n",
      "80/80 [==============================] - 8s 102ms/step - loss: 0.2769 - categorical_accuracy: 0.8999 - val_loss: 0.1994 - val_categorical_accuracy: 0.9271\n",
      "Epoch 44/50\n",
      "80/80 [==============================] - 8s 96ms/step - loss: 0.2405 - categorical_accuracy: 0.9129 - val_loss: 0.2089 - val_categorical_accuracy: 0.9227\n",
      "Epoch 45/50\n",
      "80/80 [==============================] - 8s 101ms/step - loss: 0.2437 - categorical_accuracy: 0.9108 - val_loss: 0.2365 - val_categorical_accuracy: 0.9050\n",
      "Epoch 46/50\n",
      "80/80 [==============================] - 8s 97ms/step - loss: 0.2408 - categorical_accuracy: 0.9089 - val_loss: 0.1811 - val_categorical_accuracy: 0.9391\n",
      "Epoch 47/50\n",
      "80/80 [==============================] - 8s 100ms/step - loss: 0.2359 - categorical_accuracy: 0.9155 - val_loss: 0.1921 - val_categorical_accuracy: 0.9349\n",
      "Epoch 48/50\n",
      "80/80 [==============================] - 7s 92ms/step - loss: 0.2285 - categorical_accuracy: 0.9158 - val_loss: 0.1923 - val_categorical_accuracy: 0.9354\n",
      "Epoch 49/50\n",
      "80/80 [==============================] - 12s 156ms/step - loss: 0.2351 - categorical_accuracy: 0.9154 - val_loss: 0.2774 - val_categorical_accuracy: 0.8920\n",
      "Epoch 50/50\n",
      "80/80 [==============================] - 8s 97ms/step - loss: 0.3268 - categorical_accuracy: 0.8858 - val_loss: 0.3479 - val_categorical_accuracy: 0.8667\n"
     ]
    },
    {
     "data": {
      "text/html": [
       "Waiting for W&B process to finish... <strong style=\"color:green\">(success).</strong>"
      ],
      "text/plain": [
       "<IPython.core.display.HTML object>"
      ]
     },
     "metadata": {},
     "output_type": "display_data"
    },
    {
     "data": {
      "text/html": [
       "<style>\n",
       "    table.wandb td:nth-child(1) { padding: 0 10px; text-align: left ; width: auto;} td:nth-child(2) {text-align: left ; width: 100%}\n",
       "    .wandb-row { display: flex; flex-direction: row; flex-wrap: wrap; justify-content: flex-start; width: 100% }\n",
       "    .wandb-col { display: flex; flex-direction: column; flex-basis: 100%; flex: 1; padding: 10px; }\n",
       "    </style>\n",
       "<div class=\"wandb-row\"><div class=\"wandb-col\"><h3>Run history:</h3><br/><table class=\"wandb\"><tr><td>epoch/categorical_accuracy</td><td>▁▃▄▅▆▆▇▇▇▇▇▇▇▇▆▇▇▇▇▇█▇▇▇█▇██████████████</td></tr><tr><td>epoch/epoch</td><td>▁▁▁▁▂▂▂▂▂▃▃▃▃▃▃▄▄▄▄▄▅▅▅▅▅▅▆▆▆▆▆▆▇▇▇▇▇███</td></tr><tr><td>epoch/learning_rate</td><td>▁▁▁▁▁▁▁▁▁▁▁▁▁▁▁▁▁▁▁▁▁▁▁▁▁▁▁▁▁▁▁▁▁▁▁▁▁▁▁▁</td></tr><tr><td>epoch/loss</td><td>█▆▅▄▃▃▂▂▂▂▂▂▃▂▃▂▂▂▂▂▂▂▂▂▂▂▂▁▁▁▁▁▁▁▁▁▁▁▁▂</td></tr><tr><td>epoch/val_categorical_accuracy</td><td>▁▁▁▁▁▃▅▆▇▆▇▇▇▆▇▇▇▇▇▇▇▇▇█▇██████████████▇</td></tr><tr><td>epoch/val_loss</td><td>▄██▇█▃▂▂▂▂▁▁▁▂▁▁▁▁▁▁▁▁▁▁▁▁▁▁▁▁▁▁▁▁▁▁▁▁▁▁</td></tr><tr><td>val_categorical_accuracy</td><td>▁</td></tr></table><br/></div><div class=\"wandb-col\"><h3>Run summary:</h3><br/><table class=\"wandb\"><tr><td>epoch/categorical_accuracy</td><td>0.88581</td></tr><tr><td>epoch/epoch</td><td>49</td></tr><tr><td>epoch/learning_rate</td><td>0.001</td></tr><tr><td>epoch/loss</td><td>0.32676</td></tr><tr><td>epoch/val_categorical_accuracy</td><td>0.86667</td></tr><tr><td>epoch/val_loss</td><td>0.34787</td></tr><tr><td>val_categorical_accuracy</td><td>0.9391</td></tr></table><br/></div></div>"
      ],
      "text/plain": [
       "<IPython.core.display.HTML object>"
      ]
     },
     "metadata": {},
     "output_type": "display_data"
    },
    {
     "data": {
      "text/html": [
       " View run <strong style=\"color:#cdcd00\">treasured-sweep-3</strong> at: <a href='https://wandb.ai/hysped/hysped-conv1D_top4/runs/mqeeflrr' target=\"_blank\">https://wandb.ai/hysped/hysped-conv1D_top4/runs/mqeeflrr</a><br/>Synced 5 W&B file(s), 0 media file(s), 14 artifact file(s) and 0 other file(s)"
      ],
      "text/plain": [
       "<IPython.core.display.HTML object>"
      ]
     },
     "metadata": {},
     "output_type": "display_data"
    },
    {
     "data": {
      "text/html": [
       "Find logs at: <code>./wandb/run-20230407_212907-mqeeflrr/logs</code>"
      ],
      "text/plain": [
       "<IPython.core.display.HTML object>"
      ]
     },
     "metadata": {},
     "output_type": "display_data"
    },
    {
     "name": "stderr",
     "output_type": "stream",
     "text": [
      "\u001b[34m\u001b[1mwandb\u001b[0m: Agent Starting Run: uv6jr0tb with config:\n",
      "\u001b[34m\u001b[1mwandb\u001b[0m: \tbatch_size: 128\n",
      "\u001b[34m\u001b[1mwandb\u001b[0m: \tfilters: [512, 256, 128, 64]\n",
      "\u001b[34m\u001b[1mwandb\u001b[0m: \tinput_shape: [186, 1]\n",
      "\u001b[34m\u001b[1mwandb\u001b[0m: \tkernel_sizes: [11, 11, 11, 11]\n",
      "\u001b[34m\u001b[1mwandb\u001b[0m: \tnum_classes: 5\n",
      "\u001b[34m\u001b[1mwandb\u001b[0m: \tpadding: causal\n",
      "\u001b[34m\u001b[1mwandb\u001b[0m: \u001b[33mWARNING\u001b[0m Ignored wandb.init() arg project when running a sweep.\n"
     ]
    },
    {
     "data": {
      "text/html": [
       "wandb version 0.14.2 is available!  To upgrade, please run:\n",
       " $ pip install wandb --upgrade"
      ],
      "text/plain": [
       "<IPython.core.display.HTML object>"
      ]
     },
     "metadata": {},
     "output_type": "display_data"
    },
    {
     "data": {
      "text/html": [
       "Tracking run with wandb version 0.13.10"
      ],
      "text/plain": [
       "<IPython.core.display.HTML object>"
      ]
     },
     "metadata": {},
     "output_type": "display_data"
    },
    {
     "data": {
      "text/html": [
       "Run data is saved locally in <code>/tf/notebooks/wandb/run-20230407_213516-uv6jr0tb</code>"
      ],
      "text/plain": [
       "<IPython.core.display.HTML object>"
      ]
     },
     "metadata": {},
     "output_type": "display_data"
    },
    {
     "data": {
      "text/html": [
       "Syncing run <strong><a href='https://wandb.ai/hysped/hysped-conv1D_top4/runs/uv6jr0tb' target=\"_blank\">comfy-sweep-4</a></strong> to <a href='https://wandb.ai/hysped/hysped-conv1D_top4' target=\"_blank\">Weights & Biases</a> (<a href='https://wandb.me/run' target=\"_blank\">docs</a>)<br/>Sweep page: <a href='https://wandb.ai/hysped/hysped-conv1D_top4/sweeps/nqd1nv85' target=\"_blank\">https://wandb.ai/hysped/hysped-conv1D_top4/sweeps/nqd1nv85</a>"
      ],
      "text/plain": [
       "<IPython.core.display.HTML object>"
      ]
     },
     "metadata": {},
     "output_type": "display_data"
    },
    {
     "data": {
      "text/html": [
       " View project at <a href='https://wandb.ai/hysped/hysped-conv1D_top4' target=\"_blank\">https://wandb.ai/hysped/hysped-conv1D_top4</a>"
      ],
      "text/plain": [
       "<IPython.core.display.HTML object>"
      ]
     },
     "metadata": {},
     "output_type": "display_data"
    },
    {
     "data": {
      "text/html": [
       " View sweep at <a href='https://wandb.ai/hysped/hysped-conv1D_top4/sweeps/nqd1nv85' target=\"_blank\">https://wandb.ai/hysped/hysped-conv1D_top4/sweeps/nqd1nv85</a>"
      ],
      "text/plain": [
       "<IPython.core.display.HTML object>"
      ]
     },
     "metadata": {},
     "output_type": "display_data"
    },
    {
     "data": {
      "text/html": [
       " View run at <a href='https://wandb.ai/hysped/hysped-conv1D_top4/runs/uv6jr0tb' target=\"_blank\">https://wandb.ai/hysped/hysped-conv1D_top4/runs/uv6jr0tb</a>"
      ],
      "text/plain": [
       "<IPython.core.display.HTML object>"
      ]
     },
     "metadata": {},
     "output_type": "display_data"
    },
    {
     "name": "stdout",
     "output_type": "stream",
     "text": [
      "2023-04-07 21:35:17,184 | hysped | INFO : model_dir: ../models/conv1D_top4\n",
      "2023-04-07 21:35:17,186 | hysped | INFO : model_file: ../models/conv1D_top4/run_uv6jr0tb_model.h5\n",
      "Epoch 1/50\n",
      "80/80 [==============================] - 8s 63ms/step - loss: 1.2896 - categorical_accuracy: 0.4428 - val_loss: 1.8428 - val_categorical_accuracy: 0.1970\n",
      "Epoch 2/50\n",
      "80/80 [==============================] - 4s 45ms/step - loss: 0.9278 - categorical_accuracy: 0.6154 - val_loss: 2.5159 - val_categorical_accuracy: 0.1970\n",
      "Epoch 3/50\n",
      "80/80 [==============================] - 3s 40ms/step - loss: 0.7863 - categorical_accuracy: 0.6732 - val_loss: 2.7453 - val_categorical_accuracy: 0.1970\n",
      "Epoch 4/50\n",
      "80/80 [==============================] - 4s 45ms/step - loss: 0.7204 - categorical_accuracy: 0.7123 - val_loss: 2.4533 - val_categorical_accuracy: 0.1970\n",
      "Epoch 5/50\n",
      "80/80 [==============================] - 4s 45ms/step - loss: 0.6681 - categorical_accuracy: 0.7365 - val_loss: 3.2756 - val_categorical_accuracy: 0.1970\n",
      "Epoch 6/50\n",
      "80/80 [==============================] - 4s 46ms/step - loss: 0.6285 - categorical_accuracy: 0.7545 - val_loss: 2.1529 - val_categorical_accuracy: 0.2591\n",
      "Epoch 7/50\n",
      "80/80 [==============================] - 3s 43ms/step - loss: 0.6047 - categorical_accuracy: 0.7601 - val_loss: 1.6154 - val_categorical_accuracy: 0.4037\n",
      "Epoch 8/50\n",
      "80/80 [==============================] - 4s 45ms/step - loss: 0.5787 - categorical_accuracy: 0.7813 - val_loss: 0.9839 - val_categorical_accuracy: 0.5912\n",
      "Epoch 9/50\n",
      "80/80 [==============================] - 4s 46ms/step - loss: 0.5468 - categorical_accuracy: 0.7997 - val_loss: 0.5169 - val_categorical_accuracy: 0.8092\n",
      "Epoch 10/50\n",
      "80/80 [==============================] - 4s 46ms/step - loss: 0.5070 - categorical_accuracy: 0.8087 - val_loss: 0.4257 - val_categorical_accuracy: 0.8431\n",
      "Epoch 11/50\n",
      "80/80 [==============================] - 3s 43ms/step - loss: 0.4482 - categorical_accuracy: 0.8353 - val_loss: 0.4022 - val_categorical_accuracy: 0.8489\n",
      "Epoch 12/50\n",
      "80/80 [==============================] - 4s 46ms/step - loss: 0.4240 - categorical_accuracy: 0.8477 - val_loss: 0.3653 - val_categorical_accuracy: 0.8667\n",
      "Epoch 13/50\n",
      "80/80 [==============================] - 4s 45ms/step - loss: 0.4739 - categorical_accuracy: 0.8287 - val_loss: 0.5147 - val_categorical_accuracy: 0.8196\n",
      "Epoch 14/50\n",
      "80/80 [==============================] - 4s 46ms/step - loss: 0.4908 - categorical_accuracy: 0.8197 - val_loss: 0.3397 - val_categorical_accuracy: 0.8738\n",
      "Epoch 15/50\n",
      "80/80 [==============================] - 3s 43ms/step - loss: 0.4239 - categorical_accuracy: 0.8461 - val_loss: 0.4161 - val_categorical_accuracy: 0.8323\n",
      "Epoch 16/50\n",
      "80/80 [==============================] - 3s 44ms/step - loss: 0.4147 - categorical_accuracy: 0.8475 - val_loss: 0.4118 - val_categorical_accuracy: 0.8268\n",
      "Epoch 17/50\n",
      "80/80 [==============================] - 4s 46ms/step - loss: 0.3971 - categorical_accuracy: 0.8531 - val_loss: 0.3688 - val_categorical_accuracy: 0.8678\n",
      "Epoch 18/50\n",
      "80/80 [==============================] - 4s 46ms/step - loss: 0.3939 - categorical_accuracy: 0.8583 - val_loss: 0.4800 - val_categorical_accuracy: 0.8053\n",
      "Epoch 19/50\n",
      "80/80 [==============================] - 4s 44ms/step - loss: 0.4752 - categorical_accuracy: 0.8257 - val_loss: 0.3405 - val_categorical_accuracy: 0.8731\n",
      "Epoch 20/50\n",
      "80/80 [==============================] - 3s 43ms/step - loss: 0.4302 - categorical_accuracy: 0.8494 - val_loss: 0.3812 - val_categorical_accuracy: 0.8434\n",
      "Epoch 21/50\n",
      "80/80 [==============================] - 4s 46ms/step - loss: 0.3922 - categorical_accuracy: 0.8588 - val_loss: 0.3336 - val_categorical_accuracy: 0.8791\n",
      "Epoch 22/50\n",
      "80/80 [==============================] - 4s 46ms/step - loss: 0.3761 - categorical_accuracy: 0.8677 - val_loss: 0.2943 - val_categorical_accuracy: 0.8879\n",
      "Epoch 23/50\n",
      "80/80 [==============================] - 3s 43ms/step - loss: 0.3488 - categorical_accuracy: 0.8734 - val_loss: 0.3122 - val_categorical_accuracy: 0.8860\n",
      "Epoch 24/50\n",
      "80/80 [==============================] - 3s 43ms/step - loss: 0.3302 - categorical_accuracy: 0.8806 - val_loss: 0.3227 - val_categorical_accuracy: 0.8867\n",
      "Epoch 25/50\n",
      "80/80 [==============================] - 4s 46ms/step - loss: 0.3320 - categorical_accuracy: 0.8797 - val_loss: 0.2809 - val_categorical_accuracy: 0.9022\n",
      "Epoch 26/50\n",
      "80/80 [==============================] - 3s 41ms/step - loss: 0.2780 - categorical_accuracy: 0.8998 - val_loss: 0.6526 - val_categorical_accuracy: 0.7875\n",
      "Epoch 47/50\n",
      "80/80 [==============================] - 4s 45ms/step - loss: 0.5163 - categorical_accuracy: 0.8225 - val_loss: 0.2828 - val_categorical_accuracy: 0.8937\n",
      "Epoch 48/50\n",
      "80/80 [==============================] - 4s 45ms/step - loss: 0.3321 - categorical_accuracy: 0.8793 - val_loss: 0.2656 - val_categorical_accuracy: 0.9003\n",
      "Epoch 49/50\n",
      "80/80 [==============================] - 4s 45ms/step - loss: 0.2954 - categorical_accuracy: 0.8940 - val_loss: 0.2686 - val_categorical_accuracy: 0.9003\n",
      "Epoch 50/50\n",
      "80/80 [==============================] - 3s 43ms/step - loss: 0.2924 - categorical_accuracy: 0.8951 - val_loss: 0.2396 - val_categorical_accuracy: 0.9121\n"
     ]
    },
    {
     "data": {
      "text/html": [
       "Waiting for W&B process to finish... <strong style=\"color:green\">(success).</strong>"
      ],
      "text/plain": [
       "<IPython.core.display.HTML object>"
      ]
     },
     "metadata": {},
     "output_type": "display_data"
    },
    {
     "data": {
      "application/vnd.jupyter.widget-view+json": {
       "model_id": "b7a5f37422ec4892a49615946bc1f7c3",
       "version_major": 2,
       "version_minor": 0
      },
      "text/plain": [
       "VBox(children=(Label(value='371.901 MB of 371.901 MB uploaded (0.000 MB deduped)\\r'), FloatProgress(value=1.0,…"
      ]
     },
     "metadata": {},
     "output_type": "display_data"
    },
    {
     "data": {
      "text/html": [
       "<style>\n",
       "    table.wandb td:nth-child(1) { padding: 0 10px; text-align: left ; width: auto;} td:nth-child(2) {text-align: left ; width: 100%}\n",
       "    .wandb-row { display: flex; flex-direction: row; flex-wrap: wrap; justify-content: flex-start; width: 100% }\n",
       "    .wandb-col { display: flex; flex-direction: column; flex-basis: 100%; flex: 1; padding: 10px; }\n",
       "    </style>\n",
       "<div class=\"wandb-row\"><div class=\"wandb-col\"><h3>Run history:</h3><br/><table class=\"wandb\"><tr><td>epoch/categorical_accuracy</td><td>▁▄▄▅▆▆▆▆▇▇▇▇▇▇▇▇▇▇█████▇█████▇███████▇██</td></tr><tr><td>epoch/epoch</td><td>▁▁▁▁▂▂▂▂▂▃▃▃▃▃▃▄▄▄▄▄▅▅▅▅▅▅▆▆▆▆▆▆▇▇▇▇▇███</td></tr><tr><td>epoch/learning_rate</td><td>▁▁▁▁▁▁▁▁▁▁▁▁▁▁▁▁▁▁▁▁▁▁▁▁▁▁▁▁▁▁▁▁▁▁▁▁▁▁▁▁</td></tr><tr><td>epoch/loss</td><td>█▆▅▄▃▃▃▃▂▂▂▃▂▂▂▂▂▂▂▁▁▁▁▂▁▁▁▁▁▂▁▁▁▁▁▁▁▃▁▁</td></tr><tr><td>epoch/val_categorical_accuracy</td><td>▁▁▁▁▂▃▅▇▇▇▇█▇▇▇███████▇████▇▇███████▇███</td></tr><tr><td>epoch/val_loss</td><td>▅▇█▇▆▅▃▂▂▁▂▁▂▁▂▁▁▁▁▁▁▁▂▁▁▁▁▂▂▁▁▁▁▁▁▁▂▁▁▁</td></tr><tr><td>val_categorical_accuracy</td><td>▁</td></tr></table><br/></div><div class=\"wandb-col\"><h3>Run summary:</h3><br/><table class=\"wandb\"><tr><td>epoch/categorical_accuracy</td><td>0.89511</td></tr><tr><td>epoch/epoch</td><td>49</td></tr><tr><td>epoch/learning_rate</td><td>0.001</td></tr><tr><td>epoch/loss</td><td>0.29236</td></tr><tr><td>epoch/val_categorical_accuracy</td><td>0.91211</td></tr><tr><td>epoch/val_loss</td><td>0.23962</td></tr><tr><td>val_categorical_accuracy</td><td>0.9248</td></tr></table><br/></div></div>"
      ],
      "text/plain": [
       "<IPython.core.display.HTML object>"
      ]
     },
     "metadata": {},
     "output_type": "display_data"
    },
    {
     "data": {
      "text/html": [
       " View run <strong style=\"color:#cdcd00\">comfy-sweep-4</strong> at: <a href='https://wandb.ai/hysped/hysped-conv1D_top4/runs/uv6jr0tb' target=\"_blank\">https://wandb.ai/hysped/hysped-conv1D_top4/runs/uv6jr0tb</a><br/>Synced 5 W&B file(s), 0 media file(s), 17 artifact file(s) and 0 other file(s)"
      ],
      "text/plain": [
       "<IPython.core.display.HTML object>"
      ]
     },
     "metadata": {},
     "output_type": "display_data"
    },
    {
     "data": {
      "text/html": [
       "Find logs at: <code>./wandb/run-20230407_213516-uv6jr0tb/logs</code>"
      ],
      "text/plain": [
       "<IPython.core.display.HTML object>"
      ]
     },
     "metadata": {},
     "output_type": "display_data"
    },
    {
     "name": "stderr",
     "output_type": "stream",
     "text": [
      "\u001b[34m\u001b[1mwandb\u001b[0m: Agent Starting Run: eqmi9fgu with config:\n",
      "\u001b[34m\u001b[1mwandb\u001b[0m: \tbatch_size: 128\n",
      "\u001b[34m\u001b[1mwandb\u001b[0m: \tfilters: [1024, 512, 256, 128]\n",
      "\u001b[34m\u001b[1mwandb\u001b[0m: \tinput_shape: [186, 1]\n",
      "\u001b[34m\u001b[1mwandb\u001b[0m: \tkernel_sizes: [13, 13, 13, 13]\n",
      "\u001b[34m\u001b[1mwandb\u001b[0m: \tnum_classes: 5\n",
      "\u001b[34m\u001b[1mwandb\u001b[0m: \tpadding: causal\n",
      "\u001b[34m\u001b[1mwandb\u001b[0m: \u001b[33mWARNING\u001b[0m Ignored wandb.init() arg project when running a sweep.\n"
     ]
    },
    {
     "data": {
      "text/html": [
       "wandb version 0.14.2 is available!  To upgrade, please run:\n",
       " $ pip install wandb --upgrade"
      ],
      "text/plain": [
       "<IPython.core.display.HTML object>"
      ]
     },
     "metadata": {},
     "output_type": "display_data"
    },
    {
     "data": {
      "text/html": [
       "Tracking run with wandb version 0.13.10"
      ],
      "text/plain": [
       "<IPython.core.display.HTML object>"
      ]
     },
     "metadata": {},
     "output_type": "display_data"
    },
    {
     "data": {
      "text/html": [
       "Run data is saved locally in <code>/tf/notebooks/wandb/run-20230407_213832-eqmi9fgu</code>"
      ],
      "text/plain": [
       "<IPython.core.display.HTML object>"
      ]
     },
     "metadata": {},
     "output_type": "display_data"
    },
    {
     "data": {
      "text/html": [
       "Syncing run <strong><a href='https://wandb.ai/hysped/hysped-conv1D_top4/runs/eqmi9fgu' target=\"_blank\">dark-sweep-5</a></strong> to <a href='https://wandb.ai/hysped/hysped-conv1D_top4' target=\"_blank\">Weights & Biases</a> (<a href='https://wandb.me/run' target=\"_blank\">docs</a>)<br/>Sweep page: <a href='https://wandb.ai/hysped/hysped-conv1D_top4/sweeps/nqd1nv85' target=\"_blank\">https://wandb.ai/hysped/hysped-conv1D_top4/sweeps/nqd1nv85</a>"
      ],
      "text/plain": [
       "<IPython.core.display.HTML object>"
      ]
     },
     "metadata": {},
     "output_type": "display_data"
    },
    {
     "data": {
      "text/html": [
       " View project at <a href='https://wandb.ai/hysped/hysped-conv1D_top4' target=\"_blank\">https://wandb.ai/hysped/hysped-conv1D_top4</a>"
      ],
      "text/plain": [
       "<IPython.core.display.HTML object>"
      ]
     },
     "metadata": {},
     "output_type": "display_data"
    },
    {
     "data": {
      "text/html": [
       " View sweep at <a href='https://wandb.ai/hysped/hysped-conv1D_top4/sweeps/nqd1nv85' target=\"_blank\">https://wandb.ai/hysped/hysped-conv1D_top4/sweeps/nqd1nv85</a>"
      ],
      "text/plain": [
       "<IPython.core.display.HTML object>"
      ]
     },
     "metadata": {},
     "output_type": "display_data"
    },
    {
     "data": {
      "text/html": [
       " View run at <a href='https://wandb.ai/hysped/hysped-conv1D_top4/runs/eqmi9fgu' target=\"_blank\">https://wandb.ai/hysped/hysped-conv1D_top4/runs/eqmi9fgu</a>"
      ],
      "text/plain": [
       "<IPython.core.display.HTML object>"
      ]
     },
     "metadata": {},
     "output_type": "display_data"
    },
    {
     "name": "stdout",
     "output_type": "stream",
     "text": [
      "2023-04-07 21:38:33,006 | hysped | INFO : model_dir: ../models/conv1D_top4\n",
      "2023-04-07 21:38:33,007 | hysped | INFO : model_file: ../models/conv1D_top4/run_eqmi9fgu_model.h5\n",
      "Epoch 1/50\n",
      " 6/80 [=>............................] - ETA: 7s - loss: 1.6458 - categorical_accuracy: 0.26562023-04-07 21:38:37,500 | tensorflow | WARNING : Callback method `on_train_batch_end` is slow compared to the batch time (batch time: 0.0353s vs `on_train_batch_end` time: 0.0519s). Check your callbacks.\n",
      "80/80 [==============================] - 15s 143ms/step - loss: 1.2924 - categorical_accuracy: 0.4416 - val_loss: 3.8885 - val_categorical_accuracy: 0.1970\n",
      "Epoch 2/50\n",
      "80/80 [==============================] - 9s 107ms/step - loss: 0.8980 - categorical_accuracy: 0.6227 - val_loss: 6.7344 - val_categorical_accuracy: 0.1970\n",
      "Epoch 3/50\n",
      "80/80 [==============================] - 9s 111ms/step - loss: 0.7748 - categorical_accuracy: 0.6802 - val_loss: 5.4731 - val_categorical_accuracy: 0.1970\n",
      "Epoch 4/50\n",
      "80/80 [==============================] - 9s 110ms/step - loss: 0.7461 - categorical_accuracy: 0.6894 - val_loss: 5.2374 - val_categorical_accuracy: 0.1970\n",
      "Epoch 5/50\n",
      "80/80 [==============================] - 9s 111ms/step - loss: 0.7124 - categorical_accuracy: 0.7065 - val_loss: 3.8529 - val_categorical_accuracy: 0.1970\n",
      "Epoch 6/50\n",
      "80/80 [==============================] - 9s 114ms/step - loss: 0.7077 - categorical_accuracy: 0.7120 - val_loss: 6.2368 - val_categorical_accuracy: 0.1970\n",
      "Epoch 7/50\n",
      "80/80 [==============================] - 9s 113ms/step - loss: 0.7057 - categorical_accuracy: 0.7164 - val_loss: 1.1252 - val_categorical_accuracy: 0.5290\n",
      "Epoch 8/50\n",
      "80/80 [==============================] - 9s 119ms/step - loss: 0.6519 - categorical_accuracy: 0.7369 - val_loss: 1.0100 - val_categorical_accuracy: 0.5423\n",
      "Epoch 9/50\n",
      "80/80 [==============================] - 9s 110ms/step - loss: 0.6336 - categorical_accuracy: 0.7483 - val_loss: 0.6015 - val_categorical_accuracy: 0.7525\n",
      "Epoch 10/50\n",
      "80/80 [==============================] - 9s 116ms/step - loss: 0.5823 - categorical_accuracy: 0.7716 - val_loss: 0.5926 - val_categorical_accuracy: 0.7725\n",
      "Epoch 11/50\n",
      "80/80 [==============================] - 9s 112ms/step - loss: 0.6001 - categorical_accuracy: 0.7706 - val_loss: 0.8306 - val_categorical_accuracy: 0.6840\n",
      "Epoch 12/50\n",
      "80/80 [==============================] - 9s 108ms/step - loss: 0.5973 - categorical_accuracy: 0.7739 - val_loss: 0.8831 - val_categorical_accuracy: 0.6750\n",
      "Epoch 13/50\n",
      "80/80 [==============================] - 9s 118ms/step - loss: 0.6084 - categorical_accuracy: 0.7733 - val_loss: 0.4399 - val_categorical_accuracy: 0.8358\n",
      "Epoch 14/50\n",
      "80/80 [==============================] - 9s 107ms/step - loss: 0.4839 - categorical_accuracy: 0.8184 - val_loss: 0.4400 - val_categorical_accuracy: 0.8217\n",
      "Epoch 15/50\n",
      "80/80 [==============================] - 9s 114ms/step - loss: 0.4831 - categorical_accuracy: 0.8178 - val_loss: 0.6966 - val_categorical_accuracy: 0.7550\n",
      "Epoch 16/50\n",
      "80/80 [==============================] - 9s 109ms/step - loss: 0.5298 - categorical_accuracy: 0.8008 - val_loss: 0.4012 - val_categorical_accuracy: 0.8427\n",
      "Epoch 17/50\n",
      "80/80 [==============================] - 9s 117ms/step - loss: 0.4226 - categorical_accuracy: 0.8461 - val_loss: 0.3532 - val_categorical_accuracy: 0.8754\n",
      "Epoch 18/50\n",
      "80/80 [==============================] - 9s 112ms/step - loss: 0.4627 - categorical_accuracy: 0.8282 - val_loss: 0.6339 - val_categorical_accuracy: 0.7799\n",
      "Epoch 19/50\n",
      "80/80 [==============================] - 9s 109ms/step - loss: 0.4799 - categorical_accuracy: 0.8247 - val_loss: 0.3921 - val_categorical_accuracy: 0.8491\n",
      "Epoch 20/50\n",
      "80/80 [==============================] - 9s 113ms/step - loss: 0.3939 - categorical_accuracy: 0.8540 - val_loss: 0.6040 - val_categorical_accuracy: 0.7829\n",
      "Epoch 21/50\n",
      "80/80 [==============================] - 8s 106ms/step - loss: 0.4091 - categorical_accuracy: 0.8524 - val_loss: 0.3467 - val_categorical_accuracy: 0.8664\n",
      "Epoch 22/50\n",
      "80/80 [==============================] - 9s 116ms/step - loss: 0.3597 - categorical_accuracy: 0.8659 - val_loss: 0.3251 - val_categorical_accuracy: 0.8757\n",
      "Epoch 23/50\n",
      "80/80 [==============================] - 7s 86ms/step - loss: 0.3684 - categorical_accuracy: 0.8634 - val_loss: 0.5369 - val_categorical_accuracy: 0.7723\n",
      "Epoch 24/50\n",
      "80/80 [==============================] - 6s 77ms/step - loss: 0.3860 - categorical_accuracy: 0.8588 - val_loss: 0.3280 - val_categorical_accuracy: 0.8722\n",
      "Epoch 25/50\n",
      "80/80 [==============================] - 9s 114ms/step - loss: 0.3587 - categorical_accuracy: 0.8670 - val_loss: 0.3027 - val_categorical_accuracy: 0.8941\n",
      "Epoch 26/50\n",
      "80/80 [==============================] - 9s 110ms/step - loss: 0.3399 - categorical_accuracy: 0.8737 - val_loss: 0.3025 - val_categorical_accuracy: 0.8957\n",
      "Epoch 27/50\n",
      "80/80 [==============================] - 9s 117ms/step - loss: 0.3211 - categorical_accuracy: 0.8855 - val_loss: 0.2667 - val_categorical_accuracy: 0.9098\n",
      "Epoch 28/50\n",
      "80/80 [==============================] - 9s 107ms/step - loss: 0.2978 - categorical_accuracy: 0.8919 - val_loss: 0.3815 - val_categorical_accuracy: 0.8630\n",
      "Epoch 29/50\n",
      "80/80 [==============================] - 9s 113ms/step - loss: 0.3813 - categorical_accuracy: 0.8574 - val_loss: 0.9762 - val_categorical_accuracy: 0.7273\n",
      "Epoch 30/50\n",
      "80/80 [==============================] - 9s 109ms/step - loss: 0.5470 - categorical_accuracy: 0.7998 - val_loss: 0.3219 - val_categorical_accuracy: 0.8750\n",
      "Epoch 31/50\n",
      "80/80 [==============================] - 9s 111ms/step - loss: 0.3491 - categorical_accuracy: 0.8704 - val_loss: 0.4587 - val_categorical_accuracy: 0.8099\n",
      "Epoch 32/50\n",
      "80/80 [==============================] - 9s 111ms/step - loss: 0.4944 - categorical_accuracy: 0.8048 - val_loss: 0.4663 - val_categorical_accuracy: 0.8111\n",
      "Epoch 33/50\n",
      "80/80 [==============================] - 9s 107ms/step - loss: 0.3860 - categorical_accuracy: 0.8543 - val_loss: 0.3398 - val_categorical_accuracy: 0.8591\n",
      "Epoch 34/50\n",
      "80/80 [==============================] - 9s 113ms/step - loss: 0.3506 - categorical_accuracy: 0.8743 - val_loss: 0.3288 - val_categorical_accuracy: 0.8810\n",
      "Epoch 35/50\n",
      "37/80 [============>.................] - ETA: 4s - loss: 0.3970 - categorical_accuracy: 0.8537"
     ]
    },
    {
     "name": "stderr",
     "output_type": "stream",
     "text": [
      "IOPub message rate exceeded.\n",
      "The Jupyter server will temporarily stop sending output\n",
      "to the client in order to avoid crashing it.\n",
      "To change this limit, set the config variable\n",
      "`--ServerApp.iopub_msg_rate_limit`.\n",
      "\n",
      "Current values:\n",
      "ServerApp.iopub_msg_rate_limit=1000.0 (msgs/sec)\n",
      "ServerApp.rate_limit_window=3.0 (secs)\n",
      "\n"
     ]
    },
    {
     "name": "stdout",
     "output_type": "stream",
     "text": [
      "80/80 [==============================] - 6s 71ms/step - loss: 0.4032 - categorical_accuracy: 0.8502 - val_loss: 0.6928 - val_categorical_accuracy: 0.7435\n",
      "Epoch 20/50\n",
      "80/80 [==============================] - 6s 70ms/step - loss: 0.5180 - categorical_accuracy: 0.8058 - val_loss: 0.3860 - val_categorical_accuracy: 0.8535\n",
      "Epoch 21/50\n",
      "80/80 [==============================] - 6s 71ms/step - loss: 0.3817 - categorical_accuracy: 0.8610 - val_loss: 0.5048 - val_categorical_accuracy: 0.7910\n",
      "Epoch 22/50\n",
      "80/80 [==============================] - 6s 70ms/step - loss: 0.4255 - categorical_accuracy: 0.8420 - val_loss: 0.2932 - val_categorical_accuracy: 0.8865\n",
      "Epoch 23/50\n",
      "80/80 [==============================] - 7s 94ms/step - loss: 0.3670 - categorical_accuracy: 0.8665 - val_loss: 0.2911 - val_categorical_accuracy: 0.8870\n",
      "Epoch 24/50\n",
      "80/80 [==============================] - 6s 71ms/step - loss: 0.3433 - categorical_accuracy: 0.8714 - val_loss: 0.4371 - val_categorical_accuracy: 0.8254\n",
      "Epoch 25/50\n",
      "80/80 [==============================] - 6s 72ms/step - loss: 0.4154 - categorical_accuracy: 0.8461 - val_loss: 0.2624 - val_categorical_accuracy: 0.9008\n",
      "Epoch 26/50\n",
      "80/80 [==============================] - 6s 74ms/step - loss: 0.3104 - categorical_accuracy: 0.8885 - val_loss: 0.2613 - val_categorical_accuracy: 0.9029\n",
      "Epoch 27/50\n",
      "80/80 [==============================] - 6s 73ms/step - loss: 0.2973 - categorical_accuracy: 0.8932 - val_loss: 0.2202 - val_categorical_accuracy: 0.9209\n",
      "Epoch 28/50\n",
      "80/80 [==============================] - 6s 70ms/step - loss: 0.2883 - categorical_accuracy: 0.8934 - val_loss: 0.2554 - val_categorical_accuracy: 0.9087\n",
      "Epoch 29/50\n",
      "52/80 [==================>...........] - ETA: 1s - loss: 0.3314 - categorical_accuracy: 0.8771"
     ]
    }
   ],
   "source": [
    "def main():\n",
    "    run = wandb.init()\n",
    "    model = make_model(**wandb.config)\n",
    "    \n",
    "    model_dir = os.path.join(cfg['models_dir'], cfg['model_name'])\n",
    "    mkdir(model_dir)\n",
    "    logger.info('model_dir: %s' % model_dir)\n",
    "    model_file = os.path.join(model_dir, 'run_%s_model.h5' % (run.id))\n",
    "    logger.info('model_file: %s' % model_file)\n",
    "    \n",
    "    wandbModelCheckpoint = WandbModelCheckpoint(\n",
    "        model_file,\n",
    "        monitor='val_categorical_accuracy',\n",
    "        mode='max',\n",
    "        save_best_only=True\n",
    "    )\n",
    "\n",
    "    callbacks = [\n",
    "        WandbMetricsLogger(),\n",
    "        wandbModelCheckpoint,\n",
    "    ]\n",
    "\n",
    "    history = model.fit(\n",
    "        x=X_train,\n",
    "        y=Y_train,\n",
    "        validation_data=(X_val, Y_val),\n",
    "        epochs=50,\n",
    "        shuffle=True,\n",
    "        batch_size=wandb.config.batch_size,\n",
    "        callbacks=callbacks,\n",
    "        verbose=1\n",
    "    )\n",
    "    \n",
    "    wandb.log({\n",
    "        wandbModelCheckpoint.monitor: wandbModelCheckpoint.best\n",
    "    })\n",
    "    run.finish()\n",
    "    # wandb.log(pd.DataFrame(history.history)[-1:].reset_index(drop=True).to_dict(orient='records')[0])\n",
    "\n",
    "# Start the sweep\n",
    "sweep_id = wandb.sweep(\n",
    "    sweep=sweep_configuration,\n",
    "    project=cfg['project_name']\n",
    ")\n",
    "wandb.agent(sweep_id, function=main, count=50)\n",
    "wandb.finish()"
   ]
  },
  {
   "cell_type": "markdown",
   "id": "b850a047-4f47-4e46-8c59-cce8b96e6066",
   "metadata": {},
   "source": [
    "## Best model evaluation"
   ]
  },
  {
   "cell_type": "code",
   "execution_count": 14,
   "id": "cd029ccc-573c-4f31-b7e8-173440c7eda0",
   "metadata": {
    "tags": []
   },
   "outputs": [
    {
     "name": "stderr",
     "output_type": "stream",
     "text": [
      "\u001b[34m\u001b[1mwandb\u001b[0m: Downloading large artifact run_mqeeflrr_model:v13, 71.23MB. 1 files... \n",
      "\u001b[34m\u001b[1mwandb\u001b[0m:   1 of 1 files downloaded.  \n",
      "Done. 0:0:0.2\n"
     ]
    },
    {
     "name": "stdout",
     "output_type": "stream",
     "text": [
      "Model: \"sequential\"\n",
      "_________________________________________________________________\n",
      " Layer (type)                Output Shape              Param #   \n",
      "=================================================================\n",
      " batch_normalization (BatchN  (None, 186, 1)           4         \n",
      " ormalization)                                                   \n",
      "                                                                 \n",
      " conv1d (Conv1D)             (None, 186, 1024)         10240     \n",
      "                                                                 \n",
      " max_pooling1d (MaxPooling1D  (None, 93, 1024)         0         \n",
      " )                                                               \n",
      "                                                                 \n",
      " conv1d_1 (Conv1D)           (None, 93, 512)           4719104   \n",
      "                                                                 \n",
      " max_pooling1d_1 (MaxPooling  (None, 46, 512)          0         \n",
      " 1D)                                                             \n",
      "                                                                 \n",
      " conv1d_2 (Conv1D)           (None, 46, 256)           1179904   \n",
      "                                                                 \n",
      " max_pooling1d_2 (MaxPooling  (None, 23, 256)          0         \n",
      " 1D)                                                             \n",
      "                                                                 \n",
      " conv1d_3 (Conv1D)           (None, 23, 128)           295040    \n",
      "                                                                 \n",
      " max_pooling1d_3 (MaxPooling  (None, 11, 128)          0         \n",
      " 1D)                                                             \n",
      "                                                                 \n",
      " dropout (Dropout)           (None, 11, 128)           0         \n",
      "                                                                 \n",
      " flatten (Flatten)           (None, 1408)              0         \n",
      "                                                                 \n",
      " dense (Dense)               (None, 10)                14090     \n",
      "                                                                 \n",
      " dense_1 (Dense)             (None, 5)                 55        \n",
      "                                                                 \n",
      " softmax (Softmax)           (None, 5)                 0         \n",
      "                                                                 \n",
      "=================================================================\n",
      "Total params: 6,218,437\n",
      "Trainable params: 6,218,435\n",
      "Non-trainable params: 2\n",
      "_________________________________________________________________\n"
     ]
    }
   ],
   "source": [
    "api = wandb.Api()\n",
    "model_artifact = api.artifact('hysped/hysped-conv1D_top4/run_mqeeflrr_model:v13', type='model')\n",
    "model_path = model_artifact.download()\n",
    "model = tf.keras.models.load_model(model_artifact.file())\n",
    "model.summary()"
   ]
  },
  {
   "cell_type": "code",
   "execution_count": 15,
   "id": "5b9b9f3f-ebbb-4b0d-8a33-d2dcdc3741b9",
   "metadata": {
    "tags": []
   },
   "outputs": [
    {
     "name": "stdout",
     "output_type": "stream",
     "text": [
      "136/136 [==============================] - 1s 8ms/step\n",
      "136/136 [==============================] - 1s 9ms/step - loss: 0.1811 - categorical_accuracy: 0.9391\n"
     ]
    },
    {
     "data": {
      "image/png": "[encoded data removed]",
      "text/plain": [
       "<Figure size 900x500 with 2 Axes>"
      ]
     },
     "metadata": {},
     "output_type": "display_data"
    }
   ],
   "source": [
    "Y_pred = predict_model(model, X_val, Y_val, label_encoder=label_encoder)\n",
    "cm = confusion_matrix(label_encoder.inverse_transform(np.argmax(Y_val, axis=1)), Y_pred)\n",
    "\n",
    "eval_results = model.evaluate(X_val, Y_val, return_dict=True)\n",
    "metric_name = 'categorical_accuracy'\n",
    "\n",
    "fig, ax = plt.subplots(figsize=(9,5))\n",
    "plot_cm(ax, cm, labels=label_encoder.classes_)\n",
    "plt.title('%s\\n%s\\ndata: %s/X_val,Y_val\\n%s: %.2f%%\\n' % (\n",
    "    cfg['model_name'],\n",
    "    model_artifact.name,\n",
    "    os.path.basename(cfg['data_dir']),\n",
    "    metric_name,\n",
    "    float(eval_results[metric_name]) * 100.0)\n",
    ")\n",
    "plt.tight_layout()\n",
    "plt.savefig(os.path.join(cfg['data_dir'], 'cm-%s.pdf' % model_artifact.name), format='pdf')\n",
    "plt.show()"
   ]
  },
  {
   "cell_type": "code",
   "execution_count": 16,
   "id": "e7a47574-3a31-4018-ad56-c06922fcda81",
   "metadata": {
    "tags": []
   },
   "outputs": [],
   "source": [
    "tf.keras.utils.plot_model(\n",
    "    model,\n",
    "    to_file=os.path.join(cfg['data_dir'], '%s-arch.pdf' % model_artifact.name),\n",
    "    expand_nested=True,\n",
    "    show_shapes=True,\n",
    "    show_layer_activations=True\n",
    ")"
   ]
  },
  {
   "cell_type": "code",
   "execution_count": 17,
   "id": "e5f760fd-028a-4747-932e-7425b63000d1",
   "metadata": {
    "tags": []
   },
   "outputs": [
    {
     "data": {
      "image/png": "[encoded data removed]",
      "text/plain": [
       "<PIL.Image.Image image mode=RGBA size=852x1267>"
      ]
     },
     "execution_count": 17,
     "metadata": {},
     "output_type": "execute_result"
    }
   ],
   "source": [
    "from PIL import ImageFont\n",
    "\n",
    "font = ImageFont.truetype(\"/usr/share/fonts/truetype/liberation/LiberationMono-Bold.ttf\", 18)\n",
    "\n",
    "visualkeras.layered_view(\n",
    "    model,\n",
    "    to_file=os.path.join(cfg['data_dir'], '%s-arch.png' % model_artifact.name),\n",
    "    legend=True,\n",
    "    scale_xy=1,\n",
    "    scale_z=1,\n",
    "    one_dim_orientation='x',\n",
    "    padding=50,\n",
    "    spacing=25,\n",
    "    font=font\n",
    ")"
   ]
  },
  {
   "cell_type": "code",
   "execution_count": null,
   "id": "f99eee0c-7c00-451c-a6aa-160745fe8c9a",
   "metadata": {},
   "outputs": [],
   "source": []
  }
 ],
 "metadata": {
  "kernelspec": {
   "display_name": "Python 3",
   "language": "python",
   "name": "python3"
  },
  "language_info": {
   "codemirror_mode": {
    "name": "ipython",
    "version": 3
   },
   "file_extension": ".py",
   "mimetype": "text/x-python",
   "name": "python",
   "nbconvert_exporter": "python",
   "pygments_lexer": "ipython3",
   "version": "3.8.10"
  }
 },
 "nbformat": 4,
 "nbformat_minor": 5
}
