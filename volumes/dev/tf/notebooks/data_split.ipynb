{
 "cells": [
  {
   "cell_type": "code",
   "execution_count": 1,
   "id": "e425699b-0beb-4bde-a1c0-2ce572f5bece",
   "metadata": {
    "tags": []
   },
   "outputs": [],
   "source": [
    "import sys\n",
    "\n",
    "from importlib import reload\n",
    "\n",
    "import logging\n",
    "reload(logging)\n",
    "logging.basicConfig(\n",
    "    format='%(asctime)s | %(name)s | %(levelname)s : %(message)s',\n",
    "    level=logging.INFO,\n",
    "    stream=sys.stdout\n",
    ")\n",
    "\n",
    "logger = logging.getLogger('hysped')\n",
    "logger.setLevel(logging.DEBUG)\n",
    "\n",
    "import keras\n",
    "import matplotlib.pyplot as plt\n",
    "import matplotlib.ticker as mticker\n",
    "import numpy as np\n",
    "import os\n",
    "import pandas as pd\n",
    "import seaborn as sns\n",
    "import tensorflow as tf\n",
    "import zipfile\n",
    "\n",
    "from IPython.display import JSON, HTML\n",
    "from sklearn.preprocessing import LabelEncoder\n",
    "from tensorflow.keras import layers\n",
    "from tqdm.notebook import trange, tqdm\n",
    "\n",
    "# Make numpy values easier to read.\n",
    "np.set_printoptions(precision=3, suppress=True)"
   ]
  },
  {
   "cell_type": "code",
   "execution_count": 7,
   "id": "6ac6163b-f203-4cab-87dd-1998729f211d",
   "metadata": {
    "tags": []
   },
   "outputs": [],
   "source": [
    "num_sites = 4\n",
    "clean_data = False\n",
    "\n",
    "input_filename = os.path.join(\n",
    "    '..',\n",
    "    'data',\n",
    "    'Sverepec_spolu.zip'\n",
    ")\n",
    "\n",
    "output_dir = os.path.join(\n",
    "    '..',\n",
    "    'nvflare-sverepec_spolu-sim',\n",
    "    'data'\n",
    ")\n",
    "\n",
    "if not os.path.exists(output_dir):\n",
    "    os.mkdir(output_dir)"
   ]
  },
  {
   "cell_type": "markdown",
   "id": "f91064e6-f038-401b-b4e7-201442110c2d",
   "metadata": {},
   "source": [
    "# Preprocess data and split it to FL sites"
   ]
  },
  {
   "cell_type": "code",
   "execution_count": 8,
   "id": "7778fab7-c9b7-49cc-94b3-dccef04dab65",
   "metadata": {
    "tags": []
   },
   "outputs": [],
   "source": [
    "def split_df(df:pd.DataFrame, split:float=0.7) -> pd.DataFrame:\n",
    "    rows = df.shape[0]\n",
    "    at = int(split * rows)\n",
    "    return df[:at], df[at:]\n",
    "\n",
    "def nsplit_df(df:pd.DataFrame, splits:[float]=[0.7]) -> pd.DataFrame:\n",
    "    rows = df.shape[0]\n",
    "    df_splits = []\n",
    "    beg = 0\n",
    "    for split in splits:\n",
    "        at = int(split * rows)\n",
    "        df_splits.append(df[beg:at])\n",
    "        beg = at\n",
    "    df_splits.append(df[beg:])\n",
    "    return df_splits"
   ]
  },
  {
   "cell_type": "code",
   "execution_count": 9,
   "id": "a3b4a39d-1d23-464b-8eec-a87f8c73e420",
   "metadata": {
    "tags": []
   },
   "outputs": [
    {
     "name": "stdout",
     "output_type": "stream",
     "text": [
      "2023-03-21 00:05:15,088 | hysped | DEBUG : loading data: ../data/Sverepec_spolu.zip\n",
      "2023-03-21 00:05:15,834 | hysped | DEBUG : encoding labels: DRUH_DR\n",
      "2023-03-21 00:05:15,840 | hysped | DEBUG : saving encoder: ../nvflare-sverepec_spolu-sim/data/encoder-DRUH_DR.npy\n"
     ]
    },
    {
     "data": {
      "application/vnd.jupyter.widget-view+json": {
       "model_id": "9f9c2d5fb5ce478a9a2c34d015ee360f",
       "version_major": 2,
       "version_minor": 0
      },
      "text/plain": [
       "sampling site data:   0%|          | 0/4 [00:00<?, ?it/s]"
      ]
     },
     "metadata": {},
     "output_type": "display_data"
    }
   ],
   "source": [
    "# data\n",
    "logger.debug('loading data: %s' % input_filename)\n",
    "df = pd.read_csv(input_filename)\n",
    "\n",
    "label_col = df.DRUH_DR.name\n",
    "\n",
    "if clean_data:\n",
    "    # select columns\n",
    "    data_cols = df.columns[df.columns.to_series().str.match(r'b\\d+(_\\d+)+')]\n",
    "    all_cols = data_cols.append(pd.Index([label_col]))\n",
    "    logger.debug('selecting columns: %s' % all_cols.values)\n",
    "    df = df[all_cols]\n",
    "\n",
    "    # drop rows having at least 1 column na\n",
    "    df = df.dropna(axis=0, how='any')\n",
    "\n",
    "    # data cleaning - keep records with defined labels\n",
    "    df = df[~df.DRUH_DR.isna() & df.DRUH_DR.str.match(r'[A-Z]{2}|lieska')]\n",
    "\n",
    "    # # replace nan in labels\n",
    "    # df[label_col] = df[label_col].fillna('NaN')\n",
    "\n",
    "# encode string labels\n",
    "logger.debug('encoding labels: %s' % label_col)\n",
    "label_encoder = LabelEncoder()\n",
    "df[label_col] = label_encoder.fit_transform(df[label_col])\n",
    "\n",
    "# save encoder\n",
    "encoder_filename = os.path.join(output_dir, 'encoder-%s.npy' % label_col)\n",
    "logger.debug('saving encoder: %s' % encoder_filename)\n",
    "np.save(encoder_filename, label_encoder.classes_)\n",
    "        \n",
    "site_dfs = []\n",
    "# randomly sample data into proportionally-sized sites and split it to train and test for each site\n",
    "for i in trange(num_sites, desc='sampling site data'):\n",
    "\n",
    "    # sample site data\n",
    "    frac = 1 / (num_sites - i)\n",
    "    site_df = df.sample(frac = frac)\n",
    "    df = df.drop(site_df.index)\n",
    "\n",
    "    # split site data to train and test\n",
    "    site_df_train, site_df_test = split_df(site_df, split=0.7)\n",
    "\n",
    "    site = i + 1  \n",
    "    site_dir = os.path.join(output_dir, 'site-%d' % site)\n",
    "    if not os.path.exists(site_dir):\n",
    "        os.mkdir(site_dir)\n",
    "       \n",
    "    # make symlink to label encoder\n",
    "    symlink = os.path.join(site_dir, os.path.basename(encoder_filename))\n",
    "    if not os.path.exists(symlink):\n",
    "        os.link(encoder_filename, symlink)\n",
    "    \n",
    "    site_df_train.to_csv(os.path.join(site_dir, 'train.csv'), index=False)\n",
    "    site_df_test.to_csv(os.path.join(site_dir, 'test.csv'), index=False)"
   ]
  },
  {
   "cell_type": "markdown",
   "id": "2109fbf3-c7de-49cb-a09f-c8a9f571c706",
   "metadata": {},
   "source": [
    "## Show stats on site data"
   ]
  },
  {
   "cell_type": "code",
   "execution_count": 10,
   "id": "96e6d7db-0b89-476b-96ce-2898e44c4f7b",
   "metadata": {
    "tags": []
   },
   "outputs": [
    {
     "data": {
      "application/vnd.jupyter.widget-view+json": {
       "model_id": "3dc2692980fb41f288f9194a1af55ecf",
       "version_major": 2,
       "version_minor": 0
      },
      "text/plain": [
       "  0%|          | 0/4 [00:00<?, ?it/s]"
      ]
     },
     "metadata": {},
     "output_type": "display_data"
    },
    {
     "data": {
      "image/png": "[encoded data removed]",
      "text/plain": [
       "<Figure size 1058.88x500 with 2 Axes>"
      ]
     },
     "metadata": {},
     "output_type": "display_data"
    }
   ],
   "source": [
    "# load and merge site data into one dataframe\n",
    "dfs = pd.DataFrame()\n",
    "for site in trange(1, num_sites + 1):    \n",
    "    for df_name in ['train', 'test']:\n",
    "        df = pd.read_csv(os.path.join(output_dir, 'site-%d' % site, '%s.csv' % df_name))\n",
    "        df['site'] = site\n",
    "        df['set'] = df_name\n",
    "        dfs = pd.concat([dfs, df])\n",
    "\n",
    "# load label encoder to decode labels back\n",
    "label_encoder_filename = os.path.join(output_dir, 'encoder-%s.npy' % label_col)\n",
    "label_encoder = label_encoder = LabelEncoder()\n",
    "label_encoder.classes_ = np.load(label_encoder_filename, allow_pickle=True)\n",
    "# decode labels from numeric to string\n",
    "dfs[label_col] = label_encoder.inverse_transform(dfs[label_col])\n",
    "\n",
    "# plot stats\n",
    "sns.displot(\n",
    "    dfs,\n",
    "    x=label_col,\n",
    "    col='set',\n",
    "    stat='percent',\n",
    "    multiple='dodge',\n",
    "    shrink=0.8,\n",
    "    hue='site',\n",
    "    facet_kws=dict(margin_titles=True)\n",
    ")\n",
    "plt.tight_layout()\n",
    "plt.show()"
   ]
  },
  {
   "cell_type": "code",
   "execution_count": null,
   "id": "bb413120-ed3e-4785-b64c-ad53141f2782",
   "metadata": {},
   "outputs": [],
   "source": []
  }
 ],
 "metadata": {
  "kernelspec": {
   "display_name": "Python 3",
   "language": "python",
   "name": "python3"
  },
  "language_info": {
   "codemirror_mode": {
    "name": "ipython",
    "version": 3
   },
   "file_extension": ".py",
   "mimetype": "text/x-python",
   "name": "python",
   "nbconvert_exporter": "python",
   "pygments_lexer": "ipython3",
   "version": "3.8.10"
  }
 },
 "nbformat": 4,
 "nbformat_minor": 5
}
