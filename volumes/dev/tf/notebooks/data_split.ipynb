{
 "cells": [
  {
   "cell_type": "code",
   "execution_count": 1,
   "id": "e425699b-0beb-4bde-a1c0-2ce572f5bece",
   "metadata": {
    "tags": []
   },
   "outputs": [
    {
     "name": "stdout",
     "output_type": "stream",
     "text": [
      "2023-03-18 17:14:26,166 | matplotlib.font_manager | INFO : generated new fontManager\n"
     ]
    }
   ],
   "source": [
    "import sys\n",
    "\n",
    "from importlib import reload\n",
    "\n",
    "import logging\n",
    "reload(logging)\n",
    "logging.basicConfig(\n",
    "    format='%(asctime)s | %(name)s | %(levelname)s : %(message)s',\n",
    "    level=logging.INFO,\n",
    "    stream=sys.stdout\n",
    ")\n",
    "\n",
    "logger = logging.getLogger('hysped')\n",
    "logger.setLevel(logging.DEBUG)\n",
    "\n",
    "import keras\n",
    "import matplotlib.pyplot as plt\n",
    "import matplotlib.ticker as mticker\n",
    "import numpy as np\n",
    "import os\n",
    "import pandas as pd\n",
    "import seaborn as sns\n",
    "import tensorflow as tf\n",
    "import zipfile\n",
    "\n",
    "from IPython.display import JSON, HTML\n",
    "from sklearn.preprocessing import LabelEncoder\n",
    "from tensorflow.keras import layers\n",
    "from tqdm.notebook import trange, tqdm\n",
    "\n",
    "# Make numpy values easier to read.\n",
    "np.set_printoptions(precision=3, suppress=True)"
   ]
  },
  {
   "cell_type": "code",
   "execution_count": 2,
   "id": "6ac6163b-f203-4cab-87dd-1998729f211d",
   "metadata": {
    "tags": []
   },
   "outputs": [],
   "source": [
    "num_sites = 4\n",
    "\n",
    "input_filename = os.path.join(\n",
    "    '..',\n",
    "    'data',\n",
    "    'sverepec_24.zip'\n",
    ")\n",
    "\n",
    "output_dir = os.path.join(\n",
    "    '..',\n",
    "    'nvflare-sverepec_24-sim',\n",
    "    'data'\n",
    ")\n",
    "\n",
    "if not os.path.exists(output_dir):\n",
    "    os.mkdir(output_dir)"
   ]
  },
  {
   "cell_type": "markdown",
   "id": "f91064e6-f038-401b-b4e7-201442110c2d",
   "metadata": {},
   "source": [
    "# Preprocess data and split it to FL sites"
   ]
  },
  {
   "cell_type": "code",
   "execution_count": 3,
   "id": "7778fab7-c9b7-49cc-94b3-dccef04dab65",
   "metadata": {
    "tags": []
   },
   "outputs": [],
   "source": [
    "def split_df(df:pd.DataFrame, split:float=0.7) -> pd.DataFrame:\n",
    "    rows = df.shape[0]\n",
    "    at = int(split * rows)\n",
    "    return df[:at], df[at:]\n",
    "\n",
    "def nsplit_df(df:pd.DataFrame, splits:[float]=[0.7]) -> pd.DataFrame:\n",
    "    rows = df.shape[0]\n",
    "    df_splits = []\n",
    "    beg = 0\n",
    "    for split in splits:\n",
    "        at = int(split * rows)\n",
    "        df_splits.append(df[beg:at])\n",
    "        beg = at\n",
    "    df_splits.append(df[beg:])\n",
    "    return df_splits"
   ]
  },
  {
   "cell_type": "code",
   "execution_count": 4,
   "id": "a3b4a39d-1d23-464b-8eec-a87f8c73e420",
   "metadata": {
    "tags": []
   },
   "outputs": [
    {
     "name": "stdout",
     "output_type": "stream",
     "text": [
      "2023-03-18 17:14:27,080 | hysped | DEBUG : loading data: ../data/sverepec_24.zip\n",
      "2023-03-18 17:14:27,432 | hysped | DEBUG : selecting columns: ['b1_12_10_2' 'b2_12_10_2' 'b3_12_10_2' 'b4_12_10_2' 'b5_12_10_2'\n",
      " 'b6_12_10_2' 'b7_12_10_2' 'b8_12_10_2' 'b9_12_10_2' 'b10_12_10_'\n",
      " 'b11_12_10_' 'b12_12_10_' 'b13_12_10_' 'b14_12_10_' 'b15_12_10_'\n",
      " 'b16_12_10_' 'b17_12_10_' 'b18_12_10_' 'b19_12_10_' 'b20_12_10_'\n",
      " 'b21_12_10_' 'b22_12_10_' 'b23_12_10_' 'b24_12_10_' 'b25_12_10_'\n",
      " 'b26_12_10_' 'b27_12_10_' 'b28_12_10_' 'b29_12_10_' 'b30_12_10_'\n",
      " 'b31_12_10_' 'b32_12_10_' 'b33_12_10_' 'b34_12_10_' 'b35_12_10_'\n",
      " 'b36_12_10_' 'b37_12_10_' 'b38_12_10_' 'b39_12_10_' 'b40_12_10_'\n",
      " 'b41_12_10_' 'b42_12_10_' 'b43_12_10_' 'b44_12_10_' 'b45_12_10_'\n",
      " 'b46_12_10_' 'b47_12_10_' 'b48_12_10_' 'b49_12_10_' 'b50_12_10_'\n",
      " 'b51_12_10_' 'b52_12_10_' 'b53_12_10_' 'b54_12_10_' 'b55_12_10_'\n",
      " 'b56_12_10_' 'b57_12_10_' 'b58_12_10_' 'b59_12_10_' 'b60_12_10_'\n",
      " 'b61_12_10_' 'b62_12_10_' 'b63_12_10_' 'b64_12_10_' 'b65_12_10_'\n",
      " 'b66_12_10_' 'b67_12_10_' 'b68_12_10_' 'b69_12_10_' 'b70_12_10_'\n",
      " 'b71_12_10_' 'b72_12_10_' 'b73_12_10_' 'b74_12_10_' 'b75_12_10_'\n",
      " 'b76_12_10_' 'b77_12_10_' 'b78_12_10_' 'b79_12_10_' 'b80_12_10_'\n",
      " 'b81_12_10_' 'b82_12_10_' 'b83_12_10_' 'b84_12_10_' 'b85_12_10_'\n",
      " 'b86_12_10_' 'b87_12_10_' 'b88_12_10_' 'b89_12_10_' 'b90_12_10_'\n",
      " 'b91_12_10_' 'b92_12_10_' 'b93_12_10_' 'b94_12_10_' 'b95_12_10_'\n",
      " 'b96_12_10_' 'b97_12_10_' 'b98_12_10_' 'b99_12_10_' 'b100_12_10'\n",
      " 'b101_12_10' 'b102_12_10' 'b103_12_10' 'b104_12_10' 'b105_12_10'\n",
      " 'b106_12_10' 'b107_12_10' 'b108_12_10' 'b109_12_10' 'b110_12_10'\n",
      " 'b111_12_10' 'b112_12_10' 'b113_12_10' 'b114_12_10' 'b115_12_10'\n",
      " 'b116_12_10' 'b117_12_10' 'b118_12_10' 'b119_12_10' 'b120_12_10'\n",
      " 'b121_12_10' 'b122_12_10' 'b123_12_10' 'b124_12_10' 'b125_12_10'\n",
      " 'b126_12_10' 'b127_12_10' 'b128_12_10' 'b129_12_10' 'b130_12_10'\n",
      " 'b131_12_10' 'b132_12_10' 'b133_12_10' 'b134_12_10' 'b135_12_10'\n",
      " 'b136_12_10' 'b137_12_10' 'b138_12_10' 'b139_12_10' 'b140_12_10'\n",
      " 'b141_12_10' 'b142_12_10' 'b143_12_10' 'b144_12_10' 'b145_12_10'\n",
      " 'b146_12_10' 'b147_12_10' 'b148_12_10' 'b149_12_10' 'b150_12_10'\n",
      " 'b151_12_10' 'b152_12_10' 'b153_12_10' 'b154_12_10' 'b155_12_10'\n",
      " 'b156_12_10' 'b157_12_10' 'b158_12_10' 'b159_12_10' 'b160_12_10'\n",
      " 'b161_12_10' 'b162_12_10' 'b163_12_10' 'b164_12_10' 'b165_12_10'\n",
      " 'b166_12_10' 'b167_12_10' 'b168_12_10' 'b169_12_10' 'b170_12_10'\n",
      " 'b171_12_10' 'b172_12_10' 'b173_12_10' 'b174_12_10' 'b175_12_10'\n",
      " 'b176_12_10' 'b177_12_10' 'b178_12_10' 'b179_12_10' 'b180_12_10'\n",
      " 'b181_12_10' 'b182_12_10' 'b183_12_10' 'b184_12_10' 'b185_12_10'\n",
      " 'b186_12_10' 'b187_12_10' 'b188_12_10' 'b189_12_10' 'b190_12_10'\n",
      " 'b191_12_10' 'b192_12_10' 'b193_12_10' 'b194_12_10' 'b195_12_10'\n",
      " 'b196_12_10' 'b197_12_10' 'b198_12_10' 'b199_12_10' 'b200_12_10'\n",
      " 'b201_12_10' 'b202_12_10' 'b203_12_10' 'b204_12_10' 'b205_12_10'\n",
      " 'b206_12_10' 'b207_12_10' 'b208_12_10' 'b209_12_10' 'b210_12_10'\n",
      " 'b211_12_10' 'b212_12_10' 'b213_12_10' 'b214_12_10' 'b215_12_10'\n",
      " 'b216_12_10' 'b217_12_10' 'b218_12_10' 'b219_12_10' 'b220_12_10'\n",
      " 'b221_12_10' 'b222_12_10' 'b223_12_10' 'b224_12_10' 'b225_12_10'\n",
      " 'b226_12_10' 'b227_12_10' 'b228_12_10' 'b229_12_10' 'b230_12_10'\n",
      " 'b231_12_10' 'b232_12_10' 'b233_12_10' 'b234_12_10' 'b235_12_10'\n",
      " 'b236_12_10' 'b237_12_10' 'b238_12_10' 'b239_12_10' 'b240_12_10'\n",
      " 'b241_12_10' 'b242_12_10' 'b243_12_10' 'b244_12_10' 'b245_12_10'\n",
      " 'b246_12_10' 'b247_12_10' 'b248_12_10' 'b249_12_10' 'b250_12_10'\n",
      " 'b251_12_10' 'b252_12_10' 'b253_12_10' 'b254_12_10' 'b255_12_10'\n",
      " 'b256_12_10' 'b257_12_10' 'b258_12_10' 'b259_12_10' 'b260_12_10'\n",
      " 'b261_12_10' 'b262_12_10' 'b263_12_10' 'b264_12_10' 'b265_12_10'\n",
      " 'b266_12_10' 'b267_12_10' 'b268_12_10' 'b269_12_10' 'b270_12_10'\n",
      " 'b271_12_10' 'b272_12_10' 'b273_12_10' 'b274_12_10' 'b275_12_10'\n",
      " 'b276_12_10' 'b277_12_10' 'b278_12_10' 'b279_12_10' 'b280_12_10'\n",
      " 'b281_12_10' 'b282_12_10' 'b283_12_10' 'b284_12_10' 'b285_12_10'\n",
      " 'b286_12_10' 'b287_12_10' 'b288_12_10' 'b289_12_10' 'b290_12_10'\n",
      " 'b291_12_10' 'b292_12_10' 'b293_12_10' 'b294_12_10' 'b295_12_10'\n",
      " 'b296_12_10' 'b297_12_10' 'b298_12_10' 'b299_12_10' 'b300_12_10'\n",
      " 'b301_12_10' 'b302_12_10' 'b303_12_10' 'b304_12_10' 'b305_12_10'\n",
      " 'b306_12_10' 'b307_12_10' 'b308_12_10' 'b309_12_10' 'b310_12_10'\n",
      " 'b311_12_10' 'b312_12_10' 'b313_12_10' 'b314_12_10' 'b315_12_10'\n",
      " 'b316_12_10' 'b317_12_10' 'b318_12_10' 'b319_12_10' 'b320_12_10'\n",
      " 'b321_12_10' 'b322_12_10' 'b323_12_10' 'b324_12_10' 'b325_12_10'\n",
      " 'b326_12_10' 'b327_12_10' 'b328_12_10' 'b329_12_10' 'b330_12_10'\n",
      " 'b331_12_10' 'b332_12_10' 'b333_12_10' 'b334_12_10' 'b335_12_10'\n",
      " 'b336_12_10' 'b337_12_10' 'b338_12_10' 'b339_12_10' 'b340_12_10'\n",
      " 'b341_12_10' 'b342_12_10' 'b343_12_10' 'b344_12_10' 'b345_12_10'\n",
      " 'b346_12_10' 'b347_12_10' 'b348_12_10' 'b349_12_10' 'b350_12_10'\n",
      " 'b351_12_10' 'b352_12_10' 'b353_12_10' 'b354_12_10' 'b355_12_10'\n",
      " 'b356_12_10' 'b357_12_10' 'b358_12_10' 'b359_12_10' 'b360_12_10'\n",
      " 'b361_12_10' 'b362_12_10' 'b363_12_10' 'b364_12_10' 'b365_12_10'\n",
      " 'b366_12_10' 'b367_12_10' 'b368_12_10' 'b369_12_10' 'b370_12_10'\n",
      " 'b371_12_10' 'b372_12_10' 'b373_12_10' 'b374_12_10' 'b375_12_10'\n",
      " 'b376_12_10' 'b377_12_10' 'b378_12_10' 'b379_12_10' 'b380_12_10'\n",
      " 'b381_12_10' 'b382_12_10' 'b383_12_10' 'b384_12_10' 'b385_12_10'\n",
      " 'b386_12_10' 'b387_12_10' 'b388_12_10' 'b389_12_10' 'b390_12_10'\n",
      " 'b391_12_10' 'b392_12_10' 'b393_12_10' 'b394_12_10' 'b395_12_10'\n",
      " 'b396_12_10' 'b397_12_10' 'b398_12_10' 'b399_12_10' 'b400_12_10'\n",
      " 'b401_12_10' 'b402_12_10' 'b403_12_10' 'b404_12_10' 'b405_12_10'\n",
      " 'b406_12_10' 'b407_12_10' 'b408_12_10' 'b409_12_10' 'b410_12_10'\n",
      " 'b411_12_10' 'b412_12_10' 'b413_12_10' 'b414_12_10' 'b415_12_10'\n",
      " 'b416_12_10' 'b417_12_10' 'b418_12_10' 'b419_12_10' 'b420_12_10'\n",
      " 'b421_12_10' 'b422_12_10' 'b423_12_10' 'b424_12_10' 'b425_12_10'\n",
      " 'b426_12_10' 'b427_12_10' 'b428_12_10' 'b429_12_10' 'b430_12_10'\n",
      " 'b431_12_10' 'b432_12_10' 'b433_12_10' 'b434_12_10' 'b435_12_10'\n",
      " 'b436_12_10' 'b437_12_10' 'b438_12_10' 'b439_12_10' 'b440_12_10'\n",
      " 'b441_12_10' 'b442_12_10' 'b443_12_10' 'b444_12_10' 'b445_12_10'\n",
      " 'b446_12_10' 'b447_12_10' 'b448_12_10' 'b449_12_10' 'b450_12_10'\n",
      " 'b451_12_10' 'b452_12_10' 'b453_12_10' 'b454_12_10' 'b455_12_10'\n",
      " 'b456_12_10' 'b457_12_10' 'b458_12_10' 'b459_12_10' 'b460_12_10'\n",
      " 'b461_12_10' 'b462_12_10' 'b463_12_10' 'b464_12_10' 'b465_12_10'\n",
      " 'b466_12_10' 'b467_12_10' 'b468_12_10' 'b469_12_10' 'b470_12_10'\n",
      " 'b471_12_10' 'b472_12_10' 'b473_12_10' 'b474_12_10' 'DRUH_DR']\n",
      "2023-03-18 17:14:27,457 | hysped | DEBUG : encoding labels: DRUH_DR\n",
      "2023-03-18 17:14:27,459 | hysped | DEBUG : saving encoder: ../nvflare-sverepec_24-sim/data/encoder-DRUH_DR.npy\n"
     ]
    },
    {
     "data": {
      "application/vnd.jupyter.widget-view+json": {
       "model_id": "c18e6f0f950241f4bb479a345d99be48",
       "version_major": 2,
       "version_minor": 0
      },
      "text/plain": [
       "sampling site data:   0%|          | 0/4 [00:00<?, ?it/s]"
      ]
     },
     "metadata": {},
     "output_type": "display_data"
    }
   ],
   "source": [
    "# data\n",
    "logger.debug('loading data: %s' % input_filename)\n",
    "df = pd.read_csv(input_filename)\n",
    "\n",
    "# select columns\n",
    "data_cols = df.columns[df.columns.to_series().str.match(r'b\\d+(_\\d+)+')]\n",
    "label_col = df.DRUH_DR.name\n",
    "all_cols = data_cols.append(pd.Index([label_col]))\n",
    "logger.debug('selecting columns: %s' % all_cols.values)\n",
    "df = df[all_cols]\n",
    "\n",
    "# drop rows having at least 1 column na\n",
    "df = df.dropna(axis=0, how='any')\n",
    "\n",
    "# data cleaning - keep records with defined labels\n",
    "df = df[~df.DRUH_DR.isna() & df.DRUH_DR.str.match(r'[A-Z]{2}|lieska')]\n",
    "\n",
    "# # replace nan in labels\n",
    "# df[label_col] = df[label_col].fillna('NaN')\n",
    "\n",
    "# encode string labels\n",
    "logger.debug('encoding labels: %s' % label_col)\n",
    "label_encoder = LabelEncoder()\n",
    "df[label_col] = label_encoder.fit_transform(df[label_col])\n",
    "\n",
    "# save encoder\n",
    "encoder_filename = os.path.join(output_dir, 'encoder-%s.npy' % label_col)\n",
    "logger.debug('saving encoder: %s' % encoder_filename)\n",
    "np.save(encoder_filename, label_encoder.classes_)\n",
    "        \n",
    "site_dfs = []\n",
    "# randomly sample data into proportionally-sized sites and split it to train and test for each site\n",
    "for i in trange(num_sites, desc='sampling site data'):\n",
    "\n",
    "    # sample site data\n",
    "    frac = 1 / (num_sites - i)\n",
    "    site_df = df.sample(frac = frac)\n",
    "    df = df.drop(site_df.index)\n",
    "\n",
    "    # split site data to train and test\n",
    "    site_df_train, site_df_test = split_df(site_df, split=0.7)\n",
    "\n",
    "    site = i + 1  \n",
    "    site_dir = os.path.join(output_dir, 'site-%d' % site)\n",
    "    if not os.path.exists(site_dir):\n",
    "        os.mkdir(site_dir)\n",
    "       \n",
    "    # make symlink to label encoder\n",
    "    symlink = os.path.join(site_dir, os.path.basename(encoder_filename))\n",
    "    if not os.path.exists(symlink):\n",
    "        os.link(encoder_filename, symlink)\n",
    "    \n",
    "    site_df_train.to_csv(os.path.join(site_dir, 'train.csv'), index=False)\n",
    "    site_df_test.to_csv(os.path.join(site_dir, 'test.csv'), index=False)"
   ]
  },
  {
   "cell_type": "markdown",
   "id": "2109fbf3-c7de-49cb-a09f-c8a9f571c706",
   "metadata": {},
   "source": [
    "## Show stats on site data"
   ]
  },
  {
   "cell_type": "code",
   "execution_count": 5,
   "id": "96e6d7db-0b89-476b-96ce-2898e44c4f7b",
   "metadata": {
    "tags": []
   },
   "outputs": [
    {
     "data": {
      "application/vnd.jupyter.widget-view+json": {
       "model_id": "8cec774ce2424be79ee4396cb6ab2c5a",
       "version_major": 2,
       "version_minor": 0
      },
      "text/plain": [
       "  0%|          | 0/4 [00:00<?, ?it/s]"
      ]
     },
     "metadata": {},
     "output_type": "display_data"
    },
    {
     "data": {
      "image/png": "[encoded data removed]",
      "text/plain": [
       "<Figure size 1058.88x500 with 2 Axes>"
      ]
     },
     "metadata": {},
     "output_type": "display_data"
    }
   ],
   "source": [
    "# load and merge site data into one dataframe\n",
    "dfs = pd.DataFrame()\n",
    "for site in trange(1, num_sites + 1):    \n",
    "    for df_name in ['train', 'test']:\n",
    "        df = pd.read_csv(os.path.join(output_dir, 'site-%d' % site, '%s.csv' % df_name))\n",
    "        df['site'] = site\n",
    "        df['set'] = df_name\n",
    "        dfs = pd.concat([dfs, df])\n",
    "\n",
    "# load label encoder to decode labels back\n",
    "label_encoder_filename = os.path.join(output_dir, 'encoder-%s.npy' % label_col)\n",
    "label_encoder = label_encoder = LabelEncoder()\n",
    "label_encoder.classes_ = np.load(label_encoder_filename, allow_pickle=True)\n",
    "# decode labels from numeric to string\n",
    "dfs[label_col] = label_encoder.inverse_transform(dfs[label_col])\n",
    "\n",
    "# plot stats\n",
    "sns.displot(\n",
    "    dfs,\n",
    "    x=label_col,\n",
    "    col='set',\n",
    "    stat='percent',\n",
    "    multiple='dodge',\n",
    "    shrink=0.8,\n",
    "    hue='site',\n",
    "    facet_kws=dict(margin_titles=True)\n",
    ")\n",
    "plt.tight_layout()\n",
    "plt.show()"
   ]
  },
  {
   "cell_type": "code",
   "execution_count": null,
   "id": "bb413120-ed3e-4785-b64c-ad53141f2782",
   "metadata": {},
   "outputs": [],
   "source": []
  }
 ],
 "metadata": {
  "kernelspec": {
   "display_name": "Python 3",
   "language": "python",
   "name": "python3"
  },
  "language_info": {
   "codemirror_mode": {
    "name": "ipython",
    "version": 3
   },
   "file_extension": ".py",
   "mimetype": "text/x-python",
   "name": "python",
   "nbconvert_exporter": "python",
   "pygments_lexer": "ipython3",
   "version": "3.8.10"
  }
 },
 "nbformat": 4,
 "nbformat_minor": 5
}
